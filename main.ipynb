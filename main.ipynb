{
  "cells": [
    {
      "cell_type": "code",
      "execution_count": 131,
      "metadata": {
        "id": "yH2HV-yjduAk",
        "colab": {
          "base_uri": "https://localhost:8080/"
        },
        "outputId": "c4043304-cb61-480f-f3fa-24982ec77dc7"
      },
      "outputs": [
        {
          "output_type": "stream",
          "name": "stdout",
          "text": [
            "Drive already mounted at /content/gdrive; to attempt to forcibly remount, call drive.mount(\"/content/gdrive\", force_remount=True).\n"
          ]
        }
      ],
      "source": [
        "from google.colab import drive\n",
        "drive.mount('/content/gdrive')\n",
        "import numpy as np\n",
        "import pandas as pd\n",
        "import torch\n",
        "import torch.nn\n",
        "import torch.nn.utils.rnn\n",
        "import torch.utils.data"
      ]
    },
    {
      "cell_type": "markdown",
      "metadata": {
        "id": "Eeg6CkfbIJ2O"
      },
      "source": [
        "### **（10 pts）Split data into train and validation**"
      ]
    },
    {
      "cell_type": "code",
      "execution_count": 132,
      "metadata": {
        "colab": {
          "base_uri": "https://localhost:8080/",
          "height": 204
        },
        "id": "bcyhU33rIJkp",
        "outputId": "72ed76b9-a3be-4d5c-e9ba-399994838632"
      },
      "outputs": [
        {
          "output_type": "execute_result",
          "data": {
            "text/plain": [
              "         src  tgt\n",
              "0  24-16-13=   -5\n",
              "1   25-11-2=   12\n",
              "2  26+19+20=   65\n",
              "3  26-25+27=   28\n",
              "4  26+17*12=  230"
            ],
            "text/html": [
              "\n",
              "  <div id=\"df-507745a9-23ca-449e-9d73-a5292f18f59b\" class=\"colab-df-container\">\n",
              "    <div>\n",
              "<style scoped>\n",
              "    .dataframe tbody tr th:only-of-type {\n",
              "        vertical-align: middle;\n",
              "    }\n",
              "\n",
              "    .dataframe tbody tr th {\n",
              "        vertical-align: top;\n",
              "    }\n",
              "\n",
              "    .dataframe thead th {\n",
              "        text-align: right;\n",
              "    }\n",
              "</style>\n",
              "<table border=\"1\" class=\"dataframe\">\n",
              "  <thead>\n",
              "    <tr style=\"text-align: right;\">\n",
              "      <th></th>\n",
              "      <th>src</th>\n",
              "      <th>tgt</th>\n",
              "    </tr>\n",
              "  </thead>\n",
              "  <tbody>\n",
              "    <tr>\n",
              "      <th>0</th>\n",
              "      <td>24-16-13=</td>\n",
              "      <td>-5</td>\n",
              "    </tr>\n",
              "    <tr>\n",
              "      <th>1</th>\n",
              "      <td>25-11-2=</td>\n",
              "      <td>12</td>\n",
              "    </tr>\n",
              "    <tr>\n",
              "      <th>2</th>\n",
              "      <td>26+19+20=</td>\n",
              "      <td>65</td>\n",
              "    </tr>\n",
              "    <tr>\n",
              "      <th>3</th>\n",
              "      <td>26-25+27=</td>\n",
              "      <td>28</td>\n",
              "    </tr>\n",
              "    <tr>\n",
              "      <th>4</th>\n",
              "      <td>26+17*12=</td>\n",
              "      <td>230</td>\n",
              "    </tr>\n",
              "  </tbody>\n",
              "</table>\n",
              "</div>\n",
              "    <div class=\"colab-df-buttons\">\n",
              "\n",
              "  <div class=\"colab-df-container\">\n",
              "    <button class=\"colab-df-convert\" onclick=\"convertToInteractive('df-507745a9-23ca-449e-9d73-a5292f18f59b')\"\n",
              "            title=\"Convert this dataframe to an interactive table.\"\n",
              "            style=\"display:none;\">\n",
              "\n",
              "  <svg xmlns=\"http://www.w3.org/2000/svg\" height=\"24px\" viewBox=\"0 -960 960 960\">\n",
              "    <path d=\"M120-120v-720h720v720H120Zm60-500h600v-160H180v160Zm220 220h160v-160H400v160Zm0 220h160v-160H400v160ZM180-400h160v-160H180v160Zm440 0h160v-160H620v160ZM180-180h160v-160H180v160Zm440 0h160v-160H620v160Z\"/>\n",
              "  </svg>\n",
              "    </button>\n",
              "\n",
              "  <style>\n",
              "    .colab-df-container {\n",
              "      display:flex;\n",
              "      gap: 12px;\n",
              "    }\n",
              "\n",
              "    .colab-df-convert {\n",
              "      background-color: #E8F0FE;\n",
              "      border: none;\n",
              "      border-radius: 50%;\n",
              "      cursor: pointer;\n",
              "      display: none;\n",
              "      fill: #1967D2;\n",
              "      height: 32px;\n",
              "      padding: 0 0 0 0;\n",
              "      width: 32px;\n",
              "    }\n",
              "\n",
              "    .colab-df-convert:hover {\n",
              "      background-color: #E2EBFA;\n",
              "      box-shadow: 0px 1px 2px rgba(60, 64, 67, 0.3), 0px 1px 3px 1px rgba(60, 64, 67, 0.15);\n",
              "      fill: #174EA6;\n",
              "    }\n",
              "\n",
              "    .colab-df-buttons div {\n",
              "      margin-bottom: 4px;\n",
              "    }\n",
              "\n",
              "    [theme=dark] .colab-df-convert {\n",
              "      background-color: #3B4455;\n",
              "      fill: #D2E3FC;\n",
              "    }\n",
              "\n",
              "    [theme=dark] .colab-df-convert:hover {\n",
              "      background-color: #434B5C;\n",
              "      box-shadow: 0px 1px 3px 1px rgba(0, 0, 0, 0.15);\n",
              "      filter: drop-shadow(0px 1px 2px rgba(0, 0, 0, 0.3));\n",
              "      fill: #FFFFFF;\n",
              "    }\n",
              "  </style>\n",
              "\n",
              "    <script>\n",
              "      const buttonEl =\n",
              "        document.querySelector('#df-507745a9-23ca-449e-9d73-a5292f18f59b button.colab-df-convert');\n",
              "      buttonEl.style.display =\n",
              "        google.colab.kernel.accessAllowed ? 'block' : 'none';\n",
              "\n",
              "      async function convertToInteractive(key) {\n",
              "        const element = document.querySelector('#df-507745a9-23ca-449e-9d73-a5292f18f59b');\n",
              "        const dataTable =\n",
              "          await google.colab.kernel.invokeFunction('convertToInteractive',\n",
              "                                                    [key], {});\n",
              "        if (!dataTable) return;\n",
              "\n",
              "        const docLinkHtml = 'Like what you see? Visit the ' +\n",
              "          '<a target=\"_blank\" href=https://colab.research.google.com/notebooks/data_table.ipynb>data table notebook</a>'\n",
              "          + ' to learn more about interactive tables.';\n",
              "        element.innerHTML = '';\n",
              "        dataTable['output_type'] = 'display_data';\n",
              "        await google.colab.output.renderOutput(dataTable, element);\n",
              "        const docLink = document.createElement('div');\n",
              "        docLink.innerHTML = docLinkHtml;\n",
              "        element.appendChild(docLink);\n",
              "      }\n",
              "    </script>\n",
              "  </div>\n",
              "\n",
              "\n",
              "<div id=\"df-f74583b6-61d2-4d1c-b1b6-a8565b64eefc\">\n",
              "  <button class=\"colab-df-quickchart\" onclick=\"quickchart('df-f74583b6-61d2-4d1c-b1b6-a8565b64eefc')\"\n",
              "            title=\"Suggest charts\"\n",
              "            style=\"display:none;\">\n",
              "\n",
              "<svg xmlns=\"http://www.w3.org/2000/svg\" height=\"24px\"viewBox=\"0 0 24 24\"\n",
              "     width=\"24px\">\n",
              "    <g>\n",
              "        <path d=\"M19 3H5c-1.1 0-2 .9-2 2v14c0 1.1.9 2 2 2h14c1.1 0 2-.9 2-2V5c0-1.1-.9-2-2-2zM9 17H7v-7h2v7zm4 0h-2V7h2v10zm4 0h-2v-4h2v4z\"/>\n",
              "    </g>\n",
              "</svg>\n",
              "  </button>\n",
              "\n",
              "<style>\n",
              "  .colab-df-quickchart {\n",
              "      --bg-color: #E8F0FE;\n",
              "      --fill-color: #1967D2;\n",
              "      --hover-bg-color: #E2EBFA;\n",
              "      --hover-fill-color: #174EA6;\n",
              "      --disabled-fill-color: #AAA;\n",
              "      --disabled-bg-color: #DDD;\n",
              "  }\n",
              "\n",
              "  [theme=dark] .colab-df-quickchart {\n",
              "      --bg-color: #3B4455;\n",
              "      --fill-color: #D2E3FC;\n",
              "      --hover-bg-color: #434B5C;\n",
              "      --hover-fill-color: #FFFFFF;\n",
              "      --disabled-bg-color: #3B4455;\n",
              "      --disabled-fill-color: #666;\n",
              "  }\n",
              "\n",
              "  .colab-df-quickchart {\n",
              "    background-color: var(--bg-color);\n",
              "    border: none;\n",
              "    border-radius: 50%;\n",
              "    cursor: pointer;\n",
              "    display: none;\n",
              "    fill: var(--fill-color);\n",
              "    height: 32px;\n",
              "    padding: 0;\n",
              "    width: 32px;\n",
              "  }\n",
              "\n",
              "  .colab-df-quickchart:hover {\n",
              "    background-color: var(--hover-bg-color);\n",
              "    box-shadow: 0 1px 2px rgba(60, 64, 67, 0.3), 0 1px 3px 1px rgba(60, 64, 67, 0.15);\n",
              "    fill: var(--button-hover-fill-color);\n",
              "  }\n",
              "\n",
              "  .colab-df-quickchart-complete:disabled,\n",
              "  .colab-df-quickchart-complete:disabled:hover {\n",
              "    background-color: var(--disabled-bg-color);\n",
              "    fill: var(--disabled-fill-color);\n",
              "    box-shadow: none;\n",
              "  }\n",
              "\n",
              "  .colab-df-spinner {\n",
              "    border: 2px solid var(--fill-color);\n",
              "    border-color: transparent;\n",
              "    border-bottom-color: var(--fill-color);\n",
              "    animation:\n",
              "      spin 1s steps(1) infinite;\n",
              "  }\n",
              "\n",
              "  @keyframes spin {\n",
              "    0% {\n",
              "      border-color: transparent;\n",
              "      border-bottom-color: var(--fill-color);\n",
              "      border-left-color: var(--fill-color);\n",
              "    }\n",
              "    20% {\n",
              "      border-color: transparent;\n",
              "      border-left-color: var(--fill-color);\n",
              "      border-top-color: var(--fill-color);\n",
              "    }\n",
              "    30% {\n",
              "      border-color: transparent;\n",
              "      border-left-color: var(--fill-color);\n",
              "      border-top-color: var(--fill-color);\n",
              "      border-right-color: var(--fill-color);\n",
              "    }\n",
              "    40% {\n",
              "      border-color: transparent;\n",
              "      border-right-color: var(--fill-color);\n",
              "      border-top-color: var(--fill-color);\n",
              "    }\n",
              "    60% {\n",
              "      border-color: transparent;\n",
              "      border-right-color: var(--fill-color);\n",
              "    }\n",
              "    80% {\n",
              "      border-color: transparent;\n",
              "      border-right-color: var(--fill-color);\n",
              "      border-bottom-color: var(--fill-color);\n",
              "    }\n",
              "    90% {\n",
              "      border-color: transparent;\n",
              "      border-bottom-color: var(--fill-color);\n",
              "    }\n",
              "  }\n",
              "</style>\n",
              "\n",
              "  <script>\n",
              "    async function quickchart(key) {\n",
              "      const quickchartButtonEl =\n",
              "        document.querySelector('#' + key + ' button');\n",
              "      quickchartButtonEl.disabled = true;  // To prevent multiple clicks.\n",
              "      quickchartButtonEl.classList.add('colab-df-spinner');\n",
              "      try {\n",
              "        const charts = await google.colab.kernel.invokeFunction(\n",
              "            'suggestCharts', [key], {});\n",
              "      } catch (error) {\n",
              "        console.error('Error during call to suggestCharts:', error);\n",
              "      }\n",
              "      quickchartButtonEl.classList.remove('colab-df-spinner');\n",
              "      quickchartButtonEl.classList.add('colab-df-quickchart-complete');\n",
              "    }\n",
              "    (() => {\n",
              "      let quickchartButtonEl =\n",
              "        document.querySelector('#df-f74583b6-61d2-4d1c-b1b6-a8565b64eefc button');\n",
              "      quickchartButtonEl.style.display =\n",
              "        google.colab.kernel.accessAllowed ? 'block' : 'none';\n",
              "    })();\n",
              "  </script>\n",
              "</div>\n",
              "\n",
              "    </div>\n",
              "  </div>\n"
            ],
            "application/vnd.google.colaboratory.intrinsic+json": {
              "type": "dataframe",
              "variable_name": "df",
              "summary": "{\n  \"name\": \"df\",\n  \"rows\": 20000,\n  \"fields\": [\n    {\n      \"column\": \"src\",\n      \"properties\": {\n        \"dtype\": \"string\",\n        \"num_unique_values\": 20000,\n        \"samples\": [\n          \"3-13+6=\",\n          \"8*6*15=\",\n          \"15*28+20=\"\n        ],\n        \"semantic_type\": \"\",\n        \"description\": \"\"\n      }\n    },\n    {\n      \"column\": \"tgt\",\n      \"properties\": {\n        \"dtype\": \"number\",\n        \"std\": 1581,\n        \"min\": -833,\n        \"max\": 22707,\n        \"num_unique_values\": 2180,\n        \"samples\": [\n          363,\n          -57,\n          12760\n        ],\n        \"semantic_type\": \"\",\n        \"description\": \"\"\n      }\n    }\n  ]\n}"
            }
          },
          "metadata": {},
          "execution_count": 132
        }
      ],
      "source": [
        "df = pd.read_csv('/content/gdrive/MyDrive/colab_input/data.csv')\n",
        "from sklearn.model_selection import train_test_split\n",
        "(train_x_split, valid_x_split,train_y_split, valid_y_split) = train_test_split(\n",
        "    df['src'],\n",
        "    df['tgt'],\n",
        "    train_size=0.8,\n",
        "    random_state=64096106\n",
        ")\n",
        "df.head(5)"
      ]
    },
    {
      "cell_type": "markdown",
      "metadata": {
        "id": "80vxo052H86_"
      },
      "source": [
        "### **（10 pts）Generate data**"
      ]
    },
    {
      "cell_type": "code",
      "source": [
        "def digit_gen():\n",
        "    first = np.random.randint(0, 30)\n",
        "    second = np.random.randint(0, 30)\n",
        "    third = np.random.randint(0, 30)\n",
        "    op1 = np.random.choice(['+', '-', '*'])\n",
        "    op2 = np.random.choice(['+', '-', '*'])\n",
        "\n",
        "    result = eval(str(first) + op1 + str(second) + op2 + str(third))\n",
        "    ques = f\"{first}{op1}{second}{op2}{third}=\"\n",
        "    answ = result\n",
        "    return ques, answ\n",
        "\n",
        "digit_gen()"
      ],
      "metadata": {
        "colab": {
          "base_uri": "https://localhost:8080/"
        },
        "id": "YNT9OtlVP3AA",
        "outputId": "e6c1fe90-25e3-445e-ffbb-560ad8707b7c"
      },
      "execution_count": 133,
      "outputs": [
        {
          "output_type": "execute_result",
          "data": {
            "text/plain": [
              "('12+8+23=', 43)"
            ]
          },
          "metadata": {},
          "execution_count": 133
        }
      ]
    },
    {
      "cell_type": "code",
      "execution_count": 134,
      "metadata": {
        "colab": {
          "base_uri": "https://localhost:8080/",
          "height": 204
        },
        "id": "e06ok9MhjhLC",
        "outputId": "880e09d2-e1e4-4b67-8111-64455ce4f2d8"
      },
      "outputs": [
        {
          "output_type": "execute_result",
          "data": {
            "text/plain": [
              "        ques answ\n",
              "0    8+22-2=   28\n",
              "1   17*0*18=    0\n",
              "2   24-8+17=   33\n",
              "3    8-9-14=  -15\n",
              "4  14*19+12=  278"
            ],
            "text/html": [
              "\n",
              "  <div id=\"df-b746069d-36b6-45c0-8085-7c21a9672ca1\" class=\"colab-df-container\">\n",
              "    <div>\n",
              "<style scoped>\n",
              "    .dataframe tbody tr th:only-of-type {\n",
              "        vertical-align: middle;\n",
              "    }\n",
              "\n",
              "    .dataframe tbody tr th {\n",
              "        vertical-align: top;\n",
              "    }\n",
              "\n",
              "    .dataframe thead th {\n",
              "        text-align: right;\n",
              "    }\n",
              "</style>\n",
              "<table border=\"1\" class=\"dataframe\">\n",
              "  <thead>\n",
              "    <tr style=\"text-align: right;\">\n",
              "      <th></th>\n",
              "      <th>ques</th>\n",
              "      <th>answ</th>\n",
              "    </tr>\n",
              "  </thead>\n",
              "  <tbody>\n",
              "    <tr>\n",
              "      <th>0</th>\n",
              "      <td>8+22-2=</td>\n",
              "      <td>28</td>\n",
              "    </tr>\n",
              "    <tr>\n",
              "      <th>1</th>\n",
              "      <td>17*0*18=</td>\n",
              "      <td>0</td>\n",
              "    </tr>\n",
              "    <tr>\n",
              "      <th>2</th>\n",
              "      <td>24-8+17=</td>\n",
              "      <td>33</td>\n",
              "    </tr>\n",
              "    <tr>\n",
              "      <th>3</th>\n",
              "      <td>8-9-14=</td>\n",
              "      <td>-15</td>\n",
              "    </tr>\n",
              "    <tr>\n",
              "      <th>4</th>\n",
              "      <td>14*19+12=</td>\n",
              "      <td>278</td>\n",
              "    </tr>\n",
              "  </tbody>\n",
              "</table>\n",
              "</div>\n",
              "    <div class=\"colab-df-buttons\">\n",
              "\n",
              "  <div class=\"colab-df-container\">\n",
              "    <button class=\"colab-df-convert\" onclick=\"convertToInteractive('df-b746069d-36b6-45c0-8085-7c21a9672ca1')\"\n",
              "            title=\"Convert this dataframe to an interactive table.\"\n",
              "            style=\"display:none;\">\n",
              "\n",
              "  <svg xmlns=\"http://www.w3.org/2000/svg\" height=\"24px\" viewBox=\"0 -960 960 960\">\n",
              "    <path d=\"M120-120v-720h720v720H120Zm60-500h600v-160H180v160Zm220 220h160v-160H400v160Zm0 220h160v-160H400v160ZM180-400h160v-160H180v160Zm440 0h160v-160H620v160ZM180-180h160v-160H180v160Zm440 0h160v-160H620v160Z\"/>\n",
              "  </svg>\n",
              "    </button>\n",
              "\n",
              "  <style>\n",
              "    .colab-df-container {\n",
              "      display:flex;\n",
              "      gap: 12px;\n",
              "    }\n",
              "\n",
              "    .colab-df-convert {\n",
              "      background-color: #E8F0FE;\n",
              "      border: none;\n",
              "      border-radius: 50%;\n",
              "      cursor: pointer;\n",
              "      display: none;\n",
              "      fill: #1967D2;\n",
              "      height: 32px;\n",
              "      padding: 0 0 0 0;\n",
              "      width: 32px;\n",
              "    }\n",
              "\n",
              "    .colab-df-convert:hover {\n",
              "      background-color: #E2EBFA;\n",
              "      box-shadow: 0px 1px 2px rgba(60, 64, 67, 0.3), 0px 1px 3px 1px rgba(60, 64, 67, 0.15);\n",
              "      fill: #174EA6;\n",
              "    }\n",
              "\n",
              "    .colab-df-buttons div {\n",
              "      margin-bottom: 4px;\n",
              "    }\n",
              "\n",
              "    [theme=dark] .colab-df-convert {\n",
              "      background-color: #3B4455;\n",
              "      fill: #D2E3FC;\n",
              "    }\n",
              "\n",
              "    [theme=dark] .colab-df-convert:hover {\n",
              "      background-color: #434B5C;\n",
              "      box-shadow: 0px 1px 3px 1px rgba(0, 0, 0, 0.15);\n",
              "      filter: drop-shadow(0px 1px 2px rgba(0, 0, 0, 0.3));\n",
              "      fill: #FFFFFF;\n",
              "    }\n",
              "  </style>\n",
              "\n",
              "    <script>\n",
              "      const buttonEl =\n",
              "        document.querySelector('#df-b746069d-36b6-45c0-8085-7c21a9672ca1 button.colab-df-convert');\n",
              "      buttonEl.style.display =\n",
              "        google.colab.kernel.accessAllowed ? 'block' : 'none';\n",
              "\n",
              "      async function convertToInteractive(key) {\n",
              "        const element = document.querySelector('#df-b746069d-36b6-45c0-8085-7c21a9672ca1');\n",
              "        const dataTable =\n",
              "          await google.colab.kernel.invokeFunction('convertToInteractive',\n",
              "                                                    [key], {});\n",
              "        if (!dataTable) return;\n",
              "\n",
              "        const docLinkHtml = 'Like what you see? Visit the ' +\n",
              "          '<a target=\"_blank\" href=https://colab.research.google.com/notebooks/data_table.ipynb>data table notebook</a>'\n",
              "          + ' to learn more about interactive tables.';\n",
              "        element.innerHTML = '';\n",
              "        dataTable['output_type'] = 'display_data';\n",
              "        await google.colab.output.renderOutput(dataTable, element);\n",
              "        const docLink = document.createElement('div');\n",
              "        docLink.innerHTML = docLinkHtml;\n",
              "        element.appendChild(docLink);\n",
              "      }\n",
              "    </script>\n",
              "  </div>\n",
              "\n",
              "\n",
              "<div id=\"df-dad57c87-c862-4e7c-84f6-fe967bedaef7\">\n",
              "  <button class=\"colab-df-quickchart\" onclick=\"quickchart('df-dad57c87-c862-4e7c-84f6-fe967bedaef7')\"\n",
              "            title=\"Suggest charts\"\n",
              "            style=\"display:none;\">\n",
              "\n",
              "<svg xmlns=\"http://www.w3.org/2000/svg\" height=\"24px\"viewBox=\"0 0 24 24\"\n",
              "     width=\"24px\">\n",
              "    <g>\n",
              "        <path d=\"M19 3H5c-1.1 0-2 .9-2 2v14c0 1.1.9 2 2 2h14c1.1 0 2-.9 2-2V5c0-1.1-.9-2-2-2zM9 17H7v-7h2v7zm4 0h-2V7h2v10zm4 0h-2v-4h2v4z\"/>\n",
              "    </g>\n",
              "</svg>\n",
              "  </button>\n",
              "\n",
              "<style>\n",
              "  .colab-df-quickchart {\n",
              "      --bg-color: #E8F0FE;\n",
              "      --fill-color: #1967D2;\n",
              "      --hover-bg-color: #E2EBFA;\n",
              "      --hover-fill-color: #174EA6;\n",
              "      --disabled-fill-color: #AAA;\n",
              "      --disabled-bg-color: #DDD;\n",
              "  }\n",
              "\n",
              "  [theme=dark] .colab-df-quickchart {\n",
              "      --bg-color: #3B4455;\n",
              "      --fill-color: #D2E3FC;\n",
              "      --hover-bg-color: #434B5C;\n",
              "      --hover-fill-color: #FFFFFF;\n",
              "      --disabled-bg-color: #3B4455;\n",
              "      --disabled-fill-color: #666;\n",
              "  }\n",
              "\n",
              "  .colab-df-quickchart {\n",
              "    background-color: var(--bg-color);\n",
              "    border: none;\n",
              "    border-radius: 50%;\n",
              "    cursor: pointer;\n",
              "    display: none;\n",
              "    fill: var(--fill-color);\n",
              "    height: 32px;\n",
              "    padding: 0;\n",
              "    width: 32px;\n",
              "  }\n",
              "\n",
              "  .colab-df-quickchart:hover {\n",
              "    background-color: var(--hover-bg-color);\n",
              "    box-shadow: 0 1px 2px rgba(60, 64, 67, 0.3), 0 1px 3px 1px rgba(60, 64, 67, 0.15);\n",
              "    fill: var(--button-hover-fill-color);\n",
              "  }\n",
              "\n",
              "  .colab-df-quickchart-complete:disabled,\n",
              "  .colab-df-quickchart-complete:disabled:hover {\n",
              "    background-color: var(--disabled-bg-color);\n",
              "    fill: var(--disabled-fill-color);\n",
              "    box-shadow: none;\n",
              "  }\n",
              "\n",
              "  .colab-df-spinner {\n",
              "    border: 2px solid var(--fill-color);\n",
              "    border-color: transparent;\n",
              "    border-bottom-color: var(--fill-color);\n",
              "    animation:\n",
              "      spin 1s steps(1) infinite;\n",
              "  }\n",
              "\n",
              "  @keyframes spin {\n",
              "    0% {\n",
              "      border-color: transparent;\n",
              "      border-bottom-color: var(--fill-color);\n",
              "      border-left-color: var(--fill-color);\n",
              "    }\n",
              "    20% {\n",
              "      border-color: transparent;\n",
              "      border-left-color: var(--fill-color);\n",
              "      border-top-color: var(--fill-color);\n",
              "    }\n",
              "    30% {\n",
              "      border-color: transparent;\n",
              "      border-left-color: var(--fill-color);\n",
              "      border-top-color: var(--fill-color);\n",
              "      border-right-color: var(--fill-color);\n",
              "    }\n",
              "    40% {\n",
              "      border-color: transparent;\n",
              "      border-right-color: var(--fill-color);\n",
              "      border-top-color: var(--fill-color);\n",
              "    }\n",
              "    60% {\n",
              "      border-color: transparent;\n",
              "      border-right-color: var(--fill-color);\n",
              "    }\n",
              "    80% {\n",
              "      border-color: transparent;\n",
              "      border-right-color: var(--fill-color);\n",
              "      border-bottom-color: var(--fill-color);\n",
              "    }\n",
              "    90% {\n",
              "      border-color: transparent;\n",
              "      border-bottom-color: var(--fill-color);\n",
              "    }\n",
              "  }\n",
              "</style>\n",
              "\n",
              "  <script>\n",
              "    async function quickchart(key) {\n",
              "      const quickchartButtonEl =\n",
              "        document.querySelector('#' + key + ' button');\n",
              "      quickchartButtonEl.disabled = true;  // To prevent multiple clicks.\n",
              "      quickchartButtonEl.classList.add('colab-df-spinner');\n",
              "      try {\n",
              "        const charts = await google.colab.kernel.invokeFunction(\n",
              "            'suggestCharts', [key], {});\n",
              "      } catch (error) {\n",
              "        console.error('Error during call to suggestCharts:', error);\n",
              "      }\n",
              "      quickchartButtonEl.classList.remove('colab-df-spinner');\n",
              "      quickchartButtonEl.classList.add('colab-df-quickchart-complete');\n",
              "    }\n",
              "    (() => {\n",
              "      let quickchartButtonEl =\n",
              "        document.querySelector('#df-dad57c87-c862-4e7c-84f6-fe967bedaef7 button');\n",
              "      quickchartButtonEl.style.display =\n",
              "        google.colab.kernel.accessAllowed ? 'block' : 'none';\n",
              "    })();\n",
              "  </script>\n",
              "</div>\n",
              "\n",
              "    </div>\n",
              "  </div>\n"
            ],
            "application/vnd.google.colaboratory.intrinsic+json": {
              "type": "dataframe",
              "variable_name": "mydf",
              "summary": "{\n  \"name\": \"mydf\",\n  \"rows\": 20000,\n  \"fields\": [\n    {\n      \"column\": \"ques\",\n      \"properties\": {\n        \"dtype\": \"string\",\n        \"num_unique_values\": 19195,\n        \"samples\": [\n          \"28-21-20=\",\n          \"0*16-13=\",\n          \"6*0*28=\"\n        ],\n        \"semantic_type\": \"\",\n        \"description\": \"\"\n      }\n    },\n    {\n      \"column\": \"answ\",\n      \"properties\": {\n        \"dtype\": \"category\",\n        \"num_unique_values\": 2171,\n        \"samples\": [\n          \"-200\",\n          \"336\",\n          \"2304\"\n        ],\n        \"semantic_type\": \"\",\n        \"description\": \"\"\n      }\n    }\n  ]\n}"
            }
          },
          "metadata": {},
          "execution_count": 134
        }
      ],
      "source": [
        "mydf['answ'] = mydf['answ'].astype(str)\n",
        "len(mydf)\n",
        "mydf.head()\n",
        "mydf.shape\n",
        "mydf.head()"
      ]
    },
    {
      "cell_type": "markdown",
      "metadata": {
        "id": "1IV-g3t5LHRh"
      },
      "source": [
        "### **Tokenize the text (10 pts)**"
      ]
    },
    {
      "cell_type": "code",
      "execution_count": 135,
      "metadata": {
        "colab": {
          "base_uri": "https://localhost:8080/"
        },
        "id": "4_CquZAasoEL",
        "outputId": "5959d5a7-ac9b-45aa-f928-b0f73e027e74"
      },
      "outputs": [
        {
          "output_type": "stream",
          "name": "stdout",
          "text": [
            "字典大小: 16\n"
          ]
        },
        {
          "output_type": "execute_result",
          "data": {
            "text/plain": [
              "{'<pad>': 0,\n",
              " '<eos>': 1,\n",
              " '*': 2,\n",
              " '4': 3,\n",
              " '5': 4,\n",
              " '9': 5,\n",
              " '0': 6,\n",
              " '3': 7,\n",
              " '+': 8,\n",
              " '7': 9,\n",
              " '2': 10,\n",
              " '1': 11,\n",
              " '-': 12,\n",
              " '6': 13,\n",
              " '=': 14,\n",
              " '8': 15}"
            ]
          },
          "metadata": {},
          "execution_count": 135
        }
      ],
      "source": [
        "char_to_id = {}\n",
        "id_to_char = {}\n",
        "\n",
        "char_to_id['<pad>'] = 0\n",
        "char_to_id['<eos>'] = 1\n",
        "id_to_char[0] = '<pad>'\n",
        "id_to_char[1] = '<eos>'\n",
        "\n",
        "for char in set(df['src'].str.cat()):\n",
        "    ch_id = len(char_to_id)\n",
        "    char_to_id[char] = ch_id\n",
        "    id_to_char[ch_id] = char\n",
        "\n",
        "vocab_size = len(char_to_id)\n",
        "print('字典大小: {}'.format(vocab_size))\n",
        "char_to_id"
      ]
    },
    {
      "cell_type": "code",
      "execution_count": 136,
      "metadata": {
        "colab": {
          "base_uri": "https://localhost:8080/",
          "height": 204
        },
        "id": "OU0NUQShu_jX",
        "outputId": "486cfacb-3f5e-4ccc-91ca-4a813f98d2ab"
      },
      "outputs": [
        {
          "output_type": "execute_result",
          "data": {
            "text/plain": [
              "         src  tgt                                          src_id  \\\n",
              "0  24-16-13=   -5    [10, 3, 12, 11, 13, 12, 11, 7, 14, 12, 4, 1]   \n",
              "1   25-11-2=   12      [10, 4, 12, 11, 11, 12, 10, 14, 11, 10, 1]   \n",
              "2  26+19+20=   65      [10, 13, 8, 11, 5, 8, 10, 6, 14, 13, 4, 1]   \n",
              "3  26-25+27=   28    [10, 13, 12, 10, 4, 8, 10, 9, 14, 10, 15, 1]   \n",
              "4  26+17*12=  230  [10, 13, 8, 11, 9, 2, 11, 10, 14, 10, 7, 6, 1]   \n",
              "\n",
              "          tgt_id  \n",
              "0     [12, 4, 1]  \n",
              "1    [11, 10, 1]  \n",
              "2     [13, 4, 1]  \n",
              "3    [10, 15, 1]  \n",
              "4  [10, 7, 6, 1]  "
            ],
            "text/html": [
              "\n",
              "  <div id=\"df-2a68bd09-024f-4799-ad66-281249008db4\" class=\"colab-df-container\">\n",
              "    <div>\n",
              "<style scoped>\n",
              "    .dataframe tbody tr th:only-of-type {\n",
              "        vertical-align: middle;\n",
              "    }\n",
              "\n",
              "    .dataframe tbody tr th {\n",
              "        vertical-align: top;\n",
              "    }\n",
              "\n",
              "    .dataframe thead th {\n",
              "        text-align: right;\n",
              "    }\n",
              "</style>\n",
              "<table border=\"1\" class=\"dataframe\">\n",
              "  <thead>\n",
              "    <tr style=\"text-align: right;\">\n",
              "      <th></th>\n",
              "      <th>src</th>\n",
              "      <th>tgt</th>\n",
              "      <th>src_id</th>\n",
              "      <th>tgt_id</th>\n",
              "    </tr>\n",
              "  </thead>\n",
              "  <tbody>\n",
              "    <tr>\n",
              "      <th>0</th>\n",
              "      <td>24-16-13=</td>\n",
              "      <td>-5</td>\n",
              "      <td>[10, 3, 12, 11, 13, 12, 11, 7, 14, 12, 4, 1]</td>\n",
              "      <td>[12, 4, 1]</td>\n",
              "    </tr>\n",
              "    <tr>\n",
              "      <th>1</th>\n",
              "      <td>25-11-2=</td>\n",
              "      <td>12</td>\n",
              "      <td>[10, 4, 12, 11, 11, 12, 10, 14, 11, 10, 1]</td>\n",
              "      <td>[11, 10, 1]</td>\n",
              "    </tr>\n",
              "    <tr>\n",
              "      <th>2</th>\n",
              "      <td>26+19+20=</td>\n",
              "      <td>65</td>\n",
              "      <td>[10, 13, 8, 11, 5, 8, 10, 6, 14, 13, 4, 1]</td>\n",
              "      <td>[13, 4, 1]</td>\n",
              "    </tr>\n",
              "    <tr>\n",
              "      <th>3</th>\n",
              "      <td>26-25+27=</td>\n",
              "      <td>28</td>\n",
              "      <td>[10, 13, 12, 10, 4, 8, 10, 9, 14, 10, 15, 1]</td>\n",
              "      <td>[10, 15, 1]</td>\n",
              "    </tr>\n",
              "    <tr>\n",
              "      <th>4</th>\n",
              "      <td>26+17*12=</td>\n",
              "      <td>230</td>\n",
              "      <td>[10, 13, 8, 11, 9, 2, 11, 10, 14, 10, 7, 6, 1]</td>\n",
              "      <td>[10, 7, 6, 1]</td>\n",
              "    </tr>\n",
              "  </tbody>\n",
              "</table>\n",
              "</div>\n",
              "    <div class=\"colab-df-buttons\">\n",
              "\n",
              "  <div class=\"colab-df-container\">\n",
              "    <button class=\"colab-df-convert\" onclick=\"convertToInteractive('df-2a68bd09-024f-4799-ad66-281249008db4')\"\n",
              "            title=\"Convert this dataframe to an interactive table.\"\n",
              "            style=\"display:none;\">\n",
              "\n",
              "  <svg xmlns=\"http://www.w3.org/2000/svg\" height=\"24px\" viewBox=\"0 -960 960 960\">\n",
              "    <path d=\"M120-120v-720h720v720H120Zm60-500h600v-160H180v160Zm220 220h160v-160H400v160Zm0 220h160v-160H400v160ZM180-400h160v-160H180v160Zm440 0h160v-160H620v160ZM180-180h160v-160H180v160Zm440 0h160v-160H620v160Z\"/>\n",
              "  </svg>\n",
              "    </button>\n",
              "\n",
              "  <style>\n",
              "    .colab-df-container {\n",
              "      display:flex;\n",
              "      gap: 12px;\n",
              "    }\n",
              "\n",
              "    .colab-df-convert {\n",
              "      background-color: #E8F0FE;\n",
              "      border: none;\n",
              "      border-radius: 50%;\n",
              "      cursor: pointer;\n",
              "      display: none;\n",
              "      fill: #1967D2;\n",
              "      height: 32px;\n",
              "      padding: 0 0 0 0;\n",
              "      width: 32px;\n",
              "    }\n",
              "\n",
              "    .colab-df-convert:hover {\n",
              "      background-color: #E2EBFA;\n",
              "      box-shadow: 0px 1px 2px rgba(60, 64, 67, 0.3), 0px 1px 3px 1px rgba(60, 64, 67, 0.15);\n",
              "      fill: #174EA6;\n",
              "    }\n",
              "\n",
              "    .colab-df-buttons div {\n",
              "      margin-bottom: 4px;\n",
              "    }\n",
              "\n",
              "    [theme=dark] .colab-df-convert {\n",
              "      background-color: #3B4455;\n",
              "      fill: #D2E3FC;\n",
              "    }\n",
              "\n",
              "    [theme=dark] .colab-df-convert:hover {\n",
              "      background-color: #434B5C;\n",
              "      box-shadow: 0px 1px 3px 1px rgba(0, 0, 0, 0.15);\n",
              "      filter: drop-shadow(0px 1px 2px rgba(0, 0, 0, 0.3));\n",
              "      fill: #FFFFFF;\n",
              "    }\n",
              "  </style>\n",
              "\n",
              "    <script>\n",
              "      const buttonEl =\n",
              "        document.querySelector('#df-2a68bd09-024f-4799-ad66-281249008db4 button.colab-df-convert');\n",
              "      buttonEl.style.display =\n",
              "        google.colab.kernel.accessAllowed ? 'block' : 'none';\n",
              "\n",
              "      async function convertToInteractive(key) {\n",
              "        const element = document.querySelector('#df-2a68bd09-024f-4799-ad66-281249008db4');\n",
              "        const dataTable =\n",
              "          await google.colab.kernel.invokeFunction('convertToInteractive',\n",
              "                                                    [key], {});\n",
              "        if (!dataTable) return;\n",
              "\n",
              "        const docLinkHtml = 'Like what you see? Visit the ' +\n",
              "          '<a target=\"_blank\" href=https://colab.research.google.com/notebooks/data_table.ipynb>data table notebook</a>'\n",
              "          + ' to learn more about interactive tables.';\n",
              "        element.innerHTML = '';\n",
              "        dataTable['output_type'] = 'display_data';\n",
              "        await google.colab.output.renderOutput(dataTable, element);\n",
              "        const docLink = document.createElement('div');\n",
              "        docLink.innerHTML = docLinkHtml;\n",
              "        element.appendChild(docLink);\n",
              "      }\n",
              "    </script>\n",
              "  </div>\n",
              "\n",
              "\n",
              "<div id=\"df-5b92e545-a218-45e8-a2ab-4342400988ce\">\n",
              "  <button class=\"colab-df-quickchart\" onclick=\"quickchart('df-5b92e545-a218-45e8-a2ab-4342400988ce')\"\n",
              "            title=\"Suggest charts\"\n",
              "            style=\"display:none;\">\n",
              "\n",
              "<svg xmlns=\"http://www.w3.org/2000/svg\" height=\"24px\"viewBox=\"0 0 24 24\"\n",
              "     width=\"24px\">\n",
              "    <g>\n",
              "        <path d=\"M19 3H5c-1.1 0-2 .9-2 2v14c0 1.1.9 2 2 2h14c1.1 0 2-.9 2-2V5c0-1.1-.9-2-2-2zM9 17H7v-7h2v7zm4 0h-2V7h2v10zm4 0h-2v-4h2v4z\"/>\n",
              "    </g>\n",
              "</svg>\n",
              "  </button>\n",
              "\n",
              "<style>\n",
              "  .colab-df-quickchart {\n",
              "      --bg-color: #E8F0FE;\n",
              "      --fill-color: #1967D2;\n",
              "      --hover-bg-color: #E2EBFA;\n",
              "      --hover-fill-color: #174EA6;\n",
              "      --disabled-fill-color: #AAA;\n",
              "      --disabled-bg-color: #DDD;\n",
              "  }\n",
              "\n",
              "  [theme=dark] .colab-df-quickchart {\n",
              "      --bg-color: #3B4455;\n",
              "      --fill-color: #D2E3FC;\n",
              "      --hover-bg-color: #434B5C;\n",
              "      --hover-fill-color: #FFFFFF;\n",
              "      --disabled-bg-color: #3B4455;\n",
              "      --disabled-fill-color: #666;\n",
              "  }\n",
              "\n",
              "  .colab-df-quickchart {\n",
              "    background-color: var(--bg-color);\n",
              "    border: none;\n",
              "    border-radius: 50%;\n",
              "    cursor: pointer;\n",
              "    display: none;\n",
              "    fill: var(--fill-color);\n",
              "    height: 32px;\n",
              "    padding: 0;\n",
              "    width: 32px;\n",
              "  }\n",
              "\n",
              "  .colab-df-quickchart:hover {\n",
              "    background-color: var(--hover-bg-color);\n",
              "    box-shadow: 0 1px 2px rgba(60, 64, 67, 0.3), 0 1px 3px 1px rgba(60, 64, 67, 0.15);\n",
              "    fill: var(--button-hover-fill-color);\n",
              "  }\n",
              "\n",
              "  .colab-df-quickchart-complete:disabled,\n",
              "  .colab-df-quickchart-complete:disabled:hover {\n",
              "    background-color: var(--disabled-bg-color);\n",
              "    fill: var(--disabled-fill-color);\n",
              "    box-shadow: none;\n",
              "  }\n",
              "\n",
              "  .colab-df-spinner {\n",
              "    border: 2px solid var(--fill-color);\n",
              "    border-color: transparent;\n",
              "    border-bottom-color: var(--fill-color);\n",
              "    animation:\n",
              "      spin 1s steps(1) infinite;\n",
              "  }\n",
              "\n",
              "  @keyframes spin {\n",
              "    0% {\n",
              "      border-color: transparent;\n",
              "      border-bottom-color: var(--fill-color);\n",
              "      border-left-color: var(--fill-color);\n",
              "    }\n",
              "    20% {\n",
              "      border-color: transparent;\n",
              "      border-left-color: var(--fill-color);\n",
              "      border-top-color: var(--fill-color);\n",
              "    }\n",
              "    30% {\n",
              "      border-color: transparent;\n",
              "      border-left-color: var(--fill-color);\n",
              "      border-top-color: var(--fill-color);\n",
              "      border-right-color: var(--fill-color);\n",
              "    }\n",
              "    40% {\n",
              "      border-color: transparent;\n",
              "      border-right-color: var(--fill-color);\n",
              "      border-top-color: var(--fill-color);\n",
              "    }\n",
              "    60% {\n",
              "      border-color: transparent;\n",
              "      border-right-color: var(--fill-color);\n",
              "    }\n",
              "    80% {\n",
              "      border-color: transparent;\n",
              "      border-right-color: var(--fill-color);\n",
              "      border-bottom-color: var(--fill-color);\n",
              "    }\n",
              "    90% {\n",
              "      border-color: transparent;\n",
              "      border-bottom-color: var(--fill-color);\n",
              "    }\n",
              "  }\n",
              "</style>\n",
              "\n",
              "  <script>\n",
              "    async function quickchart(key) {\n",
              "      const quickchartButtonEl =\n",
              "        document.querySelector('#' + key + ' button');\n",
              "      quickchartButtonEl.disabled = true;  // To prevent multiple clicks.\n",
              "      quickchartButtonEl.classList.add('colab-df-spinner');\n",
              "      try {\n",
              "        const charts = await google.colab.kernel.invokeFunction(\n",
              "            'suggestCharts', [key], {});\n",
              "      } catch (error) {\n",
              "        console.error('Error during call to suggestCharts:', error);\n",
              "      }\n",
              "      quickchartButtonEl.classList.remove('colab-df-spinner');\n",
              "      quickchartButtonEl.classList.add('colab-df-quickchart-complete');\n",
              "    }\n",
              "    (() => {\n",
              "      let quickchartButtonEl =\n",
              "        document.querySelector('#df-5b92e545-a218-45e8-a2ab-4342400988ce button');\n",
              "      quickchartButtonEl.style.display =\n",
              "        google.colab.kernel.accessAllowed ? 'block' : 'none';\n",
              "    })();\n",
              "  </script>\n",
              "</div>\n",
              "\n",
              "    </div>\n",
              "  </div>\n"
            ],
            "application/vnd.google.colaboratory.intrinsic+json": {
              "type": "dataframe",
              "summary": "{\n  \"name\": \"df[['src','tgt','src_id','tgt_id']]\",\n  \"rows\": 5,\n  \"fields\": [\n    {\n      \"column\": \"src\",\n      \"properties\": {\n        \"dtype\": \"string\",\n        \"num_unique_values\": 5,\n        \"samples\": [\n          \"25-11-2=\",\n          \"26+17*12=\",\n          \"26+19+20=\"\n        ],\n        \"semantic_type\": \"\",\n        \"description\": \"\"\n      }\n    },\n    {\n      \"column\": \"tgt\",\n      \"properties\": {\n        \"dtype\": \"string\",\n        \"num_unique_values\": 5,\n        \"samples\": [\n          \"12\",\n          \"230\",\n          \"65\"\n        ],\n        \"semantic_type\": \"\",\n        \"description\": \"\"\n      }\n    },\n    {\n      \"column\": \"src_id\",\n      \"properties\": {\n        \"dtype\": \"object\",\n        \"semantic_type\": \"\",\n        \"description\": \"\"\n      }\n    },\n    {\n      \"column\": \"tgt_id\",\n      \"properties\": {\n        \"dtype\": \"object\",\n        \"semantic_type\": \"\",\n        \"description\": \"\"\n      }\n    }\n  ]\n}"
            }
          },
          "metadata": {},
          "execution_count": 136
        }
      ],
      "source": [
        "# 把資料集的所有資料都變成id\n",
        "df['tgt']=df['tgt'].astype(str)\n",
        "df['src_id'] = df['src'].apply(lambda text: [char_to_id[char] for char in list(text)] )+df['tgt'].apply(lambda text: [char_to_id[char] for char in list(text)]+ [char_to_id['<eos>']] )\n",
        "df['tgt_id'] = df['tgt'].apply(lambda text: [char_to_id[char] for char in list(text)] + [char_to_id['<eos>']])\n",
        "df[['src','tgt','src_id','tgt_id']].head()"
      ]
    },
    {
      "cell_type": "code",
      "execution_count": 137,
      "metadata": {
        "id": "nKcHRayMvwra"
      },
      "outputs": [],
      "source": [
        "batch_size = 100\n",
        "epochs = 1000\n",
        "embed_dim = 256\n",
        "hidden_dim = 256\n",
        "lr = 0.0001\n",
        "grad_clip = 1"
      ]
    },
    {
      "cell_type": "code",
      "execution_count": 138,
      "metadata": {
        "id": "4uplc3oIx-nx"
      },
      "outputs": [],
      "source": [
        "class Dataset(torch.utils.data.Dataset):\n",
        "  # Python中的Dataset都需要做初始化\n",
        "    def __init__(self, sequences):\n",
        "        self.sequences = sequences # 把data讀入\n",
        "  # 取出一筆資料\n",
        "    def __getitem__(self, index):\n",
        "        x = self.sequences.iloc[index][:-1] # 取得src_id中除了<eos>以外的設為x\n",
        "        y = self.sequences.iloc[index][1:]  # 取得src_id中除了'='以外的設為x\n",
        "        equal = y.index(char_to_id['='])\n",
        "        for i in range(equal + 1):\n",
        "          y[i] = 0 # padding掉'='左邊的token\n",
        "        return x, y\n",
        "  # 裡面有多少筆資料\n",
        "    def __len__(self):\n",
        "        return len(self.sequences)\n",
        "\n",
        "# collate function將batch轉換為 torch.tensor\n",
        "def collate_fn(batch):\n",
        "    batch_x = [torch.tensor(data[0]) for data in batch] # 將src轉換為torch.tensor\n",
        "    batch_y = [torch.tensor(data[1]) for data in batch] # 將tgt轉換為torch.tensor\n",
        "    batch_x_lens = torch.LongTensor([len(x) for x in batch_x])\n",
        "    batch_y_lens = torch.LongTensor([len(y) for y in batch_y])\n",
        "    eq = torch.LongTensor([torch.where(data == char_to_id['='])[0] for data in batch_x])\n",
        "\n",
        "    pad_batch_x = torch.nn.utils.rnn.pad_sequence(batch_x,\n",
        "                                                  batch_first=True, # shape=(batch_size, seq_len)\n",
        "                                                  padding_value=char_to_id['<pad>'])\n",
        "\n",
        "    pad_batch_y = torch.nn.utils.rnn.pad_sequence(batch_y,\n",
        "                                                  batch_first=True, # shape=(batch_size, seq_len)\n",
        "                                                  padding_value=char_to_id['<pad>'])\n",
        "\n",
        "    return pad_batch_x, pad_batch_y, batch_x_lens, batch_y_lens ,eq"
      ]
    },
    {
      "cell_type": "code",
      "execution_count": 139,
      "metadata": {
        "id": "Z1ynQiRi41t9"
      },
      "outputs": [],
      "source": [
        "dataset = Dataset(df['src_id'])\n",
        "data_loader = torch.utils.data.DataLoader(dataset,\n",
        "                                          batch_size=batch_size,\n",
        "                                          shuffle=True,\n",
        "                                          collate_fn=collate_fn)"
      ]
    },
    {
      "cell_type": "code",
      "source": [
        "device = torch.device(\"cuda:0\") if torch.cuda.is_available() else torch.device(\"cpu\")"
      ],
      "metadata": {
        "id": "WFr_mc6LVqpL"
      },
      "execution_count": 140,
      "outputs": []
    },
    {
      "cell_type": "code",
      "execution_count": 141,
      "metadata": {
        "id": "mZSzBZv0438b"
      },
      "outputs": [],
      "source": [
        "class CharRNN(torch.nn.Module):\n",
        "    def __init__(self, vocab_size, embed_dim, hidden_dim):\n",
        "        super(CharRNN, self).__init__()\n",
        "\n",
        "        # Embedding層\n",
        "        self.embedding = torch.nn.Embedding(num_embeddings=vocab_size,\n",
        "                                            embedding_dim=embed_dim,\n",
        "                                            padding_idx=char_to_id['<pad>'])\n",
        "        # RNN層\n",
        "        self.rnn_layer1 = torch.nn.LSTM(input_size=embed_dim,\n",
        "                                        hidden_size=hidden_dim,\n",
        "                                        batch_first=True)\n",
        "        #self.rnn_layer2 = torch.nn.LSTM(input_size=hidden_dim,\n",
        "        #                                hidden_size=hidden_dim,\n",
        "        #                                batch_first=True)\n",
        "        # output層\n",
        "        self.linear = torch.nn.Sequential(torch.nn.Linear(in_features=hidden_dim,\n",
        "                                                          out_features=hidden_dim),\n",
        "                                          torch.nn.ReLU(),\n",
        "                                          torch.nn.Linear(in_features=hidden_dim,\n",
        "                                                          out_features=vocab_size))\n",
        "\n",
        "    def forward(self, batch_x, batch_x_lens):\n",
        "        return self.encoder(batch_x, batch_x_lens)\n",
        "\n",
        "    def encoder(self, batch_x, batch_x_lens):\n",
        "        batch_x = self.embedding(batch_x)\n",
        "\n",
        "        # 假設有個tensor : tensor([[1, 2, 3, 4],\n",
        "        #                        [9, 0, 0, 0]])\n",
        "        # 輸出就是：PackedSequence(data=tensor([1, 9, 2, 3, 4]),\n",
        "        #                         batch_sizes=tensor([2, 1, 1, 1]),\n",
        "        #                         sorted_indices=None, unsorted_indices=None)\n",
        "        # torch.nn.utils.rnn.pack_padded_sequence 會把batch當中的句子從長到短排序，建立如上所示的資料結構\n",
        "        # 就像上一個例子一樣，RNN會先吃第一個batch內的第一個batch_size，看到這個地方的batch_size爲2，所以此時RNN會吃兩個token，輸出一個2Xhidden_dim的向量組\n",
        "        # 然後看第二個batch_size, 此時爲1，少了一個，說明其中一個序列到頭了，那就取上一個輸出向量的第一個，再生成一個1Xhidden_dim的向量\n",
        "        # [\n",
        "        # [1,2,3],                data = [1,4,6,2,5,3]   output  data = [1p,4p,6p,2p,5p,3p]             [1p,2p,3p]\n",
        "        # [4,5,0], => pack_padded_sequence => batch_sizes = [3,2,1] => RNN => batch_sizes = [3,2,1] => pad_packed_sequence => [4p,5p,0]\n",
        "        # [6,0,0]         _                                                     [6p,0,0]\n",
        "        # ]\n",
        "        batch_x = torch.nn.utils.rnn.pack_padded_sequence(batch_x,\n",
        "                                                          batch_x_lens,\n",
        "                                                          batch_first=True,\n",
        "                                                          enforce_sorted=False)\n",
        "\n",
        "        batch_x, _ = self.rnn_layer1(batch_x)\n",
        "        #batch_x, _ = self.rnn_layer2(batch_x)\n",
        "        batch_x, _ = torch.nn.utils.rnn.pad_packed_sequence(batch_x,\n",
        "                                                            batch_first=True)\n",
        "        batch_x = self.linear(batch_x)\n",
        "        return batch_x\n",
        "\n",
        "    def generator(self, start_char, max_len=14):\n",
        "        char_list = ''\n",
        "        char_list += id_to_char[ch_id]\n",
        "        char_list = [char_to_id[char] for char in start_char]\n",
        "        next_char = None\n",
        "        # print(start_char)\n",
        "        # print(char_list)\n",
        "        char_list_tensor = torch.LongTensor(char_list).unsqueeze(0).to(device)\n",
        "\n",
        "        # 生成的長度沒達到max_len就一直生\n",
        "        while len(char_list) < max_len:\n",
        "            x = self.embedding(char_list_tensor) # 將字符序列轉換為嵌入向量\n",
        "            _, (ht, _) = self.rnn_layer1(x) # RNN第一層對嵌入向量進行處理\n",
        "            #_, (ht, _) = self.rnn_layer2(x) # RNN第二層對嵌入向量進行處理\n",
        "            y = self.linear(ht) # linear層\n",
        "\n",
        "            next_char = np.argmax(y.detach().cpu().numpy())\n",
        "\n",
        "            # 如果看到新的token是<eos>就說明生成結束了，就停下\n",
        "            if next_char == char_to_id['<eos>']:\n",
        "                break\n",
        "\n",
        "            char_list.append(next_char)\n",
        "            char_list_tensor = torch.LongTensor(char_list).unsqueeze(0).to(device)\n",
        "\n",
        "        return [id_to_char[ch_id] for ch_id in char_list]"
      ]
    },
    {
      "cell_type": "code",
      "execution_count": 142,
      "metadata": {
        "id": "ln5i0EtW48nr"
      },
      "outputs": [],
      "source": [
        "#torch.manual_seed(2)\n",
        "model = CharRNN(vocab_size,\n",
        "                embed_dim,\n",
        "                hidden_dim)\n",
        "model = model.to(device)"
      ]
    },
    {
      "cell_type": "code",
      "source": [
        "for i in range(5):\n",
        "  ques,answ = digit_gen()\n",
        "  print('ques = ',ques)\n",
        "  print('answ = ',answ)\n",
        "  pr = ''\n",
        "  for token in model.generator(ques):\n",
        "    pr += token\n",
        "  print(pr)\n",
        "  print('-----------------------------------------------------------------------------------')\n",
        "  print()"
      ],
      "metadata": {
        "colab": {
          "base_uri": "https://localhost:8080/"
        },
        "id": "_LxuwM-hT3P-",
        "outputId": "b7d8583a-c9bf-4a27-83f5-ce91b4d04309"
      },
      "execution_count": 143,
      "outputs": [
        {
          "output_type": "stream",
          "name": "stdout",
          "text": [
            "ques =  8-23+19=\n",
            "answ =  4\n",
            "8-23+19=++++++\n",
            "-----------------------------------------------------------------------------------\n",
            "\n",
            "ques =  21*16*3=\n",
            "answ =  1008\n",
            "21*16*3=810+++\n",
            "-----------------------------------------------------------------------------------\n",
            "\n",
            "ques =  29-26*7=\n",
            "answ =  -153\n",
            "29-26*7=610+++\n",
            "-----------------------------------------------------------------------------------\n",
            "\n",
            "ques =  1-7+11=\n",
            "answ =  5\n",
            "1-7+11=0++++++\n",
            "-----------------------------------------------------------------------------------\n",
            "\n",
            "ques =  19+11*29=\n",
            "answ =  338\n",
            "19+11*29=+++++\n",
            "-----------------------------------------------------------------------------------\n",
            "\n"
          ]
        }
      ]
    },
    {
      "cell_type": "code",
      "execution_count": 144,
      "metadata": {
        "id": "ONqE7YDM4-3x"
      },
      "outputs": [],
      "source": [
        "criterion = torch.nn.CrossEntropyLoss(ignore_index=char_to_id['<pad>'], reduction='mean')\n",
        "optimizer = torch.optim.Adam(model.parameters(), lr=lr)"
      ]
    },
    {
      "cell_type": "code",
      "execution_count": 145,
      "metadata": {
        "colab": {
          "base_uri": "https://localhost:8080/"
        },
        "id": "nTPdU3dH5AzG",
        "outputId": "149a87e7-f938-4be8-d99f-dcc1d14896bf"
      },
      "outputs": [
        {
          "output_type": "stream",
          "name": "stderr",
          "text": [
            "epoch 1: 100%|██████████| 200/200 [00:02<00:00, 94.01it/s, loss=1.7]\n",
            "100%|██████████| 100/100 [00:00<00:00, 397.77it/s]\n"
          ]
        },
        {
          "output_type": "stream",
          "name": "stdout",
          "text": [
            "accuray=0.01\n"
          ]
        },
        {
          "output_type": "stream",
          "name": "stderr",
          "text": [
            "epoch 2: 100%|██████████| 200/200 [00:02<00:00, 97.21it/s, loss=1.46]\n",
            "100%|██████████| 100/100 [00:00<00:00, 366.19it/s]\n"
          ]
        },
        {
          "output_type": "stream",
          "name": "stdout",
          "text": [
            "accuray=0.01\n"
          ]
        },
        {
          "output_type": "stream",
          "name": "stderr",
          "text": [
            "epoch 3: 100%|██████████| 200/200 [00:02<00:00, 96.01it/s, loss=1.4]\n",
            "100%|██████████| 100/100 [00:00<00:00, 390.93it/s]\n"
          ]
        },
        {
          "output_type": "stream",
          "name": "stdout",
          "text": [
            "accuray=0.06\n"
          ]
        },
        {
          "output_type": "stream",
          "name": "stderr",
          "text": [
            "epoch 4: 100%|██████████| 200/200 [00:03<00:00, 66.59it/s, loss=1.44]\n",
            "100%|██████████| 100/100 [00:00<00:00, 289.93it/s]\n"
          ]
        },
        {
          "output_type": "stream",
          "name": "stdout",
          "text": [
            "accuray=0.02\n"
          ]
        },
        {
          "output_type": "stream",
          "name": "stderr",
          "text": [
            "epoch 5: 100%|██████████| 200/200 [00:02<00:00, 96.06it/s, loss=1.34]\n",
            "100%|██████████| 100/100 [00:00<00:00, 390.50it/s]\n"
          ]
        },
        {
          "output_type": "stream",
          "name": "stdout",
          "text": [
            "accuray=0.04\n"
          ]
        },
        {
          "output_type": "stream",
          "name": "stderr",
          "text": [
            "epoch 6: 100%|██████████| 200/200 [00:02<00:00, 93.42it/s, loss=1.35]\n",
            "100%|██████████| 100/100 [00:00<00:00, 390.55it/s]\n"
          ]
        },
        {
          "output_type": "stream",
          "name": "stdout",
          "text": [
            "accuray=0.05\n"
          ]
        },
        {
          "output_type": "stream",
          "name": "stderr",
          "text": [
            "epoch 7: 100%|██████████| 200/200 [00:02<00:00, 95.52it/s, loss=1.3]\n",
            "100%|██████████| 100/100 [00:00<00:00, 385.11it/s]\n"
          ]
        },
        {
          "output_type": "stream",
          "name": "stdout",
          "text": [
            "accuray=0.09\n"
          ]
        },
        {
          "output_type": "stream",
          "name": "stderr",
          "text": [
            "epoch 8: 100%|██████████| 200/200 [00:02<00:00, 86.89it/s, loss=1.28]\n",
            "100%|██████████| 100/100 [00:00<00:00, 377.41it/s]\n"
          ]
        },
        {
          "output_type": "stream",
          "name": "stdout",
          "text": [
            "accuray=0.08\n"
          ]
        },
        {
          "output_type": "stream",
          "name": "stderr",
          "text": [
            "epoch 9: 100%|██████████| 200/200 [00:02<00:00, 68.43it/s, loss=1.24]\n",
            "100%|██████████| 100/100 [00:00<00:00, 269.51it/s]\n"
          ]
        },
        {
          "output_type": "stream",
          "name": "stdout",
          "text": [
            "accuray=0.09\n"
          ]
        },
        {
          "output_type": "stream",
          "name": "stderr",
          "text": [
            "epoch 10: 100%|██████████| 200/200 [00:02<00:00, 96.05it/s, loss=1.24]\n",
            "100%|██████████| 100/100 [00:00<00:00, 352.55it/s]\n"
          ]
        },
        {
          "output_type": "stream",
          "name": "stdout",
          "text": [
            "accuray=0.05\n"
          ]
        },
        {
          "output_type": "stream",
          "name": "stderr",
          "text": [
            "epoch 11: 100%|██████████| 200/200 [00:02<00:00, 95.55it/s, loss=1.17]\n",
            "100%|██████████| 100/100 [00:00<00:00, 380.16it/s]\n"
          ]
        },
        {
          "output_type": "stream",
          "name": "stdout",
          "text": [
            "accuray=0.06\n"
          ]
        },
        {
          "output_type": "stream",
          "name": "stderr",
          "text": [
            "epoch 12: 100%|██████████| 200/200 [00:02<00:00, 96.78it/s, loss=1.15]\n",
            "100%|██████████| 100/100 [00:00<00:00, 410.04it/s]\n"
          ]
        },
        {
          "output_type": "stream",
          "name": "stdout",
          "text": [
            "accuray=0.06\n"
          ]
        },
        {
          "output_type": "stream",
          "name": "stderr",
          "text": [
            "epoch 13: 100%|██████████| 200/200 [00:02<00:00, 96.02it/s, loss=1.11]\n",
            "100%|██████████| 100/100 [00:00<00:00, 391.72it/s]\n"
          ]
        },
        {
          "output_type": "stream",
          "name": "stdout",
          "text": [
            "accuray=0.08\n"
          ]
        },
        {
          "output_type": "stream",
          "name": "stderr",
          "text": [
            "epoch 14: 100%|██████████| 200/200 [00:02<00:00, 74.55it/s, loss=1.01]\n",
            "100%|██████████| 100/100 [00:00<00:00, 268.42it/s]\n"
          ]
        },
        {
          "output_type": "stream",
          "name": "stdout",
          "text": [
            "accuray=0.07\n"
          ]
        },
        {
          "output_type": "stream",
          "name": "stderr",
          "text": [
            "epoch 15: 100%|██████████| 200/200 [00:02<00:00, 87.29it/s, loss=1.06]\n",
            "100%|██████████| 100/100 [00:00<00:00, 392.92it/s]\n"
          ]
        },
        {
          "output_type": "stream",
          "name": "stdout",
          "text": [
            "accuray=0.1\n"
          ]
        },
        {
          "output_type": "stream",
          "name": "stderr",
          "text": [
            "epoch 16: 100%|██████████| 200/200 [00:02<00:00, 96.02it/s, loss=1.01]\n",
            "100%|██████████| 100/100 [00:00<00:00, 396.31it/s]\n"
          ]
        },
        {
          "output_type": "stream",
          "name": "stdout",
          "text": [
            "accuray=0.08\n"
          ]
        },
        {
          "output_type": "stream",
          "name": "stderr",
          "text": [
            "epoch 17: 100%|██████████| 200/200 [00:02<00:00, 96.84it/s, loss=0.964]\n",
            "100%|██████████| 100/100 [00:00<00:00, 400.75it/s]\n"
          ]
        },
        {
          "output_type": "stream",
          "name": "stdout",
          "text": [
            "accuray=0.2\n"
          ]
        },
        {
          "output_type": "stream",
          "name": "stderr",
          "text": [
            "epoch 18: 100%|██████████| 200/200 [00:02<00:00, 96.55it/s, loss=0.992]\n",
            "100%|██████████| 100/100 [00:00<00:00, 383.77it/s]\n"
          ]
        },
        {
          "output_type": "stream",
          "name": "stdout",
          "text": [
            "accuray=0.1\n"
          ]
        },
        {
          "output_type": "stream",
          "name": "stderr",
          "text": [
            "epoch 19: 100%|██████████| 200/200 [00:02<00:00, 79.74it/s, loss=0.936]\n",
            "100%|██████████| 100/100 [00:00<00:00, 290.82it/s]\n"
          ]
        },
        {
          "output_type": "stream",
          "name": "stdout",
          "text": [
            "accuray=0.17\n"
          ]
        },
        {
          "output_type": "stream",
          "name": "stderr",
          "text": [
            "epoch 20: 100%|██████████| 200/200 [00:02<00:00, 81.02it/s, loss=0.941]\n",
            "100%|██████████| 100/100 [00:00<00:00, 388.23it/s]\n"
          ]
        },
        {
          "output_type": "stream",
          "name": "stdout",
          "text": [
            "accuray=0.14\n"
          ]
        },
        {
          "output_type": "stream",
          "name": "stderr",
          "text": [
            "epoch 21: 100%|██████████| 200/200 [00:02<00:00, 97.13it/s, loss=0.95]\n",
            "100%|██████████| 100/100 [00:00<00:00, 401.05it/s]\n"
          ]
        },
        {
          "output_type": "stream",
          "name": "stdout",
          "text": [
            "accuray=0.27\n"
          ]
        },
        {
          "output_type": "stream",
          "name": "stderr",
          "text": [
            "epoch 22: 100%|██████████| 200/200 [00:02<00:00, 96.63it/s, loss=0.882]\n",
            "100%|██████████| 100/100 [00:00<00:00, 376.04it/s]\n"
          ]
        },
        {
          "output_type": "stream",
          "name": "stdout",
          "text": [
            "accuray=0.28\n"
          ]
        },
        {
          "output_type": "stream",
          "name": "stderr",
          "text": [
            "epoch 23: 100%|██████████| 200/200 [00:02<00:00, 95.87it/s, loss=0.825]\n",
            "100%|██████████| 100/100 [00:00<00:00, 396.50it/s]\n"
          ]
        },
        {
          "output_type": "stream",
          "name": "stdout",
          "text": [
            "accuray=0.26\n"
          ]
        },
        {
          "output_type": "stream",
          "name": "stderr",
          "text": [
            "epoch 24: 100%|██████████| 200/200 [00:02<00:00, 85.96it/s, loss=0.86]\n",
            "100%|██████████| 100/100 [00:00<00:00, 289.43it/s]\n"
          ]
        },
        {
          "output_type": "stream",
          "name": "stdout",
          "text": [
            "accuray=0.24\n"
          ]
        },
        {
          "output_type": "stream",
          "name": "stderr",
          "text": [
            "epoch 25: 100%|██████████| 200/200 [00:02<00:00, 75.63it/s, loss=0.711]\n",
            "100%|██████████| 100/100 [00:00<00:00, 387.27it/s]\n"
          ]
        },
        {
          "output_type": "stream",
          "name": "stdout",
          "text": [
            "accuray=0.28\n"
          ]
        },
        {
          "output_type": "stream",
          "name": "stderr",
          "text": [
            "epoch 26: 100%|██████████| 200/200 [00:02<00:00, 97.19it/s, loss=0.798]\n",
            "100%|██████████| 100/100 [00:00<00:00, 383.28it/s]\n"
          ]
        },
        {
          "output_type": "stream",
          "name": "stdout",
          "text": [
            "accuray=0.29\n"
          ]
        },
        {
          "output_type": "stream",
          "name": "stderr",
          "text": [
            "epoch 27: 100%|██████████| 200/200 [00:02<00:00, 96.67it/s, loss=0.784]\n",
            "100%|██████████| 100/100 [00:00<00:00, 363.41it/s]\n"
          ]
        },
        {
          "output_type": "stream",
          "name": "stdout",
          "text": [
            "accuray=0.28\n"
          ]
        },
        {
          "output_type": "stream",
          "name": "stderr",
          "text": [
            "epoch 28: 100%|██████████| 200/200 [00:02<00:00, 95.83it/s, loss=0.7]\n",
            "100%|██████████| 100/100 [00:00<00:00, 398.81it/s]\n"
          ]
        },
        {
          "output_type": "stream",
          "name": "stdout",
          "text": [
            "accuray=0.33\n"
          ]
        },
        {
          "output_type": "stream",
          "name": "stderr",
          "text": [
            "epoch 29: 100%|██████████| 200/200 [00:02<00:00, 94.27it/s, loss=0.715]\n",
            "100%|██████████| 100/100 [00:00<00:00, 279.74it/s]\n"
          ]
        },
        {
          "output_type": "stream",
          "name": "stdout",
          "text": [
            "accuray=0.4\n"
          ]
        },
        {
          "output_type": "stream",
          "name": "stderr",
          "text": [
            "epoch 30: 100%|██████████| 200/200 [00:02<00:00, 70.02it/s, loss=0.691]\n",
            "100%|██████████| 100/100 [00:00<00:00, 382.49it/s]\n"
          ]
        },
        {
          "output_type": "stream",
          "name": "stdout",
          "text": [
            "accuray=0.4\n"
          ]
        },
        {
          "output_type": "stream",
          "name": "stderr",
          "text": [
            "epoch 31: 100%|██████████| 200/200 [00:02<00:00, 92.75it/s, loss=0.653]\n",
            "100%|██████████| 100/100 [00:00<00:00, 402.36it/s]\n"
          ]
        },
        {
          "output_type": "stream",
          "name": "stdout",
          "text": [
            "accuray=0.47\n"
          ]
        },
        {
          "output_type": "stream",
          "name": "stderr",
          "text": [
            "epoch 32: 100%|██████████| 200/200 [00:02<00:00, 94.71it/s, loss=0.629]\n",
            "100%|██████████| 100/100 [00:00<00:00, 397.42it/s]\n"
          ]
        },
        {
          "output_type": "stream",
          "name": "stdout",
          "text": [
            "accuray=0.38\n"
          ]
        },
        {
          "output_type": "stream",
          "name": "stderr",
          "text": [
            "epoch 33: 100%|██████████| 200/200 [00:02<00:00, 94.86it/s, loss=0.649]\n",
            "100%|██████████| 100/100 [00:00<00:00, 387.60it/s]\n"
          ]
        },
        {
          "output_type": "stream",
          "name": "stdout",
          "text": [
            "accuray=0.42\n"
          ]
        },
        {
          "output_type": "stream",
          "name": "stderr",
          "text": [
            "epoch 34: 100%|██████████| 200/200 [00:02<00:00, 92.88it/s, loss=0.632]\n",
            "100%|██████████| 100/100 [00:00<00:00, 294.71it/s]\n"
          ]
        },
        {
          "output_type": "stream",
          "name": "stdout",
          "text": [
            "accuray=0.4\n"
          ]
        },
        {
          "output_type": "stream",
          "name": "stderr",
          "text": [
            "epoch 35: 100%|██████████| 200/200 [00:02<00:00, 68.09it/s, loss=0.656]\n",
            "100%|██████████| 100/100 [00:00<00:00, 391.86it/s]\n"
          ]
        },
        {
          "output_type": "stream",
          "name": "stdout",
          "text": [
            "accuray=0.45\n"
          ]
        },
        {
          "output_type": "stream",
          "name": "stderr",
          "text": [
            "epoch 36: 100%|██████████| 200/200 [00:02<00:00, 94.39it/s, loss=0.651]\n",
            "100%|██████████| 100/100 [00:00<00:00, 387.85it/s]\n"
          ]
        },
        {
          "output_type": "stream",
          "name": "stdout",
          "text": [
            "accuray=0.38\n"
          ]
        },
        {
          "output_type": "stream",
          "name": "stderr",
          "text": [
            "epoch 37: 100%|██████████| 200/200 [00:02<00:00, 94.51it/s, loss=0.612]\n",
            "100%|██████████| 100/100 [00:00<00:00, 419.18it/s]\n"
          ]
        },
        {
          "output_type": "stream",
          "name": "stdout",
          "text": [
            "accuray=0.46\n"
          ]
        },
        {
          "output_type": "stream",
          "name": "stderr",
          "text": [
            "epoch 38: 100%|██████████| 200/200 [00:02<00:00, 97.47it/s, loss=0.606]\n",
            "100%|██████████| 100/100 [00:00<00:00, 394.40it/s]\n"
          ]
        },
        {
          "output_type": "stream",
          "name": "stdout",
          "text": [
            "accuray=0.46\n"
          ]
        },
        {
          "output_type": "stream",
          "name": "stderr",
          "text": [
            "epoch 39: 100%|██████████| 200/200 [00:02<00:00, 95.84it/s, loss=0.628]\n",
            "100%|██████████| 100/100 [00:00<00:00, 373.26it/s]\n"
          ]
        },
        {
          "output_type": "stream",
          "name": "stdout",
          "text": [
            "accuray=0.41\n"
          ]
        },
        {
          "output_type": "stream",
          "name": "stderr",
          "text": [
            "epoch 40: 100%|██████████| 200/200 [00:02<00:00, 67.79it/s, loss=0.49]\n",
            "100%|██████████| 100/100 [00:00<00:00, 254.67it/s]\n"
          ]
        },
        {
          "output_type": "stream",
          "name": "stdout",
          "text": [
            "accuray=0.37\n"
          ]
        },
        {
          "output_type": "stream",
          "name": "stderr",
          "text": [
            "epoch 41: 100%|██████████| 200/200 [00:02<00:00, 95.96it/s, loss=0.559]\n",
            "100%|██████████| 100/100 [00:00<00:00, 394.99it/s]\n"
          ]
        },
        {
          "output_type": "stream",
          "name": "stdout",
          "text": [
            "accuray=0.35\n"
          ]
        },
        {
          "output_type": "stream",
          "name": "stderr",
          "text": [
            "epoch 42: 100%|██████████| 200/200 [00:02<00:00, 97.00it/s, loss=0.54]\n",
            "100%|██████████| 100/100 [00:00<00:00, 390.07it/s]\n"
          ]
        },
        {
          "output_type": "stream",
          "name": "stdout",
          "text": [
            "accuray=0.52\n"
          ]
        },
        {
          "output_type": "stream",
          "name": "stderr",
          "text": [
            "epoch 43: 100%|██████████| 200/200 [00:02<00:00, 95.39it/s, loss=0.576]\n",
            "100%|██████████| 100/100 [00:00<00:00, 396.09it/s]\n"
          ]
        },
        {
          "output_type": "stream",
          "name": "stdout",
          "text": [
            "accuray=0.41\n"
          ]
        },
        {
          "output_type": "stream",
          "name": "stderr",
          "text": [
            "epoch 44: 100%|██████████| 200/200 [00:02<00:00, 96.35it/s, loss=0.558]\n",
            "100%|██████████| 100/100 [00:00<00:00, 396.26it/s]\n"
          ]
        },
        {
          "output_type": "stream",
          "name": "stdout",
          "text": [
            "accuray=0.45\n"
          ]
        },
        {
          "output_type": "stream",
          "name": "stderr",
          "text": [
            "epoch 45: 100%|██████████| 200/200 [00:02<00:00, 74.25it/s, loss=0.445]\n",
            "100%|██████████| 100/100 [00:00<00:00, 267.26it/s]\n"
          ]
        },
        {
          "output_type": "stream",
          "name": "stdout",
          "text": [
            "accuray=0.49\n"
          ]
        },
        {
          "output_type": "stream",
          "name": "stderr",
          "text": [
            "epoch 46: 100%|██████████| 200/200 [00:02<00:00, 87.56it/s, loss=0.537]\n",
            "100%|██████████| 100/100 [00:00<00:00, 400.40it/s]\n"
          ]
        },
        {
          "output_type": "stream",
          "name": "stdout",
          "text": [
            "accuray=0.47\n"
          ]
        },
        {
          "output_type": "stream",
          "name": "stderr",
          "text": [
            "epoch 47: 100%|██████████| 200/200 [00:02<00:00, 96.30it/s, loss=0.532]\n",
            "100%|██████████| 100/100 [00:00<00:00, 383.40it/s]\n"
          ]
        },
        {
          "output_type": "stream",
          "name": "stdout",
          "text": [
            "accuray=0.46\n"
          ]
        },
        {
          "output_type": "stream",
          "name": "stderr",
          "text": [
            "epoch 48: 100%|██████████| 200/200 [00:02<00:00, 96.38it/s, loss=0.47]\n",
            "100%|██████████| 100/100 [00:00<00:00, 388.13it/s]\n"
          ]
        },
        {
          "output_type": "stream",
          "name": "stdout",
          "text": [
            "accuray=0.55\n"
          ]
        },
        {
          "output_type": "stream",
          "name": "stderr",
          "text": [
            "epoch 49: 100%|██████████| 200/200 [00:02<00:00, 96.17it/s, loss=0.553]\n",
            "100%|██████████| 100/100 [00:00<00:00, 390.96it/s]\n"
          ]
        },
        {
          "output_type": "stream",
          "name": "stdout",
          "text": [
            "accuray=0.45\n"
          ]
        },
        {
          "output_type": "stream",
          "name": "stderr",
          "text": [
            "epoch 50: 100%|██████████| 200/200 [00:02<00:00, 79.41it/s, loss=0.56]\n",
            "100%|██████████| 100/100 [00:00<00:00, 296.52it/s]\n"
          ]
        },
        {
          "output_type": "stream",
          "name": "stdout",
          "text": [
            "accuray=0.48\n"
          ]
        },
        {
          "output_type": "stream",
          "name": "stderr",
          "text": [
            "epoch 51: 100%|██████████| 200/200 [00:02<00:00, 80.62it/s, loss=0.521]\n",
            "100%|██████████| 100/100 [00:00<00:00, 406.46it/s]\n"
          ]
        },
        {
          "output_type": "stream",
          "name": "stdout",
          "text": [
            "accuray=0.56\n"
          ]
        },
        {
          "output_type": "stream",
          "name": "stderr",
          "text": [
            "epoch 52: 100%|██████████| 200/200 [00:02<00:00, 92.06it/s, loss=0.474]\n",
            "100%|██████████| 100/100 [00:00<00:00, 393.68it/s]\n"
          ]
        },
        {
          "output_type": "stream",
          "name": "stdout",
          "text": [
            "accuray=0.5\n"
          ]
        },
        {
          "output_type": "stream",
          "name": "stderr",
          "text": [
            "epoch 53: 100%|██████████| 200/200 [00:02<00:00, 96.62it/s, loss=0.488]\n",
            "100%|██████████| 100/100 [00:00<00:00, 400.88it/s]\n"
          ]
        },
        {
          "output_type": "stream",
          "name": "stdout",
          "text": [
            "accuray=0.5\n"
          ]
        },
        {
          "output_type": "stream",
          "name": "stderr",
          "text": [
            "epoch 54: 100%|██████████| 200/200 [00:02<00:00, 97.52it/s, loss=0.472]\n",
            "100%|██████████| 100/100 [00:00<00:00, 400.27it/s]\n"
          ]
        },
        {
          "output_type": "stream",
          "name": "stdout",
          "text": [
            "accuray=0.52\n"
          ]
        },
        {
          "output_type": "stream",
          "name": "stderr",
          "text": [
            "epoch 55: 100%|██████████| 200/200 [00:02<00:00, 84.33it/s, loss=0.422]\n",
            "100%|██████████| 100/100 [00:00<00:00, 307.11it/s]\n"
          ]
        },
        {
          "output_type": "stream",
          "name": "stdout",
          "text": [
            "accuray=0.47\n"
          ]
        },
        {
          "output_type": "stream",
          "name": "stderr",
          "text": [
            "epoch 56: 100%|██████████| 200/200 [00:02<00:00, 75.09it/s, loss=0.478]\n",
            "100%|██████████| 100/100 [00:00<00:00, 399.83it/s]\n"
          ]
        },
        {
          "output_type": "stream",
          "name": "stdout",
          "text": [
            "accuray=0.49\n"
          ]
        },
        {
          "output_type": "stream",
          "name": "stderr",
          "text": [
            "epoch 57: 100%|██████████| 200/200 [00:02<00:00, 95.29it/s, loss=0.433]\n",
            "100%|██████████| 100/100 [00:00<00:00, 392.97it/s]\n"
          ]
        },
        {
          "output_type": "stream",
          "name": "stdout",
          "text": [
            "accuray=0.51\n"
          ]
        },
        {
          "output_type": "stream",
          "name": "stderr",
          "text": [
            "epoch 58: 100%|██████████| 200/200 [00:02<00:00, 95.29it/s, loss=0.44]\n",
            "100%|██████████| 100/100 [00:00<00:00, 394.83it/s]\n"
          ]
        },
        {
          "output_type": "stream",
          "name": "stdout",
          "text": [
            "accuray=0.59\n"
          ]
        },
        {
          "output_type": "stream",
          "name": "stderr",
          "text": [
            "epoch 59: 100%|██████████| 200/200 [00:02<00:00, 95.74it/s, loss=0.43]\n",
            "100%|██████████| 100/100 [00:00<00:00, 367.91it/s]\n"
          ]
        },
        {
          "output_type": "stream",
          "name": "stdout",
          "text": [
            "accuray=0.5\n"
          ]
        },
        {
          "output_type": "stream",
          "name": "stderr",
          "text": [
            "epoch 60: 100%|██████████| 200/200 [00:02<00:00, 91.54it/s, loss=0.431]\n",
            "100%|██████████| 100/100 [00:00<00:00, 302.47it/s]\n"
          ]
        },
        {
          "output_type": "stream",
          "name": "stdout",
          "text": [
            "accuray=0.48\n"
          ]
        },
        {
          "output_type": "stream",
          "name": "stderr",
          "text": [
            "epoch 61: 100%|██████████| 200/200 [00:02<00:00, 71.10it/s, loss=0.345]\n",
            "100%|██████████| 100/100 [00:00<00:00, 392.21it/s]\n"
          ]
        },
        {
          "output_type": "stream",
          "name": "stdout",
          "text": [
            "accuray=0.55\n"
          ]
        },
        {
          "output_type": "stream",
          "name": "stderr",
          "text": [
            "epoch 62: 100%|██████████| 200/200 [00:02<00:00, 96.66it/s, loss=0.441]\n",
            "100%|██████████| 100/100 [00:00<00:00, 384.40it/s]\n"
          ]
        },
        {
          "output_type": "stream",
          "name": "stdout",
          "text": [
            "accuray=0.54\n"
          ]
        },
        {
          "output_type": "stream",
          "name": "stderr",
          "text": [
            "epoch 63: 100%|██████████| 200/200 [00:02<00:00, 93.00it/s, loss=0.415]\n",
            "100%|██████████| 100/100 [00:00<00:00, 401.14it/s]\n"
          ]
        },
        {
          "output_type": "stream",
          "name": "stdout",
          "text": [
            "accuray=0.48\n"
          ]
        },
        {
          "output_type": "stream",
          "name": "stderr",
          "text": [
            "epoch 64: 100%|██████████| 200/200 [00:02<00:00, 95.09it/s, loss=0.44]\n",
            "100%|██████████| 100/100 [00:00<00:00, 383.55it/s]\n"
          ]
        },
        {
          "output_type": "stream",
          "name": "stdout",
          "text": [
            "accuray=0.53\n"
          ]
        },
        {
          "output_type": "stream",
          "name": "stderr",
          "text": [
            "epoch 65: 100%|██████████| 200/200 [00:02<00:00, 95.23it/s, loss=0.364]\n",
            "100%|██████████| 100/100 [00:00<00:00, 280.41it/s]\n"
          ]
        },
        {
          "output_type": "stream",
          "name": "stdout",
          "text": [
            "accuray=0.58\n"
          ]
        },
        {
          "output_type": "stream",
          "name": "stderr",
          "text": [
            "epoch 66: 100%|██████████| 200/200 [00:02<00:00, 69.26it/s, loss=0.389]\n",
            "100%|██████████| 100/100 [00:00<00:00, 391.45it/s]\n"
          ]
        },
        {
          "output_type": "stream",
          "name": "stdout",
          "text": [
            "accuray=0.6\n"
          ]
        },
        {
          "output_type": "stream",
          "name": "stderr",
          "text": [
            "epoch 67: 100%|██████████| 200/200 [00:02<00:00, 96.01it/s, loss=0.421]\n",
            "100%|██████████| 100/100 [00:00<00:00, 395.67it/s]\n"
          ]
        },
        {
          "output_type": "stream",
          "name": "stdout",
          "text": [
            "accuray=0.53\n"
          ]
        },
        {
          "output_type": "stream",
          "name": "stderr",
          "text": [
            "epoch 68: 100%|██████████| 200/200 [00:02<00:00, 94.66it/s, loss=0.321]\n",
            "100%|██████████| 100/100 [00:00<00:00, 393.96it/s]\n"
          ]
        },
        {
          "output_type": "stream",
          "name": "stdout",
          "text": [
            "accuray=0.49\n"
          ]
        },
        {
          "output_type": "stream",
          "name": "stderr",
          "text": [
            "epoch 69: 100%|██████████| 200/200 [00:02<00:00, 96.56it/s, loss=0.482]\n",
            "100%|██████████| 100/100 [00:00<00:00, 403.66it/s]\n"
          ]
        },
        {
          "output_type": "stream",
          "name": "stdout",
          "text": [
            "accuray=0.57\n"
          ]
        },
        {
          "output_type": "stream",
          "name": "stderr",
          "text": [
            "epoch 70: 100%|██████████| 200/200 [00:02<00:00, 95.89it/s, loss=0.384]\n",
            "100%|██████████| 100/100 [00:00<00:00, 390.08it/s]\n"
          ]
        },
        {
          "output_type": "stream",
          "name": "stdout",
          "text": [
            "accuray=0.52\n"
          ]
        },
        {
          "output_type": "stream",
          "name": "stderr",
          "text": [
            "epoch 71: 100%|██████████| 200/200 [00:02<00:00, 70.74it/s, loss=0.397]\n",
            "100%|██████████| 100/100 [00:00<00:00, 251.87it/s]\n"
          ]
        },
        {
          "output_type": "stream",
          "name": "stdout",
          "text": [
            "accuray=0.54\n"
          ]
        },
        {
          "output_type": "stream",
          "name": "stderr",
          "text": [
            "epoch 72: 100%|██████████| 200/200 [00:02<00:00, 94.45it/s, loss=0.404]\n",
            "100%|██████████| 100/100 [00:00<00:00, 408.03it/s]\n"
          ]
        },
        {
          "output_type": "stream",
          "name": "stdout",
          "text": [
            "accuray=0.53\n"
          ]
        },
        {
          "output_type": "stream",
          "name": "stderr",
          "text": [
            "epoch 73: 100%|██████████| 200/200 [00:02<00:00, 96.04it/s, loss=0.434]\n",
            "100%|██████████| 100/100 [00:00<00:00, 394.02it/s]\n"
          ]
        },
        {
          "output_type": "stream",
          "name": "stdout",
          "text": [
            "accuray=0.52\n"
          ]
        },
        {
          "output_type": "stream",
          "name": "stderr",
          "text": [
            "epoch 74: 100%|██████████| 200/200 [00:02<00:00, 96.71it/s, loss=0.425]\n",
            "100%|██████████| 100/100 [00:00<00:00, 386.26it/s]\n"
          ]
        },
        {
          "output_type": "stream",
          "name": "stdout",
          "text": [
            "accuray=0.49\n"
          ]
        },
        {
          "output_type": "stream",
          "name": "stderr",
          "text": [
            "epoch 75: 100%|██████████| 200/200 [00:02<00:00, 95.38it/s, loss=0.363]\n",
            "100%|██████████| 100/100 [00:00<00:00, 386.53it/s]\n"
          ]
        },
        {
          "output_type": "stream",
          "name": "stdout",
          "text": [
            "accuray=0.53\n"
          ]
        },
        {
          "output_type": "stream",
          "name": "stderr",
          "text": [
            "epoch 76: 100%|██████████| 200/200 [00:02<00:00, 73.13it/s, loss=0.334]\n",
            "100%|██████████| 100/100 [00:00<00:00, 305.93it/s]\n"
          ]
        },
        {
          "output_type": "stream",
          "name": "stdout",
          "text": [
            "accuray=0.61\n"
          ]
        },
        {
          "output_type": "stream",
          "name": "stderr",
          "text": [
            "epoch 77: 100%|██████████| 200/200 [00:02<00:00, 86.22it/s, loss=0.369]\n",
            "100%|██████████| 100/100 [00:00<00:00, 397.81it/s]\n"
          ]
        },
        {
          "output_type": "stream",
          "name": "stdout",
          "text": [
            "accuray=0.64\n"
          ]
        },
        {
          "output_type": "stream",
          "name": "stderr",
          "text": [
            "epoch 78: 100%|██████████| 200/200 [00:02<00:00, 96.05it/s, loss=0.385]\n",
            "100%|██████████| 100/100 [00:00<00:00, 377.17it/s]\n"
          ]
        },
        {
          "output_type": "stream",
          "name": "stdout",
          "text": [
            "accuray=0.49\n"
          ]
        },
        {
          "output_type": "stream",
          "name": "stderr",
          "text": [
            "epoch 79: 100%|██████████| 200/200 [00:02<00:00, 95.96it/s, loss=0.379]\n",
            "100%|██████████| 100/100 [00:00<00:00, 380.68it/s]\n"
          ]
        },
        {
          "output_type": "stream",
          "name": "stdout",
          "text": [
            "accuray=0.46\n"
          ]
        },
        {
          "output_type": "stream",
          "name": "stderr",
          "text": [
            "epoch 80: 100%|██████████| 200/200 [00:02<00:00, 94.20it/s, loss=0.393]\n",
            "100%|██████████| 100/100 [00:00<00:00, 415.94it/s]\n"
          ]
        },
        {
          "output_type": "stream",
          "name": "stdout",
          "text": [
            "accuray=0.72\n"
          ]
        },
        {
          "output_type": "stream",
          "name": "stderr",
          "text": [
            "epoch 81: 100%|██████████| 200/200 [00:02<00:00, 78.75it/s, loss=0.374]\n",
            "100%|██████████| 100/100 [00:00<00:00, 310.63it/s]\n"
          ]
        },
        {
          "output_type": "stream",
          "name": "stdout",
          "text": [
            "accuray=0.65\n"
          ]
        },
        {
          "output_type": "stream",
          "name": "stderr",
          "text": [
            "epoch 82: 100%|██████████| 200/200 [00:02<00:00, 79.55it/s, loss=0.316]\n",
            "100%|██████████| 100/100 [00:00<00:00, 407.39it/s]\n"
          ]
        },
        {
          "output_type": "stream",
          "name": "stdout",
          "text": [
            "accuray=0.61\n"
          ]
        },
        {
          "output_type": "stream",
          "name": "stderr",
          "text": [
            "epoch 83: 100%|██████████| 200/200 [00:02<00:00, 95.56it/s, loss=0.333]\n",
            "100%|██████████| 100/100 [00:00<00:00, 389.98it/s]\n"
          ]
        },
        {
          "output_type": "stream",
          "name": "stdout",
          "text": [
            "accuray=0.49\n"
          ]
        },
        {
          "output_type": "stream",
          "name": "stderr",
          "text": [
            "epoch 84: 100%|██████████| 200/200 [00:02<00:00, 97.02it/s, loss=0.302]\n",
            "100%|██████████| 100/100 [00:00<00:00, 387.65it/s]\n"
          ]
        },
        {
          "output_type": "stream",
          "name": "stdout",
          "text": [
            "accuray=0.55\n"
          ]
        },
        {
          "output_type": "stream",
          "name": "stderr",
          "text": [
            "epoch 85: 100%|██████████| 200/200 [00:02<00:00, 97.23it/s, loss=0.404]\n",
            "100%|██████████| 100/100 [00:00<00:00, 391.19it/s]\n"
          ]
        },
        {
          "output_type": "stream",
          "name": "stdout",
          "text": [
            "accuray=0.69\n"
          ]
        },
        {
          "output_type": "stream",
          "name": "stderr",
          "text": [
            "epoch 86: 100%|██████████| 200/200 [00:02<00:00, 89.00it/s, loss=0.34]\n",
            "100%|██████████| 100/100 [00:00<00:00, 299.32it/s]\n"
          ]
        },
        {
          "output_type": "stream",
          "name": "stdout",
          "text": [
            "accuray=0.53\n"
          ]
        },
        {
          "output_type": "stream",
          "name": "stderr",
          "text": [
            "epoch 87: 100%|██████████| 200/200 [00:02<00:00, 72.46it/s, loss=0.345]\n",
            "100%|██████████| 100/100 [00:00<00:00, 382.05it/s]\n"
          ]
        },
        {
          "output_type": "stream",
          "name": "stdout",
          "text": [
            "accuray=0.53\n"
          ]
        },
        {
          "output_type": "stream",
          "name": "stderr",
          "text": [
            "epoch 88: 100%|██████████| 200/200 [00:02<00:00, 92.43it/s, loss=0.346]\n",
            "100%|██████████| 100/100 [00:00<00:00, 366.54it/s]\n"
          ]
        },
        {
          "output_type": "stream",
          "name": "stdout",
          "text": [
            "accuray=0.5\n"
          ]
        },
        {
          "output_type": "stream",
          "name": "stderr",
          "text": [
            "epoch 89: 100%|██████████| 200/200 [00:02<00:00, 96.03it/s, loss=0.363]\n",
            "100%|██████████| 100/100 [00:00<00:00, 393.88it/s]\n"
          ]
        },
        {
          "output_type": "stream",
          "name": "stdout",
          "text": [
            "accuray=0.47\n"
          ]
        },
        {
          "output_type": "stream",
          "name": "stderr",
          "text": [
            "epoch 90: 100%|██████████| 200/200 [00:02<00:00, 94.61it/s, loss=0.318]\n",
            "100%|██████████| 100/100 [00:00<00:00, 397.13it/s]\n"
          ]
        },
        {
          "output_type": "stream",
          "name": "stdout",
          "text": [
            "accuray=0.52\n"
          ]
        },
        {
          "output_type": "stream",
          "name": "stderr",
          "text": [
            "epoch 91: 100%|██████████| 200/200 [00:02<00:00, 94.49it/s, loss=0.277]\n",
            "100%|██████████| 100/100 [00:00<00:00, 282.03it/s]\n"
          ]
        },
        {
          "output_type": "stream",
          "name": "stdout",
          "text": [
            "accuray=0.58\n"
          ]
        },
        {
          "output_type": "stream",
          "name": "stderr",
          "text": [
            "epoch 92: 100%|██████████| 200/200 [00:02<00:00, 69.45it/s, loss=0.324]\n",
            "100%|██████████| 100/100 [00:00<00:00, 381.02it/s]\n"
          ]
        },
        {
          "output_type": "stream",
          "name": "stdout",
          "text": [
            "accuray=0.59\n"
          ]
        },
        {
          "output_type": "stream",
          "name": "stderr",
          "text": [
            "epoch 93: 100%|██████████| 200/200 [00:02<00:00, 96.58it/s, loss=0.34]\n",
            "100%|██████████| 100/100 [00:00<00:00, 384.85it/s]\n"
          ]
        },
        {
          "output_type": "stream",
          "name": "stdout",
          "text": [
            "accuray=0.53\n"
          ]
        },
        {
          "output_type": "stream",
          "name": "stderr",
          "text": [
            "epoch 94: 100%|██████████| 200/200 [00:02<00:00, 89.93it/s, loss=0.334]\n",
            "100%|██████████| 100/100 [00:00<00:00, 395.37it/s]\n"
          ]
        },
        {
          "output_type": "stream",
          "name": "stdout",
          "text": [
            "accuray=0.6\n"
          ]
        },
        {
          "output_type": "stream",
          "name": "stderr",
          "text": [
            "epoch 95: 100%|██████████| 200/200 [00:02<00:00, 87.39it/s, loss=0.354]\n",
            "100%|██████████| 100/100 [00:00<00:00, 350.67it/s]\n"
          ]
        },
        {
          "output_type": "stream",
          "name": "stdout",
          "text": [
            "accuray=0.58\n"
          ]
        },
        {
          "output_type": "stream",
          "name": "stderr",
          "text": [
            "epoch 96: 100%|██████████| 200/200 [00:02<00:00, 89.42it/s, loss=0.312]\n",
            "100%|██████████| 100/100 [00:00<00:00, 286.77it/s]\n"
          ]
        },
        {
          "output_type": "stream",
          "name": "stdout",
          "text": [
            "accuray=0.61\n"
          ]
        },
        {
          "output_type": "stream",
          "name": "stderr",
          "text": [
            "epoch 97: 100%|██████████| 200/200 [00:02<00:00, 67.87it/s, loss=0.293]\n",
            "100%|██████████| 100/100 [00:00<00:00, 387.22it/s]\n"
          ]
        },
        {
          "output_type": "stream",
          "name": "stdout",
          "text": [
            "accuray=0.59\n"
          ]
        },
        {
          "output_type": "stream",
          "name": "stderr",
          "text": [
            "epoch 98: 100%|██████████| 200/200 [00:02<00:00, 93.22it/s, loss=0.288]\n",
            "100%|██████████| 100/100 [00:00<00:00, 374.77it/s]\n"
          ]
        },
        {
          "output_type": "stream",
          "name": "stdout",
          "text": [
            "accuray=0.52\n"
          ]
        },
        {
          "output_type": "stream",
          "name": "stderr",
          "text": [
            "epoch 99: 100%|██████████| 200/200 [00:02<00:00, 92.37it/s, loss=0.326]\n",
            "100%|██████████| 100/100 [00:00<00:00, 382.46it/s]\n"
          ]
        },
        {
          "output_type": "stream",
          "name": "stdout",
          "text": [
            "accuray=0.52\n"
          ]
        },
        {
          "output_type": "stream",
          "name": "stderr",
          "text": [
            "epoch 100: 100%|██████████| 200/200 [00:02<00:00, 94.00it/s, loss=0.386]\n",
            "100%|██████████| 100/100 [00:00<00:00, 374.02it/s]\n"
          ]
        },
        {
          "output_type": "stream",
          "name": "stdout",
          "text": [
            "accuray=0.56\n"
          ]
        },
        {
          "output_type": "stream",
          "name": "stderr",
          "text": [
            "epoch 101: 100%|██████████| 200/200 [00:02<00:00, 94.55it/s, loss=0.316]\n",
            "100%|██████████| 100/100 [00:00<00:00, 309.92it/s]\n"
          ]
        },
        {
          "output_type": "stream",
          "name": "stdout",
          "text": [
            "accuray=0.6\n"
          ]
        },
        {
          "output_type": "stream",
          "name": "stderr",
          "text": [
            "epoch 102: 100%|██████████| 200/200 [00:03<00:00, 66.33it/s, loss=0.35]\n",
            "100%|██████████| 100/100 [00:00<00:00, 381.26it/s]\n"
          ]
        },
        {
          "output_type": "stream",
          "name": "stdout",
          "text": [
            "accuray=0.56\n"
          ]
        },
        {
          "output_type": "stream",
          "name": "stderr",
          "text": [
            "epoch 103: 100%|██████████| 200/200 [00:02<00:00, 92.37it/s, loss=0.363]\n",
            "100%|██████████| 100/100 [00:00<00:00, 386.83it/s]\n"
          ]
        },
        {
          "output_type": "stream",
          "name": "stdout",
          "text": [
            "accuray=0.57\n"
          ]
        },
        {
          "output_type": "stream",
          "name": "stderr",
          "text": [
            "epoch 104: 100%|██████████| 200/200 [00:02<00:00, 92.11it/s, loss=0.369]\n",
            "100%|██████████| 100/100 [00:00<00:00, 377.13it/s]\n"
          ]
        },
        {
          "output_type": "stream",
          "name": "stdout",
          "text": [
            "accuray=0.49\n"
          ]
        },
        {
          "output_type": "stream",
          "name": "stderr",
          "text": [
            "epoch 105: 100%|██████████| 200/200 [00:02<00:00, 94.05it/s, loss=0.318]\n",
            "100%|██████████| 100/100 [00:00<00:00, 400.63it/s]\n"
          ]
        },
        {
          "output_type": "stream",
          "name": "stdout",
          "text": [
            "accuray=0.61\n"
          ]
        },
        {
          "output_type": "stream",
          "name": "stderr",
          "text": [
            "epoch 106: 100%|██████████| 200/200 [00:02<00:00, 92.00it/s, loss=0.317]\n",
            "100%|██████████| 100/100 [00:00<00:00, 368.15it/s]\n"
          ]
        },
        {
          "output_type": "stream",
          "name": "stdout",
          "text": [
            "accuray=0.6\n"
          ]
        },
        {
          "output_type": "stream",
          "name": "stderr",
          "text": [
            "epoch 107: 100%|██████████| 200/200 [00:03<00:00, 63.78it/s, loss=0.31]\n",
            "100%|██████████| 100/100 [00:00<00:00, 379.35it/s]\n"
          ]
        },
        {
          "output_type": "stream",
          "name": "stdout",
          "text": [
            "accuray=0.58\n"
          ]
        },
        {
          "output_type": "stream",
          "name": "stderr",
          "text": [
            "epoch 108: 100%|██████████| 200/200 [00:02<00:00, 93.87it/s, loss=0.289]\n",
            "100%|██████████| 100/100 [00:00<00:00, 381.32it/s]\n"
          ]
        },
        {
          "output_type": "stream",
          "name": "stdout",
          "text": [
            "accuray=0.62\n"
          ]
        },
        {
          "output_type": "stream",
          "name": "stderr",
          "text": [
            "epoch 109: 100%|██████████| 200/200 [00:02<00:00, 93.08it/s, loss=0.314]\n",
            "100%|██████████| 100/100 [00:00<00:00, 378.47it/s]\n"
          ]
        },
        {
          "output_type": "stream",
          "name": "stdout",
          "text": [
            "accuray=0.62\n"
          ]
        },
        {
          "output_type": "stream",
          "name": "stderr",
          "text": [
            "epoch 110: 100%|██████████| 200/200 [00:02<00:00, 93.26it/s, loss=0.313]\n",
            "100%|██████████| 100/100 [00:00<00:00, 387.05it/s]\n"
          ]
        },
        {
          "output_type": "stream",
          "name": "stdout",
          "text": [
            "accuray=0.53\n"
          ]
        },
        {
          "output_type": "stream",
          "name": "stderr",
          "text": [
            "epoch 111: 100%|██████████| 200/200 [00:02<00:00, 91.69it/s, loss=0.297]\n",
            "100%|██████████| 100/100 [00:00<00:00, 386.88it/s]\n"
          ]
        },
        {
          "output_type": "stream",
          "name": "stdout",
          "text": [
            "accuray=0.55\n"
          ]
        },
        {
          "output_type": "stream",
          "name": "stderr",
          "text": [
            "epoch 112: 100%|██████████| 200/200 [00:03<00:00, 66.55it/s, loss=0.286]\n",
            "100%|██████████| 100/100 [00:00<00:00, 298.39it/s]\n"
          ]
        },
        {
          "output_type": "stream",
          "name": "stdout",
          "text": [
            "accuray=0.62\n"
          ]
        },
        {
          "output_type": "stream",
          "name": "stderr",
          "text": [
            "epoch 113: 100%|██████████| 200/200 [00:02<00:00, 93.96it/s, loss=0.219]\n",
            "100%|██████████| 100/100 [00:00<00:00, 409.06it/s]\n"
          ]
        },
        {
          "output_type": "stream",
          "name": "stdout",
          "text": [
            "accuray=0.72\n"
          ]
        },
        {
          "output_type": "stream",
          "name": "stderr",
          "text": [
            "epoch 114: 100%|██████████| 200/200 [00:02<00:00, 93.86it/s, loss=0.242]\n",
            "100%|██████████| 100/100 [00:00<00:00, 405.86it/s]\n"
          ]
        },
        {
          "output_type": "stream",
          "name": "stdout",
          "text": [
            "accuray=0.6\n"
          ]
        },
        {
          "output_type": "stream",
          "name": "stderr",
          "text": [
            "epoch 115: 100%|██████████| 200/200 [00:02<00:00, 94.64it/s, loss=0.232]\n",
            "100%|██████████| 100/100 [00:00<00:00, 382.80it/s]\n"
          ]
        },
        {
          "output_type": "stream",
          "name": "stdout",
          "text": [
            "accuray=0.56\n"
          ]
        },
        {
          "output_type": "stream",
          "name": "stderr",
          "text": [
            "epoch 116: 100%|██████████| 200/200 [00:02<00:00, 93.87it/s, loss=0.29]\n",
            "100%|██████████| 100/100 [00:00<00:00, 418.41it/s]\n"
          ]
        },
        {
          "output_type": "stream",
          "name": "stdout",
          "text": [
            "accuray=0.56\n"
          ]
        },
        {
          "output_type": "stream",
          "name": "stderr",
          "text": [
            "epoch 117: 100%|██████████| 200/200 [00:02<00:00, 68.10it/s, loss=0.304]\n",
            "100%|██████████| 100/100 [00:00<00:00, 257.29it/s]\n"
          ]
        },
        {
          "output_type": "stream",
          "name": "stdout",
          "text": [
            "accuray=0.61\n"
          ]
        },
        {
          "output_type": "stream",
          "name": "stderr",
          "text": [
            "epoch 118: 100%|██████████| 200/200 [00:02<00:00, 92.02it/s, loss=0.262]\n",
            "100%|██████████| 100/100 [00:00<00:00, 388.67it/s]\n"
          ]
        },
        {
          "output_type": "stream",
          "name": "stdout",
          "text": [
            "accuray=0.56\n"
          ]
        },
        {
          "output_type": "stream",
          "name": "stderr",
          "text": [
            "epoch 119: 100%|██████████| 200/200 [00:02<00:00, 94.63it/s, loss=0.3]\n",
            "100%|██████████| 100/100 [00:00<00:00, 381.62it/s]\n"
          ]
        },
        {
          "output_type": "stream",
          "name": "stdout",
          "text": [
            "accuray=0.6\n"
          ]
        },
        {
          "output_type": "stream",
          "name": "stderr",
          "text": [
            "epoch 120: 100%|██████████| 200/200 [00:02<00:00, 96.04it/s, loss=0.29]\n",
            "100%|██████████| 100/100 [00:00<00:00, 391.30it/s]\n"
          ]
        },
        {
          "output_type": "stream",
          "name": "stdout",
          "text": [
            "accuray=0.61\n"
          ]
        },
        {
          "output_type": "stream",
          "name": "stderr",
          "text": [
            "epoch 121: 100%|██████████| 200/200 [00:02<00:00, 93.70it/s, loss=0.278]\n",
            "100%|██████████| 100/100 [00:00<00:00, 404.72it/s]\n"
          ]
        },
        {
          "output_type": "stream",
          "name": "stdout",
          "text": [
            "accuray=0.55\n"
          ]
        },
        {
          "output_type": "stream",
          "name": "stderr",
          "text": [
            "epoch 122: 100%|██████████| 200/200 [00:02<00:00, 71.69it/s, loss=0.256]\n",
            "100%|██████████| 100/100 [00:00<00:00, 262.57it/s]\n"
          ]
        },
        {
          "output_type": "stream",
          "name": "stdout",
          "text": [
            "accuray=0.61\n"
          ]
        },
        {
          "output_type": "stream",
          "name": "stderr",
          "text": [
            "epoch 123: 100%|██████████| 200/200 [00:02<00:00, 86.04it/s, loss=0.228]\n",
            "100%|██████████| 100/100 [00:00<00:00, 395.32it/s]\n"
          ]
        },
        {
          "output_type": "stream",
          "name": "stdout",
          "text": [
            "accuray=0.64\n"
          ]
        },
        {
          "output_type": "stream",
          "name": "stderr",
          "text": [
            "epoch 124: 100%|██████████| 200/200 [00:02<00:00, 95.91it/s, loss=0.26]\n",
            "100%|██████████| 100/100 [00:00<00:00, 391.35it/s]\n"
          ]
        },
        {
          "output_type": "stream",
          "name": "stdout",
          "text": [
            "accuray=0.5\n"
          ]
        },
        {
          "output_type": "stream",
          "name": "stderr",
          "text": [
            "epoch 125: 100%|██████████| 200/200 [00:02<00:00, 93.67it/s, loss=0.283]\n",
            "100%|██████████| 100/100 [00:00<00:00, 393.42it/s]\n"
          ]
        },
        {
          "output_type": "stream",
          "name": "stdout",
          "text": [
            "accuray=0.66\n"
          ]
        },
        {
          "output_type": "stream",
          "name": "stderr",
          "text": [
            "epoch 126: 100%|██████████| 200/200 [00:02<00:00, 93.45it/s, loss=0.265]\n",
            "100%|██████████| 100/100 [00:00<00:00, 398.57it/s]\n"
          ]
        },
        {
          "output_type": "stream",
          "name": "stdout",
          "text": [
            "accuray=0.57\n"
          ]
        },
        {
          "output_type": "stream",
          "name": "stderr",
          "text": [
            "epoch 127: 100%|██████████| 200/200 [00:02<00:00, 76.91it/s, loss=0.283]\n",
            "100%|██████████| 100/100 [00:00<00:00, 294.02it/s]\n"
          ]
        },
        {
          "output_type": "stream",
          "name": "stdout",
          "text": [
            "accuray=0.61\n"
          ]
        },
        {
          "output_type": "stream",
          "name": "stderr",
          "text": [
            "epoch 128: 100%|██████████| 200/200 [00:02<00:00, 80.83it/s, loss=0.271]\n",
            "100%|██████████| 100/100 [00:00<00:00, 399.73it/s]\n"
          ]
        },
        {
          "output_type": "stream",
          "name": "stdout",
          "text": [
            "accuray=0.55\n"
          ]
        },
        {
          "output_type": "stream",
          "name": "stderr",
          "text": [
            "epoch 129: 100%|██████████| 200/200 [00:02<00:00, 94.19it/s, loss=0.258]\n",
            "100%|██████████| 100/100 [00:00<00:00, 376.78it/s]\n"
          ]
        },
        {
          "output_type": "stream",
          "name": "stdout",
          "text": [
            "accuray=0.62\n"
          ]
        },
        {
          "output_type": "stream",
          "name": "stderr",
          "text": [
            "epoch 130: 100%|██████████| 200/200 [00:02<00:00, 96.38it/s, loss=0.239]\n",
            "100%|██████████| 100/100 [00:00<00:00, 373.96it/s]\n"
          ]
        },
        {
          "output_type": "stream",
          "name": "stdout",
          "text": [
            "accuray=0.53\n"
          ]
        },
        {
          "output_type": "stream",
          "name": "stderr",
          "text": [
            "epoch 131: 100%|██████████| 200/200 [00:02<00:00, 94.61it/s, loss=0.271]\n",
            "100%|██████████| 100/100 [00:00<00:00, 408.39it/s]\n"
          ]
        },
        {
          "output_type": "stream",
          "name": "stdout",
          "text": [
            "accuray=0.63\n"
          ]
        },
        {
          "output_type": "stream",
          "name": "stderr",
          "text": [
            "epoch 132: 100%|██████████| 200/200 [00:02<00:00, 81.06it/s, loss=0.253]\n",
            "100%|██████████| 100/100 [00:00<00:00, 292.26it/s]\n"
          ]
        },
        {
          "output_type": "stream",
          "name": "stdout",
          "text": [
            "accuray=0.59\n"
          ]
        },
        {
          "output_type": "stream",
          "name": "stderr",
          "text": [
            "epoch 133: 100%|██████████| 200/200 [00:02<00:00, 74.76it/s, loss=0.269]\n",
            "100%|██████████| 100/100 [00:00<00:00, 362.36it/s]\n"
          ]
        },
        {
          "output_type": "stream",
          "name": "stdout",
          "text": [
            "accuray=0.56\n"
          ]
        },
        {
          "output_type": "stream",
          "name": "stderr",
          "text": [
            "epoch 134: 100%|██████████| 200/200 [00:02<00:00, 94.60it/s, loss=0.266]\n",
            "100%|██████████| 100/100 [00:00<00:00, 393.36it/s]\n"
          ]
        },
        {
          "output_type": "stream",
          "name": "stdout",
          "text": [
            "accuray=0.62\n"
          ]
        },
        {
          "output_type": "stream",
          "name": "stderr",
          "text": [
            "epoch 135: 100%|██████████| 200/200 [00:02<00:00, 94.10it/s, loss=0.244]\n",
            "100%|██████████| 100/100 [00:00<00:00, 397.22it/s]\n"
          ]
        },
        {
          "output_type": "stream",
          "name": "stdout",
          "text": [
            "accuray=0.52\n"
          ]
        },
        {
          "output_type": "stream",
          "name": "stderr",
          "text": [
            "epoch 136: 100%|██████████| 200/200 [00:02<00:00, 94.46it/s, loss=0.256]\n",
            "100%|██████████| 100/100 [00:00<00:00, 396.78it/s]\n"
          ]
        },
        {
          "output_type": "stream",
          "name": "stdout",
          "text": [
            "accuray=0.65\n"
          ]
        },
        {
          "output_type": "stream",
          "name": "stderr",
          "text": [
            "epoch 137: 100%|██████████| 200/200 [00:02<00:00, 84.41it/s, loss=0.25]\n",
            "100%|██████████| 100/100 [00:00<00:00, 293.49it/s]\n"
          ]
        },
        {
          "output_type": "stream",
          "name": "stdout",
          "text": [
            "accuray=0.63\n"
          ]
        },
        {
          "output_type": "stream",
          "name": "stderr",
          "text": [
            "epoch 138: 100%|██████████| 200/200 [00:02<00:00, 74.75it/s, loss=0.234]\n",
            "100%|██████████| 100/100 [00:00<00:00, 392.93it/s]\n"
          ]
        },
        {
          "output_type": "stream",
          "name": "stdout",
          "text": [
            "accuray=0.75\n"
          ]
        },
        {
          "output_type": "stream",
          "name": "stderr",
          "text": [
            "epoch 139: 100%|██████████| 200/200 [00:02<00:00, 94.80it/s, loss=0.208]\n",
            "100%|██████████| 100/100 [00:00<00:00, 399.86it/s]\n"
          ]
        },
        {
          "output_type": "stream",
          "name": "stdout",
          "text": [
            "accuray=0.6\n"
          ]
        },
        {
          "output_type": "stream",
          "name": "stderr",
          "text": [
            "epoch 140: 100%|██████████| 200/200 [00:02<00:00, 95.12it/s, loss=0.22]\n",
            "100%|██████████| 100/100 [00:00<00:00, 396.06it/s]\n"
          ]
        },
        {
          "output_type": "stream",
          "name": "stdout",
          "text": [
            "accuray=0.71\n"
          ]
        },
        {
          "output_type": "stream",
          "name": "stderr",
          "text": [
            "epoch 141: 100%|██████████| 200/200 [00:02<00:00, 94.55it/s, loss=0.326]\n",
            "100%|██████████| 100/100 [00:00<00:00, 367.00it/s]\n"
          ]
        },
        {
          "output_type": "stream",
          "name": "stdout",
          "text": [
            "accuray=0.58\n"
          ]
        },
        {
          "output_type": "stream",
          "name": "stderr",
          "text": [
            "epoch 142: 100%|██████████| 200/200 [00:02<00:00, 91.66it/s, loss=0.2]\n",
            "100%|██████████| 100/100 [00:00<00:00, 295.43it/s]\n"
          ]
        },
        {
          "output_type": "stream",
          "name": "stdout",
          "text": [
            "accuray=0.53\n"
          ]
        },
        {
          "output_type": "stream",
          "name": "stderr",
          "text": [
            "epoch 143: 100%|██████████| 200/200 [00:02<00:00, 69.36it/s, loss=0.22]\n",
            "100%|██████████| 100/100 [00:00<00:00, 373.37it/s]\n"
          ]
        },
        {
          "output_type": "stream",
          "name": "stdout",
          "text": [
            "accuray=0.63\n"
          ]
        },
        {
          "output_type": "stream",
          "name": "stderr",
          "text": [
            "epoch 144: 100%|██████████| 200/200 [00:02<00:00, 95.58it/s, loss=0.26]\n",
            "100%|██████████| 100/100 [00:00<00:00, 388.35it/s]\n"
          ]
        },
        {
          "output_type": "stream",
          "name": "stdout",
          "text": [
            "accuray=0.57\n"
          ]
        },
        {
          "output_type": "stream",
          "name": "stderr",
          "text": [
            "epoch 145: 100%|██████████| 200/200 [00:02<00:00, 94.44it/s, loss=0.232]\n",
            "100%|██████████| 100/100 [00:00<00:00, 404.09it/s]\n"
          ]
        },
        {
          "output_type": "stream",
          "name": "stdout",
          "text": [
            "accuray=0.58\n"
          ]
        },
        {
          "output_type": "stream",
          "name": "stderr",
          "text": [
            "epoch 146: 100%|██████████| 200/200 [00:02<00:00, 93.46it/s, loss=0.244]\n",
            "100%|██████████| 100/100 [00:00<00:00, 369.33it/s]\n"
          ]
        },
        {
          "output_type": "stream",
          "name": "stdout",
          "text": [
            "accuray=0.72\n"
          ]
        },
        {
          "output_type": "stream",
          "name": "stderr",
          "text": [
            "epoch 147: 100%|██████████| 200/200 [00:02<00:00, 92.32it/s, loss=0.239]\n",
            "100%|██████████| 100/100 [00:00<00:00, 326.72it/s]\n"
          ]
        },
        {
          "output_type": "stream",
          "name": "stdout",
          "text": [
            "accuray=0.63\n"
          ]
        },
        {
          "output_type": "stream",
          "name": "stderr",
          "text": [
            "epoch 148: 100%|██████████| 200/200 [00:02<00:00, 67.68it/s, loss=0.228]\n",
            "100%|██████████| 100/100 [00:00<00:00, 353.02it/s]\n"
          ]
        },
        {
          "output_type": "stream",
          "name": "stdout",
          "text": [
            "accuray=0.69\n"
          ]
        },
        {
          "output_type": "stream",
          "name": "stderr",
          "text": [
            "epoch 149: 100%|██████████| 200/200 [00:02<00:00, 94.50it/s, loss=0.232]\n",
            "100%|██████████| 100/100 [00:00<00:00, 370.83it/s]\n"
          ]
        },
        {
          "output_type": "stream",
          "name": "stdout",
          "text": [
            "accuray=0.6\n"
          ]
        },
        {
          "output_type": "stream",
          "name": "stderr",
          "text": [
            "epoch 150: 100%|██████████| 200/200 [00:02<00:00, 94.17it/s, loss=0.188]\n",
            "100%|██████████| 100/100 [00:00<00:00, 389.41it/s]\n"
          ]
        },
        {
          "output_type": "stream",
          "name": "stdout",
          "text": [
            "accuray=0.59\n"
          ]
        },
        {
          "output_type": "stream",
          "name": "stderr",
          "text": [
            "epoch 151: 100%|██████████| 200/200 [00:02<00:00, 93.57it/s, loss=0.258]\n",
            "100%|██████████| 100/100 [00:00<00:00, 404.50it/s]\n"
          ]
        },
        {
          "output_type": "stream",
          "name": "stdout",
          "text": [
            "accuray=0.65\n"
          ]
        },
        {
          "output_type": "stream",
          "name": "stderr",
          "text": [
            "epoch 152: 100%|██████████| 200/200 [00:02<00:00, 92.56it/s, loss=0.202]\n",
            "100%|██████████| 100/100 [00:00<00:00, 378.33it/s]\n"
          ]
        },
        {
          "output_type": "stream",
          "name": "stdout",
          "text": [
            "accuray=0.59\n"
          ]
        },
        {
          "output_type": "stream",
          "name": "stderr",
          "text": [
            "epoch 153: 100%|██████████| 200/200 [00:02<00:00, 67.75it/s, loss=0.251]\n",
            "100%|██████████| 100/100 [00:00<00:00, 267.80it/s]\n"
          ]
        },
        {
          "output_type": "stream",
          "name": "stdout",
          "text": [
            "accuray=0.6\n"
          ]
        },
        {
          "output_type": "stream",
          "name": "stderr",
          "text": [
            "epoch 154: 100%|██████████| 200/200 [00:02<00:00, 90.74it/s, loss=0.174]\n",
            "100%|██████████| 100/100 [00:00<00:00, 396.32it/s]\n"
          ]
        },
        {
          "output_type": "stream",
          "name": "stdout",
          "text": [
            "accuray=0.61\n"
          ]
        },
        {
          "output_type": "stream",
          "name": "stderr",
          "text": [
            "epoch 155: 100%|██████████| 200/200 [00:02<00:00, 90.83it/s, loss=0.222]\n",
            "100%|██████████| 100/100 [00:00<00:00, 367.44it/s]\n"
          ]
        },
        {
          "output_type": "stream",
          "name": "stdout",
          "text": [
            "accuray=0.64\n"
          ]
        },
        {
          "output_type": "stream",
          "name": "stderr",
          "text": [
            "epoch 156: 100%|██████████| 200/200 [00:02<00:00, 93.13it/s, loss=0.273]\n",
            "100%|██████████| 100/100 [00:00<00:00, 391.28it/s]\n"
          ]
        },
        {
          "output_type": "stream",
          "name": "stdout",
          "text": [
            "accuray=0.63\n"
          ]
        },
        {
          "output_type": "stream",
          "name": "stderr",
          "text": [
            "epoch 157: 100%|██████████| 200/200 [00:02<00:00, 90.89it/s, loss=0.224]\n",
            "100%|██████████| 100/100 [00:00<00:00, 368.82it/s]\n"
          ]
        },
        {
          "output_type": "stream",
          "name": "stdout",
          "text": [
            "accuray=0.5\n"
          ]
        },
        {
          "output_type": "stream",
          "name": "stderr",
          "text": [
            "epoch 158: 100%|██████████| 200/200 [00:02<00:00, 68.09it/s, loss=0.238]\n",
            "100%|██████████| 100/100 [00:00<00:00, 262.63it/s]\n"
          ]
        },
        {
          "output_type": "stream",
          "name": "stdout",
          "text": [
            "accuray=0.7\n"
          ]
        },
        {
          "output_type": "stream",
          "name": "stderr",
          "text": [
            "epoch 159: 100%|██████████| 200/200 [00:02<00:00, 90.96it/s, loss=0.236]\n",
            "100%|██████████| 100/100 [00:00<00:00, 389.23it/s]\n"
          ]
        },
        {
          "output_type": "stream",
          "name": "stdout",
          "text": [
            "accuray=0.56\n"
          ]
        },
        {
          "output_type": "stream",
          "name": "stderr",
          "text": [
            "epoch 160: 100%|██████████| 200/200 [00:02<00:00, 94.75it/s, loss=0.209]\n",
            "100%|██████████| 100/100 [00:00<00:00, 394.27it/s]\n"
          ]
        },
        {
          "output_type": "stream",
          "name": "stdout",
          "text": [
            "accuray=0.61\n"
          ]
        },
        {
          "output_type": "stream",
          "name": "stderr",
          "text": [
            "epoch 161: 100%|██████████| 200/200 [00:02<00:00, 93.61it/s, loss=0.187]\n",
            "100%|██████████| 100/100 [00:00<00:00, 409.26it/s]\n"
          ]
        },
        {
          "output_type": "stream",
          "name": "stdout",
          "text": [
            "accuray=0.69\n"
          ]
        },
        {
          "output_type": "stream",
          "name": "stderr",
          "text": [
            "epoch 162: 100%|██████████| 200/200 [00:02<00:00, 94.11it/s, loss=0.209]\n",
            "100%|██████████| 100/100 [00:00<00:00, 410.75it/s]\n"
          ]
        },
        {
          "output_type": "stream",
          "name": "stdout",
          "text": [
            "accuray=0.6\n"
          ]
        },
        {
          "output_type": "stream",
          "name": "stderr",
          "text": [
            "epoch 163: 100%|██████████| 200/200 [00:02<00:00, 72.22it/s, loss=0.228]\n",
            "100%|██████████| 100/100 [00:00<00:00, 264.42it/s]\n"
          ]
        },
        {
          "output_type": "stream",
          "name": "stdout",
          "text": [
            "accuray=0.62\n"
          ]
        },
        {
          "output_type": "stream",
          "name": "stderr",
          "text": [
            "epoch 164: 100%|██████████| 200/200 [00:02<00:00, 86.80it/s, loss=0.226]\n",
            "100%|██████████| 100/100 [00:00<00:00, 386.82it/s]\n"
          ]
        },
        {
          "output_type": "stream",
          "name": "stdout",
          "text": [
            "accuray=0.62\n"
          ]
        },
        {
          "output_type": "stream",
          "name": "stderr",
          "text": [
            "epoch 165: 100%|██████████| 200/200 [00:02<00:00, 93.12it/s, loss=0.161]\n",
            "100%|██████████| 100/100 [00:00<00:00, 395.22it/s]\n"
          ]
        },
        {
          "output_type": "stream",
          "name": "stdout",
          "text": [
            "accuray=0.66\n"
          ]
        },
        {
          "output_type": "stream",
          "name": "stderr",
          "text": [
            "epoch 166: 100%|██████████| 200/200 [00:02<00:00, 92.60it/s, loss=0.24]\n",
            "100%|██████████| 100/100 [00:00<00:00, 384.12it/s]\n"
          ]
        },
        {
          "output_type": "stream",
          "name": "stdout",
          "text": [
            "accuray=0.59\n"
          ]
        },
        {
          "output_type": "stream",
          "name": "stderr",
          "text": [
            "epoch 167: 100%|██████████| 200/200 [00:02<00:00, 94.45it/s, loss=0.21]\n",
            "100%|██████████| 100/100 [00:00<00:00, 386.18it/s]\n"
          ]
        },
        {
          "output_type": "stream",
          "name": "stdout",
          "text": [
            "accuray=0.58\n"
          ]
        },
        {
          "output_type": "stream",
          "name": "stderr",
          "text": [
            "epoch 168: 100%|██████████| 200/200 [00:02<00:00, 76.59it/s, loss=0.127]\n",
            "100%|██████████| 100/100 [00:00<00:00, 327.47it/s]\n"
          ]
        },
        {
          "output_type": "stream",
          "name": "stdout",
          "text": [
            "accuray=0.61\n"
          ]
        },
        {
          "output_type": "stream",
          "name": "stderr",
          "text": [
            "epoch 169: 100%|██████████| 200/200 [00:02<00:00, 79.97it/s, loss=0.201]\n",
            "100%|██████████| 100/100 [00:00<00:00, 393.95it/s]\n"
          ]
        },
        {
          "output_type": "stream",
          "name": "stdout",
          "text": [
            "accuray=0.59\n"
          ]
        },
        {
          "output_type": "stream",
          "name": "stderr",
          "text": [
            "epoch 170: 100%|██████████| 200/200 [00:02<00:00, 92.12it/s, loss=0.171]\n",
            "100%|██████████| 100/100 [00:00<00:00, 392.94it/s]\n"
          ]
        },
        {
          "output_type": "stream",
          "name": "stdout",
          "text": [
            "accuray=0.71\n"
          ]
        },
        {
          "output_type": "stream",
          "name": "stderr",
          "text": [
            "epoch 171: 100%|██████████| 200/200 [00:02<00:00, 94.56it/s, loss=0.201]\n",
            "100%|██████████| 100/100 [00:00<00:00, 402.58it/s]\n"
          ]
        },
        {
          "output_type": "stream",
          "name": "stdout",
          "text": [
            "accuray=0.59\n"
          ]
        },
        {
          "output_type": "stream",
          "name": "stderr",
          "text": [
            "epoch 172: 100%|██████████| 200/200 [00:02<00:00, 95.37it/s, loss=0.187]\n",
            "100%|██████████| 100/100 [00:00<00:00, 384.05it/s]\n"
          ]
        },
        {
          "output_type": "stream",
          "name": "stdout",
          "text": [
            "accuray=0.51\n"
          ]
        },
        {
          "output_type": "stream",
          "name": "stderr",
          "text": [
            "epoch 173: 100%|██████████| 200/200 [00:02<00:00, 80.94it/s, loss=0.188]\n",
            "100%|██████████| 100/100 [00:00<00:00, 298.70it/s]\n"
          ]
        },
        {
          "output_type": "stream",
          "name": "stdout",
          "text": [
            "accuray=0.6\n"
          ]
        },
        {
          "output_type": "stream",
          "name": "stderr",
          "text": [
            "epoch 174: 100%|██████████| 200/200 [00:02<00:00, 75.87it/s, loss=0.241]\n",
            "100%|██████████| 100/100 [00:00<00:00, 367.15it/s]\n"
          ]
        },
        {
          "output_type": "stream",
          "name": "stdout",
          "text": [
            "accuray=0.6\n"
          ]
        },
        {
          "output_type": "stream",
          "name": "stderr",
          "text": [
            "epoch 175: 100%|██████████| 200/200 [00:02<00:00, 93.17it/s, loss=0.17]\n",
            "100%|██████████| 100/100 [00:00<00:00, 391.05it/s]\n"
          ]
        },
        {
          "output_type": "stream",
          "name": "stdout",
          "text": [
            "accuray=0.66\n"
          ]
        },
        {
          "output_type": "stream",
          "name": "stderr",
          "text": [
            "epoch 176: 100%|██████████| 200/200 [00:02<00:00, 94.43it/s, loss=0.211]\n",
            "100%|██████████| 100/100 [00:00<00:00, 389.13it/s]\n"
          ]
        },
        {
          "output_type": "stream",
          "name": "stdout",
          "text": [
            "accuray=0.6\n"
          ]
        },
        {
          "output_type": "stream",
          "name": "stderr",
          "text": [
            "epoch 177: 100%|██████████| 200/200 [00:02<00:00, 94.11it/s, loss=0.139]\n",
            "100%|██████████| 100/100 [00:00<00:00, 375.71it/s]\n"
          ]
        },
        {
          "output_type": "stream",
          "name": "stdout",
          "text": [
            "accuray=0.64\n"
          ]
        },
        {
          "output_type": "stream",
          "name": "stderr",
          "text": [
            "epoch 178: 100%|██████████| 200/200 [00:02<00:00, 82.95it/s, loss=0.179]\n",
            "100%|██████████| 100/100 [00:00<00:00, 295.87it/s]\n"
          ]
        },
        {
          "output_type": "stream",
          "name": "stdout",
          "text": [
            "accuray=0.64\n"
          ]
        },
        {
          "output_type": "stream",
          "name": "stderr",
          "text": [
            "epoch 179: 100%|██████████| 200/200 [00:02<00:00, 71.25it/s, loss=0.156]\n",
            "100%|██████████| 100/100 [00:00<00:00, 386.56it/s]\n"
          ]
        },
        {
          "output_type": "stream",
          "name": "stdout",
          "text": [
            "accuray=0.66\n"
          ]
        },
        {
          "output_type": "stream",
          "name": "stderr",
          "text": [
            "epoch 180: 100%|██████████| 200/200 [00:02<00:00, 91.16it/s, loss=0.154]\n",
            "100%|██████████| 100/100 [00:00<00:00, 381.07it/s]\n"
          ]
        },
        {
          "output_type": "stream",
          "name": "stdout",
          "text": [
            "accuray=0.69\n"
          ]
        },
        {
          "output_type": "stream",
          "name": "stderr",
          "text": [
            "epoch 181: 100%|██████████| 200/200 [00:02<00:00, 93.10it/s, loss=0.175]\n",
            "100%|██████████| 100/100 [00:00<00:00, 380.65it/s]\n"
          ]
        },
        {
          "output_type": "stream",
          "name": "stdout",
          "text": [
            "accuray=0.62\n"
          ]
        },
        {
          "output_type": "stream",
          "name": "stderr",
          "text": [
            "epoch 182: 100%|██████████| 200/200 [00:02<00:00, 92.96it/s, loss=0.178]\n",
            "100%|██████████| 100/100 [00:00<00:00, 406.46it/s]\n"
          ]
        },
        {
          "output_type": "stream",
          "name": "stdout",
          "text": [
            "accuray=0.6\n"
          ]
        },
        {
          "output_type": "stream",
          "name": "stderr",
          "text": [
            "epoch 183: 100%|██████████| 200/200 [00:02<00:00, 87.88it/s, loss=0.14]\n",
            "100%|██████████| 100/100 [00:00<00:00, 285.07it/s]\n"
          ]
        },
        {
          "output_type": "stream",
          "name": "stdout",
          "text": [
            "accuray=0.61\n"
          ]
        },
        {
          "output_type": "stream",
          "name": "stderr",
          "text": [
            "epoch 184: 100%|██████████| 200/200 [00:02<00:00, 70.21it/s, loss=0.17]\n",
            "100%|██████████| 100/100 [00:00<00:00, 385.23it/s]\n"
          ]
        },
        {
          "output_type": "stream",
          "name": "stdout",
          "text": [
            "accuray=0.52\n"
          ]
        },
        {
          "output_type": "stream",
          "name": "stderr",
          "text": [
            "epoch 185: 100%|██████████| 200/200 [00:02<00:00, 94.45it/s, loss=0.18]\n",
            "100%|██████████| 100/100 [00:00<00:00, 384.58it/s]\n"
          ]
        },
        {
          "output_type": "stream",
          "name": "stdout",
          "text": [
            "accuray=0.64\n"
          ]
        },
        {
          "output_type": "stream",
          "name": "stderr",
          "text": [
            "epoch 186: 100%|██████████| 200/200 [00:02<00:00, 94.13it/s, loss=0.167]\n",
            "100%|██████████| 100/100 [00:00<00:00, 373.69it/s]\n"
          ]
        },
        {
          "output_type": "stream",
          "name": "stdout",
          "text": [
            "accuray=0.51\n"
          ]
        },
        {
          "output_type": "stream",
          "name": "stderr",
          "text": [
            "epoch 187: 100%|██████████| 200/200 [00:02<00:00, 93.92it/s, loss=0.154]\n",
            "100%|██████████| 100/100 [00:00<00:00, 385.94it/s]\n"
          ]
        },
        {
          "output_type": "stream",
          "name": "stdout",
          "text": [
            "accuray=0.6\n"
          ]
        },
        {
          "output_type": "stream",
          "name": "stderr",
          "text": [
            "epoch 188: 100%|██████████| 200/200 [00:02<00:00, 91.74it/s, loss=0.163]\n",
            "100%|██████████| 100/100 [00:00<00:00, 271.62it/s]\n"
          ]
        },
        {
          "output_type": "stream",
          "name": "stdout",
          "text": [
            "accuray=0.6\n"
          ]
        },
        {
          "output_type": "stream",
          "name": "stderr",
          "text": [
            "epoch 189: 100%|██████████| 200/200 [00:02<00:00, 67.79it/s, loss=0.153]\n",
            "100%|██████████| 100/100 [00:00<00:00, 375.18it/s]\n"
          ]
        },
        {
          "output_type": "stream",
          "name": "stdout",
          "text": [
            "accuray=0.61\n"
          ]
        },
        {
          "output_type": "stream",
          "name": "stderr",
          "text": [
            "epoch 190: 100%|██████████| 200/200 [00:02<00:00, 93.43it/s, loss=0.161]\n",
            "100%|██████████| 100/100 [00:00<00:00, 403.65it/s]\n"
          ]
        },
        {
          "output_type": "stream",
          "name": "stdout",
          "text": [
            "accuray=0.69\n"
          ]
        },
        {
          "output_type": "stream",
          "name": "stderr",
          "text": [
            "epoch 191: 100%|██████████| 200/200 [00:02<00:00, 93.03it/s, loss=0.218]\n",
            "100%|██████████| 100/100 [00:00<00:00, 404.09it/s]\n"
          ]
        },
        {
          "output_type": "stream",
          "name": "stdout",
          "text": [
            "accuray=0.62\n"
          ]
        },
        {
          "output_type": "stream",
          "name": "stderr",
          "text": [
            "epoch 192: 100%|██████████| 200/200 [00:02<00:00, 93.46it/s, loss=0.191]\n",
            "100%|██████████| 100/100 [00:00<00:00, 412.79it/s]\n"
          ]
        },
        {
          "output_type": "stream",
          "name": "stdout",
          "text": [
            "accuray=0.61\n"
          ]
        },
        {
          "output_type": "stream",
          "name": "stderr",
          "text": [
            "epoch 193: 100%|██████████| 200/200 [00:02<00:00, 94.13it/s, loss=0.145]\n",
            "100%|██████████| 100/100 [00:00<00:00, 309.69it/s]\n"
          ]
        },
        {
          "output_type": "stream",
          "name": "stdout",
          "text": [
            "accuray=0.58\n"
          ]
        },
        {
          "output_type": "stream",
          "name": "stderr",
          "text": [
            "epoch 194: 100%|██████████| 200/200 [00:03<00:00, 65.98it/s, loss=0.146]\n",
            "100%|██████████| 100/100 [00:00<00:00, 376.55it/s]\n"
          ]
        },
        {
          "output_type": "stream",
          "name": "stdout",
          "text": [
            "accuray=0.56\n"
          ]
        },
        {
          "output_type": "stream",
          "name": "stderr",
          "text": [
            "epoch 195: 100%|██████████| 200/200 [00:02<00:00, 91.86it/s, loss=0.14]\n",
            "100%|██████████| 100/100 [00:00<00:00, 392.12it/s]\n"
          ]
        },
        {
          "output_type": "stream",
          "name": "stdout",
          "text": [
            "accuray=0.65\n"
          ]
        },
        {
          "output_type": "stream",
          "name": "stderr",
          "text": [
            "epoch 196: 100%|██████████| 200/200 [00:02<00:00, 94.07it/s, loss=0.176]\n",
            "100%|██████████| 100/100 [00:00<00:00, 390.49it/s]\n"
          ]
        },
        {
          "output_type": "stream",
          "name": "stdout",
          "text": [
            "accuray=0.6\n"
          ]
        },
        {
          "output_type": "stream",
          "name": "stderr",
          "text": [
            "epoch 197: 100%|██████████| 200/200 [00:02<00:00, 93.61it/s, loss=0.167]\n",
            "100%|██████████| 100/100 [00:00<00:00, 385.41it/s]\n"
          ]
        },
        {
          "output_type": "stream",
          "name": "stdout",
          "text": [
            "accuray=0.69\n"
          ]
        },
        {
          "output_type": "stream",
          "name": "stderr",
          "text": [
            "epoch 198: 100%|██████████| 200/200 [00:02<00:00, 92.05it/s, loss=0.148]\n",
            "100%|██████████| 100/100 [00:00<00:00, 386.04it/s]\n"
          ]
        },
        {
          "output_type": "stream",
          "name": "stdout",
          "text": [
            "accuray=0.64\n"
          ]
        },
        {
          "output_type": "stream",
          "name": "stderr",
          "text": [
            "epoch 199: 100%|██████████| 200/200 [00:02<00:00, 67.96it/s, loss=0.114]\n",
            "100%|██████████| 100/100 [00:00<00:00, 256.17it/s]\n"
          ]
        },
        {
          "output_type": "stream",
          "name": "stdout",
          "text": [
            "accuray=0.69\n"
          ]
        },
        {
          "output_type": "stream",
          "name": "stderr",
          "text": [
            "epoch 200: 100%|██████████| 200/200 [00:02<00:00, 94.03it/s, loss=0.155]\n",
            "100%|██████████| 100/100 [00:00<00:00, 405.72it/s]\n"
          ]
        },
        {
          "output_type": "stream",
          "name": "stdout",
          "text": [
            "accuray=0.74\n"
          ]
        },
        {
          "output_type": "stream",
          "name": "stderr",
          "text": [
            "epoch 201: 100%|██████████| 200/200 [00:02<00:00, 93.95it/s, loss=0.14]\n",
            "100%|██████████| 100/100 [00:00<00:00, 385.76it/s]\n"
          ]
        },
        {
          "output_type": "stream",
          "name": "stdout",
          "text": [
            "accuray=0.63\n"
          ]
        },
        {
          "output_type": "stream",
          "name": "stderr",
          "text": [
            "epoch 202: 100%|██████████| 200/200 [00:02<00:00, 92.75it/s, loss=0.168]\n",
            "100%|██████████| 100/100 [00:00<00:00, 397.23it/s]\n"
          ]
        },
        {
          "output_type": "stream",
          "name": "stdout",
          "text": [
            "accuray=0.59\n"
          ]
        },
        {
          "output_type": "stream",
          "name": "stderr",
          "text": [
            "epoch 203: 100%|██████████| 200/200 [00:02<00:00, 92.43it/s, loss=0.159]\n",
            "100%|██████████| 100/100 [00:00<00:00, 386.21it/s]\n"
          ]
        },
        {
          "output_type": "stream",
          "name": "stdout",
          "text": [
            "accuray=0.61\n"
          ]
        },
        {
          "output_type": "stream",
          "name": "stderr",
          "text": [
            "epoch 204: 100%|██████████| 200/200 [00:02<00:00, 70.54it/s, loss=0.154]\n",
            "100%|██████████| 100/100 [00:00<00:00, 259.31it/s]\n"
          ]
        },
        {
          "output_type": "stream",
          "name": "stdout",
          "text": [
            "accuray=0.59\n"
          ]
        },
        {
          "output_type": "stream",
          "name": "stderr",
          "text": [
            "epoch 205: 100%|██████████| 200/200 [00:02<00:00, 86.84it/s, loss=0.159]\n",
            "100%|██████████| 100/100 [00:00<00:00, 382.32it/s]\n"
          ]
        },
        {
          "output_type": "stream",
          "name": "stdout",
          "text": [
            "accuray=0.6\n"
          ]
        },
        {
          "output_type": "stream",
          "name": "stderr",
          "text": [
            "epoch 206: 100%|██████████| 200/200 [00:02<00:00, 94.49it/s, loss=0.124]\n",
            "100%|██████████| 100/100 [00:00<00:00, 382.11it/s]\n"
          ]
        },
        {
          "output_type": "stream",
          "name": "stdout",
          "text": [
            "accuray=0.67\n"
          ]
        },
        {
          "output_type": "stream",
          "name": "stderr",
          "text": [
            "epoch 207: 100%|██████████| 200/200 [00:02<00:00, 93.38it/s, loss=0.21]\n",
            "100%|██████████| 100/100 [00:00<00:00, 350.60it/s]\n"
          ]
        },
        {
          "output_type": "stream",
          "name": "stdout",
          "text": [
            "accuray=0.45\n"
          ]
        },
        {
          "output_type": "stream",
          "name": "stderr",
          "text": [
            "epoch 208: 100%|██████████| 200/200 [00:02<00:00, 93.66it/s, loss=0.213]\n",
            "100%|██████████| 100/100 [00:00<00:00, 390.37it/s]\n"
          ]
        },
        {
          "output_type": "stream",
          "name": "stdout",
          "text": [
            "accuray=0.6\n"
          ]
        },
        {
          "output_type": "stream",
          "name": "stderr",
          "text": [
            "epoch 209: 100%|██████████| 200/200 [00:02<00:00, 72.66it/s, loss=0.163]\n",
            "100%|██████████| 100/100 [00:00<00:00, 266.26it/s]\n"
          ]
        },
        {
          "output_type": "stream",
          "name": "stdout",
          "text": [
            "accuray=0.54\n"
          ]
        },
        {
          "output_type": "stream",
          "name": "stderr",
          "text": [
            "epoch 210: 100%|██████████| 200/200 [00:02<00:00, 84.25it/s, loss=0.155]\n",
            "100%|██████████| 100/100 [00:00<00:00, 371.44it/s]\n"
          ]
        },
        {
          "output_type": "stream",
          "name": "stdout",
          "text": [
            "accuray=0.63\n"
          ]
        },
        {
          "output_type": "stream",
          "name": "stderr",
          "text": [
            "epoch 211: 100%|██████████| 200/200 [00:02<00:00, 92.89it/s, loss=0.158]\n",
            "100%|██████████| 100/100 [00:00<00:00, 389.85it/s]\n"
          ]
        },
        {
          "output_type": "stream",
          "name": "stdout",
          "text": [
            "accuray=0.67\n"
          ]
        },
        {
          "output_type": "stream",
          "name": "stderr",
          "text": [
            "epoch 212: 100%|██████████| 200/200 [00:02<00:00, 92.82it/s, loss=0.125]\n",
            "100%|██████████| 100/100 [00:00<00:00, 380.85it/s]\n"
          ]
        },
        {
          "output_type": "stream",
          "name": "stdout",
          "text": [
            "accuray=0.56\n"
          ]
        },
        {
          "output_type": "stream",
          "name": "stderr",
          "text": [
            "epoch 213: 100%|██████████| 200/200 [00:02<00:00, 92.48it/s, loss=0.121]\n",
            "100%|██████████| 100/100 [00:00<00:00, 382.07it/s]\n"
          ]
        },
        {
          "output_type": "stream",
          "name": "stdout",
          "text": [
            "accuray=0.55\n"
          ]
        },
        {
          "output_type": "stream",
          "name": "stderr",
          "text": [
            "epoch 214: 100%|██████████| 200/200 [00:02<00:00, 75.85it/s, loss=0.148]\n",
            "100%|██████████| 100/100 [00:00<00:00, 290.35it/s]\n"
          ]
        },
        {
          "output_type": "stream",
          "name": "stdout",
          "text": [
            "accuray=0.67\n"
          ]
        },
        {
          "output_type": "stream",
          "name": "stderr",
          "text": [
            "epoch 215: 100%|██████████| 200/200 [00:02<00:00, 80.59it/s, loss=0.116]\n",
            "100%|██████████| 100/100 [00:00<00:00, 369.70it/s]\n"
          ]
        },
        {
          "output_type": "stream",
          "name": "stdout",
          "text": [
            "accuray=0.66\n"
          ]
        },
        {
          "output_type": "stream",
          "name": "stderr",
          "text": [
            "epoch 216: 100%|██████████| 200/200 [00:02<00:00, 93.55it/s, loss=0.108]\n",
            "100%|██████████| 100/100 [00:00<00:00, 344.17it/s]\n"
          ]
        },
        {
          "output_type": "stream",
          "name": "stdout",
          "text": [
            "accuray=0.59\n"
          ]
        },
        {
          "output_type": "stream",
          "name": "stderr",
          "text": [
            "epoch 217: 100%|██████████| 200/200 [00:02<00:00, 92.16it/s, loss=0.153]\n",
            "100%|██████████| 100/100 [00:00<00:00, 402.48it/s]\n"
          ]
        },
        {
          "output_type": "stream",
          "name": "stdout",
          "text": [
            "accuray=0.6\n"
          ]
        },
        {
          "output_type": "stream",
          "name": "stderr",
          "text": [
            "epoch 218: 100%|██████████| 200/200 [00:02<00:00, 94.72it/s, loss=0.201]\n",
            "100%|██████████| 100/100 [00:00<00:00, 383.07it/s]\n"
          ]
        },
        {
          "output_type": "stream",
          "name": "stdout",
          "text": [
            "accuray=0.64\n"
          ]
        },
        {
          "output_type": "stream",
          "name": "stderr",
          "text": [
            "epoch 219: 100%|██████████| 200/200 [00:02<00:00, 77.10it/s, loss=0.125]\n",
            "100%|██████████| 100/100 [00:00<00:00, 294.25it/s]\n"
          ]
        },
        {
          "output_type": "stream",
          "name": "stdout",
          "text": [
            "accuray=0.62\n"
          ]
        },
        {
          "output_type": "stream",
          "name": "stderr",
          "text": [
            "epoch 220: 100%|██████████| 200/200 [00:02<00:00, 77.65it/s, loss=0.116]\n",
            "100%|██████████| 100/100 [00:00<00:00, 400.26it/s]\n"
          ]
        },
        {
          "output_type": "stream",
          "name": "stdout",
          "text": [
            "accuray=0.65\n"
          ]
        },
        {
          "output_type": "stream",
          "name": "stderr",
          "text": [
            "epoch 221: 100%|██████████| 200/200 [00:02<00:00, 93.64it/s, loss=0.164]\n",
            "100%|██████████| 100/100 [00:00<00:00, 387.66it/s]\n"
          ]
        },
        {
          "output_type": "stream",
          "name": "stdout",
          "text": [
            "accuray=0.61\n"
          ]
        },
        {
          "output_type": "stream",
          "name": "stderr",
          "text": [
            "epoch 222: 100%|██████████| 200/200 [00:02<00:00, 93.16it/s, loss=0.147]\n",
            "100%|██████████| 100/100 [00:00<00:00, 371.41it/s]\n"
          ]
        },
        {
          "output_type": "stream",
          "name": "stdout",
          "text": [
            "accuray=0.56\n"
          ]
        },
        {
          "output_type": "stream",
          "name": "stderr",
          "text": [
            "epoch 223: 100%|██████████| 200/200 [00:02<00:00, 93.44it/s, loss=0.148]\n",
            "100%|██████████| 100/100 [00:00<00:00, 372.06it/s]\n"
          ]
        },
        {
          "output_type": "stream",
          "name": "stdout",
          "text": [
            "accuray=0.59\n"
          ]
        },
        {
          "output_type": "stream",
          "name": "stderr",
          "text": [
            "epoch 224: 100%|██████████| 200/200 [00:02<00:00, 80.43it/s, loss=0.11]\n",
            "100%|██████████| 100/100 [00:00<00:00, 280.98it/s]\n"
          ]
        },
        {
          "output_type": "stream",
          "name": "stdout",
          "text": [
            "accuray=0.62\n"
          ]
        },
        {
          "output_type": "stream",
          "name": "stderr",
          "text": [
            "epoch 225: 100%|██████████| 200/200 [00:02<00:00, 75.19it/s, loss=0.117]\n",
            "100%|██████████| 100/100 [00:00<00:00, 384.23it/s]\n"
          ]
        },
        {
          "output_type": "stream",
          "name": "stdout",
          "text": [
            "accuray=0.68\n"
          ]
        },
        {
          "output_type": "stream",
          "name": "stderr",
          "text": [
            "epoch 226: 100%|██████████| 200/200 [00:02<00:00, 92.56it/s, loss=0.133]\n",
            "100%|██████████| 100/100 [00:00<00:00, 385.22it/s]\n"
          ]
        },
        {
          "output_type": "stream",
          "name": "stdout",
          "text": [
            "accuray=0.59\n"
          ]
        },
        {
          "output_type": "stream",
          "name": "stderr",
          "text": [
            "epoch 227: 100%|██████████| 200/200 [00:02<00:00, 93.22it/s, loss=0.138]\n",
            "100%|██████████| 100/100 [00:00<00:00, 387.36it/s]\n"
          ]
        },
        {
          "output_type": "stream",
          "name": "stdout",
          "text": [
            "accuray=0.64\n"
          ]
        },
        {
          "output_type": "stream",
          "name": "stderr",
          "text": [
            "epoch 228: 100%|██████████| 200/200 [00:02<00:00, 91.62it/s, loss=0.138]\n",
            "100%|██████████| 100/100 [00:00<00:00, 384.22it/s]\n"
          ]
        },
        {
          "output_type": "stream",
          "name": "stdout",
          "text": [
            "accuray=0.6\n"
          ]
        },
        {
          "output_type": "stream",
          "name": "stderr",
          "text": [
            "epoch 229: 100%|██████████| 200/200 [00:02<00:00, 81.29it/s, loss=0.125]\n",
            "100%|██████████| 100/100 [00:00<00:00, 295.58it/s]\n"
          ]
        },
        {
          "output_type": "stream",
          "name": "stdout",
          "text": [
            "accuray=0.59\n"
          ]
        },
        {
          "output_type": "stream",
          "name": "stderr",
          "text": [
            "epoch 230: 100%|██████████| 200/200 [00:02<00:00, 73.67it/s, loss=0.123]\n",
            "100%|██████████| 100/100 [00:00<00:00, 377.45it/s]\n"
          ]
        },
        {
          "output_type": "stream",
          "name": "stdout",
          "text": [
            "accuray=0.49\n"
          ]
        },
        {
          "output_type": "stream",
          "name": "stderr",
          "text": [
            "epoch 231: 100%|██████████| 200/200 [00:02<00:00, 94.36it/s, loss=0.113]\n",
            "100%|██████████| 100/100 [00:00<00:00, 373.12it/s]\n"
          ]
        },
        {
          "output_type": "stream",
          "name": "stdout",
          "text": [
            "accuray=0.58\n"
          ]
        },
        {
          "output_type": "stream",
          "name": "stderr",
          "text": [
            "epoch 232: 100%|██████████| 200/200 [00:02<00:00, 93.61it/s, loss=0.16]\n",
            "100%|██████████| 100/100 [00:00<00:00, 381.24it/s]\n"
          ]
        },
        {
          "output_type": "stream",
          "name": "stdout",
          "text": [
            "accuray=0.61\n"
          ]
        },
        {
          "output_type": "stream",
          "name": "stderr",
          "text": [
            "epoch 233: 100%|██████████| 200/200 [00:02<00:00, 93.87it/s, loss=0.12]\n",
            "100%|██████████| 100/100 [00:00<00:00, 380.37it/s]\n"
          ]
        },
        {
          "output_type": "stream",
          "name": "stdout",
          "text": [
            "accuray=0.57\n"
          ]
        },
        {
          "output_type": "stream",
          "name": "stderr",
          "text": [
            "epoch 234: 100%|██████████| 200/200 [00:02<00:00, 83.65it/s, loss=0.148]\n",
            "100%|██████████| 100/100 [00:00<00:00, 293.28it/s]\n"
          ]
        },
        {
          "output_type": "stream",
          "name": "stdout",
          "text": [
            "accuray=0.65\n"
          ]
        },
        {
          "output_type": "stream",
          "name": "stderr",
          "text": [
            "epoch 235: 100%|██████████| 200/200 [00:02<00:00, 71.96it/s, loss=0.143]\n",
            "100%|██████████| 100/100 [00:00<00:00, 415.79it/s]\n"
          ]
        },
        {
          "output_type": "stream",
          "name": "stdout",
          "text": [
            "accuray=0.64\n"
          ]
        },
        {
          "output_type": "stream",
          "name": "stderr",
          "text": [
            "epoch 236: 100%|██████████| 200/200 [00:02<00:00, 92.90it/s, loss=0.107]\n",
            "100%|██████████| 100/100 [00:00<00:00, 378.34it/s]\n"
          ]
        },
        {
          "output_type": "stream",
          "name": "stdout",
          "text": [
            "accuray=0.58\n"
          ]
        },
        {
          "output_type": "stream",
          "name": "stderr",
          "text": [
            "epoch 237: 100%|██████████| 200/200 [00:02<00:00, 93.52it/s, loss=0.227]\n",
            "100%|██████████| 100/100 [00:00<00:00, 370.87it/s]\n"
          ]
        },
        {
          "output_type": "stream",
          "name": "stdout",
          "text": [
            "accuray=0.54\n"
          ]
        },
        {
          "output_type": "stream",
          "name": "stderr",
          "text": [
            "epoch 238: 100%|██████████| 200/200 [00:02<00:00, 94.51it/s, loss=0.159]\n",
            "100%|██████████| 100/100 [00:00<00:00, 356.51it/s]\n"
          ]
        },
        {
          "output_type": "stream",
          "name": "stdout",
          "text": [
            "accuray=0.55\n"
          ]
        },
        {
          "output_type": "stream",
          "name": "stderr",
          "text": [
            "epoch 239: 100%|██████████| 200/200 [00:02<00:00, 89.52it/s, loss=0.143]\n",
            "100%|██████████| 100/100 [00:00<00:00, 280.67it/s]\n"
          ]
        },
        {
          "output_type": "stream",
          "name": "stdout",
          "text": [
            "accuray=0.6\n"
          ]
        },
        {
          "output_type": "stream",
          "name": "stderr",
          "text": [
            "epoch 240: 100%|██████████| 200/200 [00:02<00:00, 67.64it/s, loss=0.0911]\n",
            "100%|██████████| 100/100 [00:00<00:00, 374.40it/s]\n"
          ]
        },
        {
          "output_type": "stream",
          "name": "stdout",
          "text": [
            "accuray=0.61\n"
          ]
        },
        {
          "output_type": "stream",
          "name": "stderr",
          "text": [
            "epoch 241: 100%|██████████| 200/200 [00:02<00:00, 93.29it/s, loss=0.115]\n",
            "100%|██████████| 100/100 [00:00<00:00, 369.53it/s]\n"
          ]
        },
        {
          "output_type": "stream",
          "name": "stdout",
          "text": [
            "accuray=0.62\n"
          ]
        },
        {
          "output_type": "stream",
          "name": "stderr",
          "text": [
            "epoch 242: 100%|██████████| 200/200 [00:02<00:00, 92.92it/s, loss=0.106]\n",
            "100%|██████████| 100/100 [00:00<00:00, 392.70it/s]\n"
          ]
        },
        {
          "output_type": "stream",
          "name": "stdout",
          "text": [
            "accuray=0.54\n"
          ]
        },
        {
          "output_type": "stream",
          "name": "stderr",
          "text": [
            "epoch 243: 100%|██████████| 200/200 [00:02<00:00, 92.57it/s, loss=0.195]\n",
            "100%|██████████| 100/100 [00:00<00:00, 378.22it/s]\n"
          ]
        },
        {
          "output_type": "stream",
          "name": "stdout",
          "text": [
            "accuray=0.59\n"
          ]
        },
        {
          "output_type": "stream",
          "name": "stderr",
          "text": [
            "epoch 244: 100%|██████████| 200/200 [00:02<00:00, 93.45it/s, loss=0.134]\n",
            "100%|██████████| 100/100 [00:00<00:00, 275.18it/s]\n"
          ]
        },
        {
          "output_type": "stream",
          "name": "stdout",
          "text": [
            "accuray=0.69\n"
          ]
        },
        {
          "output_type": "stream",
          "name": "stderr",
          "text": [
            "epoch 245: 100%|██████████| 200/200 [00:03<00:00, 66.02it/s, loss=0.133]\n",
            "100%|██████████| 100/100 [00:00<00:00, 385.17it/s]\n"
          ]
        },
        {
          "output_type": "stream",
          "name": "stdout",
          "text": [
            "accuray=0.64\n"
          ]
        },
        {
          "output_type": "stream",
          "name": "stderr",
          "text": [
            "epoch 246: 100%|██████████| 200/200 [00:02<00:00, 93.02it/s, loss=0.104]\n",
            "100%|██████████| 100/100 [00:00<00:00, 367.02it/s]\n"
          ]
        },
        {
          "output_type": "stream",
          "name": "stdout",
          "text": [
            "accuray=0.6\n"
          ]
        },
        {
          "output_type": "stream",
          "name": "stderr",
          "text": [
            "epoch 247: 100%|██████████| 200/200 [00:02<00:00, 93.41it/s, loss=0.0862]\n",
            "100%|██████████| 100/100 [00:00<00:00, 378.81it/s]\n"
          ]
        },
        {
          "output_type": "stream",
          "name": "stdout",
          "text": [
            "accuray=0.68\n"
          ]
        },
        {
          "output_type": "stream",
          "name": "stderr",
          "text": [
            "epoch 248: 100%|██████████| 200/200 [00:02<00:00, 93.45it/s, loss=0.109]\n",
            "100%|██████████| 100/100 [00:00<00:00, 419.89it/s]\n"
          ]
        },
        {
          "output_type": "stream",
          "name": "stdout",
          "text": [
            "accuray=0.69\n"
          ]
        },
        {
          "output_type": "stream",
          "name": "stderr",
          "text": [
            "epoch 249: 100%|██████████| 200/200 [00:02<00:00, 90.46it/s, loss=0.14]\n",
            "100%|██████████| 100/100 [00:00<00:00, 401.58it/s]\n"
          ]
        },
        {
          "output_type": "stream",
          "name": "stdout",
          "text": [
            "accuray=0.62\n"
          ]
        },
        {
          "output_type": "stream",
          "name": "stderr",
          "text": [
            "epoch 250: 100%|██████████| 200/200 [00:02<00:00, 67.09it/s, loss=0.107]\n",
            "100%|██████████| 100/100 [00:00<00:00, 263.57it/s]\n"
          ]
        },
        {
          "output_type": "stream",
          "name": "stdout",
          "text": [
            "accuray=0.64\n"
          ]
        },
        {
          "output_type": "stream",
          "name": "stderr",
          "text": [
            "epoch 251: 100%|██████████| 200/200 [00:02<00:00, 92.02it/s, loss=0.136]\n",
            "100%|██████████| 100/100 [00:00<00:00, 364.29it/s]\n"
          ]
        },
        {
          "output_type": "stream",
          "name": "stdout",
          "text": [
            "accuray=0.61\n"
          ]
        },
        {
          "output_type": "stream",
          "name": "stderr",
          "text": [
            "epoch 252: 100%|██████████| 200/200 [00:02<00:00, 91.57it/s, loss=0.11]\n",
            "100%|██████████| 100/100 [00:00<00:00, 385.81it/s]\n"
          ]
        },
        {
          "output_type": "stream",
          "name": "stdout",
          "text": [
            "accuray=0.62\n"
          ]
        },
        {
          "output_type": "stream",
          "name": "stderr",
          "text": [
            "epoch 253: 100%|██████████| 200/200 [00:02<00:00, 91.87it/s, loss=0.121]\n",
            "100%|██████████| 100/100 [00:00<00:00, 386.26it/s]\n"
          ]
        },
        {
          "output_type": "stream",
          "name": "stdout",
          "text": [
            "accuray=0.58\n"
          ]
        },
        {
          "output_type": "stream",
          "name": "stderr",
          "text": [
            "epoch 254: 100%|██████████| 200/200 [00:02<00:00, 94.03it/s, loss=0.0837]\n",
            "100%|██████████| 100/100 [00:00<00:00, 377.88it/s]\n"
          ]
        },
        {
          "output_type": "stream",
          "name": "stdout",
          "text": [
            "accuray=0.57\n"
          ]
        },
        {
          "output_type": "stream",
          "name": "stderr",
          "text": [
            "epoch 255: 100%|██████████| 200/200 [00:02<00:00, 69.00it/s, loss=0.149]\n",
            "100%|██████████| 100/100 [00:00<00:00, 267.20it/s]\n"
          ]
        },
        {
          "output_type": "stream",
          "name": "stdout",
          "text": [
            "accuray=0.64\n"
          ]
        },
        {
          "output_type": "stream",
          "name": "stderr",
          "text": [
            "epoch 256: 100%|██████████| 200/200 [00:02<00:00, 88.86it/s, loss=0.136]\n",
            "100%|██████████| 100/100 [00:00<00:00, 381.92it/s]\n"
          ]
        },
        {
          "output_type": "stream",
          "name": "stdout",
          "text": [
            "accuray=0.57\n"
          ]
        },
        {
          "output_type": "stream",
          "name": "stderr",
          "text": [
            "epoch 257: 100%|██████████| 200/200 [00:02<00:00, 92.21it/s, loss=0.101]\n",
            "100%|██████████| 100/100 [00:00<00:00, 374.23it/s]\n"
          ]
        },
        {
          "output_type": "stream",
          "name": "stdout",
          "text": [
            "accuray=0.6\n"
          ]
        },
        {
          "output_type": "stream",
          "name": "stderr",
          "text": [
            "epoch 258: 100%|██████████| 200/200 [00:02<00:00, 93.73it/s, loss=0.122]\n",
            "100%|██████████| 100/100 [00:00<00:00, 377.14it/s]\n"
          ]
        },
        {
          "output_type": "stream",
          "name": "stdout",
          "text": [
            "accuray=0.61\n"
          ]
        },
        {
          "output_type": "stream",
          "name": "stderr",
          "text": [
            "epoch 259: 100%|██████████| 200/200 [00:02<00:00, 93.07it/s, loss=0.115]\n",
            "100%|██████████| 100/100 [00:00<00:00, 392.16it/s]\n"
          ]
        },
        {
          "output_type": "stream",
          "name": "stdout",
          "text": [
            "accuray=0.64\n"
          ]
        },
        {
          "output_type": "stream",
          "name": "stderr",
          "text": [
            "epoch 260: 100%|██████████| 200/200 [00:02<00:00, 71.71it/s, loss=0.158]\n",
            "100%|██████████| 100/100 [00:00<00:00, 250.71it/s]\n"
          ]
        },
        {
          "output_type": "stream",
          "name": "stdout",
          "text": [
            "accuray=0.53\n"
          ]
        },
        {
          "output_type": "stream",
          "name": "stderr",
          "text": [
            "epoch 261: 100%|██████████| 200/200 [00:02<00:00, 84.35it/s, loss=0.104]\n",
            "100%|██████████| 100/100 [00:00<00:00, 392.72it/s]\n"
          ]
        },
        {
          "output_type": "stream",
          "name": "stdout",
          "text": [
            "accuray=0.65\n"
          ]
        },
        {
          "output_type": "stream",
          "name": "stderr",
          "text": [
            "epoch 262: 100%|██████████| 200/200 [00:02<00:00, 93.14it/s, loss=0.146]\n",
            "100%|██████████| 100/100 [00:00<00:00, 379.71it/s]\n"
          ]
        },
        {
          "output_type": "stream",
          "name": "stdout",
          "text": [
            "accuray=0.57\n"
          ]
        },
        {
          "output_type": "stream",
          "name": "stderr",
          "text": [
            "epoch 263: 100%|██████████| 200/200 [00:02<00:00, 89.77it/s, loss=0.083]\n",
            "100%|██████████| 100/100 [00:00<00:00, 344.57it/s]\n"
          ]
        },
        {
          "output_type": "stream",
          "name": "stdout",
          "text": [
            "accuray=0.55\n"
          ]
        },
        {
          "output_type": "stream",
          "name": "stderr",
          "text": [
            "epoch 264: 100%|██████████| 200/200 [00:02<00:00, 92.38it/s, loss=0.123]\n",
            "100%|██████████| 100/100 [00:00<00:00, 385.01it/s]\n"
          ]
        },
        {
          "output_type": "stream",
          "name": "stdout",
          "text": [
            "accuray=0.63\n"
          ]
        },
        {
          "output_type": "stream",
          "name": "stderr",
          "text": [
            "epoch 265: 100%|██████████| 200/200 [00:02<00:00, 71.90it/s, loss=0.189]\n",
            "100%|██████████| 100/100 [00:00<00:00, 261.40it/s]\n"
          ]
        },
        {
          "output_type": "stream",
          "name": "stdout",
          "text": [
            "accuray=0.59\n"
          ]
        },
        {
          "output_type": "stream",
          "name": "stderr",
          "text": [
            "epoch 266: 100%|██████████| 200/200 [00:02<00:00, 83.71it/s, loss=0.141]\n",
            "100%|██████████| 100/100 [00:00<00:00, 382.24it/s]\n"
          ]
        },
        {
          "output_type": "stream",
          "name": "stdout",
          "text": [
            "accuray=0.6\n"
          ]
        },
        {
          "output_type": "stream",
          "name": "stderr",
          "text": [
            "epoch 267: 100%|██████████| 200/200 [00:02<00:00, 92.73it/s, loss=0.0571]\n",
            "100%|██████████| 100/100 [00:00<00:00, 368.65it/s]\n"
          ]
        },
        {
          "output_type": "stream",
          "name": "stdout",
          "text": [
            "accuray=0.63\n"
          ]
        },
        {
          "output_type": "stream",
          "name": "stderr",
          "text": [
            "epoch 268: 100%|██████████| 200/200 [00:02<00:00, 92.99it/s, loss=0.0957]\n",
            "100%|██████████| 100/100 [00:00<00:00, 373.27it/s]\n"
          ]
        },
        {
          "output_type": "stream",
          "name": "stdout",
          "text": [
            "accuray=0.55\n"
          ]
        },
        {
          "output_type": "stream",
          "name": "stderr",
          "text": [
            "epoch 269: 100%|██████████| 200/200 [00:02<00:00, 92.41it/s, loss=0.0789]\n",
            "100%|██████████| 100/100 [00:00<00:00, 396.74it/s]\n"
          ]
        },
        {
          "output_type": "stream",
          "name": "stdout",
          "text": [
            "accuray=0.68\n"
          ]
        },
        {
          "output_type": "stream",
          "name": "stderr",
          "text": [
            "epoch 270: 100%|██████████| 200/200 [00:02<00:00, 73.97it/s, loss=0.0752]\n",
            "100%|██████████| 100/100 [00:00<00:00, 310.93it/s]\n"
          ]
        },
        {
          "output_type": "stream",
          "name": "stdout",
          "text": [
            "accuray=0.77\n"
          ]
        },
        {
          "output_type": "stream",
          "name": "stderr",
          "text": [
            "epoch 271: 100%|██████████| 200/200 [00:02<00:00, 80.23it/s, loss=0.125]\n",
            "100%|██████████| 100/100 [00:00<00:00, 350.87it/s]\n"
          ]
        },
        {
          "output_type": "stream",
          "name": "stdout",
          "text": [
            "accuray=0.61\n"
          ]
        },
        {
          "output_type": "stream",
          "name": "stderr",
          "text": [
            "epoch 272: 100%|██████████| 200/200 [00:02<00:00, 90.12it/s, loss=0.11]\n",
            "100%|██████████| 100/100 [00:00<00:00, 385.02it/s]\n"
          ]
        },
        {
          "output_type": "stream",
          "name": "stdout",
          "text": [
            "accuray=0.62\n"
          ]
        },
        {
          "output_type": "stream",
          "name": "stderr",
          "text": [
            "epoch 273: 100%|██████████| 200/200 [00:02<00:00, 91.64it/s, loss=0.12]\n",
            "100%|██████████| 100/100 [00:00<00:00, 382.97it/s]\n"
          ]
        },
        {
          "output_type": "stream",
          "name": "stdout",
          "text": [
            "accuray=0.63\n"
          ]
        },
        {
          "output_type": "stream",
          "name": "stderr",
          "text": [
            "epoch 274: 100%|██████████| 200/200 [00:02<00:00, 89.72it/s, loss=0.0642]\n",
            "100%|██████████| 100/100 [00:00<00:00, 377.35it/s]\n"
          ]
        },
        {
          "output_type": "stream",
          "name": "stdout",
          "text": [
            "accuray=0.62\n"
          ]
        },
        {
          "output_type": "stream",
          "name": "stderr",
          "text": [
            "epoch 275: 100%|██████████| 200/200 [00:02<00:00, 71.57it/s, loss=0.0635]\n",
            "100%|██████████| 100/100 [00:00<00:00, 261.27it/s]\n"
          ]
        },
        {
          "output_type": "stream",
          "name": "stdout",
          "text": [
            "accuray=0.56\n"
          ]
        },
        {
          "output_type": "stream",
          "name": "stderr",
          "text": [
            "epoch 276: 100%|██████████| 200/200 [00:02<00:00, 81.05it/s, loss=0.135]\n",
            "100%|██████████| 100/100 [00:00<00:00, 384.05it/s]\n"
          ]
        },
        {
          "output_type": "stream",
          "name": "stdout",
          "text": [
            "accuray=0.58\n"
          ]
        },
        {
          "output_type": "stream",
          "name": "stderr",
          "text": [
            "epoch 277: 100%|██████████| 200/200 [00:02<00:00, 91.56it/s, loss=0.112]\n",
            "100%|██████████| 100/100 [00:00<00:00, 375.99it/s]\n"
          ]
        },
        {
          "output_type": "stream",
          "name": "stdout",
          "text": [
            "accuray=0.58\n"
          ]
        },
        {
          "output_type": "stream",
          "name": "stderr",
          "text": [
            "epoch 278: 100%|██████████| 200/200 [00:02<00:00, 94.34it/s, loss=0.0824]\n",
            "100%|██████████| 100/100 [00:00<00:00, 401.40it/s]\n"
          ]
        },
        {
          "output_type": "stream",
          "name": "stdout",
          "text": [
            "accuray=0.65\n"
          ]
        },
        {
          "output_type": "stream",
          "name": "stderr",
          "text": [
            "epoch 279: 100%|██████████| 200/200 [00:02<00:00, 92.88it/s, loss=0.105]\n",
            "100%|██████████| 100/100 [00:00<00:00, 368.26it/s]\n"
          ]
        },
        {
          "output_type": "stream",
          "name": "stdout",
          "text": [
            "accuray=0.62\n"
          ]
        },
        {
          "output_type": "stream",
          "name": "stderr",
          "text": [
            "epoch 280: 100%|██████████| 200/200 [00:02<00:00, 75.59it/s, loss=0.151]\n",
            "100%|██████████| 100/100 [00:00<00:00, 299.10it/s]\n"
          ]
        },
        {
          "output_type": "stream",
          "name": "stdout",
          "text": [
            "accuray=0.69\n"
          ]
        },
        {
          "output_type": "stream",
          "name": "stderr",
          "text": [
            "epoch 281: 100%|██████████| 200/200 [00:02<00:00, 77.22it/s, loss=0.0756]\n",
            "100%|██████████| 100/100 [00:00<00:00, 383.08it/s]\n"
          ]
        },
        {
          "output_type": "stream",
          "name": "stdout",
          "text": [
            "accuray=0.62\n"
          ]
        },
        {
          "output_type": "stream",
          "name": "stderr",
          "text": [
            "epoch 282: 100%|██████████| 200/200 [00:02<00:00, 92.16it/s, loss=0.0966]\n",
            "100%|██████████| 100/100 [00:00<00:00, 368.23it/s]\n"
          ]
        },
        {
          "output_type": "stream",
          "name": "stdout",
          "text": [
            "accuray=0.57\n"
          ]
        },
        {
          "output_type": "stream",
          "name": "stderr",
          "text": [
            "epoch 283: 100%|██████████| 200/200 [00:02<00:00, 93.45it/s, loss=0.105]\n",
            "100%|██████████| 100/100 [00:00<00:00, 386.69it/s]\n"
          ]
        },
        {
          "output_type": "stream",
          "name": "stdout",
          "text": [
            "accuray=0.64\n"
          ]
        },
        {
          "output_type": "stream",
          "name": "stderr",
          "text": [
            "epoch 284: 100%|██████████| 200/200 [00:02<00:00, 93.06it/s, loss=0.0813]\n",
            "100%|██████████| 100/100 [00:00<00:00, 351.78it/s]\n"
          ]
        },
        {
          "output_type": "stream",
          "name": "stdout",
          "text": [
            "accuray=0.65\n"
          ]
        },
        {
          "output_type": "stream",
          "name": "stderr",
          "text": [
            "epoch 285: 100%|██████████| 200/200 [00:02<00:00, 77.10it/s, loss=0.0755]\n",
            "100%|██████████| 100/100 [00:00<00:00, 299.28it/s]\n"
          ]
        },
        {
          "output_type": "stream",
          "name": "stdout",
          "text": [
            "accuray=0.68\n"
          ]
        },
        {
          "output_type": "stream",
          "name": "stderr",
          "text": [
            "epoch 286: 100%|██████████| 200/200 [00:02<00:00, 74.42it/s, loss=0.0625]\n",
            "100%|██████████| 100/100 [00:00<00:00, 385.52it/s]\n"
          ]
        },
        {
          "output_type": "stream",
          "name": "stdout",
          "text": [
            "accuray=0.63\n"
          ]
        },
        {
          "output_type": "stream",
          "name": "stderr",
          "text": [
            "epoch 287: 100%|██████████| 200/200 [00:02<00:00, 92.35it/s, loss=0.108]\n",
            "100%|██████████| 100/100 [00:00<00:00, 380.97it/s]\n"
          ]
        },
        {
          "output_type": "stream",
          "name": "stdout",
          "text": [
            "accuray=0.56\n"
          ]
        },
        {
          "output_type": "stream",
          "name": "stderr",
          "text": [
            "epoch 288: 100%|██████████| 200/200 [00:02<00:00, 92.19it/s, loss=0.0953]\n",
            "100%|██████████| 100/100 [00:00<00:00, 370.19it/s]\n"
          ]
        },
        {
          "output_type": "stream",
          "name": "stdout",
          "text": [
            "accuray=0.66\n"
          ]
        },
        {
          "output_type": "stream",
          "name": "stderr",
          "text": [
            "epoch 289: 100%|██████████| 200/200 [00:02<00:00, 92.80it/s, loss=0.0881]\n",
            "100%|██████████| 100/100 [00:00<00:00, 400.02it/s]\n"
          ]
        },
        {
          "output_type": "stream",
          "name": "stdout",
          "text": [
            "accuray=0.69\n"
          ]
        },
        {
          "output_type": "stream",
          "name": "stderr",
          "text": [
            "epoch 290: 100%|██████████| 200/200 [00:02<00:00, 78.55it/s, loss=0.0928]\n",
            "100%|██████████| 100/100 [00:00<00:00, 284.66it/s]\n"
          ]
        },
        {
          "output_type": "stream",
          "name": "stdout",
          "text": [
            "accuray=0.58\n"
          ]
        },
        {
          "output_type": "stream",
          "name": "stderr",
          "text": [
            "epoch 291: 100%|██████████| 200/200 [00:02<00:00, 74.84it/s, loss=0.0867]\n",
            "100%|██████████| 100/100 [00:00<00:00, 364.53it/s]\n"
          ]
        },
        {
          "output_type": "stream",
          "name": "stdout",
          "text": [
            "accuray=0.55\n"
          ]
        },
        {
          "output_type": "stream",
          "name": "stderr",
          "text": [
            "epoch 292: 100%|██████████| 200/200 [00:02<00:00, 93.85it/s, loss=0.0857]\n",
            "100%|██████████| 100/100 [00:00<00:00, 375.29it/s]\n"
          ]
        },
        {
          "output_type": "stream",
          "name": "stdout",
          "text": [
            "accuray=0.59\n"
          ]
        },
        {
          "output_type": "stream",
          "name": "stderr",
          "text": [
            "epoch 293: 100%|██████████| 200/200 [00:02<00:00, 91.54it/s, loss=0.103]\n",
            "100%|██████████| 100/100 [00:00<00:00, 367.47it/s]\n"
          ]
        },
        {
          "output_type": "stream",
          "name": "stdout",
          "text": [
            "accuray=0.61\n"
          ]
        },
        {
          "output_type": "stream",
          "name": "stderr",
          "text": [
            "epoch 294: 100%|██████████| 200/200 [00:02<00:00, 92.18it/s, loss=0.0968]\n",
            "100%|██████████| 100/100 [00:00<00:00, 387.32it/s]\n"
          ]
        },
        {
          "output_type": "stream",
          "name": "stdout",
          "text": [
            "accuray=0.58\n"
          ]
        },
        {
          "output_type": "stream",
          "name": "stderr",
          "text": [
            "epoch 295: 100%|██████████| 200/200 [00:02<00:00, 79.31it/s, loss=0.104]\n",
            "100%|██████████| 100/100 [00:00<00:00, 288.09it/s]\n"
          ]
        },
        {
          "output_type": "stream",
          "name": "stdout",
          "text": [
            "accuray=0.62\n"
          ]
        },
        {
          "output_type": "stream",
          "name": "stderr",
          "text": [
            "epoch 296: 100%|██████████| 200/200 [00:02<00:00, 73.14it/s, loss=0.142]\n",
            "100%|██████████| 100/100 [00:00<00:00, 377.21it/s]\n"
          ]
        },
        {
          "output_type": "stream",
          "name": "stdout",
          "text": [
            "accuray=0.64\n"
          ]
        },
        {
          "output_type": "stream",
          "name": "stderr",
          "text": [
            "epoch 297: 100%|██████████| 200/200 [00:02<00:00, 92.33it/s, loss=0.101]\n",
            "100%|██████████| 100/100 [00:00<00:00, 345.76it/s]\n"
          ]
        },
        {
          "output_type": "stream",
          "name": "stdout",
          "text": [
            "accuray=0.63\n"
          ]
        },
        {
          "output_type": "stream",
          "name": "stderr",
          "text": [
            "epoch 298: 100%|██████████| 200/200 [00:02<00:00, 91.51it/s, loss=0.115]\n",
            "100%|██████████| 100/100 [00:00<00:00, 391.33it/s]\n"
          ]
        },
        {
          "output_type": "stream",
          "name": "stdout",
          "text": [
            "accuray=0.58\n"
          ]
        },
        {
          "output_type": "stream",
          "name": "stderr",
          "text": [
            "epoch 299: 100%|██████████| 200/200 [00:02<00:00, 90.97it/s, loss=0.139]\n",
            "100%|██████████| 100/100 [00:00<00:00, 376.99it/s]\n"
          ]
        },
        {
          "output_type": "stream",
          "name": "stdout",
          "text": [
            "accuray=0.62\n"
          ]
        },
        {
          "output_type": "stream",
          "name": "stderr",
          "text": [
            "epoch 300: 100%|██████████| 200/200 [00:02<00:00, 81.35it/s, loss=0.0652]\n",
            "100%|██████████| 100/100 [00:00<00:00, 292.79it/s]\n"
          ]
        },
        {
          "output_type": "stream",
          "name": "stdout",
          "text": [
            "accuray=0.72\n"
          ]
        },
        {
          "output_type": "stream",
          "name": "stderr",
          "text": [
            "epoch 301: 100%|██████████| 200/200 [00:02<00:00, 72.70it/s, loss=0.078]\n",
            "100%|██████████| 100/100 [00:00<00:00, 385.07it/s]\n"
          ]
        },
        {
          "output_type": "stream",
          "name": "stdout",
          "text": [
            "accuray=0.61\n"
          ]
        },
        {
          "output_type": "stream",
          "name": "stderr",
          "text": [
            "epoch 302: 100%|██████████| 200/200 [00:02<00:00, 92.85it/s, loss=0.0733]\n",
            "100%|██████████| 100/100 [00:00<00:00, 390.63it/s]\n"
          ]
        },
        {
          "output_type": "stream",
          "name": "stdout",
          "text": [
            "accuray=0.72\n"
          ]
        },
        {
          "output_type": "stream",
          "name": "stderr",
          "text": [
            "epoch 303: 100%|██████████| 200/200 [00:02<00:00, 92.44it/s, loss=0.115]\n",
            "100%|██████████| 100/100 [00:00<00:00, 387.91it/s]\n"
          ]
        },
        {
          "output_type": "stream",
          "name": "stdout",
          "text": [
            "accuray=0.69\n"
          ]
        },
        {
          "output_type": "stream",
          "name": "stderr",
          "text": [
            "epoch 304: 100%|██████████| 200/200 [00:02<00:00, 93.14it/s, loss=0.0806]\n",
            "100%|██████████| 100/100 [00:00<00:00, 367.05it/s]\n"
          ]
        },
        {
          "output_type": "stream",
          "name": "stdout",
          "text": [
            "accuray=0.6\n"
          ]
        },
        {
          "output_type": "stream",
          "name": "stderr",
          "text": [
            "epoch 305: 100%|██████████| 200/200 [00:02<00:00, 84.23it/s, loss=0.092]\n",
            "100%|██████████| 100/100 [00:00<00:00, 289.75it/s]\n"
          ]
        },
        {
          "output_type": "stream",
          "name": "stdout",
          "text": [
            "accuray=0.63\n"
          ]
        },
        {
          "output_type": "stream",
          "name": "stderr",
          "text": [
            "epoch 306: 100%|██████████| 200/200 [00:02<00:00, 70.37it/s, loss=0.0823]\n",
            "100%|██████████| 100/100 [00:00<00:00, 384.54it/s]\n"
          ]
        },
        {
          "output_type": "stream",
          "name": "stdout",
          "text": [
            "accuray=0.59\n"
          ]
        },
        {
          "output_type": "stream",
          "name": "stderr",
          "text": [
            "epoch 307: 100%|██████████| 200/200 [00:02<00:00, 91.11it/s, loss=0.0936]\n",
            "100%|██████████| 100/100 [00:00<00:00, 390.80it/s]\n"
          ]
        },
        {
          "output_type": "stream",
          "name": "stdout",
          "text": [
            "accuray=0.54\n"
          ]
        },
        {
          "output_type": "stream",
          "name": "stderr",
          "text": [
            "epoch 308: 100%|██████████| 200/200 [00:02<00:00, 92.02it/s, loss=0.0692]\n",
            "100%|██████████| 100/100 [00:00<00:00, 389.48it/s]\n"
          ]
        },
        {
          "output_type": "stream",
          "name": "stdout",
          "text": [
            "accuray=0.63\n"
          ]
        },
        {
          "output_type": "stream",
          "name": "stderr",
          "text": [
            "epoch 309: 100%|██████████| 200/200 [00:02<00:00, 91.30it/s, loss=0.0875]\n",
            "100%|██████████| 100/100 [00:00<00:00, 378.79it/s]\n"
          ]
        },
        {
          "output_type": "stream",
          "name": "stdout",
          "text": [
            "accuray=0.52\n"
          ]
        },
        {
          "output_type": "stream",
          "name": "stderr",
          "text": [
            "epoch 310: 100%|██████████| 200/200 [00:02<00:00, 84.88it/s, loss=0.0612]\n",
            "100%|██████████| 100/100 [00:00<00:00, 294.60it/s]\n"
          ]
        },
        {
          "output_type": "stream",
          "name": "stdout",
          "text": [
            "accuray=0.73\n"
          ]
        },
        {
          "output_type": "stream",
          "name": "stderr",
          "text": [
            "epoch 311: 100%|██████████| 200/200 [00:02<00:00, 69.40it/s, loss=0.116]\n",
            "100%|██████████| 100/100 [00:00<00:00, 387.49it/s]\n"
          ]
        },
        {
          "output_type": "stream",
          "name": "stdout",
          "text": [
            "accuray=0.61\n"
          ]
        },
        {
          "output_type": "stream",
          "name": "stderr",
          "text": [
            "epoch 312: 100%|██████████| 200/200 [00:02<00:00, 92.09it/s, loss=0.0949]\n",
            "100%|██████████| 100/100 [00:00<00:00, 381.51it/s]\n"
          ]
        },
        {
          "output_type": "stream",
          "name": "stdout",
          "text": [
            "accuray=0.57\n"
          ]
        },
        {
          "output_type": "stream",
          "name": "stderr",
          "text": [
            "epoch 313: 100%|██████████| 200/200 [00:02<00:00, 92.87it/s, loss=0.0754]\n",
            "100%|██████████| 100/100 [00:00<00:00, 371.06it/s]\n"
          ]
        },
        {
          "output_type": "stream",
          "name": "stdout",
          "text": [
            "accuray=0.56\n"
          ]
        },
        {
          "output_type": "stream",
          "name": "stderr",
          "text": [
            "epoch 314: 100%|██████████| 200/200 [00:02<00:00, 91.25it/s, loss=0.0509]\n",
            "100%|██████████| 100/100 [00:00<00:00, 380.97it/s]\n"
          ]
        },
        {
          "output_type": "stream",
          "name": "stdout",
          "text": [
            "accuray=0.65\n"
          ]
        },
        {
          "output_type": "stream",
          "name": "stderr",
          "text": [
            "epoch 315: 100%|██████████| 200/200 [00:02<00:00, 87.89it/s, loss=0.0694]\n",
            "100%|██████████| 100/100 [00:00<00:00, 284.86it/s]\n"
          ]
        },
        {
          "output_type": "stream",
          "name": "stdout",
          "text": [
            "accuray=0.65\n"
          ]
        },
        {
          "output_type": "stream",
          "name": "stderr",
          "text": [
            "epoch 316: 100%|██████████| 200/200 [00:02<00:00, 68.07it/s, loss=0.0869]\n",
            "100%|██████████| 100/100 [00:00<00:00, 388.76it/s]\n"
          ]
        },
        {
          "output_type": "stream",
          "name": "stdout",
          "text": [
            "accuray=0.63\n"
          ]
        },
        {
          "output_type": "stream",
          "name": "stderr",
          "text": [
            "epoch 317: 100%|██████████| 200/200 [00:02<00:00, 91.00it/s, loss=0.0752]\n",
            "100%|██████████| 100/100 [00:00<00:00, 342.84it/s]\n"
          ]
        },
        {
          "output_type": "stream",
          "name": "stdout",
          "text": [
            "accuray=0.55\n"
          ]
        },
        {
          "output_type": "stream",
          "name": "stderr",
          "text": [
            "epoch 318: 100%|██████████| 200/200 [00:02<00:00, 92.03it/s, loss=0.0728]\n",
            "100%|██████████| 100/100 [00:00<00:00, 377.95it/s]\n"
          ]
        },
        {
          "output_type": "stream",
          "name": "stdout",
          "text": [
            "accuray=0.57\n"
          ]
        },
        {
          "output_type": "stream",
          "name": "stderr",
          "text": [
            "epoch 319: 100%|██████████| 200/200 [00:02<00:00, 91.86it/s, loss=0.12]\n",
            "100%|██████████| 100/100 [00:00<00:00, 389.01it/s]\n"
          ]
        },
        {
          "output_type": "stream",
          "name": "stdout",
          "text": [
            "accuray=0.62\n"
          ]
        },
        {
          "output_type": "stream",
          "name": "stderr",
          "text": [
            "epoch 320: 100%|██████████| 200/200 [00:02<00:00, 87.49it/s, loss=0.0876]\n",
            "100%|██████████| 100/100 [00:00<00:00, 287.92it/s]\n"
          ]
        },
        {
          "output_type": "stream",
          "name": "stdout",
          "text": [
            "accuray=0.66\n"
          ]
        },
        {
          "output_type": "stream",
          "name": "stderr",
          "text": [
            "epoch 321: 100%|██████████| 200/200 [00:02<00:00, 67.91it/s, loss=0.078]\n",
            "100%|██████████| 100/100 [00:00<00:00, 384.71it/s]\n"
          ]
        },
        {
          "output_type": "stream",
          "name": "stdout",
          "text": [
            "accuray=0.6\n"
          ]
        },
        {
          "output_type": "stream",
          "name": "stderr",
          "text": [
            "epoch 322: 100%|██████████| 200/200 [00:02<00:00, 91.78it/s, loss=0.1]\n",
            "100%|██████████| 100/100 [00:00<00:00, 385.00it/s]\n"
          ]
        },
        {
          "output_type": "stream",
          "name": "stdout",
          "text": [
            "accuray=0.57\n"
          ]
        },
        {
          "output_type": "stream",
          "name": "stderr",
          "text": [
            "epoch 323: 100%|██████████| 200/200 [00:02<00:00, 93.29it/s, loss=0.065]\n",
            "100%|██████████| 100/100 [00:00<00:00, 378.96it/s]\n"
          ]
        },
        {
          "output_type": "stream",
          "name": "stdout",
          "text": [
            "accuray=0.59\n"
          ]
        },
        {
          "output_type": "stream",
          "name": "stderr",
          "text": [
            "epoch 324: 100%|██████████| 200/200 [00:02<00:00, 91.73it/s, loss=0.0664]\n",
            "100%|██████████| 100/100 [00:00<00:00, 373.66it/s]\n"
          ]
        },
        {
          "output_type": "stream",
          "name": "stdout",
          "text": [
            "accuray=0.66\n"
          ]
        },
        {
          "output_type": "stream",
          "name": "stderr",
          "text": [
            "epoch 325: 100%|██████████| 200/200 [00:02<00:00, 89.22it/s, loss=0.0571]\n",
            "100%|██████████| 100/100 [00:00<00:00, 287.70it/s]\n"
          ]
        },
        {
          "output_type": "stream",
          "name": "stdout",
          "text": [
            "accuray=0.57\n"
          ]
        },
        {
          "output_type": "stream",
          "name": "stderr",
          "text": [
            "epoch 326: 100%|██████████| 200/200 [00:03<00:00, 66.06it/s, loss=0.0734]\n",
            "100%|██████████| 100/100 [00:00<00:00, 361.63it/s]\n"
          ]
        },
        {
          "output_type": "stream",
          "name": "stdout",
          "text": [
            "accuray=0.62\n"
          ]
        },
        {
          "output_type": "stream",
          "name": "stderr",
          "text": [
            "epoch 327: 100%|██████████| 200/200 [00:02<00:00, 91.97it/s, loss=0.1]\n",
            "100%|██████████| 100/100 [00:00<00:00, 388.06it/s]\n"
          ]
        },
        {
          "output_type": "stream",
          "name": "stdout",
          "text": [
            "accuray=0.59\n"
          ]
        },
        {
          "output_type": "stream",
          "name": "stderr",
          "text": [
            "epoch 328: 100%|██████████| 200/200 [00:02<00:00, 92.60it/s, loss=0.0848]\n",
            "100%|██████████| 100/100 [00:00<00:00, 384.01it/s]\n"
          ]
        },
        {
          "output_type": "stream",
          "name": "stdout",
          "text": [
            "accuray=0.51\n"
          ]
        },
        {
          "output_type": "stream",
          "name": "stderr",
          "text": [
            "epoch 329: 100%|██████████| 200/200 [00:02<00:00, 93.43it/s, loss=0.0791]\n",
            "100%|██████████| 100/100 [00:00<00:00, 376.72it/s]\n"
          ]
        },
        {
          "output_type": "stream",
          "name": "stdout",
          "text": [
            "accuray=0.64\n"
          ]
        },
        {
          "output_type": "stream",
          "name": "stderr",
          "text": [
            "epoch 330: 100%|██████████| 200/200 [00:02<00:00, 91.14it/s, loss=0.0976]\n",
            "100%|██████████| 100/100 [00:00<00:00, 275.55it/s]\n"
          ]
        },
        {
          "output_type": "stream",
          "name": "stdout",
          "text": [
            "accuray=0.58\n"
          ]
        },
        {
          "output_type": "stream",
          "name": "stderr",
          "text": [
            "epoch 331: 100%|██████████| 200/200 [00:03<00:00, 65.02it/s, loss=0.0805]\n",
            "100%|██████████| 100/100 [00:00<00:00, 394.67it/s]\n"
          ]
        },
        {
          "output_type": "stream",
          "name": "stdout",
          "text": [
            "accuray=0.65\n"
          ]
        },
        {
          "output_type": "stream",
          "name": "stderr",
          "text": [
            "epoch 332: 100%|██████████| 200/200 [00:02<00:00, 89.81it/s, loss=0.0834]\n",
            "100%|██████████| 100/100 [00:00<00:00, 374.21it/s]\n"
          ]
        },
        {
          "output_type": "stream",
          "name": "stdout",
          "text": [
            "accuray=0.62\n"
          ]
        },
        {
          "output_type": "stream",
          "name": "stderr",
          "text": [
            "epoch 333: 100%|██████████| 200/200 [00:02<00:00, 92.00it/s, loss=0.0694]\n",
            "100%|██████████| 100/100 [00:00<00:00, 390.74it/s]\n"
          ]
        },
        {
          "output_type": "stream",
          "name": "stdout",
          "text": [
            "accuray=0.67\n"
          ]
        },
        {
          "output_type": "stream",
          "name": "stderr",
          "text": [
            "epoch 334: 100%|██████████| 200/200 [00:02<00:00, 92.66it/s, loss=0.0839]\n",
            "100%|██████████| 100/100 [00:00<00:00, 374.61it/s]\n"
          ]
        },
        {
          "output_type": "stream",
          "name": "stdout",
          "text": [
            "accuray=0.57\n"
          ]
        },
        {
          "output_type": "stream",
          "name": "stderr",
          "text": [
            "epoch 335: 100%|██████████| 200/200 [00:02<00:00, 91.23it/s, loss=0.149]\n",
            "100%|██████████| 100/100 [00:00<00:00, 280.58it/s]\n"
          ]
        },
        {
          "output_type": "stream",
          "name": "stdout",
          "text": [
            "accuray=0.61\n"
          ]
        },
        {
          "output_type": "stream",
          "name": "stderr",
          "text": [
            "epoch 336: 100%|██████████| 200/200 [00:03<00:00, 64.80it/s, loss=0.0539]\n",
            "100%|██████████| 100/100 [00:00<00:00, 390.82it/s]\n"
          ]
        },
        {
          "output_type": "stream",
          "name": "stdout",
          "text": [
            "accuray=0.67\n"
          ]
        },
        {
          "output_type": "stream",
          "name": "stderr",
          "text": [
            "epoch 337: 100%|██████████| 200/200 [00:02<00:00, 89.90it/s, loss=0.0656]\n",
            "100%|██████████| 100/100 [00:00<00:00, 366.43it/s]\n"
          ]
        },
        {
          "output_type": "stream",
          "name": "stdout",
          "text": [
            "accuray=0.64\n"
          ]
        },
        {
          "output_type": "stream",
          "name": "stderr",
          "text": [
            "epoch 338: 100%|██████████| 200/200 [00:02<00:00, 93.30it/s, loss=0.0538]\n",
            "100%|██████████| 100/100 [00:00<00:00, 391.90it/s]\n"
          ]
        },
        {
          "output_type": "stream",
          "name": "stdout",
          "text": [
            "accuray=0.63\n"
          ]
        },
        {
          "output_type": "stream",
          "name": "stderr",
          "text": [
            "epoch 339: 100%|██████████| 200/200 [00:02<00:00, 93.10it/s, loss=0.0619]\n",
            "100%|██████████| 100/100 [00:00<00:00, 371.11it/s]\n"
          ]
        },
        {
          "output_type": "stream",
          "name": "stdout",
          "text": [
            "accuray=0.61\n"
          ]
        },
        {
          "output_type": "stream",
          "name": "stderr",
          "text": [
            "epoch 340: 100%|██████████| 200/200 [00:02<00:00, 91.38it/s, loss=0.0824]\n",
            "100%|██████████| 100/100 [00:00<00:00, 359.56it/s]\n"
          ]
        },
        {
          "output_type": "stream",
          "name": "stdout",
          "text": [
            "accuray=0.66\n"
          ]
        },
        {
          "output_type": "stream",
          "name": "stderr",
          "text": [
            "epoch 341: 100%|██████████| 200/200 [00:02<00:00, 66.99it/s, loss=0.0483]\n",
            "100%|██████████| 100/100 [00:00<00:00, 271.37it/s]\n"
          ]
        },
        {
          "output_type": "stream",
          "name": "stdout",
          "text": [
            "accuray=0.66\n"
          ]
        },
        {
          "output_type": "stream",
          "name": "stderr",
          "text": [
            "epoch 342: 100%|██████████| 200/200 [00:02<00:00, 91.20it/s, loss=0.0798]\n",
            "100%|██████████| 100/100 [00:00<00:00, 354.68it/s]\n"
          ]
        },
        {
          "output_type": "stream",
          "name": "stdout",
          "text": [
            "accuray=0.62\n"
          ]
        },
        {
          "output_type": "stream",
          "name": "stderr",
          "text": [
            "epoch 343: 100%|██████████| 200/200 [00:02<00:00, 91.27it/s, loss=0.0413]\n",
            "100%|██████████| 100/100 [00:00<00:00, 362.84it/s]\n"
          ]
        },
        {
          "output_type": "stream",
          "name": "stdout",
          "text": [
            "accuray=0.58\n"
          ]
        },
        {
          "output_type": "stream",
          "name": "stderr",
          "text": [
            "epoch 344: 100%|██████████| 200/200 [00:02<00:00, 92.17it/s, loss=0.278]\n",
            "100%|██████████| 100/100 [00:00<00:00, 379.53it/s]\n"
          ]
        },
        {
          "output_type": "stream",
          "name": "stdout",
          "text": [
            "accuray=0.49\n"
          ]
        },
        {
          "output_type": "stream",
          "name": "stderr",
          "text": [
            "epoch 345: 100%|██████████| 200/200 [00:02<00:00, 92.19it/s, loss=0.0645]\n",
            "100%|██████████| 100/100 [00:00<00:00, 383.75it/s]\n"
          ]
        },
        {
          "output_type": "stream",
          "name": "stdout",
          "text": [
            "accuray=0.63\n"
          ]
        },
        {
          "output_type": "stream",
          "name": "stderr",
          "text": [
            "epoch 346: 100%|██████████| 200/200 [00:03<00:00, 65.90it/s, loss=0.0421]\n",
            "100%|██████████| 100/100 [00:00<00:00, 261.59it/s]\n"
          ]
        },
        {
          "output_type": "stream",
          "name": "stdout",
          "text": [
            "accuray=0.56\n"
          ]
        },
        {
          "output_type": "stream",
          "name": "stderr",
          "text": [
            "epoch 347: 100%|██████████| 200/200 [00:02<00:00, 89.34it/s, loss=0.0612]\n",
            "100%|██████████| 100/100 [00:00<00:00, 383.67it/s]\n"
          ]
        },
        {
          "output_type": "stream",
          "name": "stdout",
          "text": [
            "accuray=0.72\n"
          ]
        },
        {
          "output_type": "stream",
          "name": "stderr",
          "text": [
            "epoch 348: 100%|██████████| 200/200 [00:02<00:00, 90.97it/s, loss=0.0376]\n",
            "100%|██████████| 100/100 [00:00<00:00, 388.98it/s]\n"
          ]
        },
        {
          "output_type": "stream",
          "name": "stdout",
          "text": [
            "accuray=0.62\n"
          ]
        },
        {
          "output_type": "stream",
          "name": "stderr",
          "text": [
            "epoch 349: 100%|██████████| 200/200 [00:02<00:00, 90.75it/s, loss=0.0466]\n",
            "100%|██████████| 100/100 [00:00<00:00, 404.91it/s]\n"
          ]
        },
        {
          "output_type": "stream",
          "name": "stdout",
          "text": [
            "accuray=0.68\n"
          ]
        },
        {
          "output_type": "stream",
          "name": "stderr",
          "text": [
            "epoch 350: 100%|██████████| 200/200 [00:02<00:00, 91.33it/s, loss=0.0995]\n",
            "100%|██████████| 100/100 [00:00<00:00, 361.29it/s]\n"
          ]
        },
        {
          "output_type": "stream",
          "name": "stdout",
          "text": [
            "accuray=0.66\n"
          ]
        },
        {
          "output_type": "stream",
          "name": "stderr",
          "text": [
            "epoch 351: 100%|██████████| 200/200 [00:02<00:00, 66.70it/s, loss=0.071]\n",
            "100%|██████████| 100/100 [00:00<00:00, 255.42it/s]\n"
          ]
        },
        {
          "output_type": "stream",
          "name": "stdout",
          "text": [
            "accuray=0.61\n"
          ]
        },
        {
          "output_type": "stream",
          "name": "stderr",
          "text": [
            "epoch 352: 100%|██████████| 200/200 [00:02<00:00, 88.94it/s, loss=0.06]\n",
            "100%|██████████| 100/100 [00:00<00:00, 371.85it/s]\n"
          ]
        },
        {
          "output_type": "stream",
          "name": "stdout",
          "text": [
            "accuray=0.5\n"
          ]
        },
        {
          "output_type": "stream",
          "name": "stderr",
          "text": [
            "epoch 353: 100%|██████████| 200/200 [00:02<00:00, 91.31it/s, loss=0.0919]\n",
            "100%|██████████| 100/100 [00:00<00:00, 361.74it/s]\n"
          ]
        },
        {
          "output_type": "stream",
          "name": "stdout",
          "text": [
            "accuray=0.54\n"
          ]
        },
        {
          "output_type": "stream",
          "name": "stderr",
          "text": [
            "epoch 354: 100%|██████████| 200/200 [00:02<00:00, 90.35it/s, loss=0.0412]\n",
            "100%|██████████| 100/100 [00:00<00:00, 381.30it/s]\n"
          ]
        },
        {
          "output_type": "stream",
          "name": "stdout",
          "text": [
            "accuray=0.63\n"
          ]
        },
        {
          "output_type": "stream",
          "name": "stderr",
          "text": [
            "epoch 355: 100%|██████████| 200/200 [00:02<00:00, 91.34it/s, loss=0.0521]\n",
            "100%|██████████| 100/100 [00:00<00:00, 371.54it/s]\n"
          ]
        },
        {
          "output_type": "stream",
          "name": "stdout",
          "text": [
            "accuray=0.63\n"
          ]
        },
        {
          "output_type": "stream",
          "name": "stderr",
          "text": [
            "epoch 356: 100%|██████████| 200/200 [00:03<00:00, 65.93it/s, loss=0.0516]\n",
            "100%|██████████| 100/100 [00:00<00:00, 257.37it/s]\n"
          ]
        },
        {
          "output_type": "stream",
          "name": "stdout",
          "text": [
            "accuray=0.63\n"
          ]
        },
        {
          "output_type": "stream",
          "name": "stderr",
          "text": [
            "epoch 357: 100%|██████████| 200/200 [00:02<00:00, 90.23it/s, loss=0.0404]\n",
            "100%|██████████| 100/100 [00:00<00:00, 385.71it/s]\n"
          ]
        },
        {
          "output_type": "stream",
          "name": "stdout",
          "text": [
            "accuray=0.71\n"
          ]
        },
        {
          "output_type": "stream",
          "name": "stderr",
          "text": [
            "epoch 358: 100%|██████████| 200/200 [00:02<00:00, 90.35it/s, loss=0.215]\n",
            "100%|██████████| 100/100 [00:00<00:00, 369.43it/s]\n"
          ]
        },
        {
          "output_type": "stream",
          "name": "stdout",
          "text": [
            "accuray=0.57\n"
          ]
        },
        {
          "output_type": "stream",
          "name": "stderr",
          "text": [
            "epoch 359: 100%|██████████| 200/200 [00:02<00:00, 91.05it/s, loss=0.066]\n",
            "100%|██████████| 100/100 [00:00<00:00, 407.72it/s]\n"
          ]
        },
        {
          "output_type": "stream",
          "name": "stdout",
          "text": [
            "accuray=0.67\n"
          ]
        },
        {
          "output_type": "stream",
          "name": "stderr",
          "text": [
            "epoch 360: 100%|██████████| 200/200 [00:02<00:00, 91.04it/s, loss=0.0355]\n",
            "100%|██████████| 100/100 [00:00<00:00, 364.31it/s]\n"
          ]
        },
        {
          "output_type": "stream",
          "name": "stdout",
          "text": [
            "accuray=0.68\n"
          ]
        },
        {
          "output_type": "stream",
          "name": "stderr",
          "text": [
            "epoch 361: 100%|██████████| 200/200 [00:02<00:00, 67.58it/s, loss=0.0459]\n",
            "100%|██████████| 100/100 [00:00<00:00, 269.80it/s]\n"
          ]
        },
        {
          "output_type": "stream",
          "name": "stdout",
          "text": [
            "accuray=0.64\n"
          ]
        },
        {
          "output_type": "stream",
          "name": "stderr",
          "text": [
            "epoch 362: 100%|██████████| 200/200 [00:02<00:00, 88.01it/s, loss=0.0438]\n",
            "100%|██████████| 100/100 [00:00<00:00, 338.86it/s]\n"
          ]
        },
        {
          "output_type": "stream",
          "name": "stdout",
          "text": [
            "accuray=0.62\n"
          ]
        },
        {
          "output_type": "stream",
          "name": "stderr",
          "text": [
            "epoch 363: 100%|██████████| 200/200 [00:02<00:00, 90.39it/s, loss=0.068]\n",
            "100%|██████████| 100/100 [00:00<00:00, 381.04it/s]\n"
          ]
        },
        {
          "output_type": "stream",
          "name": "stdout",
          "text": [
            "accuray=0.55\n"
          ]
        },
        {
          "output_type": "stream",
          "name": "stderr",
          "text": [
            "epoch 364: 100%|██████████| 200/200 [00:02<00:00, 91.26it/s, loss=0.053]\n",
            "100%|██████████| 100/100 [00:00<00:00, 376.16it/s]\n"
          ]
        },
        {
          "output_type": "stream",
          "name": "stdout",
          "text": [
            "accuray=0.58\n"
          ]
        },
        {
          "output_type": "stream",
          "name": "stderr",
          "text": [
            "epoch 365: 100%|██████████| 200/200 [00:02<00:00, 90.27it/s, loss=0.0605]\n",
            "100%|██████████| 100/100 [00:00<00:00, 376.61it/s]\n"
          ]
        },
        {
          "output_type": "stream",
          "name": "stdout",
          "text": [
            "accuray=0.57\n"
          ]
        },
        {
          "output_type": "stream",
          "name": "stderr",
          "text": [
            "epoch 366: 100%|██████████| 200/200 [00:02<00:00, 68.03it/s, loss=0.0314]\n",
            "100%|██████████| 100/100 [00:00<00:00, 233.98it/s]\n"
          ]
        },
        {
          "output_type": "stream",
          "name": "stdout",
          "text": [
            "accuray=0.59\n"
          ]
        },
        {
          "output_type": "stream",
          "name": "stderr",
          "text": [
            "epoch 367: 100%|██████████| 200/200 [00:02<00:00, 83.27it/s, loss=0.0458]\n",
            "100%|██████████| 100/100 [00:00<00:00, 360.34it/s]\n"
          ]
        },
        {
          "output_type": "stream",
          "name": "stdout",
          "text": [
            "accuray=0.56\n"
          ]
        },
        {
          "output_type": "stream",
          "name": "stderr",
          "text": [
            "epoch 368: 100%|██████████| 200/200 [00:02<00:00, 91.86it/s, loss=0.0414]\n",
            "100%|██████████| 100/100 [00:00<00:00, 373.30it/s]\n"
          ]
        },
        {
          "output_type": "stream",
          "name": "stdout",
          "text": [
            "accuray=0.61\n"
          ]
        },
        {
          "output_type": "stream",
          "name": "stderr",
          "text": [
            "epoch 369: 100%|██████████| 200/200 [00:02<00:00, 91.19it/s, loss=0.11]\n",
            "100%|██████████| 100/100 [00:00<00:00, 383.96it/s]\n"
          ]
        },
        {
          "output_type": "stream",
          "name": "stdout",
          "text": [
            "accuray=0.59\n"
          ]
        },
        {
          "output_type": "stream",
          "name": "stderr",
          "text": [
            "epoch 370: 100%|██████████| 200/200 [00:02<00:00, 91.04it/s, loss=0.119]\n",
            "100%|██████████| 100/100 [00:00<00:00, 364.11it/s]\n"
          ]
        },
        {
          "output_type": "stream",
          "name": "stdout",
          "text": [
            "accuray=0.58\n"
          ]
        },
        {
          "output_type": "stream",
          "name": "stderr",
          "text": [
            "epoch 371: 100%|██████████| 200/200 [00:02<00:00, 67.92it/s, loss=0.0667]\n",
            "100%|██████████| 100/100 [00:00<00:00, 265.28it/s]\n"
          ]
        },
        {
          "output_type": "stream",
          "name": "stdout",
          "text": [
            "accuray=0.61\n"
          ]
        },
        {
          "output_type": "stream",
          "name": "stderr",
          "text": [
            "epoch 372: 100%|██████████| 200/200 [00:02<00:00, 85.96it/s, loss=0.047]\n",
            "100%|██████████| 100/100 [00:00<00:00, 377.55it/s]\n"
          ]
        },
        {
          "output_type": "stream",
          "name": "stdout",
          "text": [
            "accuray=0.64\n"
          ]
        },
        {
          "output_type": "stream",
          "name": "stderr",
          "text": [
            "epoch 373: 100%|██████████| 200/200 [00:02<00:00, 91.02it/s, loss=0.059]\n",
            "100%|██████████| 100/100 [00:00<00:00, 387.36it/s]\n"
          ]
        },
        {
          "output_type": "stream",
          "name": "stdout",
          "text": [
            "accuray=0.65\n"
          ]
        },
        {
          "output_type": "stream",
          "name": "stderr",
          "text": [
            "epoch 374: 100%|██████████| 200/200 [00:02<00:00, 91.82it/s, loss=0.0341]\n",
            "100%|██████████| 100/100 [00:00<00:00, 381.90it/s]\n"
          ]
        },
        {
          "output_type": "stream",
          "name": "stdout",
          "text": [
            "accuray=0.54\n"
          ]
        },
        {
          "output_type": "stream",
          "name": "stderr",
          "text": [
            "epoch 375: 100%|██████████| 200/200 [00:02<00:00, 90.00it/s, loss=0.246]\n",
            "100%|██████████| 100/100 [00:00<00:00, 386.57it/s]\n"
          ]
        },
        {
          "output_type": "stream",
          "name": "stdout",
          "text": [
            "accuray=0.6\n"
          ]
        },
        {
          "output_type": "stream",
          "name": "stderr",
          "text": [
            "epoch 376: 100%|██████████| 200/200 [00:02<00:00, 69.28it/s, loss=0.0544]\n",
            "100%|██████████| 100/100 [00:00<00:00, 263.21it/s]\n"
          ]
        },
        {
          "output_type": "stream",
          "name": "stdout",
          "text": [
            "accuray=0.73\n"
          ]
        },
        {
          "output_type": "stream",
          "name": "stderr",
          "text": [
            "epoch 377: 100%|██████████| 200/200 [00:02<00:00, 84.47it/s, loss=0.0447]\n",
            "100%|██████████| 100/100 [00:00<00:00, 376.70it/s]\n"
          ]
        },
        {
          "output_type": "stream",
          "name": "stdout",
          "text": [
            "accuray=0.64\n"
          ]
        },
        {
          "output_type": "stream",
          "name": "stderr",
          "text": [
            "epoch 378: 100%|██████████| 200/200 [00:02<00:00, 88.86it/s, loss=0.0308]\n",
            "100%|██████████| 100/100 [00:00<00:00, 335.70it/s]\n"
          ]
        },
        {
          "output_type": "stream",
          "name": "stdout",
          "text": [
            "accuray=0.58\n"
          ]
        },
        {
          "output_type": "stream",
          "name": "stderr",
          "text": [
            "epoch 379: 100%|██████████| 200/200 [00:02<00:00, 90.33it/s, loss=0.0297]\n",
            "100%|██████████| 100/100 [00:00<00:00, 377.12it/s]\n"
          ]
        },
        {
          "output_type": "stream",
          "name": "stdout",
          "text": [
            "accuray=0.67\n"
          ]
        },
        {
          "output_type": "stream",
          "name": "stderr",
          "text": [
            "epoch 380: 100%|██████████| 200/200 [00:02<00:00, 90.51it/s, loss=0.0405]\n",
            "100%|██████████| 100/100 [00:00<00:00, 373.34it/s]\n"
          ]
        },
        {
          "output_type": "stream",
          "name": "stdout",
          "text": [
            "accuray=0.66\n"
          ]
        },
        {
          "output_type": "stream",
          "name": "stderr",
          "text": [
            "epoch 381: 100%|██████████| 200/200 [00:02<00:00, 68.87it/s, loss=0.0348]\n",
            "100%|██████████| 100/100 [00:00<00:00, 260.31it/s]\n"
          ]
        },
        {
          "output_type": "stream",
          "name": "stdout",
          "text": [
            "accuray=0.7\n"
          ]
        },
        {
          "output_type": "stream",
          "name": "stderr",
          "text": [
            "epoch 382: 100%|██████████| 200/200 [00:02<00:00, 83.66it/s, loss=0.221]\n",
            "100%|██████████| 100/100 [00:00<00:00, 373.57it/s]\n"
          ]
        },
        {
          "output_type": "stream",
          "name": "stdout",
          "text": [
            "accuray=0.59\n"
          ]
        },
        {
          "output_type": "stream",
          "name": "stderr",
          "text": [
            "epoch 383: 100%|██████████| 200/200 [00:02<00:00, 90.43it/s, loss=0.0378]\n",
            "100%|██████████| 100/100 [00:00<00:00, 369.35it/s]\n"
          ]
        },
        {
          "output_type": "stream",
          "name": "stdout",
          "text": [
            "accuray=0.66\n"
          ]
        },
        {
          "output_type": "stream",
          "name": "stderr",
          "text": [
            "epoch 384: 100%|██████████| 200/200 [00:02<00:00, 91.15it/s, loss=0.0464]\n",
            "100%|██████████| 100/100 [00:00<00:00, 379.91it/s]\n"
          ]
        },
        {
          "output_type": "stream",
          "name": "stdout",
          "text": [
            "accuray=0.65\n"
          ]
        },
        {
          "output_type": "stream",
          "name": "stderr",
          "text": [
            "epoch 385: 100%|██████████| 200/200 [00:02<00:00, 90.13it/s, loss=0.0273]\n",
            "100%|██████████| 100/100 [00:00<00:00, 354.94it/s]\n"
          ]
        },
        {
          "output_type": "stream",
          "name": "stdout",
          "text": [
            "accuray=0.66\n"
          ]
        },
        {
          "output_type": "stream",
          "name": "stderr",
          "text": [
            "epoch 386: 100%|██████████| 200/200 [00:02<00:00, 67.31it/s, loss=0.0311]\n",
            "100%|██████████| 100/100 [00:00<00:00, 249.43it/s]\n"
          ]
        },
        {
          "output_type": "stream",
          "name": "stdout",
          "text": [
            "accuray=0.6\n"
          ]
        },
        {
          "output_type": "stream",
          "name": "stderr",
          "text": [
            "epoch 387: 100%|██████████| 200/200 [00:02<00:00, 83.53it/s, loss=0.0304]\n",
            "100%|██████████| 100/100 [00:00<00:00, 355.55it/s]\n"
          ]
        },
        {
          "output_type": "stream",
          "name": "stdout",
          "text": [
            "accuray=0.6\n"
          ]
        },
        {
          "output_type": "stream",
          "name": "stderr",
          "text": [
            "epoch 388: 100%|██████████| 200/200 [00:02<00:00, 89.56it/s, loss=0.0454]\n",
            "100%|██████████| 100/100 [00:00<00:00, 385.84it/s]\n"
          ]
        },
        {
          "output_type": "stream",
          "name": "stdout",
          "text": [
            "accuray=0.63\n"
          ]
        },
        {
          "output_type": "stream",
          "name": "stderr",
          "text": [
            "epoch 389: 100%|██████████| 200/200 [00:02<00:00, 91.01it/s, loss=0.147]\n",
            "100%|██████████| 100/100 [00:00<00:00, 360.50it/s]\n"
          ]
        },
        {
          "output_type": "stream",
          "name": "stdout",
          "text": [
            "accuray=0.6\n"
          ]
        },
        {
          "output_type": "stream",
          "name": "stderr",
          "text": [
            "epoch 390: 100%|██████████| 200/200 [00:02<00:00, 85.61it/s, loss=0.0561]\n",
            "100%|██████████| 100/100 [00:00<00:00, 357.76it/s]\n"
          ]
        },
        {
          "output_type": "stream",
          "name": "stdout",
          "text": [
            "accuray=0.62\n"
          ]
        },
        {
          "output_type": "stream",
          "name": "stderr",
          "text": [
            "epoch 391: 100%|██████████| 200/200 [00:03<00:00, 65.26it/s, loss=0.038]\n",
            "100%|██████████| 100/100 [00:00<00:00, 246.21it/s]\n"
          ]
        },
        {
          "output_type": "stream",
          "name": "stdout",
          "text": [
            "accuray=0.65\n"
          ]
        },
        {
          "output_type": "stream",
          "name": "stderr",
          "text": [
            "epoch 392: 100%|██████████| 200/200 [00:02<00:00, 86.63it/s, loss=0.0364]\n",
            "100%|██████████| 100/100 [00:00<00:00, 374.80it/s]\n"
          ]
        },
        {
          "output_type": "stream",
          "name": "stdout",
          "text": [
            "accuray=0.69\n"
          ]
        },
        {
          "output_type": "stream",
          "name": "stderr",
          "text": [
            "epoch 393: 100%|██████████| 200/200 [00:02<00:00, 90.04it/s, loss=0.029]\n",
            "100%|██████████| 100/100 [00:00<00:00, 380.64it/s]\n"
          ]
        },
        {
          "output_type": "stream",
          "name": "stdout",
          "text": [
            "accuray=0.61\n"
          ]
        },
        {
          "output_type": "stream",
          "name": "stderr",
          "text": [
            "epoch 394: 100%|██████████| 200/200 [00:02<00:00, 89.39it/s, loss=0.034]\n",
            "100%|██████████| 100/100 [00:00<00:00, 369.01it/s]\n"
          ]
        },
        {
          "output_type": "stream",
          "name": "stdout",
          "text": [
            "accuray=0.54\n"
          ]
        },
        {
          "output_type": "stream",
          "name": "stderr",
          "text": [
            "epoch 395: 100%|██████████| 200/200 [00:02<00:00, 89.34it/s, loss=0.0576]\n",
            "100%|██████████| 100/100 [00:00<00:00, 394.52it/s]\n"
          ]
        },
        {
          "output_type": "stream",
          "name": "stdout",
          "text": [
            "accuray=0.61\n"
          ]
        },
        {
          "output_type": "stream",
          "name": "stderr",
          "text": [
            "epoch 396: 100%|██████████| 200/200 [00:03<00:00, 65.16it/s, loss=0.0937]\n",
            "100%|██████████| 100/100 [00:00<00:00, 262.88it/s]\n"
          ]
        },
        {
          "output_type": "stream",
          "name": "stdout",
          "text": [
            "accuray=0.67\n"
          ]
        },
        {
          "output_type": "stream",
          "name": "stderr",
          "text": [
            "epoch 397: 100%|██████████| 200/200 [00:02<00:00, 91.18it/s, loss=0.0477]\n",
            "100%|██████████| 100/100 [00:00<00:00, 370.21it/s]\n"
          ]
        },
        {
          "output_type": "stream",
          "name": "stdout",
          "text": [
            "accuray=0.65\n"
          ]
        },
        {
          "output_type": "stream",
          "name": "stderr",
          "text": [
            "epoch 398: 100%|██████████| 200/200 [00:02<00:00, 89.74it/s, loss=0.0494]\n",
            "100%|██████████| 100/100 [00:00<00:00, 396.07it/s]\n"
          ]
        },
        {
          "output_type": "stream",
          "name": "stdout",
          "text": [
            "accuray=0.59\n"
          ]
        },
        {
          "output_type": "stream",
          "name": "stderr",
          "text": [
            "epoch 399: 100%|██████████| 200/200 [00:02<00:00, 89.68it/s, loss=0.0433]\n",
            "100%|██████████| 100/100 [00:00<00:00, 357.53it/s]\n"
          ]
        },
        {
          "output_type": "stream",
          "name": "stdout",
          "text": [
            "accuray=0.58\n"
          ]
        },
        {
          "output_type": "stream",
          "name": "stderr",
          "text": [
            "epoch 400: 100%|██████████| 200/200 [00:02<00:00, 90.41it/s, loss=0.0373]\n",
            "100%|██████████| 100/100 [00:00<00:00, 359.14it/s]\n"
          ]
        },
        {
          "output_type": "stream",
          "name": "stdout",
          "text": [
            "accuray=0.6\n"
          ]
        },
        {
          "output_type": "stream",
          "name": "stderr",
          "text": [
            "epoch 401: 100%|██████████| 200/200 [00:03<00:00, 64.45it/s, loss=0.027]\n",
            "100%|██████████| 100/100 [00:00<00:00, 257.20it/s]\n"
          ]
        },
        {
          "output_type": "stream",
          "name": "stdout",
          "text": [
            "accuray=0.6\n"
          ]
        },
        {
          "output_type": "stream",
          "name": "stderr",
          "text": [
            "epoch 402: 100%|██████████| 200/200 [00:02<00:00, 89.90it/s, loss=0.0891]\n",
            "100%|██████████| 100/100 [00:00<00:00, 364.47it/s]\n"
          ]
        },
        {
          "output_type": "stream",
          "name": "stdout",
          "text": [
            "accuray=0.61\n"
          ]
        },
        {
          "output_type": "stream",
          "name": "stderr",
          "text": [
            "epoch 403: 100%|██████████| 200/200 [00:02<00:00, 89.82it/s, loss=0.0754]\n",
            "100%|██████████| 100/100 [00:00<00:00, 356.61it/s]\n"
          ]
        },
        {
          "output_type": "stream",
          "name": "stdout",
          "text": [
            "accuray=0.58\n"
          ]
        },
        {
          "output_type": "stream",
          "name": "stderr",
          "text": [
            "epoch 404: 100%|██████████| 200/200 [00:02<00:00, 89.81it/s, loss=0.0334]\n",
            "100%|██████████| 100/100 [00:00<00:00, 353.65it/s]\n"
          ]
        },
        {
          "output_type": "stream",
          "name": "stdout",
          "text": [
            "accuray=0.57\n"
          ]
        },
        {
          "output_type": "stream",
          "name": "stderr",
          "text": [
            "epoch 405: 100%|██████████| 200/200 [00:02<00:00, 89.22it/s, loss=0.0265]\n",
            "100%|██████████| 100/100 [00:00<00:00, 320.63it/s]\n"
          ]
        },
        {
          "output_type": "stream",
          "name": "stdout",
          "text": [
            "accuray=0.61\n"
          ]
        },
        {
          "output_type": "stream",
          "name": "stderr",
          "text": [
            "epoch 406: 100%|██████████| 200/200 [00:03<00:00, 64.98it/s, loss=0.0244]\n",
            "100%|██████████| 100/100 [00:00<00:00, 254.55it/s]\n"
          ]
        },
        {
          "output_type": "stream",
          "name": "stdout",
          "text": [
            "accuray=0.56\n"
          ]
        },
        {
          "output_type": "stream",
          "name": "stderr",
          "text": [
            "epoch 407: 100%|██████████| 200/200 [00:02<00:00, 89.21it/s, loss=0.053]\n",
            "100%|██████████| 100/100 [00:00<00:00, 372.64it/s]\n"
          ]
        },
        {
          "output_type": "stream",
          "name": "stdout",
          "text": [
            "accuray=0.64\n"
          ]
        },
        {
          "output_type": "stream",
          "name": "stderr",
          "text": [
            "epoch 408: 100%|██████████| 200/200 [00:02<00:00, 89.86it/s, loss=0.0218]\n",
            "100%|██████████| 100/100 [00:00<00:00, 380.85it/s]\n"
          ]
        },
        {
          "output_type": "stream",
          "name": "stdout",
          "text": [
            "accuray=0.54\n"
          ]
        },
        {
          "output_type": "stream",
          "name": "stderr",
          "text": [
            "epoch 409: 100%|██████████| 200/200 [00:02<00:00, 89.50it/s, loss=0.0388]\n",
            "100%|██████████| 100/100 [00:00<00:00, 372.96it/s]\n"
          ]
        },
        {
          "output_type": "stream",
          "name": "stdout",
          "text": [
            "accuray=0.57\n"
          ]
        },
        {
          "output_type": "stream",
          "name": "stderr",
          "text": [
            "epoch 410: 100%|██████████| 200/200 [00:02<00:00, 91.04it/s, loss=0.129]\n",
            "100%|██████████| 100/100 [00:00<00:00, 314.03it/s]\n"
          ]
        },
        {
          "output_type": "stream",
          "name": "stdout",
          "text": [
            "accuray=0.67\n"
          ]
        },
        {
          "output_type": "stream",
          "name": "stderr",
          "text": [
            "epoch 411: 100%|██████████| 200/200 [00:03<00:00, 63.94it/s, loss=0.0354]\n",
            "100%|██████████| 100/100 [00:00<00:00, 311.30it/s]\n"
          ]
        },
        {
          "output_type": "stream",
          "name": "stdout",
          "text": [
            "accuray=0.66\n"
          ]
        },
        {
          "output_type": "stream",
          "name": "stderr",
          "text": [
            "epoch 412: 100%|██████████| 200/200 [00:02<00:00, 87.43it/s, loss=0.031]\n",
            "100%|██████████| 100/100 [00:00<00:00, 386.65it/s]\n"
          ]
        },
        {
          "output_type": "stream",
          "name": "stdout",
          "text": [
            "accuray=0.66\n"
          ]
        },
        {
          "output_type": "stream",
          "name": "stderr",
          "text": [
            "epoch 413: 100%|██████████| 200/200 [00:02<00:00, 89.98it/s, loss=0.0227]\n",
            "100%|██████████| 100/100 [00:00<00:00, 373.06it/s]\n"
          ]
        },
        {
          "output_type": "stream",
          "name": "stdout",
          "text": [
            "accuray=0.65\n"
          ]
        },
        {
          "output_type": "stream",
          "name": "stderr",
          "text": [
            "epoch 414: 100%|██████████| 200/200 [00:02<00:00, 91.43it/s, loss=0.029]\n",
            "100%|██████████| 100/100 [00:00<00:00, 370.31it/s]\n"
          ]
        },
        {
          "output_type": "stream",
          "name": "stdout",
          "text": [
            "accuray=0.68\n"
          ]
        },
        {
          "output_type": "stream",
          "name": "stderr",
          "text": [
            "epoch 415: 100%|██████████| 200/200 [00:02<00:00, 90.00it/s, loss=0.0196]\n",
            "100%|██████████| 100/100 [00:00<00:00, 315.17it/s]\n"
          ]
        },
        {
          "output_type": "stream",
          "name": "stdout",
          "text": [
            "accuray=0.61\n"
          ]
        },
        {
          "output_type": "stream",
          "name": "stderr",
          "text": [
            "epoch 416: 100%|██████████| 200/200 [00:03<00:00, 64.04it/s, loss=0.0308]\n",
            "100%|██████████| 100/100 [00:00<00:00, 295.07it/s]\n"
          ]
        },
        {
          "output_type": "stream",
          "name": "stdout",
          "text": [
            "accuray=0.59\n"
          ]
        },
        {
          "output_type": "stream",
          "name": "stderr",
          "text": [
            "epoch 417: 100%|██████████| 200/200 [00:02<00:00, 90.03it/s, loss=0.0493]\n",
            "100%|██████████| 100/100 [00:00<00:00, 391.84it/s]\n"
          ]
        },
        {
          "output_type": "stream",
          "name": "stdout",
          "text": [
            "accuray=0.6\n"
          ]
        },
        {
          "output_type": "stream",
          "name": "stderr",
          "text": [
            "epoch 418: 100%|██████████| 200/200 [00:02<00:00, 89.83it/s, loss=0.119]\n",
            "100%|██████████| 100/100 [00:00<00:00, 359.68it/s]\n"
          ]
        },
        {
          "output_type": "stream",
          "name": "stdout",
          "text": [
            "accuray=0.55\n"
          ]
        },
        {
          "output_type": "stream",
          "name": "stderr",
          "text": [
            "epoch 419: 100%|██████████| 200/200 [00:02<00:00, 91.08it/s, loss=0.0412]\n",
            "100%|██████████| 100/100 [00:00<00:00, 374.87it/s]\n"
          ]
        },
        {
          "output_type": "stream",
          "name": "stdout",
          "text": [
            "accuray=0.55\n"
          ]
        },
        {
          "output_type": "stream",
          "name": "stderr",
          "text": [
            "epoch 420: 100%|██████████| 200/200 [00:02<00:00, 89.92it/s, loss=0.0415]\n",
            "100%|██████████| 100/100 [00:00<00:00, 286.89it/s]\n"
          ]
        },
        {
          "output_type": "stream",
          "name": "stdout",
          "text": [
            "accuray=0.58\n"
          ]
        },
        {
          "output_type": "stream",
          "name": "stderr",
          "text": [
            "epoch 421: 100%|██████████| 200/200 [00:03<00:00, 66.36it/s, loss=0.0358]\n",
            "100%|██████████| 100/100 [00:00<00:00, 289.60it/s]\n"
          ]
        },
        {
          "output_type": "stream",
          "name": "stdout",
          "text": [
            "accuray=0.68\n"
          ]
        },
        {
          "output_type": "stream",
          "name": "stderr",
          "text": [
            "epoch 422: 100%|██████████| 200/200 [00:02<00:00, 90.11it/s, loss=0.036]\n",
            "100%|██████████| 100/100 [00:00<00:00, 371.62it/s]\n"
          ]
        },
        {
          "output_type": "stream",
          "name": "stdout",
          "text": [
            "accuray=0.63\n"
          ]
        },
        {
          "output_type": "stream",
          "name": "stderr",
          "text": [
            "epoch 423: 100%|██████████| 200/200 [00:02<00:00, 89.09it/s, loss=0.025]\n",
            "100%|██████████| 100/100 [00:00<00:00, 364.83it/s]\n"
          ]
        },
        {
          "output_type": "stream",
          "name": "stdout",
          "text": [
            "accuray=0.67\n"
          ]
        },
        {
          "output_type": "stream",
          "name": "stderr",
          "text": [
            "epoch 424: 100%|██████████| 200/200 [00:02<00:00, 91.55it/s, loss=0.053]\n",
            "100%|██████████| 100/100 [00:00<00:00, 398.94it/s]\n"
          ]
        },
        {
          "output_type": "stream",
          "name": "stdout",
          "text": [
            "accuray=0.63\n"
          ]
        },
        {
          "output_type": "stream",
          "name": "stderr",
          "text": [
            "epoch 425: 100%|██████████| 200/200 [00:02<00:00, 91.33it/s, loss=0.118]\n",
            "100%|██████████| 100/100 [00:00<00:00, 318.55it/s]\n"
          ]
        },
        {
          "output_type": "stream",
          "name": "stdout",
          "text": [
            "accuray=0.56\n"
          ]
        },
        {
          "output_type": "stream",
          "name": "stderr",
          "text": [
            "epoch 426: 100%|██████████| 200/200 [00:02<00:00, 66.95it/s, loss=0.099]\n",
            "100%|██████████| 100/100 [00:00<00:00, 252.55it/s]\n"
          ]
        },
        {
          "output_type": "stream",
          "name": "stdout",
          "text": [
            "accuray=0.6\n"
          ]
        },
        {
          "output_type": "stream",
          "name": "stderr",
          "text": [
            "epoch 427: 100%|██████████| 200/200 [00:02<00:00, 90.24it/s, loss=0.0328]\n",
            "100%|██████████| 100/100 [00:00<00:00, 376.50it/s]\n"
          ]
        },
        {
          "output_type": "stream",
          "name": "stdout",
          "text": [
            "accuray=0.64\n"
          ]
        },
        {
          "output_type": "stream",
          "name": "stderr",
          "text": [
            "epoch 428: 100%|██████████| 200/200 [00:02<00:00, 90.51it/s, loss=0.0299]\n",
            "100%|██████████| 100/100 [00:00<00:00, 371.99it/s]\n"
          ]
        },
        {
          "output_type": "stream",
          "name": "stdout",
          "text": [
            "accuray=0.63\n"
          ]
        },
        {
          "output_type": "stream",
          "name": "stderr",
          "text": [
            "epoch 429: 100%|██████████| 200/200 [00:02<00:00, 89.42it/s, loss=0.0271]\n",
            "100%|██████████| 100/100 [00:00<00:00, 387.81it/s]\n"
          ]
        },
        {
          "output_type": "stream",
          "name": "stdout",
          "text": [
            "accuray=0.62\n"
          ]
        },
        {
          "output_type": "stream",
          "name": "stderr",
          "text": [
            "epoch 430: 100%|██████████| 200/200 [00:02<00:00, 91.10it/s, loss=0.0214]\n",
            "100%|██████████| 100/100 [00:00<00:00, 397.70it/s]\n"
          ]
        },
        {
          "output_type": "stream",
          "name": "stdout",
          "text": [
            "accuray=0.65\n"
          ]
        },
        {
          "output_type": "stream",
          "name": "stderr",
          "text": [
            "epoch 431: 100%|██████████| 200/200 [00:03<00:00, 65.64it/s, loss=0.0272]\n",
            "100%|██████████| 100/100 [00:00<00:00, 243.56it/s]\n"
          ]
        },
        {
          "output_type": "stream",
          "name": "stdout",
          "text": [
            "accuray=0.58\n"
          ]
        },
        {
          "output_type": "stream",
          "name": "stderr",
          "text": [
            "epoch 432: 100%|██████████| 200/200 [00:02<00:00, 90.07it/s, loss=0.0216]\n",
            "100%|██████████| 100/100 [00:00<00:00, 360.92it/s]\n"
          ]
        },
        {
          "output_type": "stream",
          "name": "stdout",
          "text": [
            "accuray=0.62\n"
          ]
        },
        {
          "output_type": "stream",
          "name": "stderr",
          "text": [
            "epoch 433: 100%|██████████| 200/200 [00:02<00:00, 89.66it/s, loss=0.105]\n",
            "100%|██████████| 100/100 [00:00<00:00, 365.99it/s]\n"
          ]
        },
        {
          "output_type": "stream",
          "name": "stdout",
          "text": [
            "accuray=0.58\n"
          ]
        },
        {
          "output_type": "stream",
          "name": "stderr",
          "text": [
            "epoch 434: 100%|██████████| 200/200 [00:02<00:00, 87.57it/s, loss=0.0496]\n",
            "100%|██████████| 100/100 [00:00<00:00, 359.51it/s]\n"
          ]
        },
        {
          "output_type": "stream",
          "name": "stdout",
          "text": [
            "accuray=0.6\n"
          ]
        },
        {
          "output_type": "stream",
          "name": "stderr",
          "text": [
            "epoch 435: 100%|██████████| 200/200 [00:02<00:00, 87.25it/s, loss=0.0288]\n",
            "100%|██████████| 100/100 [00:00<00:00, 325.14it/s]\n"
          ]
        },
        {
          "output_type": "stream",
          "name": "stdout",
          "text": [
            "accuray=0.69\n"
          ]
        },
        {
          "output_type": "stream",
          "name": "stderr",
          "text": [
            "epoch 436: 100%|██████████| 200/200 [00:03<00:00, 66.23it/s, loss=0.023]\n",
            "100%|██████████| 100/100 [00:00<00:00, 257.64it/s]\n"
          ]
        },
        {
          "output_type": "stream",
          "name": "stdout",
          "text": [
            "accuray=0.69\n"
          ]
        },
        {
          "output_type": "stream",
          "name": "stderr",
          "text": [
            "epoch 437: 100%|██████████| 200/200 [00:02<00:00, 90.03it/s, loss=0.0234]\n",
            "100%|██████████| 100/100 [00:00<00:00, 400.20it/s]\n"
          ]
        },
        {
          "output_type": "stream",
          "name": "stdout",
          "text": [
            "accuray=0.71\n"
          ]
        },
        {
          "output_type": "stream",
          "name": "stderr",
          "text": [
            "epoch 438: 100%|██████████| 200/200 [00:02<00:00, 89.83it/s, loss=0.032]\n",
            "100%|██████████| 100/100 [00:00<00:00, 376.98it/s]\n"
          ]
        },
        {
          "output_type": "stream",
          "name": "stdout",
          "text": [
            "accuray=0.6\n"
          ]
        },
        {
          "output_type": "stream",
          "name": "stderr",
          "text": [
            "epoch 439: 100%|██████████| 200/200 [00:02<00:00, 89.94it/s, loss=0.0382]\n",
            "100%|██████████| 100/100 [00:00<00:00, 375.88it/s]\n"
          ]
        },
        {
          "output_type": "stream",
          "name": "stdout",
          "text": [
            "accuray=0.56\n"
          ]
        },
        {
          "output_type": "stream",
          "name": "stderr",
          "text": [
            "epoch 440: 100%|██████████| 200/200 [00:02<00:00, 90.70it/s, loss=0.098]\n",
            "100%|██████████| 100/100 [00:00<00:00, 373.60it/s]\n"
          ]
        },
        {
          "output_type": "stream",
          "name": "stdout",
          "text": [
            "accuray=0.59\n"
          ]
        },
        {
          "output_type": "stream",
          "name": "stderr",
          "text": [
            "epoch 441: 100%|██████████| 200/200 [00:03<00:00, 65.97it/s, loss=0.0475]\n",
            "100%|██████████| 100/100 [00:00<00:00, 259.80it/s]\n"
          ]
        },
        {
          "output_type": "stream",
          "name": "stdout",
          "text": [
            "accuray=0.67\n"
          ]
        },
        {
          "output_type": "stream",
          "name": "stderr",
          "text": [
            "epoch 442: 100%|██████████| 200/200 [00:02<00:00, 90.28it/s, loss=0.0344]\n",
            "100%|██████████| 100/100 [00:00<00:00, 374.34it/s]\n"
          ]
        },
        {
          "output_type": "stream",
          "name": "stdout",
          "text": [
            "accuray=0.63\n"
          ]
        },
        {
          "output_type": "stream",
          "name": "stderr",
          "text": [
            "epoch 443: 100%|██████████| 200/200 [00:02<00:00, 90.04it/s, loss=0.0256]\n",
            "100%|██████████| 100/100 [00:00<00:00, 383.68it/s]\n"
          ]
        },
        {
          "output_type": "stream",
          "name": "stdout",
          "text": [
            "accuray=0.66\n"
          ]
        },
        {
          "output_type": "stream",
          "name": "stderr",
          "text": [
            "epoch 444: 100%|██████████| 200/200 [00:02<00:00, 90.63it/s, loss=0.0208]\n",
            "100%|██████████| 100/100 [00:00<00:00, 369.60it/s]\n"
          ]
        },
        {
          "output_type": "stream",
          "name": "stdout",
          "text": [
            "accuray=0.63\n"
          ]
        },
        {
          "output_type": "stream",
          "name": "stderr",
          "text": [
            "epoch 445: 100%|██████████| 200/200 [00:02<00:00, 89.48it/s, loss=0.0356]\n",
            "100%|██████████| 100/100 [00:00<00:00, 379.23it/s]\n"
          ]
        },
        {
          "output_type": "stream",
          "name": "stdout",
          "text": [
            "accuray=0.66\n"
          ]
        },
        {
          "output_type": "stream",
          "name": "stderr",
          "text": [
            "epoch 446: 100%|██████████| 200/200 [00:03<00:00, 64.61it/s, loss=0.0338]\n",
            "100%|██████████| 100/100 [00:00<00:00, 249.86it/s]\n"
          ]
        },
        {
          "output_type": "stream",
          "name": "stdout",
          "text": [
            "accuray=0.57\n"
          ]
        },
        {
          "output_type": "stream",
          "name": "stderr",
          "text": [
            "epoch 447: 100%|██████████| 200/200 [00:02<00:00, 90.06it/s, loss=0.239]\n",
            "100%|██████████| 100/100 [00:00<00:00, 383.38it/s]\n"
          ]
        },
        {
          "output_type": "stream",
          "name": "stdout",
          "text": [
            "accuray=0.55\n"
          ]
        },
        {
          "output_type": "stream",
          "name": "stderr",
          "text": [
            "epoch 448: 100%|██████████| 200/200 [00:02<00:00, 90.37it/s, loss=0.0414]\n",
            "100%|██████████| 100/100 [00:00<00:00, 377.66it/s]\n"
          ]
        },
        {
          "output_type": "stream",
          "name": "stdout",
          "text": [
            "accuray=0.61\n"
          ]
        },
        {
          "output_type": "stream",
          "name": "stderr",
          "text": [
            "epoch 449: 100%|██████████| 200/200 [00:02<00:00, 90.21it/s, loss=0.0191]\n",
            "100%|██████████| 100/100 [00:00<00:00, 374.80it/s]\n"
          ]
        },
        {
          "output_type": "stream",
          "name": "stdout",
          "text": [
            "accuray=0.67\n"
          ]
        },
        {
          "output_type": "stream",
          "name": "stderr",
          "text": [
            "epoch 450: 100%|██████████| 200/200 [00:02<00:00, 90.64it/s, loss=0.018]\n",
            "100%|██████████| 100/100 [00:00<00:00, 363.98it/s]\n"
          ]
        },
        {
          "output_type": "stream",
          "name": "stdout",
          "text": [
            "accuray=0.55\n"
          ]
        },
        {
          "output_type": "stream",
          "name": "stderr",
          "text": [
            "epoch 451: 100%|██████████| 200/200 [00:03<00:00, 63.14it/s, loss=0.0185]\n",
            "100%|██████████| 100/100 [00:00<00:00, 264.37it/s]\n"
          ]
        },
        {
          "output_type": "stream",
          "name": "stdout",
          "text": [
            "accuray=0.62\n"
          ]
        },
        {
          "output_type": "stream",
          "name": "stderr",
          "text": [
            "epoch 452: 100%|██████████| 200/200 [00:02<00:00, 90.72it/s, loss=0.0274]\n",
            "100%|██████████| 100/100 [00:00<00:00, 376.31it/s]\n"
          ]
        },
        {
          "output_type": "stream",
          "name": "stdout",
          "text": [
            "accuray=0.61\n"
          ]
        },
        {
          "output_type": "stream",
          "name": "stderr",
          "text": [
            "epoch 453: 100%|██████████| 200/200 [00:02<00:00, 89.88it/s, loss=0.0177]\n",
            "100%|██████████| 100/100 [00:00<00:00, 373.86it/s]\n"
          ]
        },
        {
          "output_type": "stream",
          "name": "stdout",
          "text": [
            "accuray=0.65\n"
          ]
        },
        {
          "output_type": "stream",
          "name": "stderr",
          "text": [
            "epoch 454: 100%|██████████| 200/200 [00:02<00:00, 90.06it/s, loss=0.0237]\n",
            "100%|██████████| 100/100 [00:00<00:00, 381.01it/s]\n"
          ]
        },
        {
          "output_type": "stream",
          "name": "stdout",
          "text": [
            "accuray=0.56\n"
          ]
        },
        {
          "output_type": "stream",
          "name": "stderr",
          "text": [
            "epoch 455: 100%|██████████| 200/200 [00:02<00:00, 91.09it/s, loss=0.0275]\n",
            "100%|██████████| 100/100 [00:00<00:00, 351.23it/s]\n"
          ]
        },
        {
          "output_type": "stream",
          "name": "stdout",
          "text": [
            "accuray=0.65\n"
          ]
        },
        {
          "output_type": "stream",
          "name": "stderr",
          "text": [
            "epoch 456: 100%|██████████| 200/200 [00:03<00:00, 64.44it/s, loss=0.102]\n",
            "100%|██████████| 100/100 [00:00<00:00, 287.17it/s]\n"
          ]
        },
        {
          "output_type": "stream",
          "name": "stdout",
          "text": [
            "accuray=0.66\n"
          ]
        },
        {
          "output_type": "stream",
          "name": "stderr",
          "text": [
            "epoch 457: 100%|██████████| 200/200 [00:02<00:00, 86.47it/s, loss=0.0701]\n",
            "100%|██████████| 100/100 [00:00<00:00, 370.10it/s]\n"
          ]
        },
        {
          "output_type": "stream",
          "name": "stdout",
          "text": [
            "accuray=0.6\n"
          ]
        },
        {
          "output_type": "stream",
          "name": "stderr",
          "text": [
            "epoch 458: 100%|██████████| 200/200 [00:02<00:00, 90.49it/s, loss=0.0258]\n",
            "100%|██████████| 100/100 [00:00<00:00, 384.31it/s]\n"
          ]
        },
        {
          "output_type": "stream",
          "name": "stdout",
          "text": [
            "accuray=0.6\n"
          ]
        },
        {
          "output_type": "stream",
          "name": "stderr",
          "text": [
            "epoch 459: 100%|██████████| 200/200 [00:02<00:00, 91.55it/s, loss=0.0243]\n",
            "100%|██████████| 100/100 [00:00<00:00, 369.95it/s]\n"
          ]
        },
        {
          "output_type": "stream",
          "name": "stdout",
          "text": [
            "accuray=0.57\n"
          ]
        },
        {
          "output_type": "stream",
          "name": "stderr",
          "text": [
            "epoch 460: 100%|██████████| 200/200 [00:02<00:00, 91.47it/s, loss=0.0227]\n",
            "100%|██████████| 100/100 [00:00<00:00, 343.21it/s]\n"
          ]
        },
        {
          "output_type": "stream",
          "name": "stdout",
          "text": [
            "accuray=0.73\n"
          ]
        },
        {
          "output_type": "stream",
          "name": "stderr",
          "text": [
            "epoch 461: 100%|██████████| 200/200 [00:03<00:00, 65.59it/s, loss=0.0129]\n",
            "100%|██████████| 100/100 [00:00<00:00, 242.36it/s]\n"
          ]
        },
        {
          "output_type": "stream",
          "name": "stdout",
          "text": [
            "accuray=0.59\n"
          ]
        },
        {
          "output_type": "stream",
          "name": "stderr",
          "text": [
            "epoch 462: 100%|██████████| 200/200 [00:02<00:00, 90.62it/s, loss=0.0172]\n",
            "100%|██████████| 100/100 [00:00<00:00, 384.55it/s]\n"
          ]
        },
        {
          "output_type": "stream",
          "name": "stdout",
          "text": [
            "accuray=0.64\n"
          ]
        },
        {
          "output_type": "stream",
          "name": "stderr",
          "text": [
            "epoch 463: 100%|██████████| 200/200 [00:02<00:00, 91.63it/s, loss=0.0219]\n",
            "100%|██████████| 100/100 [00:00<00:00, 387.49it/s]\n"
          ]
        },
        {
          "output_type": "stream",
          "name": "stdout",
          "text": [
            "accuray=0.63\n"
          ]
        },
        {
          "output_type": "stream",
          "name": "stderr",
          "text": [
            "epoch 464: 100%|██████████| 200/200 [00:02<00:00, 89.28it/s, loss=0.042]\n",
            "100%|██████████| 100/100 [00:00<00:00, 385.52it/s]\n"
          ]
        },
        {
          "output_type": "stream",
          "name": "stdout",
          "text": [
            "accuray=0.67\n"
          ]
        },
        {
          "output_type": "stream",
          "name": "stderr",
          "text": [
            "epoch 465: 100%|██████████| 200/200 [00:02<00:00, 90.00it/s, loss=0.104]\n",
            "100%|██████████| 100/100 [00:00<00:00, 386.19it/s]\n"
          ]
        },
        {
          "output_type": "stream",
          "name": "stdout",
          "text": [
            "accuray=0.59\n"
          ]
        },
        {
          "output_type": "stream",
          "name": "stderr",
          "text": [
            "epoch 466: 100%|██████████| 200/200 [00:03<00:00, 64.30it/s, loss=0.0231]\n",
            "100%|██████████| 100/100 [00:00<00:00, 253.10it/s]\n"
          ]
        },
        {
          "output_type": "stream",
          "name": "stdout",
          "text": [
            "accuray=0.65\n"
          ]
        },
        {
          "output_type": "stream",
          "name": "stderr",
          "text": [
            "epoch 467: 100%|██████████| 200/200 [00:02<00:00, 89.58it/s, loss=0.0177]\n",
            "100%|██████████| 100/100 [00:00<00:00, 375.81it/s]\n"
          ]
        },
        {
          "output_type": "stream",
          "name": "stdout",
          "text": [
            "accuray=0.62\n"
          ]
        },
        {
          "output_type": "stream",
          "name": "stderr",
          "text": [
            "epoch 468: 100%|██████████| 200/200 [00:02<00:00, 89.63it/s, loss=0.0234]\n",
            "100%|██████████| 100/100 [00:00<00:00, 367.43it/s]\n"
          ]
        },
        {
          "output_type": "stream",
          "name": "stdout",
          "text": [
            "accuray=0.52\n"
          ]
        },
        {
          "output_type": "stream",
          "name": "stderr",
          "text": [
            "epoch 469: 100%|██████████| 200/200 [00:02<00:00, 89.59it/s, loss=0.0138]\n",
            "100%|██████████| 100/100 [00:00<00:00, 379.68it/s]\n"
          ]
        },
        {
          "output_type": "stream",
          "name": "stdout",
          "text": [
            "accuray=0.69\n"
          ]
        },
        {
          "output_type": "stream",
          "name": "stderr",
          "text": [
            "epoch 470: 100%|██████████| 200/200 [00:02<00:00, 89.99it/s, loss=0.0213]\n",
            "100%|██████████| 100/100 [00:00<00:00, 304.94it/s]\n"
          ]
        },
        {
          "output_type": "stream",
          "name": "stdout",
          "text": [
            "accuray=0.62\n"
          ]
        },
        {
          "output_type": "stream",
          "name": "stderr",
          "text": [
            "epoch 471: 100%|██████████| 200/200 [00:03<00:00, 66.62it/s, loss=0.02]\n",
            "100%|██████████| 100/100 [00:00<00:00, 258.26it/s]\n"
          ]
        },
        {
          "output_type": "stream",
          "name": "stdout",
          "text": [
            "accuray=0.55\n"
          ]
        },
        {
          "output_type": "stream",
          "name": "stderr",
          "text": [
            "epoch 472: 100%|██████████| 200/200 [00:02<00:00, 90.81it/s, loss=0.0211]\n",
            "100%|██████████| 100/100 [00:00<00:00, 372.18it/s]\n"
          ]
        },
        {
          "output_type": "stream",
          "name": "stdout",
          "text": [
            "accuray=0.59\n"
          ]
        },
        {
          "output_type": "stream",
          "name": "stderr",
          "text": [
            "epoch 473: 100%|██████████| 200/200 [00:02<00:00, 89.41it/s, loss=0.137]\n",
            "100%|██████████| 100/100 [00:00<00:00, 378.33it/s]\n"
          ]
        },
        {
          "output_type": "stream",
          "name": "stdout",
          "text": [
            "accuray=0.58\n"
          ]
        },
        {
          "output_type": "stream",
          "name": "stderr",
          "text": [
            "epoch 474: 100%|██████████| 200/200 [00:02<00:00, 89.39it/s, loss=0.039]\n",
            "100%|██████████| 100/100 [00:00<00:00, 373.26it/s]\n"
          ]
        },
        {
          "output_type": "stream",
          "name": "stdout",
          "text": [
            "accuray=0.62\n"
          ]
        },
        {
          "output_type": "stream",
          "name": "stderr",
          "text": [
            "epoch 475: 100%|██████████| 200/200 [00:02<00:00, 90.91it/s, loss=0.02]\n",
            "100%|██████████| 100/100 [00:00<00:00, 378.68it/s]\n"
          ]
        },
        {
          "output_type": "stream",
          "name": "stdout",
          "text": [
            "accuray=0.6\n"
          ]
        },
        {
          "output_type": "stream",
          "name": "stderr",
          "text": [
            "epoch 476: 100%|██████████| 200/200 [00:02<00:00, 67.50it/s, loss=0.0119]\n",
            "100%|██████████| 100/100 [00:00<00:00, 263.98it/s]\n"
          ]
        },
        {
          "output_type": "stream",
          "name": "stdout",
          "text": [
            "accuray=0.65\n"
          ]
        },
        {
          "output_type": "stream",
          "name": "stderr",
          "text": [
            "epoch 477: 100%|██████████| 200/200 [00:02<00:00, 86.74it/s, loss=0.0209]\n",
            "100%|██████████| 100/100 [00:00<00:00, 367.68it/s]\n"
          ]
        },
        {
          "output_type": "stream",
          "name": "stdout",
          "text": [
            "accuray=0.58\n"
          ]
        },
        {
          "output_type": "stream",
          "name": "stderr",
          "text": [
            "epoch 478: 100%|██████████| 200/200 [00:02<00:00, 90.56it/s, loss=0.0312]\n",
            "100%|██████████| 100/100 [00:00<00:00, 396.80it/s]\n"
          ]
        },
        {
          "output_type": "stream",
          "name": "stdout",
          "text": [
            "accuray=0.67\n"
          ]
        },
        {
          "output_type": "stream",
          "name": "stderr",
          "text": [
            "epoch 479: 100%|██████████| 200/200 [00:02<00:00, 91.13it/s, loss=0.0239]\n",
            "100%|██████████| 100/100 [00:00<00:00, 388.46it/s]\n"
          ]
        },
        {
          "output_type": "stream",
          "name": "stdout",
          "text": [
            "accuray=0.67\n"
          ]
        },
        {
          "output_type": "stream",
          "name": "stderr",
          "text": [
            "epoch 480: 100%|██████████| 200/200 [00:02<00:00, 89.01it/s, loss=0.0168]\n",
            "100%|██████████| 100/100 [00:00<00:00, 376.26it/s]\n"
          ]
        },
        {
          "output_type": "stream",
          "name": "stdout",
          "text": [
            "accuray=0.63\n"
          ]
        },
        {
          "output_type": "stream",
          "name": "stderr",
          "text": [
            "epoch 481: 100%|██████████| 200/200 [00:02<00:00, 66.94it/s, loss=0.0301]\n",
            "100%|██████████| 100/100 [00:00<00:00, 273.02it/s]\n"
          ]
        },
        {
          "output_type": "stream",
          "name": "stdout",
          "text": [
            "accuray=0.7\n"
          ]
        },
        {
          "output_type": "stream",
          "name": "stderr",
          "text": [
            "epoch 482: 100%|██████████| 200/200 [00:02<00:00, 84.32it/s, loss=0.129]\n",
            "100%|██████████| 100/100 [00:00<00:00, 372.09it/s]\n"
          ]
        },
        {
          "output_type": "stream",
          "name": "stdout",
          "text": [
            "accuray=0.61\n"
          ]
        },
        {
          "output_type": "stream",
          "name": "stderr",
          "text": [
            "epoch 483: 100%|██████████| 200/200 [00:02<00:00, 89.68it/s, loss=0.032]\n",
            "100%|██████████| 100/100 [00:00<00:00, 383.60it/s]\n"
          ]
        },
        {
          "output_type": "stream",
          "name": "stdout",
          "text": [
            "accuray=0.57\n"
          ]
        },
        {
          "output_type": "stream",
          "name": "stderr",
          "text": [
            "epoch 484: 100%|██████████| 200/200 [00:02<00:00, 90.31it/s, loss=0.0158]\n",
            "100%|██████████| 100/100 [00:00<00:00, 374.37it/s]\n"
          ]
        },
        {
          "output_type": "stream",
          "name": "stdout",
          "text": [
            "accuray=0.67\n"
          ]
        },
        {
          "output_type": "stream",
          "name": "stderr",
          "text": [
            "epoch 485: 100%|██████████| 200/200 [00:02<00:00, 90.76it/s, loss=0.021]\n",
            "100%|██████████| 100/100 [00:00<00:00, 370.03it/s]\n"
          ]
        },
        {
          "output_type": "stream",
          "name": "stdout",
          "text": [
            "accuray=0.61\n"
          ]
        },
        {
          "output_type": "stream",
          "name": "stderr",
          "text": [
            "epoch 486: 100%|██████████| 200/200 [00:02<00:00, 67.75it/s, loss=0.0167]\n",
            "100%|██████████| 100/100 [00:00<00:00, 276.82it/s]\n"
          ]
        },
        {
          "output_type": "stream",
          "name": "stdout",
          "text": [
            "accuray=0.66\n"
          ]
        },
        {
          "output_type": "stream",
          "name": "stderr",
          "text": [
            "epoch 487: 100%|██████████| 200/200 [00:02<00:00, 83.24it/s, loss=0.0182]\n",
            "100%|██████████| 100/100 [00:00<00:00, 376.50it/s]\n"
          ]
        },
        {
          "output_type": "stream",
          "name": "stdout",
          "text": [
            "accuray=0.64\n"
          ]
        },
        {
          "output_type": "stream",
          "name": "stderr",
          "text": [
            "epoch 488: 100%|██████████| 200/200 [00:02<00:00, 90.25it/s, loss=0.0147]\n",
            "100%|██████████| 100/100 [00:00<00:00, 387.23it/s]\n"
          ]
        },
        {
          "output_type": "stream",
          "name": "stdout",
          "text": [
            "accuray=0.63\n"
          ]
        },
        {
          "output_type": "stream",
          "name": "stderr",
          "text": [
            "epoch 489: 100%|██████████| 200/200 [00:02<00:00, 91.05it/s, loss=0.0198]\n",
            "100%|██████████| 100/100 [00:00<00:00, 352.65it/s]\n"
          ]
        },
        {
          "output_type": "stream",
          "name": "stdout",
          "text": [
            "accuray=0.63\n"
          ]
        },
        {
          "output_type": "stream",
          "name": "stderr",
          "text": [
            "epoch 490: 100%|██████████| 200/200 [00:02<00:00, 91.13it/s, loss=0.029]\n",
            "100%|██████████| 100/100 [00:00<00:00, 369.53it/s]\n"
          ]
        },
        {
          "output_type": "stream",
          "name": "stdout",
          "text": [
            "accuray=0.59\n"
          ]
        },
        {
          "output_type": "stream",
          "name": "stderr",
          "text": [
            "epoch 491: 100%|██████████| 200/200 [00:02<00:00, 67.65it/s, loss=0.185]\n",
            "100%|██████████| 100/100 [00:00<00:00, 248.92it/s]\n"
          ]
        },
        {
          "output_type": "stream",
          "name": "stdout",
          "text": [
            "accuray=0.56\n"
          ]
        },
        {
          "output_type": "stream",
          "name": "stderr",
          "text": [
            "epoch 492: 100%|██████████| 200/200 [00:02<00:00, 84.04it/s, loss=0.029]\n",
            "100%|██████████| 100/100 [00:00<00:00, 368.14it/s]\n"
          ]
        },
        {
          "output_type": "stream",
          "name": "stdout",
          "text": [
            "accuray=0.6\n"
          ]
        },
        {
          "output_type": "stream",
          "name": "stderr",
          "text": [
            "epoch 493: 100%|██████████| 200/200 [00:02<00:00, 90.10it/s, loss=0.0223]\n",
            "100%|██████████| 100/100 [00:00<00:00, 384.51it/s]\n"
          ]
        },
        {
          "output_type": "stream",
          "name": "stdout",
          "text": [
            "accuray=0.58\n"
          ]
        },
        {
          "output_type": "stream",
          "name": "stderr",
          "text": [
            "epoch 494: 100%|██████████| 200/200 [00:02<00:00, 89.69it/s, loss=0.0229]\n",
            "100%|██████████| 100/100 [00:00<00:00, 365.18it/s]\n"
          ]
        },
        {
          "output_type": "stream",
          "name": "stdout",
          "text": [
            "accuray=0.59\n"
          ]
        },
        {
          "output_type": "stream",
          "name": "stderr",
          "text": [
            "epoch 495: 100%|██████████| 200/200 [00:02<00:00, 90.35it/s, loss=0.0134]\n",
            "100%|██████████| 100/100 [00:00<00:00, 392.99it/s]\n"
          ]
        },
        {
          "output_type": "stream",
          "name": "stdout",
          "text": [
            "accuray=0.6\n"
          ]
        },
        {
          "output_type": "stream",
          "name": "stderr",
          "text": [
            "epoch 496: 100%|██████████| 200/200 [00:02<00:00, 69.33it/s, loss=0.0142]\n",
            "100%|██████████| 100/100 [00:00<00:00, 267.09it/s]\n"
          ]
        },
        {
          "output_type": "stream",
          "name": "stdout",
          "text": [
            "accuray=0.74\n"
          ]
        },
        {
          "output_type": "stream",
          "name": "stderr",
          "text": [
            "epoch 497: 100%|██████████| 200/200 [00:02<00:00, 82.52it/s, loss=0.0173]\n",
            "100%|██████████| 100/100 [00:00<00:00, 400.27it/s]\n"
          ]
        },
        {
          "output_type": "stream",
          "name": "stdout",
          "text": [
            "accuray=0.62\n"
          ]
        },
        {
          "output_type": "stream",
          "name": "stderr",
          "text": [
            "epoch 498: 100%|██████████| 200/200 [00:02<00:00, 89.76it/s, loss=0.0133]\n",
            "100%|██████████| 100/100 [00:00<00:00, 370.12it/s]\n"
          ]
        },
        {
          "output_type": "stream",
          "name": "stdout",
          "text": [
            "accuray=0.57\n"
          ]
        },
        {
          "output_type": "stream",
          "name": "stderr",
          "text": [
            "epoch 499: 100%|██████████| 200/200 [00:02<00:00, 89.35it/s, loss=0.232]\n",
            "100%|██████████| 100/100 [00:00<00:00, 369.20it/s]\n"
          ]
        },
        {
          "output_type": "stream",
          "name": "stdout",
          "text": [
            "accuray=0.49\n"
          ]
        },
        {
          "output_type": "stream",
          "name": "stderr",
          "text": [
            "epoch 500: 100%|██████████| 200/200 [00:02<00:00, 90.55it/s, loss=0.0339]\n",
            "100%|██████████| 100/100 [00:00<00:00, 373.30it/s]\n"
          ]
        },
        {
          "output_type": "stream",
          "name": "stdout",
          "text": [
            "accuray=0.55\n"
          ]
        },
        {
          "output_type": "stream",
          "name": "stderr",
          "text": [
            "epoch 501: 100%|██████████| 200/200 [00:02<00:00, 70.24it/s, loss=0.0192]\n",
            "100%|██████████| 100/100 [00:00<00:00, 262.36it/s]\n"
          ]
        },
        {
          "output_type": "stream",
          "name": "stdout",
          "text": [
            "accuray=0.59\n"
          ]
        },
        {
          "output_type": "stream",
          "name": "stderr",
          "text": [
            "epoch 502: 100%|██████████| 200/200 [00:02<00:00, 79.69it/s, loss=0.0128]\n",
            "100%|██████████| 100/100 [00:00<00:00, 385.45it/s]\n"
          ]
        },
        {
          "output_type": "stream",
          "name": "stdout",
          "text": [
            "accuray=0.74\n"
          ]
        },
        {
          "output_type": "stream",
          "name": "stderr",
          "text": [
            "epoch 503: 100%|██████████| 200/200 [00:02<00:00, 89.33it/s, loss=0.0141]\n",
            "100%|██████████| 100/100 [00:00<00:00, 370.64it/s]\n"
          ]
        },
        {
          "output_type": "stream",
          "name": "stdout",
          "text": [
            "accuray=0.58\n"
          ]
        },
        {
          "output_type": "stream",
          "name": "stderr",
          "text": [
            "epoch 504: 100%|██████████| 200/200 [00:02<00:00, 89.98it/s, loss=0.0114]\n",
            "100%|██████████| 100/100 [00:00<00:00, 391.97it/s]\n"
          ]
        },
        {
          "output_type": "stream",
          "name": "stdout",
          "text": [
            "accuray=0.64\n"
          ]
        },
        {
          "output_type": "stream",
          "name": "stderr",
          "text": [
            "epoch 505: 100%|██████████| 200/200 [00:02<00:00, 89.36it/s, loss=0.0129]\n",
            "100%|██████████| 100/100 [00:00<00:00, 349.96it/s]\n"
          ]
        },
        {
          "output_type": "stream",
          "name": "stdout",
          "text": [
            "accuray=0.66\n"
          ]
        },
        {
          "output_type": "stream",
          "name": "stderr",
          "text": [
            "epoch 506: 100%|██████████| 200/200 [00:02<00:00, 68.79it/s, loss=0.00948]\n",
            "100%|██████████| 100/100 [00:00<00:00, 266.43it/s]\n"
          ]
        },
        {
          "output_type": "stream",
          "name": "stdout",
          "text": [
            "accuray=0.63\n"
          ]
        },
        {
          "output_type": "stream",
          "name": "stderr",
          "text": [
            "epoch 507: 100%|██████████| 200/200 [00:02<00:00, 82.64it/s, loss=0.0169]\n",
            "100%|██████████| 100/100 [00:00<00:00, 373.05it/s]\n"
          ]
        },
        {
          "output_type": "stream",
          "name": "stdout",
          "text": [
            "accuray=0.63\n"
          ]
        },
        {
          "output_type": "stream",
          "name": "stderr",
          "text": [
            "epoch 508: 100%|██████████| 200/200 [00:02<00:00, 90.92it/s, loss=0.103]\n",
            "100%|██████████| 100/100 [00:00<00:00, 365.66it/s]\n"
          ]
        },
        {
          "output_type": "stream",
          "name": "stdout",
          "text": [
            "accuray=0.47\n"
          ]
        },
        {
          "output_type": "stream",
          "name": "stderr",
          "text": [
            "epoch 509: 100%|██████████| 200/200 [00:02<00:00, 89.40it/s, loss=0.0671]\n",
            "100%|██████████| 100/100 [00:00<00:00, 383.52it/s]\n"
          ]
        },
        {
          "output_type": "stream",
          "name": "stdout",
          "text": [
            "accuray=0.57\n"
          ]
        },
        {
          "output_type": "stream",
          "name": "stderr",
          "text": [
            "epoch 510: 100%|██████████| 200/200 [00:02<00:00, 89.16it/s, loss=0.0201]\n",
            "100%|██████████| 100/100 [00:00<00:00, 388.15it/s]\n"
          ]
        },
        {
          "output_type": "stream",
          "name": "stdout",
          "text": [
            "accuray=0.62\n"
          ]
        },
        {
          "output_type": "stream",
          "name": "stderr",
          "text": [
            "epoch 511: 100%|██████████| 200/200 [00:02<00:00, 68.36it/s, loss=0.0161]\n",
            "100%|██████████| 100/100 [00:00<00:00, 259.39it/s]\n"
          ]
        },
        {
          "output_type": "stream",
          "name": "stdout",
          "text": [
            "accuray=0.68\n"
          ]
        },
        {
          "output_type": "stream",
          "name": "stderr",
          "text": [
            "epoch 512: 100%|██████████| 200/200 [00:02<00:00, 83.36it/s, loss=0.00952]\n",
            "100%|██████████| 100/100 [00:00<00:00, 374.52it/s]\n"
          ]
        },
        {
          "output_type": "stream",
          "name": "stdout",
          "text": [
            "accuray=0.62\n"
          ]
        },
        {
          "output_type": "stream",
          "name": "stderr",
          "text": [
            "epoch 513: 100%|██████████| 200/200 [00:02<00:00, 88.19it/s, loss=0.0116]\n",
            "100%|██████████| 100/100 [00:00<00:00, 358.27it/s]\n"
          ]
        },
        {
          "output_type": "stream",
          "name": "stdout",
          "text": [
            "accuray=0.68\n"
          ]
        },
        {
          "output_type": "stream",
          "name": "stderr",
          "text": [
            "epoch 514: 100%|██████████| 200/200 [00:02<00:00, 90.25it/s, loss=0.0111]\n",
            "100%|██████████| 100/100 [00:00<00:00, 374.68it/s]\n"
          ]
        },
        {
          "output_type": "stream",
          "name": "stdout",
          "text": [
            "accuray=0.59\n"
          ]
        },
        {
          "output_type": "stream",
          "name": "stderr",
          "text": [
            "epoch 515: 100%|██████████| 200/200 [00:02<00:00, 88.49it/s, loss=0.0156]\n",
            "100%|██████████| 100/100 [00:00<00:00, 366.95it/s]\n"
          ]
        },
        {
          "output_type": "stream",
          "name": "stdout",
          "text": [
            "accuray=0.67\n"
          ]
        },
        {
          "output_type": "stream",
          "name": "stderr",
          "text": [
            "epoch 516: 100%|██████████| 200/200 [00:03<00:00, 66.47it/s, loss=0.0154]\n",
            "100%|██████████| 100/100 [00:00<00:00, 262.11it/s]\n"
          ]
        },
        {
          "output_type": "stream",
          "name": "stdout",
          "text": [
            "accuray=0.63\n"
          ]
        },
        {
          "output_type": "stream",
          "name": "stderr",
          "text": [
            "epoch 517: 100%|██████████| 200/200 [00:02<00:00, 84.19it/s, loss=0.012]\n",
            "100%|██████████| 100/100 [00:00<00:00, 382.48it/s]\n"
          ]
        },
        {
          "output_type": "stream",
          "name": "stdout",
          "text": [
            "accuray=0.59\n"
          ]
        },
        {
          "output_type": "stream",
          "name": "stderr",
          "text": [
            "epoch 518: 100%|██████████| 200/200 [00:02<00:00, 88.59it/s, loss=0.0775]\n",
            "100%|██████████| 100/100 [00:00<00:00, 373.86it/s]\n"
          ]
        },
        {
          "output_type": "stream",
          "name": "stdout",
          "text": [
            "accuray=0.46\n"
          ]
        },
        {
          "output_type": "stream",
          "name": "stderr",
          "text": [
            "epoch 519: 100%|██████████| 200/200 [00:02<00:00, 90.55it/s, loss=0.0541]\n",
            "100%|██████████| 100/100 [00:00<00:00, 385.49it/s]\n"
          ]
        },
        {
          "output_type": "stream",
          "name": "stdout",
          "text": [
            "accuray=0.66\n"
          ]
        },
        {
          "output_type": "stream",
          "name": "stderr",
          "text": [
            "epoch 520: 100%|██████████| 200/200 [00:02<00:00, 89.68it/s, loss=0.0169]\n",
            "100%|██████████| 100/100 [00:00<00:00, 384.62it/s]\n"
          ]
        },
        {
          "output_type": "stream",
          "name": "stdout",
          "text": [
            "accuray=0.64\n"
          ]
        },
        {
          "output_type": "stream",
          "name": "stderr",
          "text": [
            "epoch 521: 100%|██████████| 200/200 [00:02<00:00, 67.25it/s, loss=0.0127]\n",
            "100%|██████████| 100/100 [00:00<00:00, 273.56it/s]\n"
          ]
        },
        {
          "output_type": "stream",
          "name": "stdout",
          "text": [
            "accuray=0.68\n"
          ]
        },
        {
          "output_type": "stream",
          "name": "stderr",
          "text": [
            "epoch 522: 100%|██████████| 200/200 [00:02<00:00, 83.59it/s, loss=0.0129]\n",
            "100%|██████████| 100/100 [00:00<00:00, 362.71it/s]\n"
          ]
        },
        {
          "output_type": "stream",
          "name": "stdout",
          "text": [
            "accuray=0.63\n"
          ]
        },
        {
          "output_type": "stream",
          "name": "stderr",
          "text": [
            "epoch 523: 100%|██████████| 200/200 [00:02<00:00, 89.65it/s, loss=0.0183]\n",
            "100%|██████████| 100/100 [00:00<00:00, 374.73it/s]\n"
          ]
        },
        {
          "output_type": "stream",
          "name": "stdout",
          "text": [
            "accuray=0.66\n"
          ]
        },
        {
          "output_type": "stream",
          "name": "stderr",
          "text": [
            "epoch 524: 100%|██████████| 200/200 [00:02<00:00, 89.63it/s, loss=0.0135]\n",
            "100%|██████████| 100/100 [00:00<00:00, 366.40it/s]\n"
          ]
        },
        {
          "output_type": "stream",
          "name": "stdout",
          "text": [
            "accuray=0.65\n"
          ]
        },
        {
          "output_type": "stream",
          "name": "stderr",
          "text": [
            "epoch 525: 100%|██████████| 200/200 [00:02<00:00, 87.37it/s, loss=0.0111]\n",
            "100%|██████████| 100/100 [00:00<00:00, 356.15it/s]\n"
          ]
        },
        {
          "output_type": "stream",
          "name": "stdout",
          "text": [
            "accuray=0.59\n"
          ]
        },
        {
          "output_type": "stream",
          "name": "stderr",
          "text": [
            "epoch 526: 100%|██████████| 200/200 [00:02<00:00, 67.79it/s, loss=0.0117]\n",
            "100%|██████████| 100/100 [00:00<00:00, 266.91it/s]\n"
          ]
        },
        {
          "output_type": "stream",
          "name": "stdout",
          "text": [
            "accuray=0.68\n"
          ]
        },
        {
          "output_type": "stream",
          "name": "stderr",
          "text": [
            "epoch 527: 100%|██████████| 200/200 [00:02<00:00, 84.88it/s, loss=0.00862]\n",
            "100%|██████████| 100/100 [00:00<00:00, 355.99it/s]\n"
          ]
        },
        {
          "output_type": "stream",
          "name": "stdout",
          "text": [
            "accuray=0.55\n"
          ]
        },
        {
          "output_type": "stream",
          "name": "stderr",
          "text": [
            "epoch 528: 100%|██████████| 200/200 [00:02<00:00, 89.73it/s, loss=0.0148]\n",
            "100%|██████████| 100/100 [00:00<00:00, 365.06it/s]\n"
          ]
        },
        {
          "output_type": "stream",
          "name": "stdout",
          "text": [
            "accuray=0.59\n"
          ]
        },
        {
          "output_type": "stream",
          "name": "stderr",
          "text": [
            "epoch 529: 100%|██████████| 200/200 [00:02<00:00, 89.68it/s, loss=0.271]\n",
            "100%|██████████| 100/100 [00:00<00:00, 362.48it/s]\n"
          ]
        },
        {
          "output_type": "stream",
          "name": "stdout",
          "text": [
            "accuray=0.51\n"
          ]
        },
        {
          "output_type": "stream",
          "name": "stderr",
          "text": [
            "epoch 530: 100%|██████████| 200/200 [00:02<00:00, 89.46it/s, loss=0.0378]\n",
            "100%|██████████| 100/100 [00:00<00:00, 394.37it/s]\n"
          ]
        },
        {
          "output_type": "stream",
          "name": "stdout",
          "text": [
            "accuray=0.68\n"
          ]
        },
        {
          "output_type": "stream",
          "name": "stderr",
          "text": [
            "epoch 531: 100%|██████████| 200/200 [00:03<00:00, 66.06it/s, loss=0.0158]\n",
            "100%|██████████| 100/100 [00:00<00:00, 272.06it/s]\n"
          ]
        },
        {
          "output_type": "stream",
          "name": "stdout",
          "text": [
            "accuray=0.65\n"
          ]
        },
        {
          "output_type": "stream",
          "name": "stderr",
          "text": [
            "epoch 532: 100%|██████████| 200/200 [00:02<00:00, 83.52it/s, loss=0.0199]\n",
            "100%|██████████| 100/100 [00:00<00:00, 379.25it/s]\n"
          ]
        },
        {
          "output_type": "stream",
          "name": "stdout",
          "text": [
            "accuray=0.59\n"
          ]
        },
        {
          "output_type": "stream",
          "name": "stderr",
          "text": [
            "epoch 533: 100%|██████████| 200/200 [00:02<00:00, 89.75it/s, loss=0.00905]\n",
            "100%|██████████| 100/100 [00:00<00:00, 375.38it/s]\n"
          ]
        },
        {
          "output_type": "stream",
          "name": "stdout",
          "text": [
            "accuray=0.56\n"
          ]
        },
        {
          "output_type": "stream",
          "name": "stderr",
          "text": [
            "epoch 534: 100%|██████████| 200/200 [00:02<00:00, 90.25it/s, loss=0.0137]\n",
            "100%|██████████| 100/100 [00:00<00:00, 368.97it/s]\n"
          ]
        },
        {
          "output_type": "stream",
          "name": "stdout",
          "text": [
            "accuray=0.62\n"
          ]
        },
        {
          "output_type": "stream",
          "name": "stderr",
          "text": [
            "epoch 535: 100%|██████████| 200/200 [00:02<00:00, 89.11it/s, loss=0.0112]\n",
            "100%|██████████| 100/100 [00:00<00:00, 384.98it/s]\n"
          ]
        },
        {
          "output_type": "stream",
          "name": "stdout",
          "text": [
            "accuray=0.6\n"
          ]
        },
        {
          "output_type": "stream",
          "name": "stderr",
          "text": [
            "epoch 536: 100%|██████████| 200/200 [00:03<00:00, 65.25it/s, loss=0.0102]\n",
            "100%|██████████| 100/100 [00:00<00:00, 270.16it/s]\n"
          ]
        },
        {
          "output_type": "stream",
          "name": "stdout",
          "text": [
            "accuray=0.65\n"
          ]
        },
        {
          "output_type": "stream",
          "name": "stderr",
          "text": [
            "epoch 537: 100%|██████████| 200/200 [00:02<00:00, 82.35it/s, loss=0.00816]\n",
            "100%|██████████| 100/100 [00:00<00:00, 375.02it/s]\n"
          ]
        },
        {
          "output_type": "stream",
          "name": "stdout",
          "text": [
            "accuray=0.63\n"
          ]
        },
        {
          "output_type": "stream",
          "name": "stderr",
          "text": [
            "epoch 538: 100%|██████████| 200/200 [00:02<00:00, 89.74it/s, loss=0.0256]\n",
            "100%|██████████| 100/100 [00:00<00:00, 388.50it/s]\n"
          ]
        },
        {
          "output_type": "stream",
          "name": "stdout",
          "text": [
            "accuray=0.56\n"
          ]
        },
        {
          "output_type": "stream",
          "name": "stderr",
          "text": [
            "epoch 539: 100%|██████████| 200/200 [00:02<00:00, 89.36it/s, loss=0.0783]\n",
            "100%|██████████| 100/100 [00:00<00:00, 380.20it/s]\n"
          ]
        },
        {
          "output_type": "stream",
          "name": "stdout",
          "text": [
            "accuray=0.58\n"
          ]
        },
        {
          "output_type": "stream",
          "name": "stderr",
          "text": [
            "epoch 540: 100%|██████████| 200/200 [00:02<00:00, 89.59it/s, loss=0.0435]\n",
            "100%|██████████| 100/100 [00:00<00:00, 369.83it/s]\n"
          ]
        },
        {
          "output_type": "stream",
          "name": "stdout",
          "text": [
            "accuray=0.68\n"
          ]
        },
        {
          "output_type": "stream",
          "name": "stderr",
          "text": [
            "epoch 541: 100%|██████████| 200/200 [00:03<00:00, 66.14it/s, loss=0.0112]\n",
            "100%|██████████| 100/100 [00:00<00:00, 250.05it/s]\n"
          ]
        },
        {
          "output_type": "stream",
          "name": "stdout",
          "text": [
            "accuray=0.62\n"
          ]
        },
        {
          "output_type": "stream",
          "name": "stderr",
          "text": [
            "epoch 542: 100%|██████████| 200/200 [00:02<00:00, 87.55it/s, loss=0.01]\n",
            "100%|██████████| 100/100 [00:00<00:00, 375.73it/s]\n"
          ]
        },
        {
          "output_type": "stream",
          "name": "stdout",
          "text": [
            "accuray=0.57\n"
          ]
        },
        {
          "output_type": "stream",
          "name": "stderr",
          "text": [
            "epoch 543: 100%|██████████| 200/200 [00:02<00:00, 89.41it/s, loss=0.0128]\n",
            "100%|██████████| 100/100 [00:00<00:00, 356.57it/s]\n"
          ]
        },
        {
          "output_type": "stream",
          "name": "stdout",
          "text": [
            "accuray=0.63\n"
          ]
        },
        {
          "output_type": "stream",
          "name": "stderr",
          "text": [
            "epoch 544: 100%|██████████| 200/200 [00:02<00:00, 89.77it/s, loss=0.0101]\n",
            "100%|██████████| 100/100 [00:00<00:00, 384.37it/s]\n"
          ]
        },
        {
          "output_type": "stream",
          "name": "stdout",
          "text": [
            "accuray=0.65\n"
          ]
        },
        {
          "output_type": "stream",
          "name": "stderr",
          "text": [
            "epoch 545: 100%|██████████| 200/200 [00:02<00:00, 90.17it/s, loss=0.0148]\n",
            "100%|██████████| 100/100 [00:00<00:00, 391.13it/s]\n"
          ]
        },
        {
          "output_type": "stream",
          "name": "stdout",
          "text": [
            "accuray=0.6\n"
          ]
        },
        {
          "output_type": "stream",
          "name": "stderr",
          "text": [
            "epoch 546: 100%|██████████| 200/200 [00:02<00:00, 66.94it/s, loss=0.0115]\n",
            "100%|██████████| 100/100 [00:00<00:00, 265.99it/s]\n"
          ]
        },
        {
          "output_type": "stream",
          "name": "stdout",
          "text": [
            "accuray=0.61\n"
          ]
        },
        {
          "output_type": "stream",
          "name": "stderr",
          "text": [
            "epoch 547: 100%|██████████| 200/200 [00:02<00:00, 82.73it/s, loss=0.0102]\n",
            "100%|██████████| 100/100 [00:00<00:00, 385.35it/s]\n"
          ]
        },
        {
          "output_type": "stream",
          "name": "stdout",
          "text": [
            "accuray=0.66\n"
          ]
        },
        {
          "output_type": "stream",
          "name": "stderr",
          "text": [
            "epoch 548: 100%|██████████| 200/200 [00:02<00:00, 86.94it/s, loss=0.014]\n",
            "100%|██████████| 100/100 [00:00<00:00, 364.01it/s]\n"
          ]
        },
        {
          "output_type": "stream",
          "name": "stdout",
          "text": [
            "accuray=0.58\n"
          ]
        },
        {
          "output_type": "stream",
          "name": "stderr",
          "text": [
            "epoch 549: 100%|██████████| 200/200 [00:02<00:00, 89.82it/s, loss=0.375]\n",
            "100%|██████████| 100/100 [00:00<00:00, 372.11it/s]\n"
          ]
        },
        {
          "output_type": "stream",
          "name": "stdout",
          "text": [
            "accuray=0.5\n"
          ]
        },
        {
          "output_type": "stream",
          "name": "stderr",
          "text": [
            "epoch 550: 100%|██████████| 200/200 [00:02<00:00, 88.75it/s, loss=0.0667]\n",
            "100%|██████████| 100/100 [00:00<00:00, 342.07it/s]\n"
          ]
        },
        {
          "output_type": "stream",
          "name": "stdout",
          "text": [
            "accuray=0.57\n"
          ]
        },
        {
          "output_type": "stream",
          "name": "stderr",
          "text": [
            "epoch 551: 100%|██████████| 200/200 [00:03<00:00, 64.37it/s, loss=0.0163]\n",
            "100%|██████████| 100/100 [00:00<00:00, 265.33it/s]\n"
          ]
        },
        {
          "output_type": "stream",
          "name": "stdout",
          "text": [
            "accuray=0.68\n"
          ]
        },
        {
          "output_type": "stream",
          "name": "stderr",
          "text": [
            "epoch 552: 100%|██████████| 200/200 [00:02<00:00, 89.74it/s, loss=0.0119]\n",
            "100%|██████████| 100/100 [00:00<00:00, 365.66it/s]\n"
          ]
        },
        {
          "output_type": "stream",
          "name": "stdout",
          "text": [
            "accuray=0.61\n"
          ]
        },
        {
          "output_type": "stream",
          "name": "stderr",
          "text": [
            "epoch 553: 100%|██████████| 200/200 [00:02<00:00, 89.59it/s, loss=0.00912]\n",
            "100%|██████████| 100/100 [00:00<00:00, 375.08it/s]\n"
          ]
        },
        {
          "output_type": "stream",
          "name": "stdout",
          "text": [
            "accuray=0.54\n"
          ]
        },
        {
          "output_type": "stream",
          "name": "stderr",
          "text": [
            "epoch 554: 100%|██████████| 200/200 [00:02<00:00, 90.32it/s, loss=0.0112]\n",
            "100%|██████████| 100/100 [00:00<00:00, 366.23it/s]\n"
          ]
        },
        {
          "output_type": "stream",
          "name": "stdout",
          "text": [
            "accuray=0.64\n"
          ]
        },
        {
          "output_type": "stream",
          "name": "stderr",
          "text": [
            "epoch 555: 100%|██████████| 200/200 [00:02<00:00, 90.01it/s, loss=0.0118]\n",
            "100%|██████████| 100/100 [00:00<00:00, 345.94it/s]\n"
          ]
        },
        {
          "output_type": "stream",
          "name": "stdout",
          "text": [
            "accuray=0.58\n"
          ]
        },
        {
          "output_type": "stream",
          "name": "stderr",
          "text": [
            "epoch 556: 100%|██████████| 200/200 [00:03<00:00, 64.75it/s, loss=0.00951]\n",
            "100%|██████████| 100/100 [00:00<00:00, 261.73it/s]\n"
          ]
        },
        {
          "output_type": "stream",
          "name": "stdout",
          "text": [
            "accuray=0.61\n"
          ]
        },
        {
          "output_type": "stream",
          "name": "stderr",
          "text": [
            "epoch 557: 100%|██████████| 200/200 [00:02<00:00, 89.26it/s, loss=0.0103]\n",
            "100%|██████████| 100/100 [00:00<00:00, 374.86it/s]\n"
          ]
        },
        {
          "output_type": "stream",
          "name": "stdout",
          "text": [
            "accuray=0.69\n"
          ]
        },
        {
          "output_type": "stream",
          "name": "stderr",
          "text": [
            "epoch 558: 100%|██████████| 200/200 [00:02<00:00, 88.27it/s, loss=0.0125]\n",
            "100%|██████████| 100/100 [00:00<00:00, 386.93it/s]\n"
          ]
        },
        {
          "output_type": "stream",
          "name": "stdout",
          "text": [
            "accuray=0.65\n"
          ]
        },
        {
          "output_type": "stream",
          "name": "stderr",
          "text": [
            "epoch 559: 100%|██████████| 200/200 [00:02<00:00, 90.09it/s, loss=0.0121]\n",
            "100%|██████████| 100/100 [00:00<00:00, 377.07it/s]\n"
          ]
        },
        {
          "output_type": "stream",
          "name": "stdout",
          "text": [
            "accuray=0.62\n"
          ]
        },
        {
          "output_type": "stream",
          "name": "stderr",
          "text": [
            "epoch 560: 100%|██████████| 200/200 [00:02<00:00, 89.65it/s, loss=0.207]\n",
            "100%|██████████| 100/100 [00:00<00:00, 309.55it/s]\n"
          ]
        },
        {
          "output_type": "stream",
          "name": "stdout",
          "text": [
            "accuray=0.5\n"
          ]
        },
        {
          "output_type": "stream",
          "name": "stderr",
          "text": [
            "epoch 561: 100%|██████████| 200/200 [00:02<00:00, 66.87it/s, loss=0.0312]\n",
            "100%|██████████| 100/100 [00:00<00:00, 254.20it/s]\n"
          ]
        },
        {
          "output_type": "stream",
          "name": "stdout",
          "text": [
            "accuray=0.59\n"
          ]
        },
        {
          "output_type": "stream",
          "name": "stderr",
          "text": [
            "epoch 562: 100%|██████████| 200/200 [00:02<00:00, 87.61it/s, loss=0.0141]\n",
            "100%|██████████| 100/100 [00:00<00:00, 381.02it/s]\n"
          ]
        },
        {
          "output_type": "stream",
          "name": "stdout",
          "text": [
            "accuray=0.59\n"
          ]
        },
        {
          "output_type": "stream",
          "name": "stderr",
          "text": [
            "epoch 563: 100%|██████████| 200/200 [00:02<00:00, 89.79it/s, loss=0.00823]\n",
            "100%|██████████| 100/100 [00:00<00:00, 374.13it/s]\n"
          ]
        },
        {
          "output_type": "stream",
          "name": "stdout",
          "text": [
            "accuray=0.59\n"
          ]
        },
        {
          "output_type": "stream",
          "name": "stderr",
          "text": [
            "epoch 564: 100%|██████████| 200/200 [00:02<00:00, 89.79it/s, loss=0.00963]\n",
            "100%|██████████| 100/100 [00:00<00:00, 360.27it/s]\n"
          ]
        },
        {
          "output_type": "stream",
          "name": "stdout",
          "text": [
            "accuray=0.6\n"
          ]
        },
        {
          "output_type": "stream",
          "name": "stderr",
          "text": [
            "epoch 565: 100%|██████████| 200/200 [00:02<00:00, 89.45it/s, loss=0.0101]\n",
            "100%|██████████| 100/100 [00:00<00:00, 371.24it/s]\n"
          ]
        },
        {
          "output_type": "stream",
          "name": "stdout",
          "text": [
            "accuray=0.65\n"
          ]
        },
        {
          "output_type": "stream",
          "name": "stderr",
          "text": [
            "epoch 566: 100%|██████████| 200/200 [00:03<00:00, 64.65it/s, loss=0.00993]\n",
            "100%|██████████| 100/100 [00:00<00:00, 274.21it/s]\n"
          ]
        },
        {
          "output_type": "stream",
          "name": "stdout",
          "text": [
            "accuray=0.7\n"
          ]
        },
        {
          "output_type": "stream",
          "name": "stderr",
          "text": [
            "epoch 567: 100%|██████████| 200/200 [00:02<00:00, 89.10it/s, loss=0.00862]\n",
            "100%|██████████| 100/100 [00:00<00:00, 379.46it/s]\n"
          ]
        },
        {
          "output_type": "stream",
          "name": "stdout",
          "text": [
            "accuray=0.61\n"
          ]
        },
        {
          "output_type": "stream",
          "name": "stderr",
          "text": [
            "epoch 568: 100%|██████████| 200/200 [00:02<00:00, 89.02it/s, loss=0.00871]\n",
            "100%|██████████| 100/100 [00:00<00:00, 365.71it/s]\n"
          ]
        },
        {
          "output_type": "stream",
          "name": "stdout",
          "text": [
            "accuray=0.65\n"
          ]
        },
        {
          "output_type": "stream",
          "name": "stderr",
          "text": [
            "epoch 569: 100%|██████████| 200/200 [00:02<00:00, 88.83it/s, loss=0.00748]\n",
            "100%|██████████| 100/100 [00:00<00:00, 371.49it/s]\n"
          ]
        },
        {
          "output_type": "stream",
          "name": "stdout",
          "text": [
            "accuray=0.65\n"
          ]
        },
        {
          "output_type": "stream",
          "name": "stderr",
          "text": [
            "epoch 570: 100%|██████████| 200/200 [00:02<00:00, 90.35it/s, loss=0.0168]\n",
            "100%|██████████| 100/100 [00:00<00:00, 398.54it/s]\n"
          ]
        },
        {
          "output_type": "stream",
          "name": "stdout",
          "text": [
            "accuray=0.62\n"
          ]
        },
        {
          "output_type": "stream",
          "name": "stderr",
          "text": [
            "epoch 571: 100%|██████████| 200/200 [00:03<00:00, 64.61it/s, loss=0.207]\n",
            "100%|██████████| 100/100 [00:00<00:00, 238.66it/s]\n"
          ]
        },
        {
          "output_type": "stream",
          "name": "stdout",
          "text": [
            "accuray=0.5\n"
          ]
        },
        {
          "output_type": "stream",
          "name": "stderr",
          "text": [
            "epoch 572: 100%|██████████| 200/200 [00:02<00:00, 84.95it/s, loss=0.0364]\n",
            "100%|██████████| 100/100 [00:00<00:00, 365.36it/s]\n"
          ]
        },
        {
          "output_type": "stream",
          "name": "stdout",
          "text": [
            "accuray=0.53\n"
          ]
        },
        {
          "output_type": "stream",
          "name": "stderr",
          "text": [
            "epoch 573: 100%|██████████| 200/200 [00:02<00:00, 89.32it/s, loss=0.0138]\n",
            "100%|██████████| 100/100 [00:00<00:00, 355.55it/s]\n"
          ]
        },
        {
          "output_type": "stream",
          "name": "stdout",
          "text": [
            "accuray=0.57\n"
          ]
        },
        {
          "output_type": "stream",
          "name": "stderr",
          "text": [
            "epoch 574: 100%|██████████| 200/200 [00:02<00:00, 88.81it/s, loss=0.00826]\n",
            "100%|██████████| 100/100 [00:00<00:00, 385.26it/s]\n"
          ]
        },
        {
          "output_type": "stream",
          "name": "stdout",
          "text": [
            "accuray=0.61\n"
          ]
        },
        {
          "output_type": "stream",
          "name": "stderr",
          "text": [
            "epoch 575: 100%|██████████| 200/200 [00:02<00:00, 91.08it/s, loss=0.00921]\n",
            "100%|██████████| 100/100 [00:00<00:00, 354.97it/s]\n"
          ]
        },
        {
          "output_type": "stream",
          "name": "stdout",
          "text": [
            "accuray=0.58\n"
          ]
        },
        {
          "output_type": "stream",
          "name": "stderr",
          "text": [
            "epoch 576: 100%|██████████| 200/200 [00:03<00:00, 65.56it/s, loss=0.00907]\n",
            "100%|██████████| 100/100 [00:00<00:00, 246.73it/s]\n"
          ]
        },
        {
          "output_type": "stream",
          "name": "stdout",
          "text": [
            "accuray=0.6\n"
          ]
        },
        {
          "output_type": "stream",
          "name": "stderr",
          "text": [
            "epoch 577: 100%|██████████| 200/200 [00:02<00:00, 86.84it/s, loss=0.00924]\n",
            "100%|██████████| 100/100 [00:00<00:00, 365.26it/s]\n"
          ]
        },
        {
          "output_type": "stream",
          "name": "stdout",
          "text": [
            "accuray=0.61\n"
          ]
        },
        {
          "output_type": "stream",
          "name": "stderr",
          "text": [
            "epoch 578: 100%|██████████| 200/200 [00:02<00:00, 90.20it/s, loss=0.00817]\n",
            "100%|██████████| 100/100 [00:00<00:00, 370.01it/s]\n"
          ]
        },
        {
          "output_type": "stream",
          "name": "stdout",
          "text": [
            "accuray=0.57\n"
          ]
        },
        {
          "output_type": "stream",
          "name": "stderr",
          "text": [
            "epoch 579: 100%|██████████| 200/200 [00:02<00:00, 89.26it/s, loss=0.009]\n",
            "100%|██████████| 100/100 [00:00<00:00, 379.89it/s]\n"
          ]
        },
        {
          "output_type": "stream",
          "name": "stdout",
          "text": [
            "accuray=0.63\n"
          ]
        },
        {
          "output_type": "stream",
          "name": "stderr",
          "text": [
            "epoch 580: 100%|██████████| 200/200 [00:02<00:00, 89.84it/s, loss=0.00681]\n",
            "100%|██████████| 100/100 [00:00<00:00, 381.67it/s]\n"
          ]
        },
        {
          "output_type": "stream",
          "name": "stdout",
          "text": [
            "accuray=0.67\n"
          ]
        },
        {
          "output_type": "stream",
          "name": "stderr",
          "text": [
            "epoch 581: 100%|██████████| 200/200 [00:03<00:00, 64.76it/s, loss=0.00718]\n",
            "100%|██████████| 100/100 [00:00<00:00, 247.07it/s]\n"
          ]
        },
        {
          "output_type": "stream",
          "name": "stdout",
          "text": [
            "accuray=0.64\n"
          ]
        },
        {
          "output_type": "stream",
          "name": "stderr",
          "text": [
            "epoch 582: 100%|██████████| 200/200 [00:02<00:00, 87.50it/s, loss=0.0221]\n",
            "100%|██████████| 100/100 [00:00<00:00, 366.70it/s]\n"
          ]
        },
        {
          "output_type": "stream",
          "name": "stdout",
          "text": [
            "accuray=0.56\n"
          ]
        },
        {
          "output_type": "stream",
          "name": "stderr",
          "text": [
            "epoch 583: 100%|██████████| 200/200 [00:02<00:00, 90.44it/s, loss=0.0457]\n",
            "100%|██████████| 100/100 [00:00<00:00, 378.35it/s]\n"
          ]
        },
        {
          "output_type": "stream",
          "name": "stdout",
          "text": [
            "accuray=0.58\n"
          ]
        },
        {
          "output_type": "stream",
          "name": "stderr",
          "text": [
            "epoch 584: 100%|██████████| 200/200 [00:02<00:00, 89.98it/s, loss=0.0189]\n",
            "100%|██████████| 100/100 [00:00<00:00, 360.88it/s]\n"
          ]
        },
        {
          "output_type": "stream",
          "name": "stdout",
          "text": [
            "accuray=0.57\n"
          ]
        },
        {
          "output_type": "stream",
          "name": "stderr",
          "text": [
            "epoch 585: 100%|██████████| 200/200 [00:02<00:00, 87.58it/s, loss=0.0101]\n",
            "100%|██████████| 100/100 [00:00<00:00, 355.63it/s]\n"
          ]
        },
        {
          "output_type": "stream",
          "name": "stdout",
          "text": [
            "accuray=0.6\n"
          ]
        },
        {
          "output_type": "stream",
          "name": "stderr",
          "text": [
            "epoch 586: 100%|██████████| 200/200 [00:03<00:00, 65.45it/s, loss=0.00704]\n",
            "100%|██████████| 100/100 [00:00<00:00, 246.67it/s]\n"
          ]
        },
        {
          "output_type": "stream",
          "name": "stdout",
          "text": [
            "accuray=0.61\n"
          ]
        },
        {
          "output_type": "stream",
          "name": "stderr",
          "text": [
            "epoch 587: 100%|██████████| 200/200 [00:02<00:00, 89.93it/s, loss=0.00791]\n",
            "100%|██████████| 100/100 [00:00<00:00, 381.83it/s]\n"
          ]
        },
        {
          "output_type": "stream",
          "name": "stdout",
          "text": [
            "accuray=0.62\n"
          ]
        },
        {
          "output_type": "stream",
          "name": "stderr",
          "text": [
            "epoch 588: 100%|██████████| 200/200 [00:02<00:00, 89.37it/s, loss=0.0117]\n",
            "100%|██████████| 100/100 [00:00<00:00, 373.03it/s]\n"
          ]
        },
        {
          "output_type": "stream",
          "name": "stdout",
          "text": [
            "accuray=0.65\n"
          ]
        },
        {
          "output_type": "stream",
          "name": "stderr",
          "text": [
            "epoch 589: 100%|██████████| 200/200 [00:02<00:00, 89.35it/s, loss=0.00791]\n",
            "100%|██████████| 100/100 [00:00<00:00, 371.37it/s]\n"
          ]
        },
        {
          "output_type": "stream",
          "name": "stdout",
          "text": [
            "accuray=0.65\n"
          ]
        },
        {
          "output_type": "stream",
          "name": "stderr",
          "text": [
            "epoch 590: 100%|██████████| 200/200 [00:02<00:00, 89.40it/s, loss=0.00853]\n",
            "100%|██████████| 100/100 [00:00<00:00, 371.54it/s]\n"
          ]
        },
        {
          "output_type": "stream",
          "name": "stdout",
          "text": [
            "accuray=0.66\n"
          ]
        },
        {
          "output_type": "stream",
          "name": "stderr",
          "text": [
            "epoch 591: 100%|██████████| 200/200 [00:03<00:00, 64.58it/s, loss=0.0106]\n",
            "100%|██████████| 100/100 [00:00<00:00, 264.18it/s]\n"
          ]
        },
        {
          "output_type": "stream",
          "name": "stdout",
          "text": [
            "accuray=0.69\n"
          ]
        },
        {
          "output_type": "stream",
          "name": "stderr",
          "text": [
            "epoch 592: 100%|██████████| 200/200 [00:02<00:00, 88.04it/s, loss=0.00835]\n",
            "100%|██████████| 100/100 [00:00<00:00, 348.19it/s]\n"
          ]
        },
        {
          "output_type": "stream",
          "name": "stdout",
          "text": [
            "accuray=0.66\n"
          ]
        },
        {
          "output_type": "stream",
          "name": "stderr",
          "text": [
            "epoch 593: 100%|██████████| 200/200 [00:02<00:00, 89.55it/s, loss=0.00571]\n",
            "100%|██████████| 100/100 [00:00<00:00, 373.52it/s]\n"
          ]
        },
        {
          "output_type": "stream",
          "name": "stdout",
          "text": [
            "accuray=0.67\n"
          ]
        },
        {
          "output_type": "stream",
          "name": "stderr",
          "text": [
            "epoch 594: 100%|██████████| 200/200 [00:02<00:00, 89.59it/s, loss=0.106]\n",
            "100%|██████████| 100/100 [00:00<00:00, 387.05it/s]\n"
          ]
        },
        {
          "output_type": "stream",
          "name": "stdout",
          "text": [
            "accuray=0.52\n"
          ]
        },
        {
          "output_type": "stream",
          "name": "stderr",
          "text": [
            "epoch 595: 100%|██████████| 200/200 [00:02<00:00, 90.56it/s, loss=0.0277]\n",
            "100%|██████████| 100/100 [00:00<00:00, 361.59it/s]\n"
          ]
        },
        {
          "output_type": "stream",
          "name": "stdout",
          "text": [
            "accuray=0.61\n"
          ]
        },
        {
          "output_type": "stream",
          "name": "stderr",
          "text": [
            "epoch 596: 100%|██████████| 200/200 [00:03<00:00, 65.97it/s, loss=0.0105]\n",
            "100%|██████████| 100/100 [00:00<00:00, 252.14it/s]\n"
          ]
        },
        {
          "output_type": "stream",
          "name": "stdout",
          "text": [
            "accuray=0.62\n"
          ]
        },
        {
          "output_type": "stream",
          "name": "stderr",
          "text": [
            "epoch 597: 100%|██████████| 200/200 [00:02<00:00, 87.33it/s, loss=0.00823]\n",
            "100%|██████████| 100/100 [00:00<00:00, 389.07it/s]\n"
          ]
        },
        {
          "output_type": "stream",
          "name": "stdout",
          "text": [
            "accuray=0.66\n"
          ]
        },
        {
          "output_type": "stream",
          "name": "stderr",
          "text": [
            "epoch 598: 100%|██████████| 200/200 [00:02<00:00, 89.46it/s, loss=0.0093]\n",
            "100%|██████████| 100/100 [00:00<00:00, 379.10it/s]\n"
          ]
        },
        {
          "output_type": "stream",
          "name": "stdout",
          "text": [
            "accuray=0.63\n"
          ]
        },
        {
          "output_type": "stream",
          "name": "stderr",
          "text": [
            "epoch 599: 100%|██████████| 200/200 [00:02<00:00, 88.48it/s, loss=0.00552]\n",
            "100%|██████████| 100/100 [00:00<00:00, 398.20it/s]\n"
          ]
        },
        {
          "output_type": "stream",
          "name": "stdout",
          "text": [
            "accuray=0.71\n"
          ]
        },
        {
          "output_type": "stream",
          "name": "stderr",
          "text": [
            "epoch 600: 100%|██████████| 200/200 [00:02<00:00, 90.11it/s, loss=0.00886]\n",
            "100%|██████████| 100/100 [00:00<00:00, 353.28it/s]\n"
          ]
        },
        {
          "output_type": "stream",
          "name": "stdout",
          "text": [
            "accuray=0.62\n"
          ]
        },
        {
          "output_type": "stream",
          "name": "stderr",
          "text": [
            "epoch 601: 100%|██████████| 200/200 [00:02<00:00, 67.32it/s, loss=0.009]\n",
            "100%|██████████| 100/100 [00:00<00:00, 262.42it/s]\n"
          ]
        },
        {
          "output_type": "stream",
          "name": "stdout",
          "text": [
            "accuray=0.61\n"
          ]
        },
        {
          "output_type": "stream",
          "name": "stderr",
          "text": [
            "epoch 602: 100%|██████████| 200/200 [00:02<00:00, 83.52it/s, loss=0.00856]\n",
            "100%|██████████| 100/100 [00:00<00:00, 376.83it/s]\n"
          ]
        },
        {
          "output_type": "stream",
          "name": "stdout",
          "text": [
            "accuray=0.64\n"
          ]
        },
        {
          "output_type": "stream",
          "name": "stderr",
          "text": [
            "epoch 603: 100%|██████████| 200/200 [00:02<00:00, 89.74it/s, loss=0.00649]\n",
            "100%|██████████| 100/100 [00:00<00:00, 368.98it/s]\n"
          ]
        },
        {
          "output_type": "stream",
          "name": "stdout",
          "text": [
            "accuray=0.56\n"
          ]
        },
        {
          "output_type": "stream",
          "name": "stderr",
          "text": [
            "epoch 604: 100%|██████████| 200/200 [00:02<00:00, 88.11it/s, loss=0.00732]\n",
            "100%|██████████| 100/100 [00:00<00:00, 386.48it/s]\n"
          ]
        },
        {
          "output_type": "stream",
          "name": "stdout",
          "text": [
            "accuray=0.68\n"
          ]
        },
        {
          "output_type": "stream",
          "name": "stderr",
          "text": [
            "epoch 605: 100%|██████████| 200/200 [00:02<00:00, 88.26it/s, loss=0.00517]\n",
            "100%|██████████| 100/100 [00:00<00:00, 360.26it/s]\n"
          ]
        },
        {
          "output_type": "stream",
          "name": "stdout",
          "text": [
            "accuray=0.59\n"
          ]
        },
        {
          "output_type": "stream",
          "name": "stderr",
          "text": [
            "epoch 606: 100%|██████████| 200/200 [00:03<00:00, 64.95it/s, loss=0.107]\n",
            "100%|██████████| 100/100 [00:00<00:00, 243.64it/s]\n"
          ]
        },
        {
          "output_type": "stream",
          "name": "stdout",
          "text": [
            "accuray=0.6\n"
          ]
        },
        {
          "output_type": "stream",
          "name": "stderr",
          "text": [
            "epoch 607: 100%|██████████| 200/200 [00:02<00:00, 86.03it/s, loss=0.0186]\n",
            "100%|██████████| 100/100 [00:00<00:00, 377.93it/s]\n"
          ]
        },
        {
          "output_type": "stream",
          "name": "stdout",
          "text": [
            "accuray=0.63\n"
          ]
        },
        {
          "output_type": "stream",
          "name": "stderr",
          "text": [
            "epoch 608: 100%|██████████| 200/200 [00:02<00:00, 89.17it/s, loss=0.00766]\n",
            "100%|██████████| 100/100 [00:00<00:00, 360.89it/s]\n"
          ]
        },
        {
          "output_type": "stream",
          "name": "stdout",
          "text": [
            "accuray=0.63\n"
          ]
        },
        {
          "output_type": "stream",
          "name": "stderr",
          "text": [
            "epoch 609: 100%|██████████| 200/200 [00:02<00:00, 89.31it/s, loss=0.0114]\n",
            "100%|██████████| 100/100 [00:00<00:00, 364.92it/s]\n"
          ]
        },
        {
          "output_type": "stream",
          "name": "stdout",
          "text": [
            "accuray=0.63\n"
          ]
        },
        {
          "output_type": "stream",
          "name": "stderr",
          "text": [
            "epoch 610: 100%|██████████| 200/200 [00:02<00:00, 88.78it/s, loss=0.00592]\n",
            "100%|██████████| 100/100 [00:00<00:00, 360.15it/s]\n"
          ]
        },
        {
          "output_type": "stream",
          "name": "stdout",
          "text": [
            "accuray=0.59\n"
          ]
        },
        {
          "output_type": "stream",
          "name": "stderr",
          "text": [
            "epoch 611: 100%|██████████| 200/200 [00:03<00:00, 66.24it/s, loss=0.00576]\n",
            "100%|██████████| 100/100 [00:00<00:00, 256.06it/s]\n"
          ]
        },
        {
          "output_type": "stream",
          "name": "stdout",
          "text": [
            "accuray=0.69\n"
          ]
        },
        {
          "output_type": "stream",
          "name": "stderr",
          "text": [
            "epoch 612: 100%|██████████| 200/200 [00:02<00:00, 85.55it/s, loss=0.00656]\n",
            "100%|██████████| 100/100 [00:00<00:00, 371.51it/s]\n"
          ]
        },
        {
          "output_type": "stream",
          "name": "stdout",
          "text": [
            "accuray=0.64\n"
          ]
        },
        {
          "output_type": "stream",
          "name": "stderr",
          "text": [
            "epoch 613: 100%|██████████| 200/200 [00:02<00:00, 87.99it/s, loss=0.00631]\n",
            "100%|██████████| 100/100 [00:00<00:00, 382.68it/s]\n"
          ]
        },
        {
          "output_type": "stream",
          "name": "stdout",
          "text": [
            "accuray=0.66\n"
          ]
        },
        {
          "output_type": "stream",
          "name": "stderr",
          "text": [
            "epoch 614: 100%|██████████| 200/200 [00:02<00:00, 90.64it/s, loss=0.00791]\n",
            "100%|██████████| 100/100 [00:00<00:00, 361.17it/s]\n"
          ]
        },
        {
          "output_type": "stream",
          "name": "stdout",
          "text": [
            "accuray=0.63\n"
          ]
        },
        {
          "output_type": "stream",
          "name": "stderr",
          "text": [
            "epoch 615: 100%|██████████| 200/200 [00:02<00:00, 86.09it/s, loss=0.00705]\n",
            "100%|██████████| 100/100 [00:00<00:00, 389.01it/s]\n"
          ]
        },
        {
          "output_type": "stream",
          "name": "stdout",
          "text": [
            "accuray=0.65\n"
          ]
        },
        {
          "output_type": "stream",
          "name": "stderr",
          "text": [
            "epoch 616: 100%|██████████| 200/200 [00:03<00:00, 64.50it/s, loss=0.00604]\n",
            "100%|██████████| 100/100 [00:00<00:00, 266.48it/s]\n"
          ]
        },
        {
          "output_type": "stream",
          "name": "stdout",
          "text": [
            "accuray=0.66\n"
          ]
        },
        {
          "output_type": "stream",
          "name": "stderr",
          "text": [
            "epoch 617: 100%|██████████| 200/200 [00:02<00:00, 85.43it/s, loss=0.00517]\n",
            "100%|██████████| 100/100 [00:00<00:00, 360.09it/s]\n"
          ]
        },
        {
          "output_type": "stream",
          "name": "stdout",
          "text": [
            "accuray=0.65\n"
          ]
        },
        {
          "output_type": "stream",
          "name": "stderr",
          "text": [
            "epoch 618: 100%|██████████| 200/200 [00:02<00:00, 89.45it/s, loss=0.00991]\n",
            "100%|██████████| 100/100 [00:00<00:00, 368.55it/s]\n"
          ]
        },
        {
          "output_type": "stream",
          "name": "stdout",
          "text": [
            "accuray=0.68\n"
          ]
        },
        {
          "output_type": "stream",
          "name": "stderr",
          "text": [
            "epoch 619: 100%|██████████| 200/200 [00:02<00:00, 87.18it/s, loss=0.0966]\n",
            "100%|██████████| 100/100 [00:00<00:00, 352.12it/s]\n"
          ]
        },
        {
          "output_type": "stream",
          "name": "stdout",
          "text": [
            "accuray=0.55\n"
          ]
        },
        {
          "output_type": "stream",
          "name": "stderr",
          "text": [
            "epoch 620: 100%|██████████| 200/200 [00:02<00:00, 89.04it/s, loss=0.0194]\n",
            "100%|██████████| 100/100 [00:00<00:00, 342.96it/s]\n"
          ]
        },
        {
          "output_type": "stream",
          "name": "stdout",
          "text": [
            "accuray=0.59\n"
          ]
        },
        {
          "output_type": "stream",
          "name": "stderr",
          "text": [
            "epoch 621: 100%|██████████| 200/200 [00:03<00:00, 63.57it/s, loss=0.00719]\n",
            "100%|██████████| 100/100 [00:00<00:00, 255.71it/s]\n"
          ]
        },
        {
          "output_type": "stream",
          "name": "stdout",
          "text": [
            "accuray=0.67\n"
          ]
        },
        {
          "output_type": "stream",
          "name": "stderr",
          "text": [
            "epoch 622: 100%|██████████| 200/200 [00:02<00:00, 88.98it/s, loss=0.00632]\n",
            "100%|██████████| 100/100 [00:00<00:00, 378.13it/s]\n"
          ]
        },
        {
          "output_type": "stream",
          "name": "stdout",
          "text": [
            "accuray=0.67\n"
          ]
        },
        {
          "output_type": "stream",
          "name": "stderr",
          "text": [
            "epoch 623: 100%|██████████| 200/200 [00:02<00:00, 89.60it/s, loss=0.00765]\n",
            "100%|██████████| 100/100 [00:00<00:00, 356.80it/s]\n"
          ]
        },
        {
          "output_type": "stream",
          "name": "stdout",
          "text": [
            "accuray=0.63\n"
          ]
        },
        {
          "output_type": "stream",
          "name": "stderr",
          "text": [
            "epoch 624: 100%|██████████| 200/200 [00:02<00:00, 88.59it/s, loss=0.00546]\n",
            "100%|██████████| 100/100 [00:00<00:00, 382.58it/s]\n"
          ]
        },
        {
          "output_type": "stream",
          "name": "stdout",
          "text": [
            "accuray=0.6\n"
          ]
        },
        {
          "output_type": "stream",
          "name": "stderr",
          "text": [
            "epoch 625: 100%|██████████| 200/200 [00:02<00:00, 89.12it/s, loss=0.00731]\n",
            "100%|██████████| 100/100 [00:00<00:00, 341.54it/s]\n"
          ]
        },
        {
          "output_type": "stream",
          "name": "stdout",
          "text": [
            "accuray=0.57\n"
          ]
        },
        {
          "output_type": "stream",
          "name": "stderr",
          "text": [
            "epoch 626: 100%|██████████| 200/200 [00:03<00:00, 64.12it/s, loss=0.00419]\n",
            "100%|██████████| 100/100 [00:00<00:00, 232.00it/s]\n"
          ]
        },
        {
          "output_type": "stream",
          "name": "stdout",
          "text": [
            "accuray=0.55\n"
          ]
        },
        {
          "output_type": "stream",
          "name": "stderr",
          "text": [
            "epoch 627: 100%|██████████| 200/200 [00:02<00:00, 85.72it/s, loss=0.00542]\n",
            "100%|██████████| 100/100 [00:00<00:00, 370.61it/s]\n"
          ]
        },
        {
          "output_type": "stream",
          "name": "stdout",
          "text": [
            "accuray=0.65\n"
          ]
        },
        {
          "output_type": "stream",
          "name": "stderr",
          "text": [
            "epoch 628: 100%|██████████| 200/200 [00:02<00:00, 89.01it/s, loss=0.0073]\n",
            "100%|██████████| 100/100 [00:00<00:00, 345.51it/s]\n"
          ]
        },
        {
          "output_type": "stream",
          "name": "stdout",
          "text": [
            "accuray=0.61\n"
          ]
        },
        {
          "output_type": "stream",
          "name": "stderr",
          "text": [
            "epoch 629: 100%|██████████| 200/200 [00:02<00:00, 89.16it/s, loss=0.00551]\n",
            "100%|██████████| 100/100 [00:00<00:00, 382.66it/s]\n"
          ]
        },
        {
          "output_type": "stream",
          "name": "stdout",
          "text": [
            "accuray=0.64\n"
          ]
        },
        {
          "output_type": "stream",
          "name": "stderr",
          "text": [
            "epoch 630: 100%|██████████| 200/200 [00:02<00:00, 89.35it/s, loss=0.00652]\n",
            "100%|██████████| 100/100 [00:00<00:00, 328.03it/s]\n"
          ]
        },
        {
          "output_type": "stream",
          "name": "stdout",
          "text": [
            "accuray=0.67\n"
          ]
        },
        {
          "output_type": "stream",
          "name": "stderr",
          "text": [
            "epoch 631: 100%|██████████| 200/200 [00:03<00:00, 65.79it/s, loss=0.00586]\n",
            "100%|██████████| 100/100 [00:00<00:00, 248.67it/s]\n"
          ]
        },
        {
          "output_type": "stream",
          "name": "stdout",
          "text": [
            "accuray=0.57\n"
          ]
        },
        {
          "output_type": "stream",
          "name": "stderr",
          "text": [
            "epoch 632: 100%|██████████| 200/200 [00:02<00:00, 88.74it/s, loss=0.104]\n",
            "100%|██████████| 100/100 [00:00<00:00, 390.69it/s]\n"
          ]
        },
        {
          "output_type": "stream",
          "name": "stdout",
          "text": [
            "accuray=0.52\n"
          ]
        },
        {
          "output_type": "stream",
          "name": "stderr",
          "text": [
            "epoch 633: 100%|██████████| 200/200 [00:02<00:00, 88.84it/s, loss=0.0515]\n",
            "100%|██████████| 100/100 [00:00<00:00, 368.85it/s]\n"
          ]
        },
        {
          "output_type": "stream",
          "name": "stdout",
          "text": [
            "accuray=0.6\n"
          ]
        },
        {
          "output_type": "stream",
          "name": "stderr",
          "text": [
            "epoch 634: 100%|██████████| 200/200 [00:02<00:00, 89.17it/s, loss=0.0196]\n",
            "100%|██████████| 100/100 [00:00<00:00, 358.70it/s]\n"
          ]
        },
        {
          "output_type": "stream",
          "name": "stdout",
          "text": [
            "accuray=0.69\n"
          ]
        },
        {
          "output_type": "stream",
          "name": "stderr",
          "text": [
            "epoch 635: 100%|██████████| 200/200 [00:02<00:00, 88.37it/s, loss=0.0101]\n",
            "100%|██████████| 100/100 [00:00<00:00, 340.60it/s]\n"
          ]
        },
        {
          "output_type": "stream",
          "name": "stdout",
          "text": [
            "accuray=0.55\n"
          ]
        },
        {
          "output_type": "stream",
          "name": "stderr",
          "text": [
            "epoch 636: 100%|██████████| 200/200 [00:03<00:00, 65.51it/s, loss=0.00659]\n",
            "100%|██████████| 100/100 [00:00<00:00, 245.00it/s]\n"
          ]
        },
        {
          "output_type": "stream",
          "name": "stdout",
          "text": [
            "accuray=0.57\n"
          ]
        },
        {
          "output_type": "stream",
          "name": "stderr",
          "text": [
            "epoch 637: 100%|██████████| 200/200 [00:02<00:00, 85.57it/s, loss=0.00816]\n",
            "100%|██████████| 100/100 [00:00<00:00, 376.55it/s]\n"
          ]
        },
        {
          "output_type": "stream",
          "name": "stdout",
          "text": [
            "accuray=0.71\n"
          ]
        },
        {
          "output_type": "stream",
          "name": "stderr",
          "text": [
            "epoch 638: 100%|██████████| 200/200 [00:02<00:00, 89.72it/s, loss=0.00637]\n",
            "100%|██████████| 100/100 [00:00<00:00, 379.77it/s]\n"
          ]
        },
        {
          "output_type": "stream",
          "name": "stdout",
          "text": [
            "accuray=0.64\n"
          ]
        },
        {
          "output_type": "stream",
          "name": "stderr",
          "text": [
            "epoch 639: 100%|██████████| 200/200 [00:02<00:00, 89.04it/s, loss=0.00604]\n",
            "100%|██████████| 100/100 [00:00<00:00, 354.86it/s]\n"
          ]
        },
        {
          "output_type": "stream",
          "name": "stdout",
          "text": [
            "accuray=0.65\n"
          ]
        },
        {
          "output_type": "stream",
          "name": "stderr",
          "text": [
            "epoch 640: 100%|██████████| 200/200 [00:02<00:00, 88.93it/s, loss=0.00651]\n",
            "100%|██████████| 100/100 [00:00<00:00, 359.64it/s]\n"
          ]
        },
        {
          "output_type": "stream",
          "name": "stdout",
          "text": [
            "accuray=0.61\n"
          ]
        },
        {
          "output_type": "stream",
          "name": "stderr",
          "text": [
            "epoch 641: 100%|██████████| 200/200 [00:03<00:00, 63.15it/s, loss=0.00604]\n",
            "100%|██████████| 100/100 [00:00<00:00, 251.73it/s]\n"
          ]
        },
        {
          "output_type": "stream",
          "name": "stdout",
          "text": [
            "accuray=0.69\n"
          ]
        },
        {
          "output_type": "stream",
          "name": "stderr",
          "text": [
            "epoch 642: 100%|██████████| 200/200 [00:02<00:00, 88.85it/s, loss=0.00542]\n",
            "100%|██████████| 100/100 [00:00<00:00, 387.46it/s]\n"
          ]
        },
        {
          "output_type": "stream",
          "name": "stdout",
          "text": [
            "accuray=0.56\n"
          ]
        },
        {
          "output_type": "stream",
          "name": "stderr",
          "text": [
            "epoch 643: 100%|██████████| 200/200 [00:02<00:00, 87.69it/s, loss=0.00724]\n",
            "100%|██████████| 100/100 [00:00<00:00, 349.04it/s]\n"
          ]
        },
        {
          "output_type": "stream",
          "name": "stdout",
          "text": [
            "accuray=0.64\n"
          ]
        },
        {
          "output_type": "stream",
          "name": "stderr",
          "text": [
            "epoch 644: 100%|██████████| 200/200 [00:02<00:00, 87.72it/s, loss=0.623]\n",
            "100%|██████████| 100/100 [00:00<00:00, 386.70it/s]\n"
          ]
        },
        {
          "output_type": "stream",
          "name": "stdout",
          "text": [
            "accuray=0.53\n"
          ]
        },
        {
          "output_type": "stream",
          "name": "stderr",
          "text": [
            "epoch 645: 100%|██████████| 200/200 [00:02<00:00, 89.09it/s, loss=0.0478]\n",
            "100%|██████████| 100/100 [00:00<00:00, 323.33it/s]\n"
          ]
        },
        {
          "output_type": "stream",
          "name": "stdout",
          "text": [
            "accuray=0.7\n"
          ]
        },
        {
          "output_type": "stream",
          "name": "stderr",
          "text": [
            "epoch 646: 100%|██████████| 200/200 [00:03<00:00, 63.52it/s, loss=0.0204]\n",
            "100%|██████████| 100/100 [00:00<00:00, 270.35it/s]\n"
          ]
        },
        {
          "output_type": "stream",
          "name": "stdout",
          "text": [
            "accuray=0.61\n"
          ]
        },
        {
          "output_type": "stream",
          "name": "stderr",
          "text": [
            "epoch 647: 100%|██████████| 200/200 [00:02<00:00, 89.04it/s, loss=0.00879]\n",
            "100%|██████████| 100/100 [00:00<00:00, 351.53it/s]\n"
          ]
        },
        {
          "output_type": "stream",
          "name": "stdout",
          "text": [
            "accuray=0.63\n"
          ]
        },
        {
          "output_type": "stream",
          "name": "stderr",
          "text": [
            "epoch 648: 100%|██████████| 200/200 [00:02<00:00, 85.76it/s, loss=0.00683]\n",
            "100%|██████████| 100/100 [00:00<00:00, 350.24it/s]\n"
          ]
        },
        {
          "output_type": "stream",
          "name": "stdout",
          "text": [
            "accuray=0.57\n"
          ]
        },
        {
          "output_type": "stream",
          "name": "stderr",
          "text": [
            "epoch 649: 100%|██████████| 200/200 [00:02<00:00, 87.42it/s, loss=0.0052]\n",
            "100%|██████████| 100/100 [00:00<00:00, 376.20it/s]\n"
          ]
        },
        {
          "output_type": "stream",
          "name": "stdout",
          "text": [
            "accuray=0.65\n"
          ]
        },
        {
          "output_type": "stream",
          "name": "stderr",
          "text": [
            "epoch 650: 100%|██████████| 200/200 [00:02<00:00, 84.12it/s, loss=0.00603]\n",
            "100%|██████████| 100/100 [00:00<00:00, 275.58it/s]\n"
          ]
        },
        {
          "output_type": "stream",
          "name": "stdout",
          "text": [
            "accuray=0.56\n"
          ]
        },
        {
          "output_type": "stream",
          "name": "stderr",
          "text": [
            "epoch 651: 100%|██████████| 200/200 [00:03<00:00, 64.91it/s, loss=0.00653]\n",
            "100%|██████████| 100/100 [00:00<00:00, 368.83it/s]\n"
          ]
        },
        {
          "output_type": "stream",
          "name": "stdout",
          "text": [
            "accuray=0.68\n"
          ]
        },
        {
          "output_type": "stream",
          "name": "stderr",
          "text": [
            "epoch 652: 100%|██████████| 200/200 [00:02<00:00, 89.47it/s, loss=0.00634]\n",
            "100%|██████████| 100/100 [00:00<00:00, 368.49it/s]\n"
          ]
        },
        {
          "output_type": "stream",
          "name": "stdout",
          "text": [
            "accuray=0.64\n"
          ]
        },
        {
          "output_type": "stream",
          "name": "stderr",
          "text": [
            "epoch 653: 100%|██████████| 200/200 [00:02<00:00, 87.89it/s, loss=0.0047]\n",
            "100%|██████████| 100/100 [00:00<00:00, 358.48it/s]\n"
          ]
        },
        {
          "output_type": "stream",
          "name": "stdout",
          "text": [
            "accuray=0.63\n"
          ]
        },
        {
          "output_type": "stream",
          "name": "stderr",
          "text": [
            "epoch 654: 100%|██████████| 200/200 [00:02<00:00, 88.08it/s, loss=0.00509]\n",
            "100%|██████████| 100/100 [00:00<00:00, 375.78it/s]\n"
          ]
        },
        {
          "output_type": "stream",
          "name": "stdout",
          "text": [
            "accuray=0.65\n"
          ]
        },
        {
          "output_type": "stream",
          "name": "stderr",
          "text": [
            "epoch 655: 100%|██████████| 200/200 [00:02<00:00, 84.73it/s, loss=0.00616]\n",
            "100%|██████████| 100/100 [00:00<00:00, 272.97it/s]\n"
          ]
        },
        {
          "output_type": "stream",
          "name": "stdout",
          "text": [
            "accuray=0.59\n"
          ]
        },
        {
          "output_type": "stream",
          "name": "stderr",
          "text": [
            "epoch 656: 100%|██████████| 200/200 [00:03<00:00, 66.01it/s, loss=0.00527]\n",
            "100%|██████████| 100/100 [00:00<00:00, 345.25it/s]\n"
          ]
        },
        {
          "output_type": "stream",
          "name": "stdout",
          "text": [
            "accuray=0.63\n"
          ]
        },
        {
          "output_type": "stream",
          "name": "stderr",
          "text": [
            "epoch 657: 100%|██████████| 200/200 [00:02<00:00, 88.67it/s, loss=0.0653]\n",
            "100%|██████████| 100/100 [00:00<00:00, 374.27it/s]\n"
          ]
        },
        {
          "output_type": "stream",
          "name": "stdout",
          "text": [
            "accuray=0.59\n"
          ]
        },
        {
          "output_type": "stream",
          "name": "stderr",
          "text": [
            "epoch 658: 100%|██████████| 200/200 [00:02<00:00, 90.20it/s, loss=0.0343]\n",
            "100%|██████████| 100/100 [00:00<00:00, 386.78it/s]\n"
          ]
        },
        {
          "output_type": "stream",
          "name": "stdout",
          "text": [
            "accuray=0.61\n"
          ]
        },
        {
          "output_type": "stream",
          "name": "stderr",
          "text": [
            "epoch 659: 100%|██████████| 200/200 [00:02<00:00, 86.31it/s, loss=0.0392]\n",
            "100%|██████████| 100/100 [00:00<00:00, 373.56it/s]\n"
          ]
        },
        {
          "output_type": "stream",
          "name": "stdout",
          "text": [
            "accuray=0.57\n"
          ]
        },
        {
          "output_type": "stream",
          "name": "stderr",
          "text": [
            "epoch 660: 100%|██████████| 200/200 [00:02<00:00, 83.12it/s, loss=0.00782]\n",
            "100%|██████████| 100/100 [00:00<00:00, 284.94it/s]\n"
          ]
        },
        {
          "output_type": "stream",
          "name": "stdout",
          "text": [
            "accuray=0.64\n"
          ]
        },
        {
          "output_type": "stream",
          "name": "stderr",
          "text": [
            "epoch 661: 100%|██████████| 200/200 [00:03<00:00, 65.60it/s, loss=0.00853]\n",
            "100%|██████████| 100/100 [00:00<00:00, 351.41it/s]\n"
          ]
        },
        {
          "output_type": "stream",
          "name": "stdout",
          "text": [
            "accuray=0.59\n"
          ]
        },
        {
          "output_type": "stream",
          "name": "stderr",
          "text": [
            "epoch 662: 100%|██████████| 200/200 [00:02<00:00, 89.69it/s, loss=0.00688]\n",
            "100%|██████████| 100/100 [00:00<00:00, 379.52it/s]\n"
          ]
        },
        {
          "output_type": "stream",
          "name": "stdout",
          "text": [
            "accuray=0.56\n"
          ]
        },
        {
          "output_type": "stream",
          "name": "stderr",
          "text": [
            "epoch 663: 100%|██████████| 200/200 [00:02<00:00, 89.20it/s, loss=0.00444]\n",
            "100%|██████████| 100/100 [00:00<00:00, 370.00it/s]\n"
          ]
        },
        {
          "output_type": "stream",
          "name": "stdout",
          "text": [
            "accuray=0.65\n"
          ]
        },
        {
          "output_type": "stream",
          "name": "stderr",
          "text": [
            "epoch 664: 100%|██████████| 200/200 [00:02<00:00, 87.94it/s, loss=0.00439]\n",
            "100%|██████████| 100/100 [00:00<00:00, 384.05it/s]\n"
          ]
        },
        {
          "output_type": "stream",
          "name": "stdout",
          "text": [
            "accuray=0.66\n"
          ]
        },
        {
          "output_type": "stream",
          "name": "stderr",
          "text": [
            "epoch 665: 100%|██████████| 200/200 [00:02<00:00, 85.18it/s, loss=0.0053]\n",
            "100%|██████████| 100/100 [00:00<00:00, 262.18it/s]\n"
          ]
        },
        {
          "output_type": "stream",
          "name": "stdout",
          "text": [
            "accuray=0.58\n"
          ]
        },
        {
          "output_type": "stream",
          "name": "stderr",
          "text": [
            "epoch 666: 100%|██████████| 200/200 [00:03<00:00, 64.20it/s, loss=0.00394]\n",
            "100%|██████████| 100/100 [00:00<00:00, 377.62it/s]\n"
          ]
        },
        {
          "output_type": "stream",
          "name": "stdout",
          "text": [
            "accuray=0.72\n"
          ]
        },
        {
          "output_type": "stream",
          "name": "stderr",
          "text": [
            "epoch 667: 100%|██████████| 200/200 [00:02<00:00, 88.37it/s, loss=0.00404]\n",
            "100%|██████████| 100/100 [00:00<00:00, 388.55it/s]\n"
          ]
        },
        {
          "output_type": "stream",
          "name": "stdout",
          "text": [
            "accuray=0.62\n"
          ]
        },
        {
          "output_type": "stream",
          "name": "stderr",
          "text": [
            "epoch 668: 100%|██████████| 200/200 [00:02<00:00, 88.85it/s, loss=0.00469]\n",
            "100%|██████████| 100/100 [00:00<00:00, 373.44it/s]\n"
          ]
        },
        {
          "output_type": "stream",
          "name": "stdout",
          "text": [
            "accuray=0.72\n"
          ]
        },
        {
          "output_type": "stream",
          "name": "stderr",
          "text": [
            "epoch 669: 100%|██████████| 200/200 [00:02<00:00, 89.61it/s, loss=0.00574]\n",
            "100%|██████████| 100/100 [00:00<00:00, 372.99it/s]\n"
          ]
        },
        {
          "output_type": "stream",
          "name": "stdout",
          "text": [
            "accuray=0.6\n"
          ]
        },
        {
          "output_type": "stream",
          "name": "stderr",
          "text": [
            "epoch 670: 100%|██████████| 200/200 [00:02<00:00, 81.92it/s, loss=0.0207]\n",
            "100%|██████████| 100/100 [00:00<00:00, 291.16it/s]\n"
          ]
        },
        {
          "output_type": "stream",
          "name": "stdout",
          "text": [
            "accuray=0.6\n"
          ]
        },
        {
          "output_type": "stream",
          "name": "stderr",
          "text": [
            "epoch 671: 100%|██████████| 200/200 [00:03<00:00, 66.60it/s, loss=0.064]\n",
            "100%|██████████| 100/100 [00:00<00:00, 367.81it/s]\n"
          ]
        },
        {
          "output_type": "stream",
          "name": "stdout",
          "text": [
            "accuray=0.59\n"
          ]
        },
        {
          "output_type": "stream",
          "name": "stderr",
          "text": [
            "epoch 672: 100%|██████████| 200/200 [00:02<00:00, 87.92it/s, loss=0.00991]\n",
            "100%|██████████| 100/100 [00:00<00:00, 373.00it/s]\n"
          ]
        },
        {
          "output_type": "stream",
          "name": "stdout",
          "text": [
            "accuray=0.6\n"
          ]
        },
        {
          "output_type": "stream",
          "name": "stderr",
          "text": [
            "epoch 673: 100%|██████████| 200/200 [00:02<00:00, 89.58it/s, loss=0.00838]\n",
            "100%|██████████| 100/100 [00:00<00:00, 370.30it/s]\n"
          ]
        },
        {
          "output_type": "stream",
          "name": "stdout",
          "text": [
            "accuray=0.57\n"
          ]
        },
        {
          "output_type": "stream",
          "name": "stderr",
          "text": [
            "epoch 674: 100%|██████████| 200/200 [00:02<00:00, 88.74it/s, loss=0.00579]\n",
            "100%|██████████| 100/100 [00:00<00:00, 346.72it/s]\n"
          ]
        },
        {
          "output_type": "stream",
          "name": "stdout",
          "text": [
            "accuray=0.57\n"
          ]
        },
        {
          "output_type": "stream",
          "name": "stderr",
          "text": [
            "epoch 675: 100%|██████████| 200/200 [00:02<00:00, 85.59it/s, loss=0.00351]\n",
            "100%|██████████| 100/100 [00:00<00:00, 284.68it/s]\n"
          ]
        },
        {
          "output_type": "stream",
          "name": "stdout",
          "text": [
            "accuray=0.55\n"
          ]
        },
        {
          "output_type": "stream",
          "name": "stderr",
          "text": [
            "epoch 676: 100%|██████████| 200/200 [00:03<00:00, 65.13it/s, loss=0.00529]\n",
            "100%|██████████| 100/100 [00:00<00:00, 369.59it/s]\n"
          ]
        },
        {
          "output_type": "stream",
          "name": "stdout",
          "text": [
            "accuray=0.64\n"
          ]
        },
        {
          "output_type": "stream",
          "name": "stderr",
          "text": [
            "epoch 677: 100%|██████████| 200/200 [00:02<00:00, 89.23it/s, loss=0.00422]\n",
            "100%|██████████| 100/100 [00:00<00:00, 368.27it/s]\n"
          ]
        },
        {
          "output_type": "stream",
          "name": "stdout",
          "text": [
            "accuray=0.67\n"
          ]
        },
        {
          "output_type": "stream",
          "name": "stderr",
          "text": [
            "epoch 678: 100%|██████████| 200/200 [00:02<00:00, 88.45it/s, loss=0.00491]\n",
            "100%|██████████| 100/100 [00:00<00:00, 371.39it/s]\n"
          ]
        },
        {
          "output_type": "stream",
          "name": "stdout",
          "text": [
            "accuray=0.65\n"
          ]
        },
        {
          "output_type": "stream",
          "name": "stderr",
          "text": [
            "epoch 679: 100%|██████████| 200/200 [00:02<00:00, 89.67it/s, loss=0.00539]\n",
            "100%|██████████| 100/100 [00:00<00:00, 352.11it/s]\n"
          ]
        },
        {
          "output_type": "stream",
          "name": "stdout",
          "text": [
            "accuray=0.63\n"
          ]
        },
        {
          "output_type": "stream",
          "name": "stderr",
          "text": [
            "epoch 680: 100%|██████████| 200/200 [00:02<00:00, 86.51it/s, loss=0.00554]\n",
            "100%|██████████| 100/100 [00:00<00:00, 313.54it/s]\n"
          ]
        },
        {
          "output_type": "stream",
          "name": "stdout",
          "text": [
            "accuray=0.72\n"
          ]
        },
        {
          "output_type": "stream",
          "name": "stderr",
          "text": [
            "epoch 681: 100%|██████████| 200/200 [00:03<00:00, 63.22it/s, loss=0.00392]\n",
            "100%|██████████| 100/100 [00:00<00:00, 370.80it/s]\n"
          ]
        },
        {
          "output_type": "stream",
          "name": "stdout",
          "text": [
            "accuray=0.63\n"
          ]
        },
        {
          "output_type": "stream",
          "name": "stderr",
          "text": [
            "epoch 682: 100%|██████████| 200/200 [00:02<00:00, 88.39it/s, loss=0.00538]\n",
            "100%|██████████| 100/100 [00:00<00:00, 382.44it/s]\n"
          ]
        },
        {
          "output_type": "stream",
          "name": "stdout",
          "text": [
            "accuray=0.61\n"
          ]
        },
        {
          "output_type": "stream",
          "name": "stderr",
          "text": [
            "epoch 683: 100%|██████████| 200/200 [00:02<00:00, 89.92it/s, loss=0.00327]\n",
            "100%|██████████| 100/100 [00:00<00:00, 372.99it/s]\n"
          ]
        },
        {
          "output_type": "stream",
          "name": "stdout",
          "text": [
            "accuray=0.7\n"
          ]
        },
        {
          "output_type": "stream",
          "name": "stderr",
          "text": [
            "epoch 684: 100%|██████████| 200/200 [00:02<00:00, 89.54it/s, loss=0.00479]\n",
            "100%|██████████| 100/100 [00:00<00:00, 376.69it/s]\n"
          ]
        },
        {
          "output_type": "stream",
          "name": "stdout",
          "text": [
            "accuray=0.69\n"
          ]
        },
        {
          "output_type": "stream",
          "name": "stderr",
          "text": [
            "epoch 685: 100%|██████████| 200/200 [00:02<00:00, 86.14it/s, loss=0.118]\n",
            "100%|██████████| 100/100 [00:00<00:00, 274.05it/s]\n"
          ]
        },
        {
          "output_type": "stream",
          "name": "stdout",
          "text": [
            "accuray=0.55\n"
          ]
        },
        {
          "output_type": "stream",
          "name": "stderr",
          "text": [
            "epoch 686: 100%|██████████| 200/200 [00:03<00:00, 64.89it/s, loss=0.0187]\n",
            "100%|██████████| 100/100 [00:00<00:00, 376.84it/s]\n"
          ]
        },
        {
          "output_type": "stream",
          "name": "stdout",
          "text": [
            "accuray=0.6\n"
          ]
        },
        {
          "output_type": "stream",
          "name": "stderr",
          "text": [
            "epoch 687: 100%|██████████| 200/200 [00:02<00:00, 89.75it/s, loss=0.00695]\n",
            "100%|██████████| 100/100 [00:00<00:00, 374.41it/s]\n"
          ]
        },
        {
          "output_type": "stream",
          "name": "stdout",
          "text": [
            "accuray=0.59\n"
          ]
        },
        {
          "output_type": "stream",
          "name": "stderr",
          "text": [
            "epoch 688: 100%|██████████| 200/200 [00:02<00:00, 89.00it/s, loss=0.00474]\n",
            "100%|██████████| 100/100 [00:00<00:00, 371.79it/s]\n"
          ]
        },
        {
          "output_type": "stream",
          "name": "stdout",
          "text": [
            "accuray=0.71\n"
          ]
        },
        {
          "output_type": "stream",
          "name": "stderr",
          "text": [
            "epoch 689: 100%|██████████| 200/200 [00:02<00:00, 88.32it/s, loss=0.00639]\n",
            "100%|██████████| 100/100 [00:00<00:00, 357.10it/s]\n"
          ]
        },
        {
          "output_type": "stream",
          "name": "stdout",
          "text": [
            "accuray=0.72\n"
          ]
        },
        {
          "output_type": "stream",
          "name": "stderr",
          "text": [
            "epoch 690: 100%|██████████| 200/200 [00:02<00:00, 85.74it/s, loss=0.00476]\n",
            "100%|██████████| 100/100 [00:00<00:00, 274.97it/s]\n"
          ]
        },
        {
          "output_type": "stream",
          "name": "stdout",
          "text": [
            "accuray=0.64\n"
          ]
        },
        {
          "output_type": "stream",
          "name": "stderr",
          "text": [
            "epoch 691: 100%|██████████| 200/200 [00:03<00:00, 64.67it/s, loss=0.00517]\n",
            "100%|██████████| 100/100 [00:00<00:00, 368.26it/s]\n"
          ]
        },
        {
          "output_type": "stream",
          "name": "stdout",
          "text": [
            "accuray=0.6\n"
          ]
        },
        {
          "output_type": "stream",
          "name": "stderr",
          "text": [
            "epoch 692: 100%|██████████| 200/200 [00:02<00:00, 87.19it/s, loss=0.00397]\n",
            "100%|██████████| 100/100 [00:00<00:00, 364.29it/s]\n"
          ]
        },
        {
          "output_type": "stream",
          "name": "stdout",
          "text": [
            "accuray=0.64\n"
          ]
        },
        {
          "output_type": "stream",
          "name": "stderr",
          "text": [
            "epoch 693: 100%|██████████| 200/200 [00:02<00:00, 88.87it/s, loss=0.00356]\n",
            "100%|██████████| 100/100 [00:00<00:00, 380.06it/s]\n"
          ]
        },
        {
          "output_type": "stream",
          "name": "stdout",
          "text": [
            "accuray=0.63\n"
          ]
        },
        {
          "output_type": "stream",
          "name": "stderr",
          "text": [
            "epoch 694: 100%|██████████| 200/200 [00:02<00:00, 88.42it/s, loss=0.00518]\n",
            "100%|██████████| 100/100 [00:00<00:00, 382.38it/s]\n"
          ]
        },
        {
          "output_type": "stream",
          "name": "stdout",
          "text": [
            "accuray=0.62\n"
          ]
        },
        {
          "output_type": "stream",
          "name": "stderr",
          "text": [
            "epoch 695: 100%|██████████| 200/200 [00:02<00:00, 85.48it/s, loss=0.00413]\n",
            "100%|██████████| 100/100 [00:00<00:00, 309.75it/s]\n"
          ]
        },
        {
          "output_type": "stream",
          "name": "stdout",
          "text": [
            "accuray=0.63\n"
          ]
        },
        {
          "output_type": "stream",
          "name": "stderr",
          "text": [
            "epoch 696: 100%|██████████| 200/200 [00:03<00:00, 65.47it/s, loss=0.0032]\n",
            "100%|██████████| 100/100 [00:00<00:00, 372.87it/s]\n"
          ]
        },
        {
          "output_type": "stream",
          "name": "stdout",
          "text": [
            "accuray=0.63\n"
          ]
        },
        {
          "output_type": "stream",
          "name": "stderr",
          "text": [
            "epoch 697: 100%|██████████| 200/200 [00:02<00:00, 89.68it/s, loss=0.00514]\n",
            "100%|██████████| 100/100 [00:00<00:00, 358.59it/s]\n"
          ]
        },
        {
          "output_type": "stream",
          "name": "stdout",
          "text": [
            "accuray=0.6\n"
          ]
        },
        {
          "output_type": "stream",
          "name": "stderr",
          "text": [
            "epoch 698: 100%|██████████| 200/200 [00:02<00:00, 90.05it/s, loss=0.222]\n",
            "100%|██████████| 100/100 [00:00<00:00, 373.53it/s]\n"
          ]
        },
        {
          "output_type": "stream",
          "name": "stdout",
          "text": [
            "accuray=0.6\n"
          ]
        },
        {
          "output_type": "stream",
          "name": "stderr",
          "text": [
            "epoch 699: 100%|██████████| 200/200 [00:02<00:00, 89.03it/s, loss=0.0453]\n",
            "100%|██████████| 100/100 [00:00<00:00, 353.73it/s]\n"
          ]
        },
        {
          "output_type": "stream",
          "name": "stdout",
          "text": [
            "accuray=0.54\n"
          ]
        },
        {
          "output_type": "stream",
          "name": "stderr",
          "text": [
            "epoch 700: 100%|██████████| 200/200 [00:02<00:00, 84.12it/s, loss=0.00743]\n",
            "100%|██████████| 100/100 [00:00<00:00, 305.39it/s]\n"
          ]
        },
        {
          "output_type": "stream",
          "name": "stdout",
          "text": [
            "accuray=0.65\n"
          ]
        },
        {
          "output_type": "stream",
          "name": "stderr",
          "text": [
            "epoch 701: 100%|██████████| 200/200 [00:03<00:00, 65.21it/s, loss=0.00693]\n",
            "100%|██████████| 100/100 [00:00<00:00, 385.35it/s]\n"
          ]
        },
        {
          "output_type": "stream",
          "name": "stdout",
          "text": [
            "accuray=0.56\n"
          ]
        },
        {
          "output_type": "stream",
          "name": "stderr",
          "text": [
            "epoch 702: 100%|██████████| 200/200 [00:02<00:00, 88.19it/s, loss=0.00546]\n",
            "100%|██████████| 100/100 [00:00<00:00, 353.10it/s]\n"
          ]
        },
        {
          "output_type": "stream",
          "name": "stdout",
          "text": [
            "accuray=0.62\n"
          ]
        },
        {
          "output_type": "stream",
          "name": "stderr",
          "text": [
            "epoch 703: 100%|██████████| 200/200 [00:02<00:00, 86.94it/s, loss=0.00526]\n",
            "100%|██████████| 100/100 [00:00<00:00, 382.37it/s]\n"
          ]
        },
        {
          "output_type": "stream",
          "name": "stdout",
          "text": [
            "accuray=0.72\n"
          ]
        },
        {
          "output_type": "stream",
          "name": "stderr",
          "text": [
            "epoch 704: 100%|██████████| 200/200 [00:02<00:00, 88.22it/s, loss=0.00438]\n",
            "100%|██████████| 100/100 [00:00<00:00, 375.20it/s]\n"
          ]
        },
        {
          "output_type": "stream",
          "name": "stdout",
          "text": [
            "accuray=0.67\n"
          ]
        },
        {
          "output_type": "stream",
          "name": "stderr",
          "text": [
            "epoch 705: 100%|██████████| 200/200 [00:02<00:00, 83.59it/s, loss=0.00291]\n",
            "100%|██████████| 100/100 [00:00<00:00, 274.56it/s]\n"
          ]
        },
        {
          "output_type": "stream",
          "name": "stdout",
          "text": [
            "accuray=0.66\n"
          ]
        },
        {
          "output_type": "stream",
          "name": "stderr",
          "text": [
            "epoch 706: 100%|██████████| 200/200 [00:02<00:00, 67.14it/s, loss=0.0029]\n",
            "100%|██████████| 100/100 [00:00<00:00, 355.77it/s]\n"
          ]
        },
        {
          "output_type": "stream",
          "name": "stdout",
          "text": [
            "accuray=0.59\n"
          ]
        },
        {
          "output_type": "stream",
          "name": "stderr",
          "text": [
            "epoch 707: 100%|██████████| 200/200 [00:02<00:00, 89.21it/s, loss=0.00435]\n",
            "100%|██████████| 100/100 [00:00<00:00, 368.91it/s]\n"
          ]
        },
        {
          "output_type": "stream",
          "name": "stdout",
          "text": [
            "accuray=0.55\n"
          ]
        },
        {
          "output_type": "stream",
          "name": "stderr",
          "text": [
            "epoch 708: 100%|██████████| 200/200 [00:02<00:00, 89.26it/s, loss=0.00357]\n",
            "100%|██████████| 100/100 [00:00<00:00, 359.13it/s]\n"
          ]
        },
        {
          "output_type": "stream",
          "name": "stdout",
          "text": [
            "accuray=0.62\n"
          ]
        },
        {
          "output_type": "stream",
          "name": "stderr",
          "text": [
            "epoch 709: 100%|██████████| 200/200 [00:02<00:00, 88.30it/s, loss=0.00362]\n",
            "100%|██████████| 100/100 [00:00<00:00, 373.07it/s]\n"
          ]
        },
        {
          "output_type": "stream",
          "name": "stdout",
          "text": [
            "accuray=0.6\n"
          ]
        },
        {
          "output_type": "stream",
          "name": "stderr",
          "text": [
            "epoch 710: 100%|██████████| 200/200 [00:02<00:00, 82.15it/s, loss=0.00594]\n",
            "100%|██████████| 100/100 [00:00<00:00, 272.03it/s]\n"
          ]
        },
        {
          "output_type": "stream",
          "name": "stdout",
          "text": [
            "accuray=0.59\n"
          ]
        },
        {
          "output_type": "stream",
          "name": "stderr",
          "text": [
            "epoch 711: 100%|██████████| 200/200 [00:03<00:00, 65.58it/s, loss=0.124]\n",
            "100%|██████████| 100/100 [00:00<00:00, 378.90it/s]\n"
          ]
        },
        {
          "output_type": "stream",
          "name": "stdout",
          "text": [
            "accuray=0.52\n"
          ]
        },
        {
          "output_type": "stream",
          "name": "stderr",
          "text": [
            "epoch 712: 100%|██████████| 200/200 [00:02<00:00, 89.10it/s, loss=0.0107]\n",
            "100%|██████████| 100/100 [00:00<00:00, 376.31it/s]\n"
          ]
        },
        {
          "output_type": "stream",
          "name": "stdout",
          "text": [
            "accuray=0.65\n"
          ]
        },
        {
          "output_type": "stream",
          "name": "stderr",
          "text": [
            "epoch 713: 100%|██████████| 200/200 [00:02<00:00, 88.54it/s, loss=0.00594]\n",
            "100%|██████████| 100/100 [00:00<00:00, 359.21it/s]\n"
          ]
        },
        {
          "output_type": "stream",
          "name": "stdout",
          "text": [
            "accuray=0.63\n"
          ]
        },
        {
          "output_type": "stream",
          "name": "stderr",
          "text": [
            "epoch 714: 100%|██████████| 200/200 [00:02<00:00, 86.51it/s, loss=0.00488]\n",
            "100%|██████████| 100/100 [00:00<00:00, 370.63it/s]\n"
          ]
        },
        {
          "output_type": "stream",
          "name": "stdout",
          "text": [
            "accuray=0.59\n"
          ]
        },
        {
          "output_type": "stream",
          "name": "stderr",
          "text": [
            "epoch 715: 100%|██████████| 200/200 [00:02<00:00, 81.48it/s, loss=0.00591]\n",
            "100%|██████████| 100/100 [00:00<00:00, 299.70it/s]\n"
          ]
        },
        {
          "output_type": "stream",
          "name": "stdout",
          "text": [
            "accuray=0.65\n"
          ]
        },
        {
          "output_type": "stream",
          "name": "stderr",
          "text": [
            "epoch 716: 100%|██████████| 200/200 [00:02<00:00, 68.00it/s, loss=0.00282]\n",
            "100%|██████████| 100/100 [00:00<00:00, 382.99it/s]\n"
          ]
        },
        {
          "output_type": "stream",
          "name": "stdout",
          "text": [
            "accuray=0.71\n"
          ]
        },
        {
          "output_type": "stream",
          "name": "stderr",
          "text": [
            "epoch 717: 100%|██████████| 200/200 [00:02<00:00, 89.25it/s, loss=0.00385]\n",
            "100%|██████████| 100/100 [00:00<00:00, 380.14it/s]\n"
          ]
        },
        {
          "output_type": "stream",
          "name": "stdout",
          "text": [
            "accuray=0.66\n"
          ]
        },
        {
          "output_type": "stream",
          "name": "stderr",
          "text": [
            "epoch 718: 100%|██████████| 200/200 [00:02<00:00, 87.67it/s, loss=0.00366]\n",
            "100%|██████████| 100/100 [00:00<00:00, 358.50it/s]\n"
          ]
        },
        {
          "output_type": "stream",
          "name": "stdout",
          "text": [
            "accuray=0.59\n"
          ]
        },
        {
          "output_type": "stream",
          "name": "stderr",
          "text": [
            "epoch 719: 100%|██████████| 200/200 [00:02<00:00, 89.31it/s, loss=0.00424]\n",
            "100%|██████████| 100/100 [00:00<00:00, 350.09it/s]\n"
          ]
        },
        {
          "output_type": "stream",
          "name": "stdout",
          "text": [
            "accuray=0.65\n"
          ]
        },
        {
          "output_type": "stream",
          "name": "stderr",
          "text": [
            "epoch 720: 100%|██████████| 200/200 [00:02<00:00, 84.41it/s, loss=0.00402]\n",
            "100%|██████████| 100/100 [00:00<00:00, 302.62it/s]\n"
          ]
        },
        {
          "output_type": "stream",
          "name": "stdout",
          "text": [
            "accuray=0.62\n"
          ]
        },
        {
          "output_type": "stream",
          "name": "stderr",
          "text": [
            "epoch 721: 100%|██████████| 200/200 [00:03<00:00, 66.43it/s, loss=0.00465]\n",
            "100%|██████████| 100/100 [00:00<00:00, 364.37it/s]\n"
          ]
        },
        {
          "output_type": "stream",
          "name": "stdout",
          "text": [
            "accuray=0.64\n"
          ]
        },
        {
          "output_type": "stream",
          "name": "stderr",
          "text": [
            "epoch 722: 100%|██████████| 200/200 [00:02<00:00, 89.02it/s, loss=0.00397]\n",
            "100%|██████████| 100/100 [00:00<00:00, 373.32it/s]\n"
          ]
        },
        {
          "output_type": "stream",
          "name": "stdout",
          "text": [
            "accuray=0.66\n"
          ]
        },
        {
          "output_type": "stream",
          "name": "stderr",
          "text": [
            "epoch 723: 100%|██████████| 200/200 [00:02<00:00, 89.41it/s, loss=0.00328]\n",
            "100%|██████████| 100/100 [00:00<00:00, 377.64it/s]\n"
          ]
        },
        {
          "output_type": "stream",
          "name": "stdout",
          "text": [
            "accuray=0.6\n"
          ]
        },
        {
          "output_type": "stream",
          "name": "stderr",
          "text": [
            "epoch 724: 100%|██████████| 200/200 [00:02<00:00, 89.84it/s, loss=0.00253]\n",
            "100%|██████████| 100/100 [00:00<00:00, 356.94it/s]\n"
          ]
        },
        {
          "output_type": "stream",
          "name": "stdout",
          "text": [
            "accuray=0.71\n"
          ]
        },
        {
          "output_type": "stream",
          "name": "stderr",
          "text": [
            "epoch 725: 100%|██████████| 200/200 [00:02<00:00, 84.91it/s, loss=0.00402]\n",
            "100%|██████████| 100/100 [00:00<00:00, 250.61it/s]\n"
          ]
        },
        {
          "output_type": "stream",
          "name": "stdout",
          "text": [
            "accuray=0.6\n"
          ]
        },
        {
          "output_type": "stream",
          "name": "stderr",
          "text": [
            "epoch 726: 100%|██████████| 200/200 [00:03<00:00, 63.94it/s, loss=0.207]\n",
            "100%|██████████| 100/100 [00:00<00:00, 359.70it/s]\n"
          ]
        },
        {
          "output_type": "stream",
          "name": "stdout",
          "text": [
            "accuray=0.52\n"
          ]
        },
        {
          "output_type": "stream",
          "name": "stderr",
          "text": [
            "epoch 727: 100%|██████████| 200/200 [00:02<00:00, 88.71it/s, loss=0.0158]\n",
            "100%|██████████| 100/100 [00:00<00:00, 375.94it/s]\n"
          ]
        },
        {
          "output_type": "stream",
          "name": "stdout",
          "text": [
            "accuray=0.59\n"
          ]
        },
        {
          "output_type": "stream",
          "name": "stderr",
          "text": [
            "epoch 728: 100%|██████████| 200/200 [00:02<00:00, 90.26it/s, loss=0.00752]\n",
            "100%|██████████| 100/100 [00:00<00:00, 354.55it/s]\n"
          ]
        },
        {
          "output_type": "stream",
          "name": "stdout",
          "text": [
            "accuray=0.53\n"
          ]
        },
        {
          "output_type": "stream",
          "name": "stderr",
          "text": [
            "epoch 729: 100%|██████████| 200/200 [00:02<00:00, 86.01it/s, loss=0.00527]\n",
            "100%|██████████| 100/100 [00:00<00:00, 343.43it/s]\n"
          ]
        },
        {
          "output_type": "stream",
          "name": "stdout",
          "text": [
            "accuray=0.56\n"
          ]
        },
        {
          "output_type": "stream",
          "name": "stderr",
          "text": [
            "epoch 730: 100%|██████████| 200/200 [00:02<00:00, 83.61it/s, loss=0.0046]\n",
            "100%|██████████| 100/100 [00:00<00:00, 270.38it/s]\n"
          ]
        },
        {
          "output_type": "stream",
          "name": "stdout",
          "text": [
            "accuray=0.64\n"
          ]
        },
        {
          "output_type": "stream",
          "name": "stderr",
          "text": [
            "epoch 731: 100%|██████████| 200/200 [00:03<00:00, 65.13it/s, loss=0.00352]\n",
            "100%|██████████| 100/100 [00:00<00:00, 367.20it/s]\n"
          ]
        },
        {
          "output_type": "stream",
          "name": "stdout",
          "text": [
            "accuray=0.57\n"
          ]
        },
        {
          "output_type": "stream",
          "name": "stderr",
          "text": [
            "epoch 732: 100%|██████████| 200/200 [00:02<00:00, 85.42it/s, loss=0.00321]\n",
            "100%|██████████| 100/100 [00:00<00:00, 351.87it/s]\n"
          ]
        },
        {
          "output_type": "stream",
          "name": "stdout",
          "text": [
            "accuray=0.57\n"
          ]
        },
        {
          "output_type": "stream",
          "name": "stderr",
          "text": [
            "epoch 733: 100%|██████████| 200/200 [00:02<00:00, 86.08it/s, loss=0.00429]\n",
            "100%|██████████| 100/100 [00:00<00:00, 351.33it/s]\n"
          ]
        },
        {
          "output_type": "stream",
          "name": "stdout",
          "text": [
            "accuray=0.55\n"
          ]
        },
        {
          "output_type": "stream",
          "name": "stderr",
          "text": [
            "epoch 734: 100%|██████████| 200/200 [00:02<00:00, 86.39it/s, loss=0.00353]\n",
            "100%|██████████| 100/100 [00:00<00:00, 340.61it/s]\n"
          ]
        },
        {
          "output_type": "stream",
          "name": "stdout",
          "text": [
            "accuray=0.55\n"
          ]
        },
        {
          "output_type": "stream",
          "name": "stderr",
          "text": [
            "epoch 735: 100%|██████████| 200/200 [00:02<00:00, 79.34it/s, loss=0.00469]\n",
            "100%|██████████| 100/100 [00:00<00:00, 293.39it/s]\n"
          ]
        },
        {
          "output_type": "stream",
          "name": "stdout",
          "text": [
            "accuray=0.6\n"
          ]
        },
        {
          "output_type": "stream",
          "name": "stderr",
          "text": [
            "epoch 736: 100%|██████████| 200/200 [00:02<00:00, 67.14it/s, loss=0.00337]\n",
            "100%|██████████| 100/100 [00:00<00:00, 367.29it/s]\n"
          ]
        },
        {
          "output_type": "stream",
          "name": "stdout",
          "text": [
            "accuray=0.65\n"
          ]
        },
        {
          "output_type": "stream",
          "name": "stderr",
          "text": [
            "epoch 737: 100%|██████████| 200/200 [00:02<00:00, 88.72it/s, loss=0.0043]\n",
            "100%|██████████| 100/100 [00:00<00:00, 373.82it/s]\n"
          ]
        },
        {
          "output_type": "stream",
          "name": "stdout",
          "text": [
            "accuray=0.56\n"
          ]
        },
        {
          "output_type": "stream",
          "name": "stderr",
          "text": [
            "epoch 738: 100%|██████████| 200/200 [00:02<00:00, 87.04it/s, loss=0.171]\n",
            "100%|██████████| 100/100 [00:00<00:00, 352.57it/s]\n"
          ]
        },
        {
          "output_type": "stream",
          "name": "stdout",
          "text": [
            "accuray=0.54\n"
          ]
        },
        {
          "output_type": "stream",
          "name": "stderr",
          "text": [
            "epoch 739: 100%|██████████| 200/200 [00:02<00:00, 88.57it/s, loss=0.0212]\n",
            "100%|██████████| 100/100 [00:00<00:00, 371.13it/s]\n"
          ]
        },
        {
          "output_type": "stream",
          "name": "stdout",
          "text": [
            "accuray=0.65\n"
          ]
        },
        {
          "output_type": "stream",
          "name": "stderr",
          "text": [
            "epoch 740: 100%|██████████| 200/200 [00:02<00:00, 78.70it/s, loss=0.00871]\n",
            "100%|██████████| 100/100 [00:00<00:00, 297.28it/s]\n"
          ]
        },
        {
          "output_type": "stream",
          "name": "stdout",
          "text": [
            "accuray=0.65\n"
          ]
        },
        {
          "output_type": "stream",
          "name": "stderr",
          "text": [
            "epoch 741: 100%|██████████| 200/200 [00:02<00:00, 67.59it/s, loss=0.00364]\n",
            "100%|██████████| 100/100 [00:00<00:00, 381.55it/s]\n"
          ]
        },
        {
          "output_type": "stream",
          "name": "stdout",
          "text": [
            "accuray=0.63\n"
          ]
        },
        {
          "output_type": "stream",
          "name": "stderr",
          "text": [
            "epoch 742: 100%|██████████| 200/200 [00:02<00:00, 88.77it/s, loss=0.00443]\n",
            "100%|██████████| 100/100 [00:00<00:00, 358.59it/s]\n"
          ]
        },
        {
          "output_type": "stream",
          "name": "stdout",
          "text": [
            "accuray=0.6\n"
          ]
        },
        {
          "output_type": "stream",
          "name": "stderr",
          "text": [
            "epoch 743: 100%|██████████| 200/200 [00:02<00:00, 86.54it/s, loss=0.00392]\n",
            "100%|██████████| 100/100 [00:00<00:00, 385.68it/s]\n"
          ]
        },
        {
          "output_type": "stream",
          "name": "stdout",
          "text": [
            "accuray=0.68\n"
          ]
        },
        {
          "output_type": "stream",
          "name": "stderr",
          "text": [
            "epoch 744: 100%|██████████| 200/200 [00:02<00:00, 87.06it/s, loss=0.00392]\n",
            "100%|██████████| 100/100 [00:00<00:00, 352.42it/s]\n"
          ]
        },
        {
          "output_type": "stream",
          "name": "stdout",
          "text": [
            "accuray=0.66\n"
          ]
        },
        {
          "output_type": "stream",
          "name": "stderr",
          "text": [
            "epoch 745: 100%|██████████| 200/200 [00:02<00:00, 75.99it/s, loss=0.0035]\n",
            "100%|██████████| 100/100 [00:00<00:00, 289.23it/s]\n"
          ]
        },
        {
          "output_type": "stream",
          "name": "stdout",
          "text": [
            "accuray=0.55\n"
          ]
        },
        {
          "output_type": "stream",
          "name": "stderr",
          "text": [
            "epoch 746: 100%|██████████| 200/200 [00:02<00:00, 69.30it/s, loss=0.00337]\n",
            "100%|██████████| 100/100 [00:00<00:00, 346.65it/s]\n"
          ]
        },
        {
          "output_type": "stream",
          "name": "stdout",
          "text": [
            "accuray=0.54\n"
          ]
        },
        {
          "output_type": "stream",
          "name": "stderr",
          "text": [
            "epoch 747: 100%|██████████| 200/200 [00:02<00:00, 84.46it/s, loss=0.00273]\n",
            "100%|██████████| 100/100 [00:00<00:00, 353.68it/s]\n"
          ]
        },
        {
          "output_type": "stream",
          "name": "stdout",
          "text": [
            "accuray=0.63\n"
          ]
        },
        {
          "output_type": "stream",
          "name": "stderr",
          "text": [
            "epoch 748: 100%|██████████| 200/200 [00:02<00:00, 87.27it/s, loss=0.00423]\n",
            "100%|██████████| 100/100 [00:00<00:00, 362.51it/s]\n"
          ]
        },
        {
          "output_type": "stream",
          "name": "stdout",
          "text": [
            "accuray=0.64\n"
          ]
        },
        {
          "output_type": "stream",
          "name": "stderr",
          "text": [
            "epoch 749: 100%|██████████| 200/200 [00:02<00:00, 85.24it/s, loss=0.303]\n",
            "100%|██████████| 100/100 [00:00<00:00, 360.93it/s]\n"
          ]
        },
        {
          "output_type": "stream",
          "name": "stdout",
          "text": [
            "accuray=0.51\n"
          ]
        },
        {
          "output_type": "stream",
          "name": "stderr",
          "text": [
            "epoch 750: 100%|██████████| 200/200 [00:02<00:00, 73.03it/s, loss=0.031]\n",
            "100%|██████████| 100/100 [00:00<00:00, 274.70it/s]\n"
          ]
        },
        {
          "output_type": "stream",
          "name": "stdout",
          "text": [
            "accuray=0.61\n"
          ]
        },
        {
          "output_type": "stream",
          "name": "stderr",
          "text": [
            "epoch 751: 100%|██████████| 200/200 [00:02<00:00, 70.65it/s, loss=0.0182]\n",
            "100%|██████████| 100/100 [00:00<00:00, 360.01it/s]\n"
          ]
        },
        {
          "output_type": "stream",
          "name": "stdout",
          "text": [
            "accuray=0.6\n"
          ]
        },
        {
          "output_type": "stream",
          "name": "stderr",
          "text": [
            "epoch 752: 100%|██████████| 200/200 [00:02<00:00, 86.37it/s, loss=0.00564]\n",
            "100%|██████████| 100/100 [00:00<00:00, 351.00it/s]\n"
          ]
        },
        {
          "output_type": "stream",
          "name": "stdout",
          "text": [
            "accuray=0.45\n"
          ]
        },
        {
          "output_type": "stream",
          "name": "stderr",
          "text": [
            "epoch 753: 100%|██████████| 200/200 [00:02<00:00, 85.54it/s, loss=0.00483]\n",
            "100%|██████████| 100/100 [00:00<00:00, 362.49it/s]\n"
          ]
        },
        {
          "output_type": "stream",
          "name": "stdout",
          "text": [
            "accuray=0.57\n"
          ]
        },
        {
          "output_type": "stream",
          "name": "stderr",
          "text": [
            "epoch 754: 100%|██████████| 200/200 [00:02<00:00, 83.40it/s, loss=0.00316]\n",
            "100%|██████████| 100/100 [00:00<00:00, 356.97it/s]\n"
          ]
        },
        {
          "output_type": "stream",
          "name": "stdout",
          "text": [
            "accuray=0.65\n"
          ]
        },
        {
          "output_type": "stream",
          "name": "stderr",
          "text": [
            "epoch 755: 100%|██████████| 200/200 [00:02<00:00, 67.47it/s, loss=0.00348]\n",
            "100%|██████████| 100/100 [00:00<00:00, 257.50it/s]\n"
          ]
        },
        {
          "output_type": "stream",
          "name": "stdout",
          "text": [
            "accuray=0.6\n"
          ]
        },
        {
          "output_type": "stream",
          "name": "stderr",
          "text": [
            "epoch 756: 100%|██████████| 200/200 [00:02<00:00, 75.79it/s, loss=0.00269]\n",
            "100%|██████████| 100/100 [00:00<00:00, 345.39it/s]\n"
          ]
        },
        {
          "output_type": "stream",
          "name": "stdout",
          "text": [
            "accuray=0.53\n"
          ]
        },
        {
          "output_type": "stream",
          "name": "stderr",
          "text": [
            "epoch 757: 100%|██████████| 200/200 [00:02<00:00, 86.64it/s, loss=0.00341]\n",
            "100%|██████████| 100/100 [00:00<00:00, 364.24it/s]\n"
          ]
        },
        {
          "output_type": "stream",
          "name": "stdout",
          "text": [
            "accuray=0.62\n"
          ]
        },
        {
          "output_type": "stream",
          "name": "stderr",
          "text": [
            "epoch 758: 100%|██████████| 200/200 [00:02<00:00, 84.04it/s, loss=0.00249]\n",
            "100%|██████████| 100/100 [00:00<00:00, 386.57it/s]\n"
          ]
        },
        {
          "output_type": "stream",
          "name": "stdout",
          "text": [
            "accuray=0.74\n"
          ]
        },
        {
          "output_type": "stream",
          "name": "stderr",
          "text": [
            "epoch 759: 100%|██████████| 200/200 [00:02<00:00, 86.29it/s, loss=0.00328]\n",
            "100%|██████████| 100/100 [00:00<00:00, 349.27it/s]\n"
          ]
        },
        {
          "output_type": "stream",
          "name": "stdout",
          "text": [
            "accuray=0.55\n"
          ]
        },
        {
          "output_type": "stream",
          "name": "stderr",
          "text": [
            "epoch 760: 100%|██████████| 200/200 [00:03<00:00, 65.50it/s, loss=0.00332]\n",
            "100%|██████████| 100/100 [00:00<00:00, 242.39it/s]\n"
          ]
        },
        {
          "output_type": "stream",
          "name": "stdout",
          "text": [
            "accuray=0.61\n"
          ]
        },
        {
          "output_type": "stream",
          "name": "stderr",
          "text": [
            "epoch 761: 100%|██████████| 200/200 [00:02<00:00, 80.49it/s, loss=0.00412]\n",
            "100%|██████████| 100/100 [00:00<00:00, 357.47it/s]\n"
          ]
        },
        {
          "output_type": "stream",
          "name": "stdout",
          "text": [
            "accuray=0.6\n"
          ]
        },
        {
          "output_type": "stream",
          "name": "stderr",
          "text": [
            "epoch 762: 100%|██████████| 200/200 [00:02<00:00, 87.00it/s, loss=0.00188]\n",
            "100%|██████████| 100/100 [00:00<00:00, 360.62it/s]\n"
          ]
        },
        {
          "output_type": "stream",
          "name": "stdout",
          "text": [
            "accuray=0.72\n"
          ]
        },
        {
          "output_type": "stream",
          "name": "stderr",
          "text": [
            "epoch 763: 100%|██████████| 200/200 [00:02<00:00, 87.83it/s, loss=0.007]\n",
            "100%|██████████| 100/100 [00:00<00:00, 368.51it/s]\n"
          ]
        },
        {
          "output_type": "stream",
          "name": "stdout",
          "text": [
            "accuray=0.55\n"
          ]
        },
        {
          "output_type": "stream",
          "name": "stderr",
          "text": [
            "epoch 764: 100%|██████████| 200/200 [00:02<00:00, 87.54it/s, loss=0.0378]\n",
            "100%|██████████| 100/100 [00:00<00:00, 371.16it/s]\n"
          ]
        },
        {
          "output_type": "stream",
          "name": "stdout",
          "text": [
            "accuray=0.63\n"
          ]
        },
        {
          "output_type": "stream",
          "name": "stderr",
          "text": [
            "epoch 765: 100%|██████████| 200/200 [00:03<00:00, 65.05it/s, loss=0.00825]\n",
            "100%|██████████| 100/100 [00:00<00:00, 250.39it/s]\n"
          ]
        },
        {
          "output_type": "stream",
          "name": "stdout",
          "text": [
            "accuray=0.58\n"
          ]
        },
        {
          "output_type": "stream",
          "name": "stderr",
          "text": [
            "epoch 766: 100%|██████████| 200/200 [00:02<00:00, 81.22it/s, loss=0.00594]\n",
            "100%|██████████| 100/100 [00:00<00:00, 378.83it/s]\n"
          ]
        },
        {
          "output_type": "stream",
          "name": "stdout",
          "text": [
            "accuray=0.59\n"
          ]
        },
        {
          "output_type": "stream",
          "name": "stderr",
          "text": [
            "epoch 767: 100%|██████████| 200/200 [00:02<00:00, 87.12it/s, loss=0.00379]\n",
            "100%|██████████| 100/100 [00:00<00:00, 374.56it/s]\n"
          ]
        },
        {
          "output_type": "stream",
          "name": "stdout",
          "text": [
            "accuray=0.63\n"
          ]
        },
        {
          "output_type": "stream",
          "name": "stderr",
          "text": [
            "epoch 768: 100%|██████████| 200/200 [00:02<00:00, 82.79it/s, loss=0.00345]\n",
            "100%|██████████| 100/100 [00:00<00:00, 383.72it/s]\n"
          ]
        },
        {
          "output_type": "stream",
          "name": "stdout",
          "text": [
            "accuray=0.64\n"
          ]
        },
        {
          "output_type": "stream",
          "name": "stderr",
          "text": [
            "epoch 769: 100%|██████████| 200/200 [00:02<00:00, 84.29it/s, loss=0.00303]\n",
            "100%|██████████| 100/100 [00:00<00:00, 253.62it/s]\n"
          ]
        },
        {
          "output_type": "stream",
          "name": "stdout",
          "text": [
            "accuray=0.58\n"
          ]
        },
        {
          "output_type": "stream",
          "name": "stderr",
          "text": [
            "epoch 770: 100%|██████████| 200/200 [00:03<00:00, 62.16it/s, loss=0.00471]\n",
            "100%|██████████| 100/100 [00:00<00:00, 307.51it/s]\n"
          ]
        },
        {
          "output_type": "stream",
          "name": "stdout",
          "text": [
            "accuray=0.58\n"
          ]
        },
        {
          "output_type": "stream",
          "name": "stderr",
          "text": [
            "epoch 771: 100%|██████████| 200/200 [00:02<00:00, 86.05it/s, loss=0.00427]\n",
            "100%|██████████| 100/100 [00:00<00:00, 372.97it/s]\n"
          ]
        },
        {
          "output_type": "stream",
          "name": "stdout",
          "text": [
            "accuray=0.64\n"
          ]
        },
        {
          "output_type": "stream",
          "name": "stderr",
          "text": [
            "epoch 772: 100%|██████████| 200/200 [00:02<00:00, 85.60it/s, loss=0.00355]\n",
            "100%|██████████| 100/100 [00:00<00:00, 369.63it/s]\n"
          ]
        },
        {
          "output_type": "stream",
          "name": "stdout",
          "text": [
            "accuray=0.57\n"
          ]
        },
        {
          "output_type": "stream",
          "name": "stderr",
          "text": [
            "epoch 773: 100%|██████████| 200/200 [00:02<00:00, 85.17it/s, loss=0.00343]\n",
            "100%|██████████| 100/100 [00:00<00:00, 372.13it/s]\n"
          ]
        },
        {
          "output_type": "stream",
          "name": "stdout",
          "text": [
            "accuray=0.65\n"
          ]
        },
        {
          "output_type": "stream",
          "name": "stderr",
          "text": [
            "epoch 774: 100%|██████████| 200/200 [00:02<00:00, 80.42it/s, loss=0.00272]\n",
            "100%|██████████| 100/100 [00:00<00:00, 287.58it/s]\n"
          ]
        },
        {
          "output_type": "stream",
          "name": "stdout",
          "text": [
            "accuray=0.57\n"
          ]
        },
        {
          "output_type": "stream",
          "name": "stderr",
          "text": [
            "epoch 775: 100%|██████████| 200/200 [00:03<00:00, 64.76it/s, loss=0.00297]\n",
            "100%|██████████| 100/100 [00:00<00:00, 357.38it/s]\n"
          ]
        },
        {
          "output_type": "stream",
          "name": "stdout",
          "text": [
            "accuray=0.61\n"
          ]
        },
        {
          "output_type": "stream",
          "name": "stderr",
          "text": [
            "epoch 776: 100%|██████████| 200/200 [00:02<00:00, 86.74it/s, loss=0.003]\n",
            "100%|██████████| 100/100 [00:00<00:00, 375.28it/s]\n"
          ]
        },
        {
          "output_type": "stream",
          "name": "stdout",
          "text": [
            "accuray=0.57\n"
          ]
        },
        {
          "output_type": "stream",
          "name": "stderr",
          "text": [
            "epoch 777: 100%|██████████| 200/200 [00:02<00:00, 85.90it/s, loss=0.00312]\n",
            "100%|██████████| 100/100 [00:00<00:00, 366.94it/s]\n"
          ]
        },
        {
          "output_type": "stream",
          "name": "stdout",
          "text": [
            "accuray=0.64\n"
          ]
        },
        {
          "output_type": "stream",
          "name": "stderr",
          "text": [
            "epoch 778: 100%|██████████| 200/200 [00:02<00:00, 87.02it/s, loss=0.0254]\n",
            "100%|██████████| 100/100 [00:00<00:00, 367.31it/s]\n"
          ]
        },
        {
          "output_type": "stream",
          "name": "stdout",
          "text": [
            "accuray=0.58\n"
          ]
        },
        {
          "output_type": "stream",
          "name": "stderr",
          "text": [
            "epoch 779: 100%|██████████| 200/200 [00:02<00:00, 80.83it/s, loss=0.0597]\n",
            "100%|██████████| 100/100 [00:00<00:00, 276.66it/s]\n"
          ]
        },
        {
          "output_type": "stream",
          "name": "stdout",
          "text": [
            "accuray=0.69\n"
          ]
        },
        {
          "output_type": "stream",
          "name": "stderr",
          "text": [
            "epoch 780: 100%|██████████| 200/200 [00:03<00:00, 65.89it/s, loss=0.00654]\n",
            "100%|██████████| 100/100 [00:00<00:00, 366.98it/s]\n"
          ]
        },
        {
          "output_type": "stream",
          "name": "stdout",
          "text": [
            "accuray=0.7\n"
          ]
        },
        {
          "output_type": "stream",
          "name": "stderr",
          "text": [
            "epoch 781: 100%|██████████| 200/200 [00:02<00:00, 89.28it/s, loss=0.00598]\n",
            "100%|██████████| 100/100 [00:00<00:00, 361.34it/s]\n"
          ]
        },
        {
          "output_type": "stream",
          "name": "stdout",
          "text": [
            "accuray=0.6\n"
          ]
        },
        {
          "output_type": "stream",
          "name": "stderr",
          "text": [
            "epoch 782: 100%|██████████| 200/200 [00:02<00:00, 88.12it/s, loss=0.0028]\n",
            "100%|██████████| 100/100 [00:00<00:00, 372.36it/s]\n"
          ]
        },
        {
          "output_type": "stream",
          "name": "stdout",
          "text": [
            "accuray=0.69\n"
          ]
        },
        {
          "output_type": "stream",
          "name": "stderr",
          "text": [
            "epoch 783: 100%|██████████| 200/200 [00:02<00:00, 88.34it/s, loss=0.00299]\n",
            "100%|██████████| 100/100 [00:00<00:00, 347.39it/s]\n"
          ]
        },
        {
          "output_type": "stream",
          "name": "stdout",
          "text": [
            "accuray=0.58\n"
          ]
        },
        {
          "output_type": "stream",
          "name": "stderr",
          "text": [
            "epoch 784: 100%|██████████| 200/200 [00:02<00:00, 81.61it/s, loss=0.00301]\n",
            "100%|██████████| 100/100 [00:00<00:00, 292.66it/s]\n"
          ]
        },
        {
          "output_type": "stream",
          "name": "stdout",
          "text": [
            "accuray=0.67\n"
          ]
        },
        {
          "output_type": "stream",
          "name": "stderr",
          "text": [
            "epoch 785: 100%|██████████| 200/200 [00:02<00:00, 68.21it/s, loss=0.00372]\n",
            "100%|██████████| 100/100 [00:00<00:00, 356.98it/s]\n"
          ]
        },
        {
          "output_type": "stream",
          "name": "stdout",
          "text": [
            "accuray=0.63\n"
          ]
        },
        {
          "output_type": "stream",
          "name": "stderr",
          "text": [
            "epoch 786: 100%|██████████| 200/200 [00:02<00:00, 88.26it/s, loss=0.00296]\n",
            "100%|██████████| 100/100 [00:00<00:00, 366.73it/s]\n"
          ]
        },
        {
          "output_type": "stream",
          "name": "stdout",
          "text": [
            "accuray=0.65\n"
          ]
        },
        {
          "output_type": "stream",
          "name": "stderr",
          "text": [
            "epoch 787: 100%|██████████| 200/200 [00:02<00:00, 88.97it/s, loss=0.00315]\n",
            "100%|██████████| 100/100 [00:00<00:00, 358.66it/s]\n"
          ]
        },
        {
          "output_type": "stream",
          "name": "stdout",
          "text": [
            "accuray=0.65\n"
          ]
        },
        {
          "output_type": "stream",
          "name": "stderr",
          "text": [
            "epoch 788: 100%|██████████| 200/200 [00:02<00:00, 88.56it/s, loss=0.00399]\n",
            "100%|██████████| 100/100 [00:00<00:00, 378.94it/s]\n"
          ]
        },
        {
          "output_type": "stream",
          "name": "stdout",
          "text": [
            "accuray=0.7\n"
          ]
        },
        {
          "output_type": "stream",
          "name": "stderr",
          "text": [
            "epoch 789: 100%|██████████| 200/200 [00:02<00:00, 81.31it/s, loss=0.00315]\n",
            "100%|██████████| 100/100 [00:00<00:00, 284.80it/s]\n"
          ]
        },
        {
          "output_type": "stream",
          "name": "stdout",
          "text": [
            "accuray=0.55\n"
          ]
        },
        {
          "output_type": "stream",
          "name": "stderr",
          "text": [
            "epoch 790: 100%|██████████| 200/200 [00:03<00:00, 66.58it/s, loss=0.00269]\n",
            "100%|██████████| 100/100 [00:00<00:00, 391.69it/s]\n"
          ]
        },
        {
          "output_type": "stream",
          "name": "stdout",
          "text": [
            "accuray=0.72\n"
          ]
        },
        {
          "output_type": "stream",
          "name": "stderr",
          "text": [
            "epoch 791: 100%|██████████| 200/200 [00:02<00:00, 89.06it/s, loss=0.00211]\n",
            "100%|██████████| 100/100 [00:00<00:00, 359.93it/s]\n"
          ]
        },
        {
          "output_type": "stream",
          "name": "stdout",
          "text": [
            "accuray=0.59\n"
          ]
        },
        {
          "output_type": "stream",
          "name": "stderr",
          "text": [
            "epoch 792: 100%|██████████| 200/200 [00:02<00:00, 87.30it/s, loss=0.00296]\n",
            "100%|██████████| 100/100 [00:00<00:00, 367.50it/s]\n"
          ]
        },
        {
          "output_type": "stream",
          "name": "stdout",
          "text": [
            "accuray=0.57\n"
          ]
        },
        {
          "output_type": "stream",
          "name": "stderr",
          "text": [
            "epoch 793: 100%|██████████| 200/200 [00:02<00:00, 86.36it/s, loss=0.00245]\n",
            "100%|██████████| 100/100 [00:00<00:00, 378.87it/s]\n"
          ]
        },
        {
          "output_type": "stream",
          "name": "stdout",
          "text": [
            "accuray=0.55\n"
          ]
        },
        {
          "output_type": "stream",
          "name": "stderr",
          "text": [
            "epoch 794: 100%|██████████| 200/200 [00:02<00:00, 79.67it/s, loss=0.00229]\n",
            "100%|██████████| 100/100 [00:00<00:00, 298.40it/s]\n"
          ]
        },
        {
          "output_type": "stream",
          "name": "stdout",
          "text": [
            "accuray=0.7\n"
          ]
        },
        {
          "output_type": "stream",
          "name": "stderr",
          "text": [
            "epoch 795: 100%|██████████| 200/200 [00:02<00:00, 67.32it/s, loss=0.156]\n",
            "100%|██████████| 100/100 [00:00<00:00, 379.13it/s]\n"
          ]
        },
        {
          "output_type": "stream",
          "name": "stdout",
          "text": [
            "accuray=0.68\n"
          ]
        },
        {
          "output_type": "stream",
          "name": "stderr",
          "text": [
            "epoch 796: 100%|██████████| 200/200 [00:02<00:00, 88.09it/s, loss=0.0199]\n",
            "100%|██████████| 100/100 [00:00<00:00, 367.08it/s]\n"
          ]
        },
        {
          "output_type": "stream",
          "name": "stdout",
          "text": [
            "accuray=0.61\n"
          ]
        },
        {
          "output_type": "stream",
          "name": "stderr",
          "text": [
            "epoch 797: 100%|██████████| 200/200 [00:02<00:00, 88.41it/s, loss=0.00565]\n",
            "100%|██████████| 100/100 [00:00<00:00, 366.47it/s]\n"
          ]
        },
        {
          "output_type": "stream",
          "name": "stdout",
          "text": [
            "accuray=0.57\n"
          ]
        },
        {
          "output_type": "stream",
          "name": "stderr",
          "text": [
            "epoch 798: 100%|██████████| 200/200 [00:02<00:00, 87.10it/s, loss=0.0043]\n",
            "100%|██████████| 100/100 [00:00<00:00, 357.33it/s]\n"
          ]
        },
        {
          "output_type": "stream",
          "name": "stdout",
          "text": [
            "accuray=0.61\n"
          ]
        },
        {
          "output_type": "stream",
          "name": "stderr",
          "text": [
            "epoch 799: 100%|██████████| 200/200 [00:02<00:00, 77.38it/s, loss=0.00311]\n",
            "100%|██████████| 100/100 [00:00<00:00, 274.85it/s]\n"
          ]
        },
        {
          "output_type": "stream",
          "name": "stdout",
          "text": [
            "accuray=0.61\n"
          ]
        },
        {
          "output_type": "stream",
          "name": "stderr",
          "text": [
            "epoch 800: 100%|██████████| 200/200 [00:02<00:00, 70.35it/s, loss=0.00382]\n",
            "100%|██████████| 100/100 [00:00<00:00, 365.31it/s]\n"
          ]
        },
        {
          "output_type": "stream",
          "name": "stdout",
          "text": [
            "accuray=0.6\n"
          ]
        },
        {
          "output_type": "stream",
          "name": "stderr",
          "text": [
            "epoch 801: 100%|██████████| 200/200 [00:02<00:00, 88.48it/s, loss=0.00348]\n",
            "100%|██████████| 100/100 [00:00<00:00, 368.94it/s]\n"
          ]
        },
        {
          "output_type": "stream",
          "name": "stdout",
          "text": [
            "accuray=0.62\n"
          ]
        },
        {
          "output_type": "stream",
          "name": "stderr",
          "text": [
            "epoch 802: 100%|██████████| 200/200 [00:02<00:00, 86.96it/s, loss=0.00272]\n",
            "100%|██████████| 100/100 [00:00<00:00, 369.78it/s]\n"
          ]
        },
        {
          "output_type": "stream",
          "name": "stdout",
          "text": [
            "accuray=0.67\n"
          ]
        },
        {
          "output_type": "stream",
          "name": "stderr",
          "text": [
            "epoch 803: 100%|██████████| 200/200 [00:02<00:00, 87.86it/s, loss=0.00299]\n",
            "100%|██████████| 100/100 [00:00<00:00, 355.12it/s]\n"
          ]
        },
        {
          "output_type": "stream",
          "name": "stdout",
          "text": [
            "accuray=0.59\n"
          ]
        },
        {
          "output_type": "stream",
          "name": "stderr",
          "text": [
            "epoch 804: 100%|██████████| 200/200 [00:02<00:00, 77.16it/s, loss=0.00256]\n",
            "100%|██████████| 100/100 [00:00<00:00, 282.10it/s]\n"
          ]
        },
        {
          "output_type": "stream",
          "name": "stdout",
          "text": [
            "accuray=0.49\n"
          ]
        },
        {
          "output_type": "stream",
          "name": "stderr",
          "text": [
            "epoch 805: 100%|██████████| 200/200 [00:02<00:00, 69.51it/s, loss=0.00313]\n",
            "100%|██████████| 100/100 [00:00<00:00, 347.67it/s]\n"
          ]
        },
        {
          "output_type": "stream",
          "name": "stdout",
          "text": [
            "accuray=0.59\n"
          ]
        },
        {
          "output_type": "stream",
          "name": "stderr",
          "text": [
            "epoch 806: 100%|██████████| 200/200 [00:02<00:00, 87.35it/s, loss=0.00219]\n",
            "100%|██████████| 100/100 [00:00<00:00, 359.40it/s]\n"
          ]
        },
        {
          "output_type": "stream",
          "name": "stdout",
          "text": [
            "accuray=0.56\n"
          ]
        },
        {
          "output_type": "stream",
          "name": "stderr",
          "text": [
            "epoch 807: 100%|██████████| 200/200 [00:02<00:00, 87.27it/s, loss=0.00228]\n",
            "100%|██████████| 100/100 [00:00<00:00, 364.00it/s]\n"
          ]
        },
        {
          "output_type": "stream",
          "name": "stdout",
          "text": [
            "accuray=0.69\n"
          ]
        },
        {
          "output_type": "stream",
          "name": "stderr",
          "text": [
            "epoch 808: 100%|██████████| 200/200 [00:02<00:00, 86.93it/s, loss=0.00282]\n",
            "100%|██████████| 100/100 [00:00<00:00, 355.99it/s]\n"
          ]
        },
        {
          "output_type": "stream",
          "name": "stdout",
          "text": [
            "accuray=0.61\n"
          ]
        },
        {
          "output_type": "stream",
          "name": "stderr",
          "text": [
            "epoch 809: 100%|██████████| 200/200 [00:02<00:00, 77.44it/s, loss=0.00232]\n",
            "100%|██████████| 100/100 [00:00<00:00, 309.92it/s]\n"
          ]
        },
        {
          "output_type": "stream",
          "name": "stdout",
          "text": [
            "accuray=0.67\n"
          ]
        },
        {
          "output_type": "stream",
          "name": "stderr",
          "text": [
            "epoch 810: 100%|██████████| 200/200 [00:02<00:00, 68.92it/s, loss=0.00214]\n",
            "100%|██████████| 100/100 [00:00<00:00, 377.40it/s]\n"
          ]
        },
        {
          "output_type": "stream",
          "name": "stdout",
          "text": [
            "accuray=0.58\n"
          ]
        },
        {
          "output_type": "stream",
          "name": "stderr",
          "text": [
            "epoch 811: 100%|██████████| 200/200 [00:02<00:00, 87.84it/s, loss=0.00295]\n",
            "100%|██████████| 100/100 [00:00<00:00, 348.81it/s]\n"
          ]
        },
        {
          "output_type": "stream",
          "name": "stdout",
          "text": [
            "accuray=0.54\n"
          ]
        },
        {
          "output_type": "stream",
          "name": "stderr",
          "text": [
            "epoch 812: 100%|██████████| 200/200 [00:02<00:00, 88.96it/s, loss=0.00307]\n",
            "100%|██████████| 100/100 [00:00<00:00, 366.36it/s]\n"
          ]
        },
        {
          "output_type": "stream",
          "name": "stdout",
          "text": [
            "accuray=0.66\n"
          ]
        },
        {
          "output_type": "stream",
          "name": "stderr",
          "text": [
            "epoch 813: 100%|██████████| 200/200 [00:02<00:00, 86.20it/s, loss=0.0239]\n",
            "100%|██████████| 100/100 [00:00<00:00, 335.41it/s]\n"
          ]
        },
        {
          "output_type": "stream",
          "name": "stdout",
          "text": [
            "accuray=0.57\n"
          ]
        },
        {
          "output_type": "stream",
          "name": "stderr",
          "text": [
            "epoch 814: 100%|██████████| 200/200 [00:02<00:00, 75.84it/s, loss=0.00697]\n",
            "100%|██████████| 100/100 [00:00<00:00, 274.98it/s]\n"
          ]
        },
        {
          "output_type": "stream",
          "name": "stdout",
          "text": [
            "accuray=0.61\n"
          ]
        },
        {
          "output_type": "stream",
          "name": "stderr",
          "text": [
            "epoch 815: 100%|██████████| 200/200 [00:02<00:00, 71.14it/s, loss=0.00406]\n",
            "100%|██████████| 100/100 [00:00<00:00, 356.17it/s]\n"
          ]
        },
        {
          "output_type": "stream",
          "name": "stdout",
          "text": [
            "accuray=0.61\n"
          ]
        },
        {
          "output_type": "stream",
          "name": "stderr",
          "text": [
            "epoch 816: 100%|██████████| 200/200 [00:02<00:00, 87.93it/s, loss=0.00364]\n",
            "100%|██████████| 100/100 [00:00<00:00, 396.69it/s]\n"
          ]
        },
        {
          "output_type": "stream",
          "name": "stdout",
          "text": [
            "accuray=0.66\n"
          ]
        },
        {
          "output_type": "stream",
          "name": "stderr",
          "text": [
            "epoch 817: 100%|██████████| 200/200 [00:02<00:00, 87.67it/s, loss=0.00318]\n",
            "100%|██████████| 100/100 [00:00<00:00, 360.80it/s]\n"
          ]
        },
        {
          "output_type": "stream",
          "name": "stdout",
          "text": [
            "accuray=0.59\n"
          ]
        },
        {
          "output_type": "stream",
          "name": "stderr",
          "text": [
            "epoch 818: 100%|██████████| 200/200 [00:02<00:00, 87.13it/s, loss=0.00279]\n",
            "100%|██████████| 100/100 [00:00<00:00, 363.31it/s]\n"
          ]
        },
        {
          "output_type": "stream",
          "name": "stdout",
          "text": [
            "accuray=0.59\n"
          ]
        },
        {
          "output_type": "stream",
          "name": "stderr",
          "text": [
            "epoch 819: 100%|██████████| 200/200 [00:02<00:00, 73.94it/s, loss=0.00281]\n",
            "100%|██████████| 100/100 [00:00<00:00, 273.02it/s]\n"
          ]
        },
        {
          "output_type": "stream",
          "name": "stdout",
          "text": [
            "accuray=0.65\n"
          ]
        },
        {
          "output_type": "stream",
          "name": "stderr",
          "text": [
            "epoch 820: 100%|██████████| 200/200 [00:02<00:00, 72.24it/s, loss=0.00206]\n",
            "100%|██████████| 100/100 [00:00<00:00, 352.70it/s]\n"
          ]
        },
        {
          "output_type": "stream",
          "name": "stdout",
          "text": [
            "accuray=0.57\n"
          ]
        },
        {
          "output_type": "stream",
          "name": "stderr",
          "text": [
            "epoch 821: 100%|██████████| 200/200 [00:02<00:00, 87.42it/s, loss=0.00258]\n",
            "100%|██████████| 100/100 [00:00<00:00, 340.72it/s]\n"
          ]
        },
        {
          "output_type": "stream",
          "name": "stdout",
          "text": [
            "accuray=0.56\n"
          ]
        },
        {
          "output_type": "stream",
          "name": "stderr",
          "text": [
            "epoch 822: 100%|██████████| 200/200 [00:02<00:00, 86.98it/s, loss=0.00213]\n",
            "100%|██████████| 100/100 [00:00<00:00, 382.86it/s]\n"
          ]
        },
        {
          "output_type": "stream",
          "name": "stdout",
          "text": [
            "accuray=0.62\n"
          ]
        },
        {
          "output_type": "stream",
          "name": "stderr",
          "text": [
            "epoch 823: 100%|██████████| 200/200 [00:02<00:00, 88.93it/s, loss=0.00226]\n",
            "100%|██████████| 100/100 [00:00<00:00, 379.39it/s]\n"
          ]
        },
        {
          "output_type": "stream",
          "name": "stdout",
          "text": [
            "accuray=0.57\n"
          ]
        },
        {
          "output_type": "stream",
          "name": "stderr",
          "text": [
            "epoch 824: 100%|██████████| 200/200 [00:02<00:00, 73.33it/s, loss=0.00192]\n",
            "100%|██████████| 100/100 [00:00<00:00, 289.42it/s]\n"
          ]
        },
        {
          "output_type": "stream",
          "name": "stdout",
          "text": [
            "accuray=0.55\n"
          ]
        },
        {
          "output_type": "stream",
          "name": "stderr",
          "text": [
            "epoch 825: 100%|██████████| 200/200 [00:02<00:00, 70.67it/s, loss=0.00247]\n",
            "100%|██████████| 100/100 [00:00<00:00, 374.28it/s]\n"
          ]
        },
        {
          "output_type": "stream",
          "name": "stdout",
          "text": [
            "accuray=0.63\n"
          ]
        },
        {
          "output_type": "stream",
          "name": "stderr",
          "text": [
            "epoch 826: 100%|██████████| 200/200 [00:02<00:00, 87.16it/s, loss=0.00255]\n",
            "100%|██████████| 100/100 [00:00<00:00, 384.88it/s]\n"
          ]
        },
        {
          "output_type": "stream",
          "name": "stdout",
          "text": [
            "accuray=0.58\n"
          ]
        },
        {
          "output_type": "stream",
          "name": "stderr",
          "text": [
            "epoch 827: 100%|██████████| 200/200 [00:02<00:00, 87.66it/s, loss=0.00271]\n",
            "100%|██████████| 100/100 [00:00<00:00, 370.06it/s]\n"
          ]
        },
        {
          "output_type": "stream",
          "name": "stdout",
          "text": [
            "accuray=0.69\n"
          ]
        },
        {
          "output_type": "stream",
          "name": "stderr",
          "text": [
            "epoch 828: 100%|██████████| 200/200 [00:02<00:00, 87.85it/s, loss=0.00281]\n",
            "100%|██████████| 100/100 [00:00<00:00, 362.24it/s]\n"
          ]
        },
        {
          "output_type": "stream",
          "name": "stdout",
          "text": [
            "accuray=0.62\n"
          ]
        },
        {
          "output_type": "stream",
          "name": "stderr",
          "text": [
            "epoch 829: 100%|██████████| 200/200 [00:02<00:00, 73.30it/s, loss=0.00188]\n",
            "100%|██████████| 100/100 [00:00<00:00, 263.84it/s]\n"
          ]
        },
        {
          "output_type": "stream",
          "name": "stdout",
          "text": [
            "accuray=0.59\n"
          ]
        },
        {
          "output_type": "stream",
          "name": "stderr",
          "text": [
            "epoch 830: 100%|██████████| 200/200 [00:02<00:00, 72.84it/s, loss=0.00204]\n",
            "100%|██████████| 100/100 [00:00<00:00, 367.00it/s]\n"
          ]
        },
        {
          "output_type": "stream",
          "name": "stdout",
          "text": [
            "accuray=0.63\n"
          ]
        },
        {
          "output_type": "stream",
          "name": "stderr",
          "text": [
            "epoch 831: 100%|██████████| 200/200 [00:02<00:00, 88.60it/s, loss=0.0713]\n",
            "100%|██████████| 100/100 [00:00<00:00, 387.19it/s]\n"
          ]
        },
        {
          "output_type": "stream",
          "name": "stdout",
          "text": [
            "accuray=0.63\n"
          ]
        },
        {
          "output_type": "stream",
          "name": "stderr",
          "text": [
            "epoch 832: 100%|██████████| 200/200 [00:02<00:00, 88.70it/s, loss=0.0125]\n",
            "100%|██████████| 100/100 [00:00<00:00, 369.88it/s]\n"
          ]
        },
        {
          "output_type": "stream",
          "name": "stdout",
          "text": [
            "accuray=0.59\n"
          ]
        },
        {
          "output_type": "stream",
          "name": "stderr",
          "text": [
            "epoch 833: 100%|██████████| 200/200 [00:02<00:00, 87.55it/s, loss=0.00377]\n",
            "100%|██████████| 100/100 [00:00<00:00, 367.75it/s]\n"
          ]
        },
        {
          "output_type": "stream",
          "name": "stdout",
          "text": [
            "accuray=0.54\n"
          ]
        },
        {
          "output_type": "stream",
          "name": "stderr",
          "text": [
            "epoch 834: 100%|██████████| 200/200 [00:02<00:00, 72.74it/s, loss=0.00331]\n",
            "100%|██████████| 100/100 [00:00<00:00, 298.65it/s]\n"
          ]
        },
        {
          "output_type": "stream",
          "name": "stdout",
          "text": [
            "accuray=0.69\n"
          ]
        },
        {
          "output_type": "stream",
          "name": "stderr",
          "text": [
            "epoch 835: 100%|██████████| 200/200 [00:02<00:00, 70.77it/s, loss=0.00248]\n",
            "100%|██████████| 100/100 [00:00<00:00, 369.29it/s]\n"
          ]
        },
        {
          "output_type": "stream",
          "name": "stdout",
          "text": [
            "accuray=0.6\n"
          ]
        },
        {
          "output_type": "stream",
          "name": "stderr",
          "text": [
            "epoch 836: 100%|██████████| 200/200 [00:02<00:00, 87.75it/s, loss=0.00309]\n",
            "100%|██████████| 100/100 [00:00<00:00, 350.42it/s]\n"
          ]
        },
        {
          "output_type": "stream",
          "name": "stdout",
          "text": [
            "accuray=0.71\n"
          ]
        },
        {
          "output_type": "stream",
          "name": "stderr",
          "text": [
            "epoch 837: 100%|██████████| 200/200 [00:02<00:00, 88.53it/s, loss=0.0021]\n",
            "100%|██████████| 100/100 [00:00<00:00, 385.34it/s]\n"
          ]
        },
        {
          "output_type": "stream",
          "name": "stdout",
          "text": [
            "accuray=0.68\n"
          ]
        },
        {
          "output_type": "stream",
          "name": "stderr",
          "text": [
            "epoch 838: 100%|██████████| 200/200 [00:02<00:00, 88.51it/s, loss=0.00228]\n",
            "100%|██████████| 100/100 [00:00<00:00, 357.82it/s]\n"
          ]
        },
        {
          "output_type": "stream",
          "name": "stdout",
          "text": [
            "accuray=0.61\n"
          ]
        },
        {
          "output_type": "stream",
          "name": "stderr",
          "text": [
            "epoch 839: 100%|██████████| 200/200 [00:02<00:00, 72.65it/s, loss=0.00233]\n",
            "100%|██████████| 100/100 [00:00<00:00, 269.51it/s]\n"
          ]
        },
        {
          "output_type": "stream",
          "name": "stdout",
          "text": [
            "accuray=0.65\n"
          ]
        },
        {
          "output_type": "stream",
          "name": "stderr",
          "text": [
            "epoch 840: 100%|██████████| 200/200 [00:02<00:00, 74.02it/s, loss=0.00212]\n",
            "100%|██████████| 100/100 [00:00<00:00, 373.94it/s]\n"
          ]
        },
        {
          "output_type": "stream",
          "name": "stdout",
          "text": [
            "accuray=0.64\n"
          ]
        },
        {
          "output_type": "stream",
          "name": "stderr",
          "text": [
            "epoch 841: 100%|██████████| 200/200 [00:02<00:00, 85.73it/s, loss=0.00314]\n",
            "100%|██████████| 100/100 [00:00<00:00, 382.39it/s]\n"
          ]
        },
        {
          "output_type": "stream",
          "name": "stdout",
          "text": [
            "accuray=0.64\n"
          ]
        },
        {
          "output_type": "stream",
          "name": "stderr",
          "text": [
            "epoch 842: 100%|██████████| 200/200 [00:02<00:00, 86.78it/s, loss=0.00265]\n",
            "100%|██████████| 100/100 [00:00<00:00, 349.04it/s]\n"
          ]
        },
        {
          "output_type": "stream",
          "name": "stdout",
          "text": [
            "accuray=0.62\n"
          ]
        },
        {
          "output_type": "stream",
          "name": "stderr",
          "text": [
            "epoch 843: 100%|██████████| 200/200 [00:02<00:00, 86.31it/s, loss=0.0017]\n",
            "100%|██████████| 100/100 [00:00<00:00, 386.95it/s]\n"
          ]
        },
        {
          "output_type": "stream",
          "name": "stdout",
          "text": [
            "accuray=0.71\n"
          ]
        },
        {
          "output_type": "stream",
          "name": "stderr",
          "text": [
            "epoch 844: 100%|██████████| 200/200 [00:02<00:00, 68.31it/s, loss=0.00141]\n",
            "100%|██████████| 100/100 [00:00<00:00, 288.14it/s]\n"
          ]
        },
        {
          "output_type": "stream",
          "name": "stdout",
          "text": [
            "accuray=0.61\n"
          ]
        },
        {
          "output_type": "stream",
          "name": "stderr",
          "text": [
            "epoch 845: 100%|██████████| 200/200 [00:02<00:00, 74.18it/s, loss=0.00227]\n",
            "100%|██████████| 100/100 [00:00<00:00, 321.62it/s]\n"
          ]
        },
        {
          "output_type": "stream",
          "name": "stdout",
          "text": [
            "accuray=0.62\n"
          ]
        },
        {
          "output_type": "stream",
          "name": "stderr",
          "text": [
            "epoch 846: 100%|██████████| 200/200 [00:02<00:00, 85.35it/s, loss=0.00191]\n",
            "100%|██████████| 100/100 [00:00<00:00, 356.48it/s]\n"
          ]
        },
        {
          "output_type": "stream",
          "name": "stdout",
          "text": [
            "accuray=0.69\n"
          ]
        },
        {
          "output_type": "stream",
          "name": "stderr",
          "text": [
            "epoch 847: 100%|██████████| 200/200 [00:02<00:00, 88.52it/s, loss=0.00209]\n",
            "100%|██████████| 100/100 [00:00<00:00, 388.05it/s]\n"
          ]
        },
        {
          "output_type": "stream",
          "name": "stdout",
          "text": [
            "accuray=0.73\n"
          ]
        },
        {
          "output_type": "stream",
          "name": "stderr",
          "text": [
            "epoch 848: 100%|██████████| 200/200 [00:02<00:00, 88.03it/s, loss=0.00294]\n",
            "100%|██████████| 100/100 [00:00<00:00, 367.90it/s]\n"
          ]
        },
        {
          "output_type": "stream",
          "name": "stdout",
          "text": [
            "accuray=0.68\n"
          ]
        },
        {
          "output_type": "stream",
          "name": "stderr",
          "text": [
            "epoch 849: 100%|██████████| 200/200 [00:02<00:00, 67.78it/s, loss=0.0016]\n",
            "100%|██████████| 100/100 [00:00<00:00, 260.44it/s]\n"
          ]
        },
        {
          "output_type": "stream",
          "name": "stdout",
          "text": [
            "accuray=0.63\n"
          ]
        },
        {
          "output_type": "stream",
          "name": "stderr",
          "text": [
            "epoch 850: 100%|██████████| 200/200 [00:02<00:00, 78.05it/s, loss=0.0664]\n",
            "100%|██████████| 100/100 [00:00<00:00, 365.73it/s]\n"
          ]
        },
        {
          "output_type": "stream",
          "name": "stdout",
          "text": [
            "accuray=0.6\n"
          ]
        },
        {
          "output_type": "stream",
          "name": "stderr",
          "text": [
            "epoch 851: 100%|██████████| 200/200 [00:02<00:00, 87.47it/s, loss=0.028]\n",
            "100%|██████████| 100/100 [00:00<00:00, 381.58it/s]\n"
          ]
        },
        {
          "output_type": "stream",
          "name": "stdout",
          "text": [
            "accuray=0.59\n"
          ]
        },
        {
          "output_type": "stream",
          "name": "stderr",
          "text": [
            "epoch 852: 100%|██████████| 200/200 [00:02<00:00, 86.46it/s, loss=0.00277]\n",
            "100%|██████████| 100/100 [00:00<00:00, 342.58it/s]\n"
          ]
        },
        {
          "output_type": "stream",
          "name": "stdout",
          "text": [
            "accuray=0.61\n"
          ]
        },
        {
          "output_type": "stream",
          "name": "stderr",
          "text": [
            "epoch 853: 100%|██████████| 200/200 [00:02<00:00, 86.62it/s, loss=0.00349]\n",
            "100%|██████████| 100/100 [00:00<00:00, 375.87it/s]\n"
          ]
        },
        {
          "output_type": "stream",
          "name": "stdout",
          "text": [
            "accuray=0.65\n"
          ]
        },
        {
          "output_type": "stream",
          "name": "stderr",
          "text": [
            "epoch 854: 100%|██████████| 200/200 [00:02<00:00, 67.04it/s, loss=0.00252]\n",
            "100%|██████████| 100/100 [00:00<00:00, 256.94it/s]\n"
          ]
        },
        {
          "output_type": "stream",
          "name": "stdout",
          "text": [
            "accuray=0.6\n"
          ]
        },
        {
          "output_type": "stream",
          "name": "stderr",
          "text": [
            "epoch 855: 100%|██████████| 200/200 [00:02<00:00, 79.55it/s, loss=0.0031]\n",
            "100%|██████████| 100/100 [00:00<00:00, 359.27it/s]\n"
          ]
        },
        {
          "output_type": "stream",
          "name": "stdout",
          "text": [
            "accuray=0.63\n"
          ]
        },
        {
          "output_type": "stream",
          "name": "stderr",
          "text": [
            "epoch 856: 100%|██████████| 200/200 [00:02<00:00, 86.89it/s, loss=0.00173]\n",
            "100%|██████████| 100/100 [00:00<00:00, 372.89it/s]\n"
          ]
        },
        {
          "output_type": "stream",
          "name": "stdout",
          "text": [
            "accuray=0.62\n"
          ]
        },
        {
          "output_type": "stream",
          "name": "stderr",
          "text": [
            "epoch 857: 100%|██████████| 200/200 [00:02<00:00, 84.49it/s, loss=0.00232]\n",
            "100%|██████████| 100/100 [00:00<00:00, 360.94it/s]\n"
          ]
        },
        {
          "output_type": "stream",
          "name": "stdout",
          "text": [
            "accuray=0.57\n"
          ]
        },
        {
          "output_type": "stream",
          "name": "stderr",
          "text": [
            "epoch 858: 100%|██████████| 200/200 [00:02<00:00, 88.02it/s, loss=0.00227]\n",
            "100%|██████████| 100/100 [00:00<00:00, 366.41it/s]\n"
          ]
        },
        {
          "output_type": "stream",
          "name": "stdout",
          "text": [
            "accuray=0.72\n"
          ]
        },
        {
          "output_type": "stream",
          "name": "stderr",
          "text": [
            "epoch 859: 100%|██████████| 200/200 [00:03<00:00, 66.43it/s, loss=0.00214]\n",
            "100%|██████████| 100/100 [00:00<00:00, 255.96it/s]\n"
          ]
        },
        {
          "output_type": "stream",
          "name": "stdout",
          "text": [
            "accuray=0.61\n"
          ]
        },
        {
          "output_type": "stream",
          "name": "stderr",
          "text": [
            "epoch 860: 100%|██████████| 200/200 [00:02<00:00, 81.84it/s, loss=0.0017]\n",
            "100%|██████████| 100/100 [00:00<00:00, 352.87it/s]\n"
          ]
        },
        {
          "output_type": "stream",
          "name": "stdout",
          "text": [
            "accuray=0.56\n"
          ]
        },
        {
          "output_type": "stream",
          "name": "stderr",
          "text": [
            "epoch 861: 100%|██████████| 200/200 [00:02<00:00, 87.89it/s, loss=0.00229]\n",
            "100%|██████████| 100/100 [00:00<00:00, 374.86it/s]\n"
          ]
        },
        {
          "output_type": "stream",
          "name": "stdout",
          "text": [
            "accuray=0.68\n"
          ]
        },
        {
          "output_type": "stream",
          "name": "stderr",
          "text": [
            "epoch 862: 100%|██████████| 200/200 [00:02<00:00, 88.26it/s, loss=0.00159]\n",
            "100%|██████████| 100/100 [00:00<00:00, 358.20it/s]\n"
          ]
        },
        {
          "output_type": "stream",
          "name": "stdout",
          "text": [
            "accuray=0.65\n"
          ]
        },
        {
          "output_type": "stream",
          "name": "stderr",
          "text": [
            "epoch 863: 100%|██████████| 200/200 [00:02<00:00, 87.47it/s, loss=0.00186]\n",
            "100%|██████████| 100/100 [00:00<00:00, 384.19it/s]\n"
          ]
        },
        {
          "output_type": "stream",
          "name": "stdout",
          "text": [
            "accuray=0.68\n"
          ]
        },
        {
          "output_type": "stream",
          "name": "stderr",
          "text": [
            "epoch 864: 100%|██████████| 200/200 [00:03<00:00, 66.66it/s, loss=0.00176]\n",
            "100%|██████████| 100/100 [00:00<00:00, 251.66it/s]\n"
          ]
        },
        {
          "output_type": "stream",
          "name": "stdout",
          "text": [
            "accuray=0.64\n"
          ]
        },
        {
          "output_type": "stream",
          "name": "stderr",
          "text": [
            "epoch 865: 100%|██████████| 200/200 [00:02<00:00, 81.16it/s, loss=0.00172]\n",
            "100%|██████████| 100/100 [00:00<00:00, 362.08it/s]\n"
          ]
        },
        {
          "output_type": "stream",
          "name": "stdout",
          "text": [
            "accuray=0.56\n"
          ]
        },
        {
          "output_type": "stream",
          "name": "stderr",
          "text": [
            "epoch 866: 100%|██████████| 200/200 [00:02<00:00, 87.55it/s, loss=0.00191]\n",
            "100%|██████████| 100/100 [00:00<00:00, 372.30it/s]\n"
          ]
        },
        {
          "output_type": "stream",
          "name": "stdout",
          "text": [
            "accuray=0.54\n"
          ]
        },
        {
          "output_type": "stream",
          "name": "stderr",
          "text": [
            "epoch 867: 100%|██████████| 200/200 [00:02<00:00, 86.51it/s, loss=0.00289]\n",
            "100%|██████████| 100/100 [00:00<00:00, 351.82it/s]\n"
          ]
        },
        {
          "output_type": "stream",
          "name": "stdout",
          "text": [
            "accuray=0.59\n"
          ]
        },
        {
          "output_type": "stream",
          "name": "stderr",
          "text": [
            "epoch 868: 100%|██████████| 200/200 [00:02<00:00, 86.19it/s, loss=0.0484]\n",
            "100%|██████████| 100/100 [00:00<00:00, 365.23it/s]\n"
          ]
        },
        {
          "output_type": "stream",
          "name": "stdout",
          "text": [
            "accuray=0.53\n"
          ]
        },
        {
          "output_type": "stream",
          "name": "stderr",
          "text": [
            "epoch 869: 100%|██████████| 200/200 [00:03<00:00, 64.81it/s, loss=0.0145]\n",
            "100%|██████████| 100/100 [00:00<00:00, 252.49it/s]\n"
          ]
        },
        {
          "output_type": "stream",
          "name": "stdout",
          "text": [
            "accuray=0.68\n"
          ]
        },
        {
          "output_type": "stream",
          "name": "stderr",
          "text": [
            "epoch 870: 100%|██████████| 200/200 [00:02<00:00, 83.69it/s, loss=0.00362]\n",
            "100%|██████████| 100/100 [00:00<00:00, 371.76it/s]\n"
          ]
        },
        {
          "output_type": "stream",
          "name": "stdout",
          "text": [
            "accuray=0.59\n"
          ]
        },
        {
          "output_type": "stream",
          "name": "stderr",
          "text": [
            "epoch 871: 100%|██████████| 200/200 [00:02<00:00, 88.82it/s, loss=0.00291]\n",
            "100%|██████████| 100/100 [00:00<00:00, 356.33it/s]\n"
          ]
        },
        {
          "output_type": "stream",
          "name": "stdout",
          "text": [
            "accuray=0.63\n"
          ]
        },
        {
          "output_type": "stream",
          "name": "stderr",
          "text": [
            "epoch 872: 100%|██████████| 200/200 [00:02<00:00, 87.88it/s, loss=0.00233]\n",
            "100%|██████████| 100/100 [00:00<00:00, 365.09it/s]\n"
          ]
        },
        {
          "output_type": "stream",
          "name": "stdout",
          "text": [
            "accuray=0.63\n"
          ]
        },
        {
          "output_type": "stream",
          "name": "stderr",
          "text": [
            "epoch 873: 100%|██████████| 200/200 [00:02<00:00, 87.64it/s, loss=0.00178]\n",
            "100%|██████████| 100/100 [00:00<00:00, 359.09it/s]\n"
          ]
        },
        {
          "output_type": "stream",
          "name": "stdout",
          "text": [
            "accuray=0.62\n"
          ]
        },
        {
          "output_type": "stream",
          "name": "stderr",
          "text": [
            "epoch 874: 100%|██████████| 200/200 [00:02<00:00, 67.06it/s, loss=0.00302]\n",
            "100%|██████████| 100/100 [00:00<00:00, 269.40it/s]\n"
          ]
        },
        {
          "output_type": "stream",
          "name": "stdout",
          "text": [
            "accuray=0.6\n"
          ]
        },
        {
          "output_type": "stream",
          "name": "stderr",
          "text": [
            "epoch 875: 100%|██████████| 200/200 [00:02<00:00, 80.31it/s, loss=0.00247]\n",
            "100%|██████████| 100/100 [00:00<00:00, 348.90it/s]\n"
          ]
        },
        {
          "output_type": "stream",
          "name": "stdout",
          "text": [
            "accuray=0.54\n"
          ]
        },
        {
          "output_type": "stream",
          "name": "stderr",
          "text": [
            "epoch 876: 100%|██████████| 200/200 [00:02<00:00, 88.71it/s, loss=0.0017]\n",
            "100%|██████████| 100/100 [00:00<00:00, 368.12it/s]\n"
          ]
        },
        {
          "output_type": "stream",
          "name": "stdout",
          "text": [
            "accuray=0.62\n"
          ]
        },
        {
          "output_type": "stream",
          "name": "stderr",
          "text": [
            "epoch 877: 100%|██████████| 200/200 [00:02<00:00, 87.94it/s, loss=0.00207]\n",
            "100%|██████████| 100/100 [00:00<00:00, 373.62it/s]\n"
          ]
        },
        {
          "output_type": "stream",
          "name": "stdout",
          "text": [
            "accuray=0.67\n"
          ]
        },
        {
          "output_type": "stream",
          "name": "stderr",
          "text": [
            "epoch 878: 100%|██████████| 200/200 [00:02<00:00, 86.66it/s, loss=0.0018]\n",
            "100%|██████████| 100/100 [00:00<00:00, 369.19it/s]\n"
          ]
        },
        {
          "output_type": "stream",
          "name": "stdout",
          "text": [
            "accuray=0.62\n"
          ]
        },
        {
          "output_type": "stream",
          "name": "stderr",
          "text": [
            "epoch 879: 100%|██████████| 200/200 [00:03<00:00, 65.99it/s, loss=0.0015]\n",
            "100%|██████████| 100/100 [00:00<00:00, 268.80it/s]\n"
          ]
        },
        {
          "output_type": "stream",
          "name": "stdout",
          "text": [
            "accuray=0.71\n"
          ]
        },
        {
          "output_type": "stream",
          "name": "stderr",
          "text": [
            "epoch 880: 100%|██████████| 200/200 [00:02<00:00, 79.26it/s, loss=0.00215]\n",
            "100%|██████████| 100/100 [00:00<00:00, 381.26it/s]\n"
          ]
        },
        {
          "output_type": "stream",
          "name": "stdout",
          "text": [
            "accuray=0.7\n"
          ]
        },
        {
          "output_type": "stream",
          "name": "stderr",
          "text": [
            "epoch 881: 100%|██████████| 200/200 [00:02<00:00, 87.39it/s, loss=0.00172]\n",
            "100%|██████████| 100/100 [00:00<00:00, 345.93it/s]\n"
          ]
        },
        {
          "output_type": "stream",
          "name": "stdout",
          "text": [
            "accuray=0.53\n"
          ]
        },
        {
          "output_type": "stream",
          "name": "stderr",
          "text": [
            "epoch 882: 100%|██████████| 200/200 [00:02<00:00, 88.16it/s, loss=0.00209]\n",
            "100%|██████████| 100/100 [00:00<00:00, 379.20it/s]\n"
          ]
        },
        {
          "output_type": "stream",
          "name": "stdout",
          "text": [
            "accuray=0.63\n"
          ]
        },
        {
          "output_type": "stream",
          "name": "stderr",
          "text": [
            "epoch 883: 100%|██████████| 200/200 [00:02<00:00, 86.48it/s, loss=0.00223]\n",
            "100%|██████████| 100/100 [00:00<00:00, 364.63it/s]\n"
          ]
        },
        {
          "output_type": "stream",
          "name": "stdout",
          "text": [
            "accuray=0.56\n"
          ]
        },
        {
          "output_type": "stream",
          "name": "stderr",
          "text": [
            "epoch 884: 100%|██████████| 200/200 [00:02<00:00, 67.30it/s, loss=0.00288]\n",
            "100%|██████████| 100/100 [00:00<00:00, 246.56it/s]\n"
          ]
        },
        {
          "output_type": "stream",
          "name": "stdout",
          "text": [
            "accuray=0.7\n"
          ]
        },
        {
          "output_type": "stream",
          "name": "stderr",
          "text": [
            "epoch 885: 100%|██████████| 200/200 [00:02<00:00, 79.97it/s, loss=0.0031]\n",
            "100%|██████████| 100/100 [00:00<00:00, 358.78it/s]\n"
          ]
        },
        {
          "output_type": "stream",
          "name": "stdout",
          "text": [
            "accuray=0.66\n"
          ]
        },
        {
          "output_type": "stream",
          "name": "stderr",
          "text": [
            "epoch 886: 100%|██████████| 200/200 [00:02<00:00, 87.54it/s, loss=0.0894]\n",
            "100%|██████████| 100/100 [00:00<00:00, 377.28it/s]\n"
          ]
        },
        {
          "output_type": "stream",
          "name": "stdout",
          "text": [
            "accuray=0.57\n"
          ]
        },
        {
          "output_type": "stream",
          "name": "stderr",
          "text": [
            "epoch 887: 100%|██████████| 200/200 [00:02<00:00, 88.17it/s, loss=0.0303]\n",
            "100%|██████████| 100/100 [00:00<00:00, 371.95it/s]\n"
          ]
        },
        {
          "output_type": "stream",
          "name": "stdout",
          "text": [
            "accuray=0.6\n"
          ]
        },
        {
          "output_type": "stream",
          "name": "stderr",
          "text": [
            "epoch 888: 100%|██████████| 200/200 [00:02<00:00, 86.70it/s, loss=0.0203]\n",
            "100%|██████████| 100/100 [00:00<00:00, 374.58it/s]\n"
          ]
        },
        {
          "output_type": "stream",
          "name": "stdout",
          "text": [
            "accuray=0.55\n"
          ]
        },
        {
          "output_type": "stream",
          "name": "stderr",
          "text": [
            "epoch 889: 100%|██████████| 200/200 [00:03<00:00, 64.09it/s, loss=0.00394]\n",
            "100%|██████████| 100/100 [00:00<00:00, 258.87it/s]\n"
          ]
        },
        {
          "output_type": "stream",
          "name": "stdout",
          "text": [
            "accuray=0.62\n"
          ]
        },
        {
          "output_type": "stream",
          "name": "stderr",
          "text": [
            "epoch 890: 100%|██████████| 200/200 [00:02<00:00, 80.38it/s, loss=0.0022]\n",
            "100%|██████████| 100/100 [00:00<00:00, 366.84it/s]\n"
          ]
        },
        {
          "output_type": "stream",
          "name": "stdout",
          "text": [
            "accuray=0.58\n"
          ]
        },
        {
          "output_type": "stream",
          "name": "stderr",
          "text": [
            "epoch 891: 100%|██████████| 200/200 [00:02<00:00, 87.75it/s, loss=0.00132]\n",
            "100%|██████████| 100/100 [00:00<00:00, 364.24it/s]\n"
          ]
        },
        {
          "output_type": "stream",
          "name": "stdout",
          "text": [
            "accuray=0.64\n"
          ]
        },
        {
          "output_type": "stream",
          "name": "stderr",
          "text": [
            "epoch 892: 100%|██████████| 200/200 [00:02<00:00, 87.64it/s, loss=0.00157]\n",
            "100%|██████████| 100/100 [00:00<00:00, 376.70it/s]\n"
          ]
        },
        {
          "output_type": "stream",
          "name": "stdout",
          "text": [
            "accuray=0.62\n"
          ]
        },
        {
          "output_type": "stream",
          "name": "stderr",
          "text": [
            "epoch 893: 100%|██████████| 200/200 [00:02<00:00, 88.49it/s, loss=0.00217]\n",
            "100%|██████████| 100/100 [00:00<00:00, 366.38it/s]\n"
          ]
        },
        {
          "output_type": "stream",
          "name": "stdout",
          "text": [
            "accuray=0.66\n"
          ]
        },
        {
          "output_type": "stream",
          "name": "stderr",
          "text": [
            "epoch 894: 100%|██████████| 200/200 [00:03<00:00, 64.13it/s, loss=0.0027]\n",
            "100%|██████████| 100/100 [00:00<00:00, 259.61it/s]\n"
          ]
        },
        {
          "output_type": "stream",
          "name": "stdout",
          "text": [
            "accuray=0.58\n"
          ]
        },
        {
          "output_type": "stream",
          "name": "stderr",
          "text": [
            "epoch 895: 100%|██████████| 200/200 [00:02<00:00, 84.08it/s, loss=0.0016]\n",
            "100%|██████████| 100/100 [00:00<00:00, 347.85it/s]\n"
          ]
        },
        {
          "output_type": "stream",
          "name": "stdout",
          "text": [
            "accuray=0.59\n"
          ]
        },
        {
          "output_type": "stream",
          "name": "stderr",
          "text": [
            "epoch 896: 100%|██████████| 200/200 [00:02<00:00, 87.79it/s, loss=0.00276]\n",
            "100%|██████████| 100/100 [00:00<00:00, 380.38it/s]\n"
          ]
        },
        {
          "output_type": "stream",
          "name": "stdout",
          "text": [
            "accuray=0.61\n"
          ]
        },
        {
          "output_type": "stream",
          "name": "stderr",
          "text": [
            "epoch 897: 100%|██████████| 200/200 [00:02<00:00, 86.92it/s, loss=0.0021]\n",
            "100%|██████████| 100/100 [00:00<00:00, 382.56it/s]\n"
          ]
        },
        {
          "output_type": "stream",
          "name": "stdout",
          "text": [
            "accuray=0.69\n"
          ]
        },
        {
          "output_type": "stream",
          "name": "stderr",
          "text": [
            "epoch 898: 100%|██████████| 200/200 [00:02<00:00, 86.93it/s, loss=0.00165]\n",
            "100%|██████████| 100/100 [00:00<00:00, 301.79it/s]\n"
          ]
        },
        {
          "output_type": "stream",
          "name": "stdout",
          "text": [
            "accuray=0.57\n"
          ]
        },
        {
          "output_type": "stream",
          "name": "stderr",
          "text": [
            "epoch 899: 100%|██████████| 200/200 [00:03<00:00, 63.84it/s, loss=0.00132]\n",
            "100%|██████████| 100/100 [00:00<00:00, 261.24it/s]\n"
          ]
        },
        {
          "output_type": "stream",
          "name": "stdout",
          "text": [
            "accuray=0.64\n"
          ]
        },
        {
          "output_type": "stream",
          "name": "stderr",
          "text": [
            "epoch 900: 100%|██████████| 200/200 [00:02<00:00, 87.33it/s, loss=0.00144]\n",
            "100%|██████████| 100/100 [00:00<00:00, 386.58it/s]\n"
          ]
        },
        {
          "output_type": "stream",
          "name": "stdout",
          "text": [
            "accuray=0.7\n"
          ]
        },
        {
          "output_type": "stream",
          "name": "stderr",
          "text": [
            "epoch 901: 100%|██████████| 200/200 [00:02<00:00, 87.04it/s, loss=0.00186]\n",
            "100%|██████████| 100/100 [00:00<00:00, 377.37it/s]\n"
          ]
        },
        {
          "output_type": "stream",
          "name": "stdout",
          "text": [
            "accuray=0.63\n"
          ]
        },
        {
          "output_type": "stream",
          "name": "stderr",
          "text": [
            "epoch 902: 100%|██████████| 200/200 [00:02<00:00, 86.66it/s, loss=0.00153]\n",
            "100%|██████████| 100/100 [00:00<00:00, 381.14it/s]\n"
          ]
        },
        {
          "output_type": "stream",
          "name": "stdout",
          "text": [
            "accuray=0.52\n"
          ]
        },
        {
          "output_type": "stream",
          "name": "stderr",
          "text": [
            "epoch 903: 100%|██████████| 200/200 [00:02<00:00, 85.96it/s, loss=0.211]\n",
            "100%|██████████| 100/100 [00:00<00:00, 271.09it/s]\n"
          ]
        },
        {
          "output_type": "stream",
          "name": "stdout",
          "text": [
            "accuray=0.55\n"
          ]
        },
        {
          "output_type": "stream",
          "name": "stderr",
          "text": [
            "epoch 904: 100%|██████████| 200/200 [00:03<00:00, 63.08it/s, loss=0.0196]\n",
            "100%|██████████| 100/100 [00:00<00:00, 285.84it/s]\n"
          ]
        },
        {
          "output_type": "stream",
          "name": "stdout",
          "text": [
            "accuray=0.68\n"
          ]
        },
        {
          "output_type": "stream",
          "name": "stderr",
          "text": [
            "epoch 905: 100%|██████████| 200/200 [00:02<00:00, 88.23it/s, loss=0.00971]\n",
            "100%|██████████| 100/100 [00:00<00:00, 365.86it/s]\n"
          ]
        },
        {
          "output_type": "stream",
          "name": "stdout",
          "text": [
            "accuray=0.61\n"
          ]
        },
        {
          "output_type": "stream",
          "name": "stderr",
          "text": [
            "epoch 906: 100%|██████████| 200/200 [00:02<00:00, 87.46it/s, loss=0.00196]\n",
            "100%|██████████| 100/100 [00:00<00:00, 351.06it/s]\n"
          ]
        },
        {
          "output_type": "stream",
          "name": "stdout",
          "text": [
            "accuray=0.63\n"
          ]
        },
        {
          "output_type": "stream",
          "name": "stderr",
          "text": [
            "epoch 907: 100%|██████████| 200/200 [00:02<00:00, 87.73it/s, loss=0.00201]\n",
            "100%|██████████| 100/100 [00:00<00:00, 358.65it/s]\n"
          ]
        },
        {
          "output_type": "stream",
          "name": "stdout",
          "text": [
            "accuray=0.62\n"
          ]
        },
        {
          "output_type": "stream",
          "name": "stderr",
          "text": [
            "epoch 908: 100%|██████████| 200/200 [00:02<00:00, 83.73it/s, loss=0.00165]\n",
            "100%|██████████| 100/100 [00:00<00:00, 289.35it/s]\n"
          ]
        },
        {
          "output_type": "stream",
          "name": "stdout",
          "text": [
            "accuray=0.66\n"
          ]
        },
        {
          "output_type": "stream",
          "name": "stderr",
          "text": [
            "epoch 909: 100%|██████████| 200/200 [00:03<00:00, 65.86it/s, loss=0.00201]\n",
            "100%|██████████| 100/100 [00:00<00:00, 258.55it/s]\n"
          ]
        },
        {
          "output_type": "stream",
          "name": "stdout",
          "text": [
            "accuray=0.58\n"
          ]
        },
        {
          "output_type": "stream",
          "name": "stderr",
          "text": [
            "epoch 910: 100%|██████████| 200/200 [00:02<00:00, 87.38it/s, loss=0.0017]\n",
            "100%|██████████| 100/100 [00:00<00:00, 359.32it/s]\n"
          ]
        },
        {
          "output_type": "stream",
          "name": "stdout",
          "text": [
            "accuray=0.56\n"
          ]
        },
        {
          "output_type": "stream",
          "name": "stderr",
          "text": [
            "epoch 911: 100%|██████████| 200/200 [00:02<00:00, 88.73it/s, loss=0.00203]\n",
            "100%|██████████| 100/100 [00:00<00:00, 364.84it/s]\n"
          ]
        },
        {
          "output_type": "stream",
          "name": "stdout",
          "text": [
            "accuray=0.62\n"
          ]
        },
        {
          "output_type": "stream",
          "name": "stderr",
          "text": [
            "epoch 912: 100%|██████████| 200/200 [00:02<00:00, 85.72it/s, loss=0.00201]\n",
            "100%|██████████| 100/100 [00:00<00:00, 345.74it/s]\n"
          ]
        },
        {
          "output_type": "stream",
          "name": "stdout",
          "text": [
            "accuray=0.66\n"
          ]
        },
        {
          "output_type": "stream",
          "name": "stderr",
          "text": [
            "epoch 913: 100%|██████████| 200/200 [00:02<00:00, 86.12it/s, loss=0.0017]\n",
            "100%|██████████| 100/100 [00:00<00:00, 282.10it/s]\n"
          ]
        },
        {
          "output_type": "stream",
          "name": "stdout",
          "text": [
            "accuray=0.56\n"
          ]
        },
        {
          "output_type": "stream",
          "name": "stderr",
          "text": [
            "epoch 914: 100%|██████████| 200/200 [00:03<00:00, 63.42it/s, loss=0.00171]\n",
            "100%|██████████| 100/100 [00:00<00:00, 324.45it/s]\n"
          ]
        },
        {
          "output_type": "stream",
          "name": "stdout",
          "text": [
            "accuray=0.65\n"
          ]
        },
        {
          "output_type": "stream",
          "name": "stderr",
          "text": [
            "epoch 915: 100%|██████████| 200/200 [00:02<00:00, 87.53it/s, loss=0.00214]\n",
            "100%|██████████| 100/100 [00:00<00:00, 378.93it/s]\n"
          ]
        },
        {
          "output_type": "stream",
          "name": "stdout",
          "text": [
            "accuray=0.65\n"
          ]
        },
        {
          "output_type": "stream",
          "name": "stderr",
          "text": [
            "epoch 916: 100%|██████████| 200/200 [00:02<00:00, 87.10it/s, loss=0.0018]\n",
            "100%|██████████| 100/100 [00:00<00:00, 355.96it/s]\n"
          ]
        },
        {
          "output_type": "stream",
          "name": "stdout",
          "text": [
            "accuray=0.63\n"
          ]
        },
        {
          "output_type": "stream",
          "name": "stderr",
          "text": [
            "epoch 917: 100%|██████████| 200/200 [00:02<00:00, 87.00it/s, loss=0.00213]\n",
            "100%|██████████| 100/100 [00:00<00:00, 355.52it/s]\n"
          ]
        },
        {
          "output_type": "stream",
          "name": "stdout",
          "text": [
            "accuray=0.59\n"
          ]
        },
        {
          "output_type": "stream",
          "name": "stderr",
          "text": [
            "epoch 918: 100%|██████████| 200/200 [00:02<00:00, 82.23it/s, loss=0.00159]\n",
            "100%|██████████| 100/100 [00:00<00:00, 296.06it/s]\n"
          ]
        },
        {
          "output_type": "stream",
          "name": "stdout",
          "text": [
            "accuray=0.68\n"
          ]
        },
        {
          "output_type": "stream",
          "name": "stderr",
          "text": [
            "epoch 919: 100%|██████████| 200/200 [00:03<00:00, 64.08it/s, loss=0.00145]\n",
            "100%|██████████| 100/100 [00:00<00:00, 362.06it/s]\n"
          ]
        },
        {
          "output_type": "stream",
          "name": "stdout",
          "text": [
            "accuray=0.65\n"
          ]
        },
        {
          "output_type": "stream",
          "name": "stderr",
          "text": [
            "epoch 920: 100%|██████████| 200/200 [00:02<00:00, 85.70it/s, loss=0.00139]\n",
            "100%|██████████| 100/100 [00:00<00:00, 352.17it/s]\n"
          ]
        },
        {
          "output_type": "stream",
          "name": "stdout",
          "text": [
            "accuray=0.6\n"
          ]
        },
        {
          "output_type": "stream",
          "name": "stderr",
          "text": [
            "epoch 921: 100%|██████████| 200/200 [00:02<00:00, 85.71it/s, loss=0.00133]\n",
            "100%|██████████| 100/100 [00:00<00:00, 372.12it/s]\n"
          ]
        },
        {
          "output_type": "stream",
          "name": "stdout",
          "text": [
            "accuray=0.59\n"
          ]
        },
        {
          "output_type": "stream",
          "name": "stderr",
          "text": [
            "epoch 922: 100%|██████████| 200/200 [00:02<00:00, 86.65it/s, loss=0.0598]\n",
            "100%|██████████| 100/100 [00:00<00:00, 305.59it/s]\n"
          ]
        },
        {
          "output_type": "stream",
          "name": "stdout",
          "text": [
            "accuray=0.56\n"
          ]
        },
        {
          "output_type": "stream",
          "name": "stderr",
          "text": [
            "epoch 923: 100%|██████████| 200/200 [00:02<00:00, 79.88it/s, loss=0.0134]\n",
            "100%|██████████| 100/100 [00:00<00:00, 277.33it/s]\n"
          ]
        },
        {
          "output_type": "stream",
          "name": "stdout",
          "text": [
            "accuray=0.57\n"
          ]
        },
        {
          "output_type": "stream",
          "name": "stderr",
          "text": [
            "epoch 924: 100%|██████████| 200/200 [00:02<00:00, 67.07it/s, loss=0.00382]\n",
            "100%|██████████| 100/100 [00:00<00:00, 360.68it/s]\n"
          ]
        },
        {
          "output_type": "stream",
          "name": "stdout",
          "text": [
            "accuray=0.52\n"
          ]
        },
        {
          "output_type": "stream",
          "name": "stderr",
          "text": [
            "epoch 925: 100%|██████████| 200/200 [00:02<00:00, 88.11it/s, loss=0.00235]\n",
            "100%|██████████| 100/100 [00:00<00:00, 358.40it/s]\n"
          ]
        },
        {
          "output_type": "stream",
          "name": "stdout",
          "text": [
            "accuray=0.61\n"
          ]
        },
        {
          "output_type": "stream",
          "name": "stderr",
          "text": [
            "epoch 926: 100%|██████████| 200/200 [00:02<00:00, 87.06it/s, loss=0.00298]\n",
            "100%|██████████| 100/100 [00:00<00:00, 348.35it/s]\n"
          ]
        },
        {
          "output_type": "stream",
          "name": "stdout",
          "text": [
            "accuray=0.58\n"
          ]
        },
        {
          "output_type": "stream",
          "name": "stderr",
          "text": [
            "epoch 927: 100%|██████████| 200/200 [00:02<00:00, 88.65it/s, loss=0.0023]\n",
            "100%|██████████| 100/100 [00:00<00:00, 366.39it/s]\n"
          ]
        },
        {
          "output_type": "stream",
          "name": "stdout",
          "text": [
            "accuray=0.61\n"
          ]
        },
        {
          "output_type": "stream",
          "name": "stderr",
          "text": [
            "epoch 928: 100%|██████████| 200/200 [00:02<00:00, 79.44it/s, loss=0.00143]\n",
            "100%|██████████| 100/100 [00:00<00:00, 268.15it/s]\n"
          ]
        },
        {
          "output_type": "stream",
          "name": "stdout",
          "text": [
            "accuray=0.61\n"
          ]
        },
        {
          "output_type": "stream",
          "name": "stderr",
          "text": [
            "epoch 929: 100%|██████████| 200/200 [00:03<00:00, 65.14it/s, loss=0.00171]\n",
            "100%|██████████| 100/100 [00:00<00:00, 361.72it/s]\n"
          ]
        },
        {
          "output_type": "stream",
          "name": "stdout",
          "text": [
            "accuray=0.63\n"
          ]
        },
        {
          "output_type": "stream",
          "name": "stderr",
          "text": [
            "epoch 930: 100%|██████████| 200/200 [00:02<00:00, 87.01it/s, loss=0.00177]\n",
            "100%|██████████| 100/100 [00:00<00:00, 354.89it/s]\n"
          ]
        },
        {
          "output_type": "stream",
          "name": "stdout",
          "text": [
            "accuray=0.61\n"
          ]
        },
        {
          "output_type": "stream",
          "name": "stderr",
          "text": [
            "epoch 931: 100%|██████████| 200/200 [00:02<00:00, 88.27it/s, loss=0.00158]\n",
            "100%|██████████| 100/100 [00:00<00:00, 368.27it/s]\n"
          ]
        },
        {
          "output_type": "stream",
          "name": "stdout",
          "text": [
            "accuray=0.67\n"
          ]
        },
        {
          "output_type": "stream",
          "name": "stderr",
          "text": [
            "epoch 932: 100%|██████████| 200/200 [00:02<00:00, 85.90it/s, loss=0.00212]\n",
            "100%|██████████| 100/100 [00:00<00:00, 374.31it/s]\n"
          ]
        },
        {
          "output_type": "stream",
          "name": "stdout",
          "text": [
            "accuray=0.57\n"
          ]
        },
        {
          "output_type": "stream",
          "name": "stderr",
          "text": [
            "epoch 933: 100%|██████████| 200/200 [00:02<00:00, 78.16it/s, loss=0.00179]\n",
            "100%|██████████| 100/100 [00:00<00:00, 295.37it/s]\n"
          ]
        },
        {
          "output_type": "stream",
          "name": "stdout",
          "text": [
            "accuray=0.61\n"
          ]
        },
        {
          "output_type": "stream",
          "name": "stderr",
          "text": [
            "epoch 934: 100%|██████████| 200/200 [00:03<00:00, 65.85it/s, loss=0.00155]\n",
            "100%|██████████| 100/100 [00:00<00:00, 367.36it/s]\n"
          ]
        },
        {
          "output_type": "stream",
          "name": "stdout",
          "text": [
            "accuray=0.61\n"
          ]
        },
        {
          "output_type": "stream",
          "name": "stderr",
          "text": [
            "epoch 935: 100%|██████████| 200/200 [00:02<00:00, 86.23it/s, loss=0.00221]\n",
            "100%|██████████| 100/100 [00:00<00:00, 381.06it/s]\n"
          ]
        },
        {
          "output_type": "stream",
          "name": "stdout",
          "text": [
            "accuray=0.63\n"
          ]
        },
        {
          "output_type": "stream",
          "name": "stderr",
          "text": [
            "epoch 936: 100%|██████████| 200/200 [00:02<00:00, 88.20it/s, loss=0.00158]\n",
            "100%|██████████| 100/100 [00:00<00:00, 351.96it/s]\n"
          ]
        },
        {
          "output_type": "stream",
          "name": "stdout",
          "text": [
            "accuray=0.57\n"
          ]
        },
        {
          "output_type": "stream",
          "name": "stderr",
          "text": [
            "epoch 937: 100%|██████████| 200/200 [00:02<00:00, 87.79it/s, loss=0.0015]\n",
            "100%|██████████| 100/100 [00:00<00:00, 366.26it/s]\n"
          ]
        },
        {
          "output_type": "stream",
          "name": "stdout",
          "text": [
            "accuray=0.54\n"
          ]
        },
        {
          "output_type": "stream",
          "name": "stderr",
          "text": [
            "epoch 938: 100%|██████████| 200/200 [00:02<00:00, 76.10it/s, loss=0.00175]\n",
            "100%|██████████| 100/100 [00:00<00:00, 285.03it/s]\n"
          ]
        },
        {
          "output_type": "stream",
          "name": "stdout",
          "text": [
            "accuray=0.56\n"
          ]
        },
        {
          "output_type": "stream",
          "name": "stderr",
          "text": [
            "epoch 939: 100%|██████████| 200/200 [00:02<00:00, 67.34it/s, loss=0.288]\n",
            "100%|██████████| 100/100 [00:00<00:00, 381.67it/s]\n"
          ]
        },
        {
          "output_type": "stream",
          "name": "stdout",
          "text": [
            "accuray=0.52\n"
          ]
        },
        {
          "output_type": "stream",
          "name": "stderr",
          "text": [
            "epoch 940: 100%|██████████| 200/200 [00:02<00:00, 86.33it/s, loss=0.0237]\n",
            "100%|██████████| 100/100 [00:00<00:00, 347.37it/s]\n"
          ]
        },
        {
          "output_type": "stream",
          "name": "stdout",
          "text": [
            "accuray=0.61\n"
          ]
        },
        {
          "output_type": "stream",
          "name": "stderr",
          "text": [
            "epoch 941: 100%|██████████| 200/200 [00:02<00:00, 87.86it/s, loss=0.00577]\n",
            "100%|██████████| 100/100 [00:00<00:00, 365.82it/s]\n"
          ]
        },
        {
          "output_type": "stream",
          "name": "stdout",
          "text": [
            "accuray=0.56\n"
          ]
        },
        {
          "output_type": "stream",
          "name": "stderr",
          "text": [
            "epoch 942: 100%|██████████| 200/200 [00:02<00:00, 86.31it/s, loss=0.00249]\n",
            "100%|██████████| 100/100 [00:00<00:00, 341.39it/s]\n"
          ]
        },
        {
          "output_type": "stream",
          "name": "stdout",
          "text": [
            "accuray=0.63\n"
          ]
        },
        {
          "output_type": "stream",
          "name": "stderr",
          "text": [
            "epoch 943: 100%|██████████| 200/200 [00:02<00:00, 76.08it/s, loss=0.00229]\n",
            "100%|██████████| 100/100 [00:00<00:00, 289.99it/s]\n"
          ]
        },
        {
          "output_type": "stream",
          "name": "stdout",
          "text": [
            "accuray=0.57\n"
          ]
        },
        {
          "output_type": "stream",
          "name": "stderr",
          "text": [
            "epoch 944: 100%|██████████| 200/200 [00:02<00:00, 67.98it/s, loss=0.0016]\n",
            "100%|██████████| 100/100 [00:00<00:00, 361.03it/s]\n"
          ]
        },
        {
          "output_type": "stream",
          "name": "stdout",
          "text": [
            "accuray=0.57\n"
          ]
        },
        {
          "output_type": "stream",
          "name": "stderr",
          "text": [
            "epoch 945: 100%|██████████| 200/200 [00:02<00:00, 87.14it/s, loss=0.00147]\n",
            "100%|██████████| 100/100 [00:00<00:00, 377.69it/s]\n"
          ]
        },
        {
          "output_type": "stream",
          "name": "stdout",
          "text": [
            "accuray=0.65\n"
          ]
        },
        {
          "output_type": "stream",
          "name": "stderr",
          "text": [
            "epoch 946: 100%|██████████| 200/200 [00:02<00:00, 87.05it/s, loss=0.0018]\n",
            "100%|██████████| 100/100 [00:00<00:00, 347.84it/s]\n"
          ]
        },
        {
          "output_type": "stream",
          "name": "stdout",
          "text": [
            "accuray=0.62\n"
          ]
        },
        {
          "output_type": "stream",
          "name": "stderr",
          "text": [
            "epoch 947: 100%|██████████| 200/200 [00:02<00:00, 86.34it/s, loss=0.00308]\n",
            "100%|██████████| 100/100 [00:00<00:00, 362.67it/s]\n"
          ]
        },
        {
          "output_type": "stream",
          "name": "stdout",
          "text": [
            "accuray=0.7\n"
          ]
        },
        {
          "output_type": "stream",
          "name": "stderr",
          "text": [
            "epoch 948: 100%|██████████| 200/200 [00:02<00:00, 75.16it/s, loss=0.00162]\n",
            "100%|██████████| 100/100 [00:00<00:00, 280.98it/s]\n"
          ]
        },
        {
          "output_type": "stream",
          "name": "stdout",
          "text": [
            "accuray=0.66\n"
          ]
        },
        {
          "output_type": "stream",
          "name": "stderr",
          "text": [
            "epoch 949: 100%|██████████| 200/200 [00:02<00:00, 69.24it/s, loss=0.0019]\n",
            "100%|██████████| 100/100 [00:00<00:00, 375.71it/s]\n"
          ]
        },
        {
          "output_type": "stream",
          "name": "stdout",
          "text": [
            "accuray=0.69\n"
          ]
        },
        {
          "output_type": "stream",
          "name": "stderr",
          "text": [
            "epoch 950: 100%|██████████| 200/200 [00:02<00:00, 87.15it/s, loss=0.00109]\n",
            "100%|██████████| 100/100 [00:00<00:00, 319.83it/s]\n"
          ]
        },
        {
          "output_type": "stream",
          "name": "stdout",
          "text": [
            "accuray=0.56\n"
          ]
        },
        {
          "output_type": "stream",
          "name": "stderr",
          "text": [
            "epoch 951: 100%|██████████| 200/200 [00:02<00:00, 86.15it/s, loss=0.00122]\n",
            "100%|██████████| 100/100 [00:00<00:00, 373.70it/s]\n"
          ]
        },
        {
          "output_type": "stream",
          "name": "stdout",
          "text": [
            "accuray=0.57\n"
          ]
        },
        {
          "output_type": "stream",
          "name": "stderr",
          "text": [
            "epoch 952: 100%|██████████| 200/200 [00:02<00:00, 87.02it/s, loss=0.00148]\n",
            "100%|██████████| 100/100 [00:00<00:00, 347.97it/s]\n"
          ]
        },
        {
          "output_type": "stream",
          "name": "stdout",
          "text": [
            "accuray=0.65\n"
          ]
        },
        {
          "output_type": "stream",
          "name": "stderr",
          "text": [
            "epoch 953: 100%|██████████| 200/200 [00:02<00:00, 71.06it/s, loss=0.00159]\n",
            "100%|██████████| 100/100 [00:00<00:00, 269.19it/s]\n"
          ]
        },
        {
          "output_type": "stream",
          "name": "stdout",
          "text": [
            "accuray=0.61\n"
          ]
        },
        {
          "output_type": "stream",
          "name": "stderr",
          "text": [
            "epoch 954: 100%|██████████| 200/200 [00:02<00:00, 71.73it/s, loss=0.00189]\n",
            "100%|██████████| 100/100 [00:00<00:00, 351.60it/s]\n"
          ]
        },
        {
          "output_type": "stream",
          "name": "stdout",
          "text": [
            "accuray=0.65\n"
          ]
        },
        {
          "output_type": "stream",
          "name": "stderr",
          "text": [
            "epoch 955: 100%|██████████| 200/200 [00:02<00:00, 84.70it/s, loss=0.337]\n",
            "100%|██████████| 100/100 [00:00<00:00, 357.62it/s]\n"
          ]
        },
        {
          "output_type": "stream",
          "name": "stdout",
          "text": [
            "accuray=0.55\n"
          ]
        },
        {
          "output_type": "stream",
          "name": "stderr",
          "text": [
            "epoch 956: 100%|██████████| 200/200 [00:02<00:00, 84.80it/s, loss=0.0504]\n",
            "100%|██████████| 100/100 [00:00<00:00, 370.15it/s]\n"
          ]
        },
        {
          "output_type": "stream",
          "name": "stdout",
          "text": [
            "accuray=0.56\n"
          ]
        },
        {
          "output_type": "stream",
          "name": "stderr",
          "text": [
            "epoch 957: 100%|██████████| 200/200 [00:02<00:00, 86.56it/s, loss=0.00514]\n",
            "100%|██████████| 100/100 [00:00<00:00, 376.41it/s]\n"
          ]
        },
        {
          "output_type": "stream",
          "name": "stdout",
          "text": [
            "accuray=0.63\n"
          ]
        },
        {
          "output_type": "stream",
          "name": "stderr",
          "text": [
            "epoch 958: 100%|██████████| 200/200 [00:02<00:00, 69.23it/s, loss=0.00311]\n",
            "100%|██████████| 100/100 [00:00<00:00, 302.54it/s]\n"
          ]
        },
        {
          "output_type": "stream",
          "name": "stdout",
          "text": [
            "accuray=0.6\n"
          ]
        },
        {
          "output_type": "stream",
          "name": "stderr",
          "text": [
            "epoch 959: 100%|██████████| 200/200 [00:02<00:00, 75.30it/s, loss=0.00219]\n",
            "100%|██████████| 100/100 [00:00<00:00, 366.77it/s]\n"
          ]
        },
        {
          "output_type": "stream",
          "name": "stdout",
          "text": [
            "accuray=0.58\n"
          ]
        },
        {
          "output_type": "stream",
          "name": "stderr",
          "text": [
            "epoch 960: 100%|██████████| 200/200 [00:02<00:00, 85.77it/s, loss=0.00191]\n",
            "100%|██████████| 100/100 [00:00<00:00, 368.45it/s]\n"
          ]
        },
        {
          "output_type": "stream",
          "name": "stdout",
          "text": [
            "accuray=0.6\n"
          ]
        },
        {
          "output_type": "stream",
          "name": "stderr",
          "text": [
            "epoch 961: 100%|██████████| 200/200 [00:02<00:00, 86.77it/s, loss=0.00208]\n",
            "100%|██████████| 100/100 [00:00<00:00, 360.57it/s]\n"
          ]
        },
        {
          "output_type": "stream",
          "name": "stdout",
          "text": [
            "accuray=0.6\n"
          ]
        },
        {
          "output_type": "stream",
          "name": "stderr",
          "text": [
            "epoch 962: 100%|██████████| 200/200 [00:02<00:00, 85.75it/s, loss=0.00168]\n",
            "100%|██████████| 100/100 [00:00<00:00, 362.75it/s]\n"
          ]
        },
        {
          "output_type": "stream",
          "name": "stdout",
          "text": [
            "accuray=0.58\n"
          ]
        },
        {
          "output_type": "stream",
          "name": "stderr",
          "text": [
            "epoch 963: 100%|██████████| 200/200 [00:02<00:00, 69.75it/s, loss=0.00161]\n",
            "100%|██████████| 100/100 [00:00<00:00, 264.51it/s]\n"
          ]
        },
        {
          "output_type": "stream",
          "name": "stdout",
          "text": [
            "accuray=0.7\n"
          ]
        },
        {
          "output_type": "stream",
          "name": "stderr",
          "text": [
            "epoch 964: 100%|██████████| 200/200 [00:02<00:00, 76.46it/s, loss=0.00165]\n",
            "100%|██████████| 100/100 [00:00<00:00, 376.72it/s]\n"
          ]
        },
        {
          "output_type": "stream",
          "name": "stdout",
          "text": [
            "accuray=0.57\n"
          ]
        },
        {
          "output_type": "stream",
          "name": "stderr",
          "text": [
            "epoch 965: 100%|██████████| 200/200 [00:02<00:00, 86.98it/s, loss=0.00164]\n",
            "100%|██████████| 100/100 [00:00<00:00, 373.27it/s]\n"
          ]
        },
        {
          "output_type": "stream",
          "name": "stdout",
          "text": [
            "accuray=0.62\n"
          ]
        },
        {
          "output_type": "stream",
          "name": "stderr",
          "text": [
            "epoch 966: 100%|██████████| 200/200 [00:02<00:00, 84.10it/s, loss=0.00134]\n",
            "100%|██████████| 100/100 [00:00<00:00, 365.74it/s]\n"
          ]
        },
        {
          "output_type": "stream",
          "name": "stdout",
          "text": [
            "accuray=0.71\n"
          ]
        },
        {
          "output_type": "stream",
          "name": "stderr",
          "text": [
            "epoch 967: 100%|██████████| 200/200 [00:02<00:00, 87.11it/s, loss=0.00152]\n",
            "100%|██████████| 100/100 [00:00<00:00, 384.06it/s]\n"
          ]
        },
        {
          "output_type": "stream",
          "name": "stdout",
          "text": [
            "accuray=0.64\n"
          ]
        },
        {
          "output_type": "stream",
          "name": "stderr",
          "text": [
            "epoch 968: 100%|██████████| 200/200 [00:02<00:00, 68.07it/s, loss=0.00117]\n",
            "100%|██████████| 100/100 [00:00<00:00, 276.91it/s]\n"
          ]
        },
        {
          "output_type": "stream",
          "name": "stdout",
          "text": [
            "accuray=0.63\n"
          ]
        },
        {
          "output_type": "stream",
          "name": "stderr",
          "text": [
            "epoch 969: 100%|██████████| 200/200 [00:02<00:00, 77.86it/s, loss=0.00112]\n",
            "100%|██████████| 100/100 [00:00<00:00, 373.41it/s]\n"
          ]
        },
        {
          "output_type": "stream",
          "name": "stdout",
          "text": [
            "accuray=0.64\n"
          ]
        },
        {
          "output_type": "stream",
          "name": "stderr",
          "text": [
            "epoch 970: 100%|██████████| 200/200 [00:02<00:00, 86.37it/s, loss=0.00158]\n",
            "100%|██████████| 100/100 [00:00<00:00, 367.32it/s]\n"
          ]
        },
        {
          "output_type": "stream",
          "name": "stdout",
          "text": [
            "accuray=0.61\n"
          ]
        },
        {
          "output_type": "stream",
          "name": "stderr",
          "text": [
            "epoch 971: 100%|██████████| 200/200 [00:02<00:00, 86.68it/s, loss=0.0013]\n",
            "100%|██████████| 100/100 [00:00<00:00, 370.29it/s]\n"
          ]
        },
        {
          "output_type": "stream",
          "name": "stdout",
          "text": [
            "accuray=0.62\n"
          ]
        },
        {
          "output_type": "stream",
          "name": "stderr",
          "text": [
            "epoch 972: 100%|██████████| 200/200 [00:02<00:00, 87.24it/s, loss=0.00131]\n",
            "100%|██████████| 100/100 [00:00<00:00, 366.12it/s]\n"
          ]
        },
        {
          "output_type": "stream",
          "name": "stdout",
          "text": [
            "accuray=0.62\n"
          ]
        },
        {
          "output_type": "stream",
          "name": "stderr",
          "text": [
            "epoch 973: 100%|██████████| 200/200 [00:02<00:00, 67.79it/s, loss=0.00145]\n",
            "100%|██████████| 100/100 [00:00<00:00, 256.95it/s]\n"
          ]
        },
        {
          "output_type": "stream",
          "name": "stdout",
          "text": [
            "accuray=0.69\n"
          ]
        },
        {
          "output_type": "stream",
          "name": "stderr",
          "text": [
            "epoch 974: 100%|██████████| 200/200 [00:02<00:00, 78.51it/s, loss=0.00131]\n",
            "100%|██████████| 100/100 [00:00<00:00, 372.15it/s]\n"
          ]
        },
        {
          "output_type": "stream",
          "name": "stdout",
          "text": [
            "accuray=0.65\n"
          ]
        },
        {
          "output_type": "stream",
          "name": "stderr",
          "text": [
            "epoch 975: 100%|██████████| 200/200 [00:02<00:00, 85.45it/s, loss=0.00139]\n",
            "100%|██████████| 100/100 [00:00<00:00, 368.35it/s]\n"
          ]
        },
        {
          "output_type": "stream",
          "name": "stdout",
          "text": [
            "accuray=0.62\n"
          ]
        },
        {
          "output_type": "stream",
          "name": "stderr",
          "text": [
            "epoch 976: 100%|██████████| 200/200 [00:02<00:00, 86.08it/s, loss=0.346]\n",
            "100%|██████████| 100/100 [00:00<00:00, 373.65it/s]\n"
          ]
        },
        {
          "output_type": "stream",
          "name": "stdout",
          "text": [
            "accuray=0.52\n"
          ]
        },
        {
          "output_type": "stream",
          "name": "stderr",
          "text": [
            "epoch 977: 100%|██████████| 200/200 [00:02<00:00, 84.47it/s, loss=0.0313]\n",
            "100%|██████████| 100/100 [00:00<00:00, 377.36it/s]\n"
          ]
        },
        {
          "output_type": "stream",
          "name": "stdout",
          "text": [
            "accuray=0.56\n"
          ]
        },
        {
          "output_type": "stream",
          "name": "stderr",
          "text": [
            "epoch 978: 100%|██████████| 200/200 [00:03<00:00, 64.10it/s, loss=0.014]\n",
            "100%|██████████| 100/100 [00:00<00:00, 254.41it/s]\n"
          ]
        },
        {
          "output_type": "stream",
          "name": "stdout",
          "text": [
            "accuray=0.63\n"
          ]
        },
        {
          "output_type": "stream",
          "name": "stderr",
          "text": [
            "epoch 979: 100%|██████████| 200/200 [00:02<00:00, 81.87it/s, loss=0.00286]\n",
            "100%|██████████| 100/100 [00:00<00:00, 368.78it/s]\n"
          ]
        },
        {
          "output_type": "stream",
          "name": "stdout",
          "text": [
            "accuray=0.56\n"
          ]
        },
        {
          "output_type": "stream",
          "name": "stderr",
          "text": [
            "epoch 980: 100%|██████████| 200/200 [00:02<00:00, 86.69it/s, loss=0.00265]\n",
            "100%|██████████| 100/100 [00:00<00:00, 364.06it/s]\n"
          ]
        },
        {
          "output_type": "stream",
          "name": "stdout",
          "text": [
            "accuray=0.68\n"
          ]
        },
        {
          "output_type": "stream",
          "name": "stderr",
          "text": [
            "epoch 981: 100%|██████████| 200/200 [00:02<00:00, 86.95it/s, loss=0.00164]\n",
            "100%|██████████| 100/100 [00:00<00:00, 359.49it/s]\n"
          ]
        },
        {
          "output_type": "stream",
          "name": "stdout",
          "text": [
            "accuray=0.63\n"
          ]
        },
        {
          "output_type": "stream",
          "name": "stderr",
          "text": [
            "epoch 982: 100%|██████████| 200/200 [00:02<00:00, 85.58it/s, loss=0.00149]\n",
            "100%|██████████| 100/100 [00:00<00:00, 363.35it/s]\n"
          ]
        },
        {
          "output_type": "stream",
          "name": "stdout",
          "text": [
            "accuray=0.63\n"
          ]
        },
        {
          "output_type": "stream",
          "name": "stderr",
          "text": [
            "epoch 983: 100%|██████████| 200/200 [00:03<00:00, 63.81it/s, loss=0.00157]\n",
            "100%|██████████| 100/100 [00:00<00:00, 259.30it/s]\n"
          ]
        },
        {
          "output_type": "stream",
          "name": "stdout",
          "text": [
            "accuray=0.56\n"
          ]
        },
        {
          "output_type": "stream",
          "name": "stderr",
          "text": [
            "epoch 984: 100%|██████████| 200/200 [00:02<00:00, 81.80it/s, loss=0.00185]\n",
            "100%|██████████| 100/100 [00:00<00:00, 375.81it/s]\n"
          ]
        },
        {
          "output_type": "stream",
          "name": "stdout",
          "text": [
            "accuray=0.64\n"
          ]
        },
        {
          "output_type": "stream",
          "name": "stderr",
          "text": [
            "epoch 985: 100%|██████████| 200/200 [00:02<00:00, 87.13it/s, loss=0.00122]\n",
            "100%|██████████| 100/100 [00:00<00:00, 373.65it/s]\n"
          ]
        },
        {
          "output_type": "stream",
          "name": "stdout",
          "text": [
            "accuray=0.67\n"
          ]
        },
        {
          "output_type": "stream",
          "name": "stderr",
          "text": [
            "epoch 986: 100%|██████████| 200/200 [00:02<00:00, 86.39it/s, loss=0.00125]\n",
            "100%|██████████| 100/100 [00:00<00:00, 364.72it/s]\n"
          ]
        },
        {
          "output_type": "stream",
          "name": "stdout",
          "text": [
            "accuray=0.71\n"
          ]
        },
        {
          "output_type": "stream",
          "name": "stderr",
          "text": [
            "epoch 987: 100%|██████████| 200/200 [00:02<00:00, 85.68it/s, loss=0.00114]\n",
            "100%|██████████| 100/100 [00:00<00:00, 310.59it/s]\n"
          ]
        },
        {
          "output_type": "stream",
          "name": "stdout",
          "text": [
            "accuray=0.6\n"
          ]
        },
        {
          "output_type": "stream",
          "name": "stderr",
          "text": [
            "epoch 988: 100%|██████████| 200/200 [00:03<00:00, 64.21it/s, loss=0.0013]\n",
            "100%|██████████| 100/100 [00:00<00:00, 270.70it/s]\n"
          ]
        },
        {
          "output_type": "stream",
          "name": "stdout",
          "text": [
            "accuray=0.63\n"
          ]
        },
        {
          "output_type": "stream",
          "name": "stderr",
          "text": [
            "epoch 989: 100%|██████████| 200/200 [00:02<00:00, 83.27it/s, loss=0.00136]\n",
            "100%|██████████| 100/100 [00:00<00:00, 378.72it/s]\n"
          ]
        },
        {
          "output_type": "stream",
          "name": "stdout",
          "text": [
            "accuray=0.64\n"
          ]
        },
        {
          "output_type": "stream",
          "name": "stderr",
          "text": [
            "epoch 990: 100%|██████████| 200/200 [00:02<00:00, 86.72it/s, loss=0.00131]\n",
            "100%|██████████| 100/100 [00:00<00:00, 358.13it/s]\n"
          ]
        },
        {
          "output_type": "stream",
          "name": "stdout",
          "text": [
            "accuray=0.62\n"
          ]
        },
        {
          "output_type": "stream",
          "name": "stderr",
          "text": [
            "epoch 991: 100%|██████████| 200/200 [00:02<00:00, 87.05it/s, loss=0.00162]\n",
            "100%|██████████| 100/100 [00:00<00:00, 350.88it/s]\n"
          ]
        },
        {
          "output_type": "stream",
          "name": "stdout",
          "text": [
            "accuray=0.54\n"
          ]
        },
        {
          "output_type": "stream",
          "name": "stderr",
          "text": [
            "epoch 992: 100%|██████████| 200/200 [00:02<00:00, 86.48it/s, loss=0.00138]\n",
            "100%|██████████| 100/100 [00:00<00:00, 297.52it/s]\n"
          ]
        },
        {
          "output_type": "stream",
          "name": "stdout",
          "text": [
            "accuray=0.64\n"
          ]
        },
        {
          "output_type": "stream",
          "name": "stderr",
          "text": [
            "epoch 993: 100%|██████████| 200/200 [00:03<00:00, 65.58it/s, loss=0.0011]\n",
            "100%|██████████| 100/100 [00:00<00:00, 252.34it/s]\n"
          ]
        },
        {
          "output_type": "stream",
          "name": "stdout",
          "text": [
            "accuray=0.61\n"
          ]
        },
        {
          "output_type": "stream",
          "name": "stderr",
          "text": [
            "epoch 994: 100%|██████████| 200/200 [00:02<00:00, 83.15it/s, loss=0.00119]\n",
            "100%|██████████| 100/100 [00:00<00:00, 365.05it/s]\n"
          ]
        },
        {
          "output_type": "stream",
          "name": "stdout",
          "text": [
            "accuray=0.62\n"
          ]
        },
        {
          "output_type": "stream",
          "name": "stderr",
          "text": [
            "epoch 995: 100%|██████████| 200/200 [00:02<00:00, 87.46it/s, loss=0.000892]\n",
            "100%|██████████| 100/100 [00:00<00:00, 365.96it/s]\n"
          ]
        },
        {
          "output_type": "stream",
          "name": "stdout",
          "text": [
            "accuray=0.59\n"
          ]
        },
        {
          "output_type": "stream",
          "name": "stderr",
          "text": [
            "epoch 996: 100%|██████████| 200/200 [00:02<00:00, 86.69it/s, loss=0.00134]\n",
            "100%|██████████| 100/100 [00:00<00:00, 380.67it/s]\n"
          ]
        },
        {
          "output_type": "stream",
          "name": "stdout",
          "text": [
            "accuray=0.68\n"
          ]
        },
        {
          "output_type": "stream",
          "name": "stderr",
          "text": [
            "epoch 997: 100%|██████████| 200/200 [00:02<00:00, 86.80it/s, loss=0.00101]\n",
            "100%|██████████| 100/100 [00:00<00:00, 306.55it/s]\n"
          ]
        },
        {
          "output_type": "stream",
          "name": "stdout",
          "text": [
            "accuray=0.62\n"
          ]
        },
        {
          "output_type": "stream",
          "name": "stderr",
          "text": [
            "epoch 998: 100%|██████████| 200/200 [00:03<00:00, 64.62it/s, loss=0.00117]\n",
            "100%|██████████| 100/100 [00:00<00:00, 281.92it/s]\n"
          ]
        },
        {
          "output_type": "stream",
          "name": "stdout",
          "text": [
            "accuray=0.71\n"
          ]
        },
        {
          "output_type": "stream",
          "name": "stderr",
          "text": [
            "epoch 999: 100%|██████████| 200/200 [00:02<00:00, 83.40it/s, loss=0.703]\n",
            "100%|██████████| 100/100 [00:00<00:00, 371.70it/s]\n"
          ]
        },
        {
          "output_type": "stream",
          "name": "stdout",
          "text": [
            "accuray=0.48\n"
          ]
        },
        {
          "output_type": "stream",
          "name": "stderr",
          "text": [
            "epoch 1000: 100%|██████████| 200/200 [00:02<00:00, 86.26it/s, loss=0.0465]\n",
            "100%|██████████| 100/100 [00:00<00:00, 370.27it/s]"
          ]
        },
        {
          "output_type": "stream",
          "name": "stdout",
          "text": [
            "accuray=0.57\n"
          ]
        },
        {
          "output_type": "stream",
          "name": "stderr",
          "text": [
            "\n"
          ]
        }
      ],
      "source": [
        "from tqdm import tqdm\n",
        "model.train()\n",
        "i = 0\n",
        "for epoch in range(1, epochs+1):\n",
        "    process_bar = tqdm(data_loader, desc=f\"epoch {epoch}\")\n",
        "    for batch_x, batch_y, batch_x_lens, batch_y_lens,eq in process_bar:\n",
        "\n",
        "        optimizer.zero_grad()\n",
        "        batch_pred_y = model(batch_x.to(device), batch_x_lens)\n",
        "        batch_pred_y = batch_pred_y.view(-1, vocab_size)\n",
        "        batch_y = batch_y.view(-1).to(device)\n",
        "\n",
        "        loss = criterion(batch_pred_y, batch_y)\n",
        "        loss.backward()\n",
        "        torch.nn.utils.clip_grad_value_(model.parameters(), grad_clip)\n",
        "        optimizer.step()\n",
        "\n",
        "        i+=1\n",
        "        if i%10 == 0:\n",
        "            process_bar.set_postfix(loss=loss.item())\n",
        "\n",
        "    validation_process_bar = tqdm(range(100))\n",
        "    bingo = 0\n",
        "    for i in validation_process_bar:\n",
        "      ques,answ = digit_gen()\n",
        "      pr = ''\n",
        "      for token in model.generator(ques):\n",
        "        pr += token\n",
        "      if(pr == ques + str(answ)):\n",
        "        # print('QA = ',ques, answ,', Prediction = ',pr)\n",
        "        bingo += 1\n",
        "    print(\"accuray=\" + str(bingo / 100))"
      ]
    }
  ],
  "metadata": {
    "colab": {
      "provenance": [],
      "gpuType": "T4"
    },
    "kernelspec": {
      "display_name": "Python 3",
      "name": "python3"
    },
    "language_info": {
      "name": "python"
    },
    "accelerator": "GPU"
  },
  "nbformat": 4,
  "nbformat_minor": 0
}